{
 "cells": [
  {
   "cell_type": "markdown",
   "id": "6b9a4612",
   "metadata": {},
   "source": [
    "# Clustering of grain species by their geometrical properties"
   ]
  },
  {
   "cell_type": "markdown",
   "id": "fcb25c99",
   "metadata": {},
   "source": [
    "Abstract: Measurements of geometrical properties of kernels belonging to three different varieties of wheat. A soft X-ray technique and GRAINS package were used to construct all seven, real-valued attributes.\n",
    "\n",
    "Data Set Information:\n",
    "\n",
    "The examined group comprised kernels belonging to three different varieties of wheat: Kama, Rosa and Canadian, 70 elements each, randomly selected for\n",
    "the experiment. High quality visualization of the internal kernel structure was detected using a soft X-ray technique. It is non-destructive and considerably cheaper than other more sophisticated imaging techniques like scanning microscopy or laser technology. The images were recorded on 13x18 cm X-ray KODAK plates. Studies were conducted using combine harvested wheat grain originating from experimental fields, explored at the Institute of Agrophysics of the Polish Academy of Sciences in Lublin.\n",
    "The data set can be used for the tasks of classification and cluster analysis.\n",
    "\n",
    "Attribute Information:\n",
    "\n",
    "To construct the data, seven geometric parameters of wheat kernels were measured:\n",
    "1. area A,\n",
    "2. perimeter P,\n",
    "3. compactness C = 4*pi*A/P^2,\n",
    "4. length of kernel,\n",
    "5. width of kernel,\n",
    "6. asymmetry coefficient\n",
    "7. length of kernel groove.\n",
    "All of these parameters were real-valued continuous.\n",
    "\n",
    "\n",
    "source:https://archive.ics.uci.edu/ml/datasets/seeds#"
   ]
  },
  {
   "cell_type": "code",
   "execution_count": 1,
   "id": "4f2c1c1d",
   "metadata": {},
   "outputs": [],
   "source": [
    "# getting the necessary libraries..\n",
    "from sklearn.cluster import KMeans\n",
    "import pandas as pd\n",
    "import matplotlib.pyplot as plt\n",
    "import seaborn as sns"
   ]
  },
  {
   "cell_type": "code",
   "execution_count": 2,
   "id": "4ec6a5d8",
   "metadata": {
    "scrolled": true
   },
   "outputs": [
    {
     "data": {
      "text/html": [
       "<div>\n",
       "<style scoped>\n",
       "    .dataframe tbody tr th:only-of-type {\n",
       "        vertical-align: middle;\n",
       "    }\n",
       "\n",
       "    .dataframe tbody tr th {\n",
       "        vertical-align: top;\n",
       "    }\n",
       "\n",
       "    .dataframe thead th {\n",
       "        text-align: right;\n",
       "    }\n",
       "</style>\n",
       "<table border=\"1\" class=\"dataframe\">\n",
       "  <thead>\n",
       "    <tr style=\"text-align: right;\">\n",
       "      <th></th>\n",
       "      <th>area</th>\n",
       "      <th>perimeter</th>\n",
       "      <th>compactness</th>\n",
       "      <th>length of kernel</th>\n",
       "      <th>width of kernel</th>\n",
       "      <th>asymmetry coefficient</th>\n",
       "      <th>length of kernel groove</th>\n",
       "      <th>variety</th>\n",
       "    </tr>\n",
       "  </thead>\n",
       "  <tbody>\n",
       "    <tr>\n",
       "      <th>0</th>\n",
       "      <td>15.26</td>\n",
       "      <td>14.84</td>\n",
       "      <td>0.8710</td>\n",
       "      <td>5.763</td>\n",
       "      <td>3.312</td>\n",
       "      <td>2.221</td>\n",
       "      <td>5.220</td>\n",
       "      <td>1</td>\n",
       "    </tr>\n",
       "    <tr>\n",
       "      <th>1</th>\n",
       "      <td>14.88</td>\n",
       "      <td>14.57</td>\n",
       "      <td>0.8811</td>\n",
       "      <td>5.554</td>\n",
       "      <td>3.333</td>\n",
       "      <td>1.018</td>\n",
       "      <td>4.956</td>\n",
       "      <td>1</td>\n",
       "    </tr>\n",
       "    <tr>\n",
       "      <th>2</th>\n",
       "      <td>14.29</td>\n",
       "      <td>14.09</td>\n",
       "      <td>0.9050</td>\n",
       "      <td>5.291</td>\n",
       "      <td>3.337</td>\n",
       "      <td>2.699</td>\n",
       "      <td>4.825</td>\n",
       "      <td>1</td>\n",
       "    </tr>\n",
       "    <tr>\n",
       "      <th>3</th>\n",
       "      <td>13.84</td>\n",
       "      <td>13.94</td>\n",
       "      <td>0.8955</td>\n",
       "      <td>5.324</td>\n",
       "      <td>3.379</td>\n",
       "      <td>2.259</td>\n",
       "      <td>4.805</td>\n",
       "      <td>1</td>\n",
       "    </tr>\n",
       "    <tr>\n",
       "      <th>4</th>\n",
       "      <td>16.14</td>\n",
       "      <td>14.99</td>\n",
       "      <td>0.9034</td>\n",
       "      <td>5.658</td>\n",
       "      <td>3.562</td>\n",
       "      <td>1.355</td>\n",
       "      <td>5.175</td>\n",
       "      <td>1</td>\n",
       "    </tr>\n",
       "    <tr>\n",
       "      <th>5</th>\n",
       "      <td>14.38</td>\n",
       "      <td>14.21</td>\n",
       "      <td>0.8951</td>\n",
       "      <td>5.386</td>\n",
       "      <td>3.312</td>\n",
       "      <td>2.462</td>\n",
       "      <td>4.956</td>\n",
       "      <td>1</td>\n",
       "    </tr>\n",
       "  </tbody>\n",
       "</table>\n",
       "</div>"
      ],
      "text/plain": [
       "    area   perimeter   compactness  length of kernel  width of kernel  \\\n",
       "0  15.26        14.84       0.8710             5.763            3.312   \n",
       "1  14.88        14.57       0.8811             5.554            3.333   \n",
       "2  14.29        14.09       0.9050             5.291            3.337   \n",
       "3  13.84        13.94       0.8955             5.324            3.379   \n",
       "4  16.14        14.99       0.9034             5.658            3.562   \n",
       "5  14.38        14.21       0.8951             5.386            3.312   \n",
       "\n",
       "    asymmetry coefficient  length of kernel groove  variety  \n",
       "0                   2.221                    5.220        1  \n",
       "1                   1.018                    4.956        1  \n",
       "2                   2.699                    4.825        1  \n",
       "3                   2.259                    4.805        1  \n",
       "4                   1.355                    5.175        1  \n",
       "5                   2.462                    4.956        1  "
      ]
     },
     "execution_count": 2,
     "metadata": {},
     "output_type": "execute_result"
    }
   ],
   "source": [
    "#fetch file path and display  in df\n",
    "path=r\"C:/Users/val-c/seeds_dataset.txt\"\n",
    "cols=['area',' perimeter ','compactness','length of kernel', 'width of kernel',' asymmetry coefficient', 'length of kernel groove','variety']\n",
    "wheat_var=pd.read_csv(path,delimiter= '\\s+', index_col=False,names=cols)\n",
    "wheat_var.head(n=6)"
   ]
  },
  {
   "cell_type": "code",
   "execution_count": 3,
   "id": "e543e36c",
   "metadata": {},
   "outputs": [
    {
     "data": {
      "text/plain": [
       "(210, 8)"
      ]
     },
     "execution_count": 3,
     "metadata": {},
     "output_type": "execute_result"
    }
   ],
   "source": [
    "#rows and columns display\n",
    "wheat_var.shape"
   ]
  },
  {
   "cell_type": "code",
   "execution_count": 4,
   "id": "cf8fbe56",
   "metadata": {},
   "outputs": [
    {
     "name": "stdout",
     "output_type": "stream",
     "text": [
      "<class 'pandas.core.frame.DataFrame'>\n",
      "RangeIndex: 210 entries, 0 to 209\n",
      "Data columns (total 8 columns):\n",
      " #   Column                   Non-Null Count  Dtype  \n",
      "---  ------                   --------------  -----  \n",
      " 0   area                     210 non-null    float64\n",
      " 1    perimeter               210 non-null    float64\n",
      " 2   compactness              210 non-null    float64\n",
      " 3   length of kernel         210 non-null    float64\n",
      " 4   width of kernel          210 non-null    float64\n",
      " 5    asymmetry coefficient   210 non-null    float64\n",
      " 6   length of kernel groove  210 non-null    float64\n",
      " 7   variety                  210 non-null    int64  \n",
      "dtypes: float64(7), int64(1)\n",
      "memory usage: 13.2 KB\n"
     ]
    }
   ],
   "source": [
    "#info of df\n",
    "wheat_var.info()"
   ]
  },
  {
   "cell_type": "code",
   "execution_count": 5,
   "id": "5d245b00",
   "metadata": {},
   "outputs": [
    {
     "data": {
      "text/plain": [
       "area                       0\n",
       " perimeter                 0\n",
       "compactness                0\n",
       "length of kernel           0\n",
       "width of kernel            0\n",
       " asymmetry coefficient     0\n",
       "length of kernel groove    0\n",
       "variety                    0\n",
       "dtype: int64"
      ]
     },
     "execution_count": 5,
     "metadata": {},
     "output_type": "execute_result"
    }
   ],
   "source": [
    "#checking for missing values in the dataset\n",
    "wheat_var.isna().sum()"
   ]
  },
  {
   "cell_type": "code",
   "execution_count": 6,
   "id": "760544bb",
   "metadata": {},
   "outputs": [
    {
     "data": {
      "text/html": [
       "<div>\n",
       "<style scoped>\n",
       "    .dataframe tbody tr th:only-of-type {\n",
       "        vertical-align: middle;\n",
       "    }\n",
       "\n",
       "    .dataframe tbody tr th {\n",
       "        vertical-align: top;\n",
       "    }\n",
       "\n",
       "    .dataframe thead th {\n",
       "        text-align: right;\n",
       "    }\n",
       "</style>\n",
       "<table border=\"1\" class=\"dataframe\">\n",
       "  <thead>\n",
       "    <tr style=\"text-align: right;\">\n",
       "      <th></th>\n",
       "      <th>count</th>\n",
       "      <th>mean</th>\n",
       "      <th>std</th>\n",
       "      <th>min</th>\n",
       "      <th>25%</th>\n",
       "      <th>50%</th>\n",
       "      <th>75%</th>\n",
       "      <th>max</th>\n",
       "    </tr>\n",
       "  </thead>\n",
       "  <tbody>\n",
       "    <tr>\n",
       "      <th>area</th>\n",
       "      <td>210.0</td>\n",
       "      <td>14.847524</td>\n",
       "      <td>2.909699</td>\n",
       "      <td>10.5900</td>\n",
       "      <td>12.27000</td>\n",
       "      <td>14.35500</td>\n",
       "      <td>17.305000</td>\n",
       "      <td>21.1800</td>\n",
       "    </tr>\n",
       "    <tr>\n",
       "      <th>perimeter</th>\n",
       "      <td>210.0</td>\n",
       "      <td>14.559286</td>\n",
       "      <td>1.305959</td>\n",
       "      <td>12.4100</td>\n",
       "      <td>13.45000</td>\n",
       "      <td>14.32000</td>\n",
       "      <td>15.715000</td>\n",
       "      <td>17.2500</td>\n",
       "    </tr>\n",
       "    <tr>\n",
       "      <th>compactness</th>\n",
       "      <td>210.0</td>\n",
       "      <td>0.870999</td>\n",
       "      <td>0.023629</td>\n",
       "      <td>0.8081</td>\n",
       "      <td>0.85690</td>\n",
       "      <td>0.87345</td>\n",
       "      <td>0.887775</td>\n",
       "      <td>0.9183</td>\n",
       "    </tr>\n",
       "    <tr>\n",
       "      <th>length of kernel</th>\n",
       "      <td>210.0</td>\n",
       "      <td>5.628533</td>\n",
       "      <td>0.443063</td>\n",
       "      <td>4.8990</td>\n",
       "      <td>5.26225</td>\n",
       "      <td>5.52350</td>\n",
       "      <td>5.979750</td>\n",
       "      <td>6.6750</td>\n",
       "    </tr>\n",
       "    <tr>\n",
       "      <th>width of kernel</th>\n",
       "      <td>210.0</td>\n",
       "      <td>3.258605</td>\n",
       "      <td>0.377714</td>\n",
       "      <td>2.6300</td>\n",
       "      <td>2.94400</td>\n",
       "      <td>3.23700</td>\n",
       "      <td>3.561750</td>\n",
       "      <td>4.0330</td>\n",
       "    </tr>\n",
       "    <tr>\n",
       "      <th>asymmetry coefficient</th>\n",
       "      <td>210.0</td>\n",
       "      <td>3.700201</td>\n",
       "      <td>1.503557</td>\n",
       "      <td>0.7651</td>\n",
       "      <td>2.56150</td>\n",
       "      <td>3.59900</td>\n",
       "      <td>4.768750</td>\n",
       "      <td>8.4560</td>\n",
       "    </tr>\n",
       "    <tr>\n",
       "      <th>length of kernel groove</th>\n",
       "      <td>210.0</td>\n",
       "      <td>5.408071</td>\n",
       "      <td>0.491480</td>\n",
       "      <td>4.5190</td>\n",
       "      <td>5.04500</td>\n",
       "      <td>5.22300</td>\n",
       "      <td>5.877000</td>\n",
       "      <td>6.5500</td>\n",
       "    </tr>\n",
       "    <tr>\n",
       "      <th>variety</th>\n",
       "      <td>210.0</td>\n",
       "      <td>2.000000</td>\n",
       "      <td>0.818448</td>\n",
       "      <td>1.0000</td>\n",
       "      <td>1.00000</td>\n",
       "      <td>2.00000</td>\n",
       "      <td>3.000000</td>\n",
       "      <td>3.0000</td>\n",
       "    </tr>\n",
       "  </tbody>\n",
       "</table>\n",
       "</div>"
      ],
      "text/plain": [
       "                         count       mean       std      min       25%  \\\n",
       "area                     210.0  14.847524  2.909699  10.5900  12.27000   \n",
       " perimeter               210.0  14.559286  1.305959  12.4100  13.45000   \n",
       "compactness              210.0   0.870999  0.023629   0.8081   0.85690   \n",
       "length of kernel         210.0   5.628533  0.443063   4.8990   5.26225   \n",
       "width of kernel          210.0   3.258605  0.377714   2.6300   2.94400   \n",
       " asymmetry coefficient   210.0   3.700201  1.503557   0.7651   2.56150   \n",
       "length of kernel groove  210.0   5.408071  0.491480   4.5190   5.04500   \n",
       "variety                  210.0   2.000000  0.818448   1.0000   1.00000   \n",
       "\n",
       "                              50%        75%      max  \n",
       "area                     14.35500  17.305000  21.1800  \n",
       " perimeter               14.32000  15.715000  17.2500  \n",
       "compactness               0.87345   0.887775   0.9183  \n",
       "length of kernel          5.52350   5.979750   6.6750  \n",
       "width of kernel           3.23700   3.561750   4.0330  \n",
       " asymmetry coefficient    3.59900   4.768750   8.4560  \n",
       "length of kernel groove   5.22300   5.877000   6.5500  \n",
       "variety                   2.00000   3.000000   3.0000  "
      ]
     },
     "execution_count": 6,
     "metadata": {},
     "output_type": "execute_result"
    }
   ],
   "source": [
    "#statistics of df\n",
    "wheat_var.describe().transpose()"
   ]
  },
  {
   "cell_type": "code",
   "execution_count": 7,
   "id": "da9f0be9",
   "metadata": {},
   "outputs": [],
   "source": [
    "# feature extraction for length of kernel index[3],width of kernel for index[4] for all the rows\n",
    "feat_x=wheat_var.iloc[:,[3,4]].values\n",
    "#print(feat_x)"
   ]
  },
  {
   "cell_type": "code",
   "execution_count": 8,
   "id": "d54ddb4b",
   "metadata": {},
   "outputs": [],
   "source": [
    "import warnings\n",
    "warnings.filterwarnings('ignore')"
   ]
  },
  {
   "cell_type": "code",
   "execution_count": 9,
   "id": "0aef256e",
   "metadata": {},
   "outputs": [
    {
     "data": {
      "image/png": "[encoded data removed]",
      "text/plain": [
       "<Figure size 432x360 with 1 Axes>"
      ]
     },
     "metadata": {
      "needs_background": "light"
     },
     "output_type": "display_data"
    }
   ],
   "source": [
    "#cluster determination by elbow method\n",
    "ks = range(1, 11)\n",
    "\n",
    "inertias = [] #create empty list\n",
    "\n",
    "for k in ks:\n",
    "    # Create a KMeans instance with k clusters: model\n",
    "    model = KMeans(n_clusters=k,init='k-means++', random_state=42)\n",
    "    \n",
    "    # Fit model to samples\n",
    "    model.fit(feat_x)\n",
    "    \n",
    "    # Append the inertia to the list of inertias\n",
    "    inertias.append(model.inertia_)\n",
    "    \n",
    "# Plot ks vs inertias\n",
    "plt.figure(figsize=(6, 5)) #fig_sizing\n",
    "sns.set()\n",
    "plt.plot(ks, inertias, c='r') #'-*'\n",
    "plt.title('\\n Elbow joint to determine cluster:K')\n",
    "plt.xlabel('Number of clusters, k')\n",
    "plt.ylabel(' Inertia')\n",
    "plt.xticks(ks)\n",
    "plt.show() #display plot"
   ]
  },
  {
   "cell_type": "code",
   "execution_count": 10,
   "id": "36c3598b",
   "metadata": {},
   "outputs": [
    {
     "name": "stdout",
     "output_type": "stream",
     "text": [
      "\n",
      "\n",
      "[2 2 2 2 2 2 2 2 0 2 2 2 2 2 2 2 1 2 2 1 2 2 2 1 2 2 1 1 2 2 1 2 2 2 2 2 2\n",
      " 2 2 2 1 1 1 2 2 1 2 2 2 2 2 2 2 2 2 2 2 2 2 1 1 1 1 1 1 1 2 2 2 1 0 0 0 0\n",
      " 0 2 0 0 0 2 2 0 0 0 0 0 0 0 0 0 0 0 0 0 0 0 0 0 0 0 2 0 0 0 0 0 0 0 0 0 0\n",
      " 0 0 0 0 0 0 0 0 0 0 0 2 0 2 0 0 0 0 2 0 0 2 2 2 2 0 2 2 2 1 2 1 1 1 1 1 1\n",
      " 1 1 1 1 1 1 1 1 1 1 1 1 1 1 1 1 1 1 1 1 1 1 1 1 1 1 1 1 1 1 1 1 1 1 1 1 1\n",
      " 1 1 1 1 1 1 1 1 1 1 1 1 1 1 1 1 1 1 1 1 1 1 1 1 1]\n",
      "\n",
      "\n"
     ]
    },
    {
     "data": {
      "text/html": [
       "<div>\n",
       "<style scoped>\n",
       "    .dataframe tbody tr th:only-of-type {\n",
       "        vertical-align: middle;\n",
       "    }\n",
       "\n",
       "    .dataframe tbody tr th {\n",
       "        vertical-align: top;\n",
       "    }\n",
       "\n",
       "    .dataframe thead th {\n",
       "        text-align: right;\n",
       "    }\n",
       "</style>\n",
       "<table border=\"1\" class=\"dataframe\">\n",
       "  <thead>\n",
       "    <tr style=\"text-align: right;\">\n",
       "      <th>varieties</th>\n",
       "      <th>1</th>\n",
       "      <th>2</th>\n",
       "      <th>3</th>\n",
       "    </tr>\n",
       "    <tr>\n",
       "      <th>labels</th>\n",
       "      <th></th>\n",
       "      <th></th>\n",
       "      <th></th>\n",
       "    </tr>\n",
       "  </thead>\n",
       "  <tbody>\n",
       "    <tr>\n",
       "      <th>0</th>\n",
       "      <td>1</td>\n",
       "      <td>56</td>\n",
       "      <td>0</td>\n",
       "    </tr>\n",
       "    <tr>\n",
       "      <th>1</th>\n",
       "      <td>18</td>\n",
       "      <td>0</td>\n",
       "      <td>69</td>\n",
       "    </tr>\n",
       "    <tr>\n",
       "      <th>2</th>\n",
       "      <td>51</td>\n",
       "      <td>14</td>\n",
       "      <td>1</td>\n",
       "    </tr>\n",
       "  </tbody>\n",
       "</table>\n",
       "</div>"
      ],
      "text/plain": [
       "varieties   1   2   3\n",
       "labels               \n",
       "0           1  56   0\n",
       "1          18   0  69\n",
       "2          51  14   1"
      ]
     },
     "execution_count": 10,
     "metadata": {},
     "output_type": "execute_result"
    }
   ],
   "source": [
    "#number of clusters detected=3\n",
    "# Create a KMeans model with 3 clusters: model\n",
    "model = KMeans(n_clusters=3)\n",
    "\n",
    "# Use fit_predict to fit model and obtain cluster labels: labels\n",
    "labels = model.fit_predict(feat_x)\n",
    "# Create a DataFrame with clusters and varieties as columns: df\n",
    "varietys=wheat_var.variety\n",
    "df = pd.DataFrame({'labels': labels, 'varieties': varietys})\n",
    "\n",
    "# Create crosstab: ct\n",
    "cros_tab = pd.crosstab(df['labels'], df['varieties'])\n",
    "\n",
    "# Display ct\n",
    "print('\\n')\n",
    "print(labels)\n",
    "print('\\n')\n",
    "cros_tab"
   ]
  },
  {
   "cell_type": "code",
   "execution_count": 11,
   "id": "87f8c1da",
   "metadata": {},
   "outputs": [
    {
     "data": {
      "image/png": "[encoded data removed]",
      "text/plain": [
       "<Figure size 576x576 with 1 Axes>"
      ]
     },
     "metadata": {},
     "output_type": "display_data"
    }
   ],
   "source": [
    "#plot the scatter\n",
    "plt.figure(figsize=(8, 8))\n",
    "plt.scatter( feat_x[labels==0,0], feat_x[labels==0,1], s=30, c='b') #scatter plot\n",
    "plt.scatter( feat_x[labels==1,0], feat_x[labels==1,1], s=30, c='r')\n",
    "plt.scatter( feat_x[labels==2,0], feat_x[labels==2,1], s=30, c='y')\n",
    "\n",
    "#plot centriod\n",
    "plt.scatter(model.cluster_centers_[:,0],model.cluster_centers_[:,1], s=70, c='k',marker='D') #plot centriod\n",
    "plt.title ('\\n  Geometrical properties of the kernel varities [ Kama, Rosa and Canadian ]')\n",
    "plt.xlabel ('\\n Length of kernel')\n",
    "plt.ylabel ('Width of kernel')\n",
    "plt.show() #display"
   ]
  },
  {
   "cell_type": "code",
   "execution_count": null,
   "id": "041b6717",
   "metadata": {},
   "outputs": [],
   "source": []
  },
  {
   "cell_type": "code",
   "execution_count": null,
   "id": "239c8ad7",
   "metadata": {},
   "outputs": [],
   "source": []
  }
 ],
 "metadata": {
  "kernelspec": {
   "display_name": "Python 3 (ipykernel)",
   "language": "python",
   "name": "python3"
  },
  "language_info": {
   "codemirror_mode": {
    "name": "ipython",
    "version": 3
   },
   "file_extension": ".py",
   "mimetype": "text/x-python",
   "name": "python",
   "nbconvert_exporter": "python",
   "pygments_lexer": "ipython3",
   "version": "3.9.12"
  }
 },
 "nbformat": 4,
 "nbformat_minor": 5
}
