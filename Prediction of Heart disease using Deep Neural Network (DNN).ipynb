{
 "cells": [
  {
   "cell_type": "markdown",
   "id": "34710d59",
   "metadata": {},
   "source": [
    "# Prediction of Heart disease using Deep Neural Network"
   ]
  },
  {
   "cell_type": "markdown",
   "id": "32f66527",
   "metadata": {},
   "source": [
    "The data set dates from 1988 and consists of four databases: Cleveland, Hungary, Switzerland, and Long Beach V. It contains 76 attributes, including the predicted attribute, but all published experiments refer to using a subset of 14 of them. The \"target\" field refers to the presence of heart disease in the patient. It is integer valued 0 = no disease and 1 = disease."
   ]
  },
  {
   "cell_type": "markdown",
   "id": "beebb7ed",
   "metadata": {},
   "source": [
    "Acknowledgement: This data comes from the University of California Irvine's Machine Learning Repository at https://archive.ics.uci.edu/ml/datasets/Heart+Disease."
   ]
  },
  {
   "cell_type": "markdown",
   "id": "f7961b1e",
   "metadata": {},
   "source": [
    "The dataset contains 14 attributes:\n",
    "1.  (age) :  age in years\n",
    "2.  (sex) :  sex (1 = male; 0 = female)\n",
    "3.  (cp) :  chest pain type\n",
    "4.  (trestbps) :  Resting Blood presssure in mm Hg\n",
    "5.  (chol) :  serum cholesterol in mg/dl\n",
    "6.  (fbs) :  Fasting Blood Sugar in mg/dl\n",
    "7.  (restecg) :  Resting Electrocadiographic Results\n",
    "8.  (thalach) :  Maximum Heart Rate achieved\n",
    "9.  (exang) :  exercise induced angina \n",
    "10. (oldpeak) :  ST depression induced by exercise relative to rest\n",
    "11. (slope) :  slope of the Peak Exercise ST segment\n",
    "12. (ca):  number of major vessels (0-3) colored by flourosopy\n",
    "13. (thal) :  3 = normal; 6 = fixed defect; 7 = reversable defect\n",
    "14. (target) :  (the predicted attribute) . Diagnosis of heart disease (angiographic disease status) Values:0(absence) & 1(presence)"
   ]
  },
  {
   "cell_type": "code",
   "execution_count": null,
   "id": "8cdf4a3c",
   "metadata": {},
   "outputs": [],
   "source": []
  },
  {
   "cell_type": "markdown",
   "id": "096bee29",
   "metadata": {},
   "source": [
    "# Importing the required libraries"
   ]
  },
  {
   "cell_type": "code",
   "execution_count": 1,
   "id": "301f9d32",
   "metadata": {},
   "outputs": [],
   "source": [
    "import tensorflow as tf\n",
    "import numpy as np\n",
    "import pandas as pd\n",
    "import seaborn as sns\n",
    "import matplotlib.pyplot as plt\n",
    "\n",
    "import keras\n",
    "from tensorflow.keras.models import Sequential\n",
    "from tensorflow.keras.layers import Activation, Dropout, Flatten, Dense\n",
    "from tensorflow.math import confusion_matrix\n",
    "from keras.optimizers import Adam\n",
    "from tensorflow.keras import layers\n",
    "from tensorflow.keras.callbacks import EarlyStopping\n",
    "from keras import regularizers\n",
    "\n",
    "from sklearn import preprocessing\n",
    "from sklearn.preprocessing import StandardScaler\n",
    "from sklearn.preprocessing import MinMaxScaler\n",
    "from sklearn.preprocessing import scale\n",
    "from sklearn import model_selection\n",
    "from sklearn.model_selection import train_test_split\n",
    "from sklearn.metrics import classification_report, accuracy_score"
   ]
  },
  {
   "cell_type": "code",
   "execution_count": 2,
   "id": "d26565cd",
   "metadata": {},
   "outputs": [],
   "source": [
    "import warnings\n",
    "warnings.filterwarnings('ignore')"
   ]
  },
  {
   "cell_type": "markdown",
   "id": "9d4d9b0d",
   "metadata": {},
   "source": [
    "# Loading and preparing data"
   ]
  },
  {
   "cell_type": "code",
   "execution_count": 3,
   "id": "8f5f61e9",
   "metadata": {},
   "outputs": [
    {
     "name": "stdout",
     "output_type": "stream",
     "text": [
      "\n",
      "\n"
     ]
    },
    {
     "data": {
      "text/html": [
       "<div>\n",
       "<style scoped>\n",
       "    .dataframe tbody tr th:only-of-type {\n",
       "        vertical-align: middle;\n",
       "    }\n",
       "\n",
       "    .dataframe tbody tr th {\n",
       "        vertical-align: top;\n",
       "    }\n",
       "\n",
       "    .dataframe thead th {\n",
       "        text-align: right;\n",
       "    }\n",
       "</style>\n",
       "<table border=\"1\" class=\"dataframe\">\n",
       "  <thead>\n",
       "    <tr style=\"text-align: right;\">\n",
       "      <th></th>\n",
       "      <th>age</th>\n",
       "      <th>sex</th>\n",
       "      <th>cp</th>\n",
       "      <th>trestbps</th>\n",
       "      <th>chol</th>\n",
       "      <th>fbs</th>\n",
       "      <th>restecg</th>\n",
       "      <th>thalach</th>\n",
       "      <th>exang</th>\n",
       "      <th>oldpeak</th>\n",
       "      <th>slope</th>\n",
       "      <th>ca</th>\n",
       "      <th>thal</th>\n",
       "      <th>target</th>\n",
       "    </tr>\n",
       "  </thead>\n",
       "  <tbody>\n",
       "    <tr>\n",
       "      <th>1020</th>\n",
       "      <td>59</td>\n",
       "      <td>1</td>\n",
       "      <td>1</td>\n",
       "      <td>140</td>\n",
       "      <td>221</td>\n",
       "      <td>0</td>\n",
       "      <td>1</td>\n",
       "      <td>164</td>\n",
       "      <td>1</td>\n",
       "      <td>0.0</td>\n",
       "      <td>2</td>\n",
       "      <td>0</td>\n",
       "      <td>2</td>\n",
       "      <td>1</td>\n",
       "    </tr>\n",
       "    <tr>\n",
       "      <th>1021</th>\n",
       "      <td>60</td>\n",
       "      <td>1</td>\n",
       "      <td>0</td>\n",
       "      <td>125</td>\n",
       "      <td>258</td>\n",
       "      <td>0</td>\n",
       "      <td>0</td>\n",
       "      <td>141</td>\n",
       "      <td>1</td>\n",
       "      <td>2.8</td>\n",
       "      <td>1</td>\n",
       "      <td>1</td>\n",
       "      <td>3</td>\n",
       "      <td>0</td>\n",
       "    </tr>\n",
       "    <tr>\n",
       "      <th>1022</th>\n",
       "      <td>47</td>\n",
       "      <td>1</td>\n",
       "      <td>0</td>\n",
       "      <td>110</td>\n",
       "      <td>275</td>\n",
       "      <td>0</td>\n",
       "      <td>0</td>\n",
       "      <td>118</td>\n",
       "      <td>1</td>\n",
       "      <td>1.0</td>\n",
       "      <td>1</td>\n",
       "      <td>1</td>\n",
       "      <td>2</td>\n",
       "      <td>0</td>\n",
       "    </tr>\n",
       "    <tr>\n",
       "      <th>1023</th>\n",
       "      <td>50</td>\n",
       "      <td>0</td>\n",
       "      <td>0</td>\n",
       "      <td>110</td>\n",
       "      <td>254</td>\n",
       "      <td>0</td>\n",
       "      <td>0</td>\n",
       "      <td>159</td>\n",
       "      <td>0</td>\n",
       "      <td>0.0</td>\n",
       "      <td>2</td>\n",
       "      <td>0</td>\n",
       "      <td>2</td>\n",
       "      <td>1</td>\n",
       "    </tr>\n",
       "    <tr>\n",
       "      <th>1024</th>\n",
       "      <td>54</td>\n",
       "      <td>1</td>\n",
       "      <td>0</td>\n",
       "      <td>120</td>\n",
       "      <td>188</td>\n",
       "      <td>0</td>\n",
       "      <td>1</td>\n",
       "      <td>113</td>\n",
       "      <td>0</td>\n",
       "      <td>1.4</td>\n",
       "      <td>1</td>\n",
       "      <td>1</td>\n",
       "      <td>3</td>\n",
       "      <td>0</td>\n",
       "    </tr>\n",
       "  </tbody>\n",
       "</table>\n",
       "</div>"
      ],
      "text/plain": [
       "      age  sex  cp  trestbps  chol  fbs  restecg  thalach  exang  oldpeak  \\\n",
       "1020   59    1   1       140   221    0        1      164      1      0.0   \n",
       "1021   60    1   0       125   258    0        0      141      1      2.8   \n",
       "1022   47    1   0       110   275    0        0      118      1      1.0   \n",
       "1023   50    0   0       110   254    0        0      159      0      0.0   \n",
       "1024   54    1   0       120   188    0        1      113      0      1.4   \n",
       "\n",
       "      slope  ca  thal  target  \n",
       "1020      2   0     2       1  \n",
       "1021      1   1     3       0  \n",
       "1022      1   1     2       0  \n",
       "1023      2   0     2       1  \n",
       "1024      1   1     3       0  "
      ]
     },
     "execution_count": 3,
     "metadata": {},
     "output_type": "execute_result"
    }
   ],
   "source": [
    "#load and display dataframe\n",
    "heart_disease=r\"C:\\Users\\val-c\\Desktop\\heart disease\\heart.csv\"\n",
    "hrt_dis=pd.read_csv(heart_disease)\n",
    "hrt_dis.head() #display first-five rows\n",
    "\n",
    "print('\\n') #hold back\n",
    "\n",
    "#display last five rows of the dataframe\n",
    "hrt_dis.tail()"
   ]
  },
  {
   "cell_type": "code",
   "execution_count": 4,
   "id": "cdf7c441",
   "metadata": {},
   "outputs": [
    {
     "name": "stdout",
     "output_type": "stream",
     "text": [
      "(rows,cols) = (1025, 14)\n"
     ]
    }
   ],
   "source": [
    "#no of rows and columns\n",
    "print('(rows,cols) =',hrt_dis.shape)"
   ]
  },
  {
   "cell_type": "code",
   "execution_count": 5,
   "id": "ae44a54b",
   "metadata": {},
   "outputs": [
    {
     "name": "stdout",
     "output_type": "stream",
     "text": [
      "<class 'pandas.core.frame.DataFrame'>\n",
      "RangeIndex: 1025 entries, 0 to 1024\n",
      "Data columns (total 14 columns):\n",
      " #   Column    Non-Null Count  Dtype  \n",
      "---  ------    --------------  -----  \n",
      " 0   age       1025 non-null   int64  \n",
      " 1   sex       1025 non-null   int64  \n",
      " 2   cp        1025 non-null   int64  \n",
      " 3   trestbps  1025 non-null   int64  \n",
      " 4   chol      1025 non-null   int64  \n",
      " 5   fbs       1025 non-null   int64  \n",
      " 6   restecg   1025 non-null   int64  \n",
      " 7   thalach   1025 non-null   int64  \n",
      " 8   exang     1025 non-null   int64  \n",
      " 9   oldpeak   1025 non-null   float64\n",
      " 10  slope     1025 non-null   int64  \n",
      " 11  ca        1025 non-null   int64  \n",
      " 12  thal      1025 non-null   int64  \n",
      " 13  target    1025 non-null   int64  \n",
      "dtypes: float64(1), int64(13)\n",
      "memory usage: 112.2 KB\n"
     ]
    }
   ],
   "source": [
    "#display data types for the dataframe\n",
    "hrt_dis.info()"
   ]
  },
  {
   "cell_type": "code",
   "execution_count": 6,
   "id": "88192b39",
   "metadata": {},
   "outputs": [
    {
     "data": {
      "text/html": [
       "<div>\n",
       "<style scoped>\n",
       "    .dataframe tbody tr th:only-of-type {\n",
       "        vertical-align: middle;\n",
       "    }\n",
       "\n",
       "    .dataframe tbody tr th {\n",
       "        vertical-align: top;\n",
       "    }\n",
       "\n",
       "    .dataframe thead th {\n",
       "        text-align: right;\n",
       "    }\n",
       "</style>\n",
       "<table border=\"1\" class=\"dataframe\">\n",
       "  <thead>\n",
       "    <tr style=\"text-align: right;\">\n",
       "      <th></th>\n",
       "      <th>Total</th>\n",
       "    </tr>\n",
       "  </thead>\n",
       "  <tbody>\n",
       "    <tr>\n",
       "      <th>age</th>\n",
       "      <td>0</td>\n",
       "    </tr>\n",
       "    <tr>\n",
       "      <th>sex</th>\n",
       "      <td>0</td>\n",
       "    </tr>\n",
       "    <tr>\n",
       "      <th>cp</th>\n",
       "      <td>0</td>\n",
       "    </tr>\n",
       "    <tr>\n",
       "      <th>trestbps</th>\n",
       "      <td>0</td>\n",
       "    </tr>\n",
       "    <tr>\n",
       "      <th>chol</th>\n",
       "      <td>0</td>\n",
       "    </tr>\n",
       "    <tr>\n",
       "      <th>fbs</th>\n",
       "      <td>0</td>\n",
       "    </tr>\n",
       "    <tr>\n",
       "      <th>restecg</th>\n",
       "      <td>0</td>\n",
       "    </tr>\n",
       "    <tr>\n",
       "      <th>thalach</th>\n",
       "      <td>0</td>\n",
       "    </tr>\n",
       "    <tr>\n",
       "      <th>exang</th>\n",
       "      <td>0</td>\n",
       "    </tr>\n",
       "    <tr>\n",
       "      <th>oldpeak</th>\n",
       "      <td>0</td>\n",
       "    </tr>\n",
       "    <tr>\n",
       "      <th>slope</th>\n",
       "      <td>0</td>\n",
       "    </tr>\n",
       "    <tr>\n",
       "      <th>ca</th>\n",
       "      <td>0</td>\n",
       "    </tr>\n",
       "    <tr>\n",
       "      <th>thal</th>\n",
       "      <td>0</td>\n",
       "    </tr>\n",
       "    <tr>\n",
       "      <th>target</th>\n",
       "      <td>0</td>\n",
       "    </tr>\n",
       "  </tbody>\n",
       "</table>\n",
       "</div>"
      ],
      "text/plain": [
       "          Total\n",
       "age           0\n",
       "sex           0\n",
       "cp            0\n",
       "trestbps      0\n",
       "chol          0\n",
       "fbs           0\n",
       "restecg       0\n",
       "thalach       0\n",
       "exang         0\n",
       "oldpeak       0\n",
       "slope         0\n",
       "ca            0\n",
       "thal          0\n",
       "target        0"
      ]
     },
     "execution_count": 6,
     "metadata": {},
     "output_type": "execute_result"
    }
   ],
   "source": [
    "#calculate the existing NaN/missing values in the datasets\n",
    "\n",
    "hrt_dis.isna().sum().to_frame('Total')"
   ]
  },
  {
   "cell_type": "code",
   "execution_count": 7,
   "id": "9762394f",
   "metadata": {},
   "outputs": [
    {
     "data": {
      "image/png": "[encoded data removed]",
      "text/plain": [
       "<Figure size 432x288 with 1 Axes>"
      ]
     },
     "metadata": {
      "needs_background": "light"
     },
     "output_type": "display_data"
    },
    {
     "name": "stdout",
     "output_type": "stream",
     "text": [
      "1    526\n",
      "0    499\n",
      "Name: target, dtype: int64\n"
     ]
    }
   ],
   "source": [
    "#show the number of persons who go heart disease or not.\n",
    "y=('target')\n",
    "sns.countplot(y, data=hrt_dis)\n",
    "plt.show()\n",
    "print(hrt_dis.target.value_counts())"
   ]
  },
  {
   "cell_type": "markdown",
   "id": "99b177ba",
   "metadata": {},
   "source": [
    "526 number of persons got heart disease, while 499 got not"
   ]
  },
  {
   "cell_type": "code",
   "execution_count": 8,
   "id": "e9ed5033",
   "metadata": {},
   "outputs": [
    {
     "data": {
      "text/html": [
       "<div>\n",
       "<style scoped>\n",
       "    .dataframe tbody tr th:only-of-type {\n",
       "        vertical-align: middle;\n",
       "    }\n",
       "\n",
       "    .dataframe tbody tr th {\n",
       "        vertical-align: top;\n",
       "    }\n",
       "\n",
       "    .dataframe thead th {\n",
       "        text-align: right;\n",
       "    }\n",
       "</style>\n",
       "<table border=\"1\" class=\"dataframe\">\n",
       "  <thead>\n",
       "    <tr style=\"text-align: right;\">\n",
       "      <th></th>\n",
       "      <th>count</th>\n",
       "      <th>mean</th>\n",
       "      <th>std</th>\n",
       "      <th>min</th>\n",
       "      <th>25%</th>\n",
       "      <th>50%</th>\n",
       "      <th>75%</th>\n",
       "      <th>max</th>\n",
       "    </tr>\n",
       "  </thead>\n",
       "  <tbody>\n",
       "    <tr>\n",
       "      <th>age</th>\n",
       "      <td>1025.0</td>\n",
       "      <td>54.434146</td>\n",
       "      <td>9.072290</td>\n",
       "      <td>29.0</td>\n",
       "      <td>48.0</td>\n",
       "      <td>56.0</td>\n",
       "      <td>61.0</td>\n",
       "      <td>77.0</td>\n",
       "    </tr>\n",
       "    <tr>\n",
       "      <th>sex</th>\n",
       "      <td>1025.0</td>\n",
       "      <td>0.695610</td>\n",
       "      <td>0.460373</td>\n",
       "      <td>0.0</td>\n",
       "      <td>0.0</td>\n",
       "      <td>1.0</td>\n",
       "      <td>1.0</td>\n",
       "      <td>1.0</td>\n",
       "    </tr>\n",
       "    <tr>\n",
       "      <th>cp</th>\n",
       "      <td>1025.0</td>\n",
       "      <td>0.942439</td>\n",
       "      <td>1.029641</td>\n",
       "      <td>0.0</td>\n",
       "      <td>0.0</td>\n",
       "      <td>1.0</td>\n",
       "      <td>2.0</td>\n",
       "      <td>3.0</td>\n",
       "    </tr>\n",
       "    <tr>\n",
       "      <th>trestbps</th>\n",
       "      <td>1025.0</td>\n",
       "      <td>131.611707</td>\n",
       "      <td>17.516718</td>\n",
       "      <td>94.0</td>\n",
       "      <td>120.0</td>\n",
       "      <td>130.0</td>\n",
       "      <td>140.0</td>\n",
       "      <td>200.0</td>\n",
       "    </tr>\n",
       "    <tr>\n",
       "      <th>chol</th>\n",
       "      <td>1025.0</td>\n",
       "      <td>246.000000</td>\n",
       "      <td>51.592510</td>\n",
       "      <td>126.0</td>\n",
       "      <td>211.0</td>\n",
       "      <td>240.0</td>\n",
       "      <td>275.0</td>\n",
       "      <td>564.0</td>\n",
       "    </tr>\n",
       "    <tr>\n",
       "      <th>fbs</th>\n",
       "      <td>1025.0</td>\n",
       "      <td>0.149268</td>\n",
       "      <td>0.356527</td>\n",
       "      <td>0.0</td>\n",
       "      <td>0.0</td>\n",
       "      <td>0.0</td>\n",
       "      <td>0.0</td>\n",
       "      <td>1.0</td>\n",
       "    </tr>\n",
       "    <tr>\n",
       "      <th>restecg</th>\n",
       "      <td>1025.0</td>\n",
       "      <td>0.529756</td>\n",
       "      <td>0.527878</td>\n",
       "      <td>0.0</td>\n",
       "      <td>0.0</td>\n",
       "      <td>1.0</td>\n",
       "      <td>1.0</td>\n",
       "      <td>2.0</td>\n",
       "    </tr>\n",
       "    <tr>\n",
       "      <th>thalach</th>\n",
       "      <td>1025.0</td>\n",
       "      <td>149.114146</td>\n",
       "      <td>23.005724</td>\n",
       "      <td>71.0</td>\n",
       "      <td>132.0</td>\n",
       "      <td>152.0</td>\n",
       "      <td>166.0</td>\n",
       "      <td>202.0</td>\n",
       "    </tr>\n",
       "    <tr>\n",
       "      <th>exang</th>\n",
       "      <td>1025.0</td>\n",
       "      <td>0.336585</td>\n",
       "      <td>0.472772</td>\n",
       "      <td>0.0</td>\n",
       "      <td>0.0</td>\n",
       "      <td>0.0</td>\n",
       "      <td>1.0</td>\n",
       "      <td>1.0</td>\n",
       "    </tr>\n",
       "    <tr>\n",
       "      <th>oldpeak</th>\n",
       "      <td>1025.0</td>\n",
       "      <td>1.071512</td>\n",
       "      <td>1.175053</td>\n",
       "      <td>0.0</td>\n",
       "      <td>0.0</td>\n",
       "      <td>0.8</td>\n",
       "      <td>1.8</td>\n",
       "      <td>6.2</td>\n",
       "    </tr>\n",
       "    <tr>\n",
       "      <th>slope</th>\n",
       "      <td>1025.0</td>\n",
       "      <td>1.385366</td>\n",
       "      <td>0.617755</td>\n",
       "      <td>0.0</td>\n",
       "      <td>1.0</td>\n",
       "      <td>1.0</td>\n",
       "      <td>2.0</td>\n",
       "      <td>2.0</td>\n",
       "    </tr>\n",
       "    <tr>\n",
       "      <th>ca</th>\n",
       "      <td>1025.0</td>\n",
       "      <td>0.754146</td>\n",
       "      <td>1.030798</td>\n",
       "      <td>0.0</td>\n",
       "      <td>0.0</td>\n",
       "      <td>0.0</td>\n",
       "      <td>1.0</td>\n",
       "      <td>4.0</td>\n",
       "    </tr>\n",
       "    <tr>\n",
       "      <th>thal</th>\n",
       "      <td>1025.0</td>\n",
       "      <td>2.323902</td>\n",
       "      <td>0.620660</td>\n",
       "      <td>0.0</td>\n",
       "      <td>2.0</td>\n",
       "      <td>2.0</td>\n",
       "      <td>3.0</td>\n",
       "      <td>3.0</td>\n",
       "    </tr>\n",
       "    <tr>\n",
       "      <th>target</th>\n",
       "      <td>1025.0</td>\n",
       "      <td>0.513171</td>\n",
       "      <td>0.500070</td>\n",
       "      <td>0.0</td>\n",
       "      <td>0.0</td>\n",
       "      <td>1.0</td>\n",
       "      <td>1.0</td>\n",
       "      <td>1.0</td>\n",
       "    </tr>\n",
       "  </tbody>\n",
       "</table>\n",
       "</div>"
      ],
      "text/plain": [
       "           count        mean        std    min    25%    50%    75%    max\n",
       "age       1025.0   54.434146   9.072290   29.0   48.0   56.0   61.0   77.0\n",
       "sex       1025.0    0.695610   0.460373    0.0    0.0    1.0    1.0    1.0\n",
       "cp        1025.0    0.942439   1.029641    0.0    0.0    1.0    2.0    3.0\n",
       "trestbps  1025.0  131.611707  17.516718   94.0  120.0  130.0  140.0  200.0\n",
       "chol      1025.0  246.000000  51.592510  126.0  211.0  240.0  275.0  564.0\n",
       "fbs       1025.0    0.149268   0.356527    0.0    0.0    0.0    0.0    1.0\n",
       "restecg   1025.0    0.529756   0.527878    0.0    0.0    1.0    1.0    2.0\n",
       "thalach   1025.0  149.114146  23.005724   71.0  132.0  152.0  166.0  202.0\n",
       "exang     1025.0    0.336585   0.472772    0.0    0.0    0.0    1.0    1.0\n",
       "oldpeak   1025.0    1.071512   1.175053    0.0    0.0    0.8    1.8    6.2\n",
       "slope     1025.0    1.385366   0.617755    0.0    1.0    1.0    2.0    2.0\n",
       "ca        1025.0    0.754146   1.030798    0.0    0.0    0.0    1.0    4.0\n",
       "thal      1025.0    2.323902   0.620660    0.0    2.0    2.0    3.0    3.0\n",
       "target    1025.0    0.513171   0.500070    0.0    0.0    1.0    1.0    1.0"
      ]
     },
     "execution_count": 8,
     "metadata": {},
     "output_type": "execute_result"
    }
   ],
   "source": [
    "#statistics of the attributes\n",
    "dist=hrt_dis.describe().transpose()\n",
    "dist"
   ]
  },
  {
   "cell_type": "code",
   "execution_count": 9,
   "id": "622f547c",
   "metadata": {},
   "outputs": [
    {
     "data": {
      "image/png": "[encoded data removed]",
      "text/plain": [
       "<Figure size 864x432 with 2 Axes>"
      ]
     },
     "metadata": {
      "needs_background": "light"
     },
     "output_type": "display_data"
    }
   ],
   "source": [
    "#correlation between attributes\n",
    "plt.figure(figsize=(12,6))\n",
    "corrl=hrt_dis.corr()\n",
    "sns.heatmap(corrl, annot=True, cmap=\"plasma\")\n",
    "plt.show()"
   ]
  },
  {
   "cell_type": "code",
   "execution_count": 10,
   "id": "b1115294",
   "metadata": {},
   "outputs": [
    {
     "data": {
      "image/png": "[encoded data removed]",
      "text/plain": [
       "<Figure size 864x576 with 1 Axes>"
      ]
     },
     "metadata": {
      "needs_background": "light"
     },
     "output_type": "display_data"
    }
   ],
   "source": [
    "#visualize the distribution of ages to heart disease\n",
    "pd.crosstab(hrt_dis.age, hrt_dis.target).plot(kind=\"bar\",figsize=(12,8),cmap='copper')\n",
    "plt.title(\"Heart Disease Distribution by Ages\")\n",
    "plt.xlabel('age')\n",
    "plt.ylabel('frequency')\n",
    "plt.show()"
   ]
  },
  {
   "cell_type": "code",
   "execution_count": null,
   "id": "f4943e07",
   "metadata": {},
   "outputs": [],
   "source": [
    "#explore the attributes distribution\n",
    "hrt_dis.hist(figsize =(12, 11))\n",
    "plt.show()#display dist..."
   ]
  },
  {
   "cell_type": "markdown",
   "id": "0b61b995",
   "metadata": {},
   "source": [
    "# Creating training and testing sets"
   ]
  },
  {
   "cell_type": "code",
   "execution_count": 12,
   "id": "52935b3e",
   "metadata": {},
   "outputs": [],
   "source": [
    "hrt_dis_features = hrt_dis.copy()\n",
    "hrt_dis_labels = hrt_dis_features.pop('target') #drop attribute 'target'=label"
   ]
  },
  {
   "cell_type": "code",
   "execution_count": 13,
   "id": "02769b25",
   "metadata": {},
   "outputs": [],
   "source": [
    "X=hrt_dis_features #features\n",
    "Y=hrt_dis_labels # target "
   ]
  },
  {
   "cell_type": "code",
   "execution_count": 14,
   "id": "b41e7e92",
   "metadata": {},
   "outputs": [
    {
     "name": "stdout",
     "output_type": "stream",
     "text": [
      "number of training samples: 922\n",
      "number of test samples: 103\n"
     ]
    }
   ],
   "source": [
    "#split data into train _ test\n",
    "x_train, x_test, y_train, y_test = train_test_split(X,Y, test_size=0.1, random_state=42)\n",
    "\n",
    "print(\"number of training samples:\",x_train.shape[0])\n",
    "\n",
    "print(\"number of test samples:\", x_test.shape[0])"
   ]
  },
  {
   "cell_type": "markdown",
   "id": "761fd0df",
   "metadata": {},
   "source": [
    "# Standardizing the features"
   ]
  },
  {
   "cell_type": "code",
   "execution_count": 15,
   "id": "faf53acc",
   "metadata": {},
   "outputs": [],
   "source": [
    "# Instantiating StandardScaler\n",
    "sc = StandardScaler()\n",
    "standardized_x_train = sc.fit_transform(x_train)\n",
    "standardized_x_test= sc.transform(x_test)\n"
   ]
  },
  {
   "cell_type": "markdown",
   "id": "f58cfa05",
   "metadata": {},
   "source": [
    "- Extraction of validation sample"
   ]
  },
  {
   "cell_type": "code",
   "execution_count": 16,
   "id": "e332cf5a",
   "metadata": {},
   "outputs": [
    {
     "name": "stdout",
     "output_type": "stream",
     "text": [
      "new training samples: 820\n",
      "number of validation samples: 102\n"
     ]
    }
   ],
   "source": [
    "#Extracting validation set\n",
    "standardized_x_train= standardized_x_train[:-102]\n",
    "y_train = y_train[:-102]\n",
    "\n",
    "x_val =standardized_x_train[-102:]\n",
    "y_val = y_train[-102:]\n",
    "\n",
    "print(\"new training samples:\",standardized_x_train.shape[0])\n",
    "\n",
    "print(\"number of validation samples:\",x_val.shape[0])"
   ]
  },
  {
   "cell_type": "code",
   "execution_count": 17,
   "id": "eb353f5b",
   "metadata": {},
   "outputs": [],
   "source": [
    "# convert to categorical label\n",
    "from keras.utils.np_utils import to_categorical \n",
    "\n",
    "Y_train = to_categorical(y_train, num_classes=None) \n",
    "Y_test = to_categorical(y_test, num_classes=None) \n",
    "Y_val = to_categorical(y_val, num_classes=None)"
   ]
  },
  {
   "cell_type": "markdown",
   "id": "8470f5ea",
   "metadata": {},
   "source": [
    "# Creating the model"
   ]
  },
  {
   "cell_type": "markdown",
   "id": "25dc992f",
   "metadata": {},
   "source": [
    "Deep neural network was configured here"
   ]
  },
  {
   "cell_type": "code",
   "execution_count": 18,
   "id": "e9aaa90e",
   "metadata": {},
   "outputs": [],
   "source": [
    "#configuration.....\n",
    "model = Sequential()\n",
    "model.add(Dense(16, input_dim=13, kernel_initializer='normal', kernel_regularizer=regularizers.l2(0.001), activation='relu'))\n",
    "model.add(Dropout(0.25))\n",
    "model.add(Dense(8, kernel_initializer='normal', kernel_regularizer=regularizers.l2(0.001), activation='relu'))\n",
    "model.add(Dropout(0.25))\n",
    "model.add(Dense(2, activation=\"softmax\"))"
   ]
  },
  {
   "cell_type": "code",
   "execution_count": 19,
   "id": "66e6d69b",
   "metadata": {
    "scrolled": false
   },
   "outputs": [
    {
     "name": "stdout",
     "output_type": "stream",
     "text": [
      "Model: \"sequential\"\n",
      "_________________________________________________________________\n",
      " Layer (type)                Output Shape              Param #   \n",
      "=================================================================\n",
      " dense (Dense)               (None, 16)                224       \n",
      "                                                                 \n",
      " dropout (Dropout)           (None, 16)                0         \n",
      "                                                                 \n",
      " dense_1 (Dense)             (None, 8)                 136       \n",
      "                                                                 \n",
      " dropout_1 (Dropout)         (None, 8)                 0         \n",
      "                                                                 \n",
      " dense_2 (Dense)             (None, 2)                 18        \n",
      "                                                                 \n",
      "=================================================================\n",
      "Total params: 378\n",
      "Trainable params: 378\n",
      "Non-trainable params: 0\n",
      "_________________________________________________________________\n"
     ]
    }
   ],
   "source": [
    "model.summary() #summary of the model configuration"
   ]
  },
  {
   "cell_type": "markdown",
   "id": "6f879f28",
   "metadata": {},
   "source": [
    "# Compile the model"
   ]
  },
  {
   "cell_type": "code",
   "execution_count": 20,
   "id": "92109d9d",
   "metadata": {},
   "outputs": [],
   "source": [
    "#compiling......\n",
    "opt = keras.optimizers.Adam(learning_rate=0.001)\n",
    "model.compile(loss=tf.keras.losses.CategoricalCrossentropy(from_logits=True), optimizer=opt,metrics=['accuracy'])"
   ]
  },
  {
   "cell_type": "markdown",
   "id": "1efb2859",
   "metadata": {},
   "source": [
    "# Train the model"
   ]
  },
  {
   "cell_type": "code",
   "execution_count": 21,
   "id": "bb692b46",
   "metadata": {},
   "outputs": [
    {
     "name": "stdout",
     "output_type": "stream",
     "text": [
      "Epoch 1/250\n",
      "82/82 [==============================] - 2s 7ms/step - loss: 0.6593 - accuracy: 0.7000 - val_loss: 0.5976 - val_accuracy: 0.7745\n",
      "Epoch 2/250\n",
      "82/82 [==============================] - 0s 3ms/step - loss: 0.4968 - accuracy: 0.8183 - val_loss: 0.4242 - val_accuracy: 0.8235\n",
      "Epoch 3/250\n",
      "82/82 [==============================] - 0s 3ms/step - loss: 0.3849 - accuracy: 0.8585 - val_loss: 0.3740 - val_accuracy: 0.8333\n",
      "Epoch 4/250\n",
      "82/82 [==============================] - 0s 3ms/step - loss: 0.3542 - accuracy: 0.8695 - val_loss: 0.3546 - val_accuracy: 0.8529\n",
      "Epoch 5/250\n",
      "82/82 [==============================] - 0s 3ms/step - loss: 0.3425 - accuracy: 0.8805 - val_loss: 0.3438 - val_accuracy: 0.9020\n",
      "Epoch 6/250\n",
      "82/82 [==============================] - 0s 3ms/step - loss: 0.3332 - accuracy: 0.8793 - val_loss: 0.3261 - val_accuracy: 0.8824\n",
      "Epoch 7/250\n",
      "82/82 [==============================] - 0s 3ms/step - loss: 0.3296 - accuracy: 0.8805 - val_loss: 0.3205 - val_accuracy: 0.9118\n",
      "Epoch 8/250\n",
      "82/82 [==============================] - 0s 3ms/step - loss: 0.3210 - accuracy: 0.8890 - val_loss: 0.3102 - val_accuracy: 0.9118\n",
      "Epoch 9/250\n",
      "82/82 [==============================] - 0s 4ms/step - loss: 0.3103 - accuracy: 0.8878 - val_loss: 0.3084 - val_accuracy: 0.9118\n",
      "Epoch 10/250\n",
      "82/82 [==============================] - 0s 3ms/step - loss: 0.3231 - accuracy: 0.8829 - val_loss: 0.2983 - val_accuracy: 0.9118\n",
      "Epoch 11/250\n",
      "82/82 [==============================] - 0s 3ms/step - loss: 0.3157 - accuracy: 0.8817 - val_loss: 0.2896 - val_accuracy: 0.9216\n",
      "Epoch 12/250\n",
      "82/82 [==============================] - 0s 4ms/step - loss: 0.3160 - accuracy: 0.8902 - val_loss: 0.2804 - val_accuracy: 0.9216\n",
      "Epoch 13/250\n",
      "82/82 [==============================] - 0s 3ms/step - loss: 0.3090 - accuracy: 0.8927 - val_loss: 0.2765 - val_accuracy: 0.9216\n",
      "Epoch 14/250\n",
      "82/82 [==============================] - 0s 3ms/step - loss: 0.2992 - accuracy: 0.9012 - val_loss: 0.2715 - val_accuracy: 0.9216\n",
      "Epoch 15/250\n",
      "82/82 [==============================] - 0s 3ms/step - loss: 0.2924 - accuracy: 0.8927 - val_loss: 0.2653 - val_accuracy: 0.9216\n",
      "Epoch 16/250\n",
      "82/82 [==============================] - 0s 3ms/step - loss: 0.2951 - accuracy: 0.9024 - val_loss: 0.2599 - val_accuracy: 0.9216\n",
      "Epoch 17/250\n",
      "82/82 [==============================] - 0s 3ms/step - loss: 0.3045 - accuracy: 0.8976 - val_loss: 0.2453 - val_accuracy: 0.9216\n",
      "Epoch 18/250\n",
      "82/82 [==============================] - 0s 3ms/step - loss: 0.3144 - accuracy: 0.8890 - val_loss: 0.2486 - val_accuracy: 0.9216\n",
      "Epoch 19/250\n",
      "82/82 [==============================] - 0s 3ms/step - loss: 0.2778 - accuracy: 0.9037 - val_loss: 0.2451 - val_accuracy: 0.9216\n",
      "Epoch 20/250\n",
      "82/82 [==============================] - 0s 3ms/step - loss: 0.2732 - accuracy: 0.9012 - val_loss: 0.2334 - val_accuracy: 0.9216\n",
      "Epoch 21/250\n",
      "82/82 [==============================] - 0s 3ms/step - loss: 0.2841 - accuracy: 0.8939 - val_loss: 0.2287 - val_accuracy: 0.9216\n",
      "Epoch 22/250\n",
      "82/82 [==============================] - 0s 3ms/step - loss: 0.2788 - accuracy: 0.9085 - val_loss: 0.2300 - val_accuracy: 0.9216\n",
      "Epoch 23/250\n",
      "82/82 [==============================] - 0s 3ms/step - loss: 0.2619 - accuracy: 0.9110 - val_loss: 0.2183 - val_accuracy: 0.9216\n",
      "Epoch 24/250\n",
      "82/82 [==============================] - 0s 3ms/step - loss: 0.2681 - accuracy: 0.9000 - val_loss: 0.2199 - val_accuracy: 0.9314\n",
      "Epoch 25/250\n",
      "82/82 [==============================] - 0s 3ms/step - loss: 0.2640 - accuracy: 0.9073 - val_loss: 0.2174 - val_accuracy: 0.9314\n",
      "Epoch 26/250\n",
      "82/82 [==============================] - 0s 3ms/step - loss: 0.2754 - accuracy: 0.9037 - val_loss: 0.2005 - val_accuracy: 0.9216\n",
      "Epoch 27/250\n",
      "82/82 [==============================] - 0s 3ms/step - loss: 0.2879 - accuracy: 0.9073 - val_loss: 0.2069 - val_accuracy: 0.9314\n",
      "Epoch 28/250\n",
      "82/82 [==============================] - 0s 3ms/step - loss: 0.2711 - accuracy: 0.9024 - val_loss: 0.2010 - val_accuracy: 0.9314\n",
      "Epoch 29/250\n",
      "82/82 [==============================] - 0s 3ms/step - loss: 0.2461 - accuracy: 0.9195 - val_loss: 0.1964 - val_accuracy: 0.9314\n",
      "Epoch 30/250\n",
      "82/82 [==============================] - 0s 3ms/step - loss: 0.2599 - accuracy: 0.9049 - val_loss: 0.1884 - val_accuracy: 0.9412\n",
      "Epoch 31/250\n",
      "82/82 [==============================] - 0s 3ms/step - loss: 0.2695 - accuracy: 0.9122 - val_loss: 0.1904 - val_accuracy: 0.9314\n",
      "Epoch 32/250\n",
      "82/82 [==============================] - 0s 3ms/step - loss: 0.2454 - accuracy: 0.9341 - val_loss: 0.1795 - val_accuracy: 0.9510\n",
      "Epoch 33/250\n",
      "82/82 [==============================] - 0s 3ms/step - loss: 0.2436 - accuracy: 0.9171 - val_loss: 0.1793 - val_accuracy: 0.9608\n",
      "Epoch 34/250\n",
      "82/82 [==============================] - 0s 3ms/step - loss: 0.2690 - accuracy: 0.9049 - val_loss: 0.1848 - val_accuracy: 0.9608\n",
      "Epoch 35/250\n",
      "82/82 [==============================] - 0s 3ms/step - loss: 0.2493 - accuracy: 0.9110 - val_loss: 0.1847 - val_accuracy: 0.9314\n",
      "Epoch 36/250\n",
      "82/82 [==============================] - 0s 3ms/step - loss: 0.2453 - accuracy: 0.9159 - val_loss: 0.1702 - val_accuracy: 0.9608\n",
      "Epoch 37/250\n",
      "82/82 [==============================] - 0s 3ms/step - loss: 0.2548 - accuracy: 0.9098 - val_loss: 0.1714 - val_accuracy: 0.9706\n",
      "Epoch 38/250\n",
      "82/82 [==============================] - 0s 3ms/step - loss: 0.2490 - accuracy: 0.9098 - val_loss: 0.1730 - val_accuracy: 0.9706\n",
      "Epoch 39/250\n",
      "82/82 [==============================] - 0s 3ms/step - loss: 0.2568 - accuracy: 0.9122 - val_loss: 0.1707 - val_accuracy: 0.9608\n",
      "Epoch 40/250\n",
      "82/82 [==============================] - 0s 3ms/step - loss: 0.2471 - accuracy: 0.8988 - val_loss: 0.1699 - val_accuracy: 0.9608\n",
      "Epoch 41/250\n",
      "82/82 [==============================] - 0s 3ms/step - loss: 0.2420 - accuracy: 0.9280 - val_loss: 0.1702 - val_accuracy: 0.9608\n",
      "Epoch 42/250\n",
      "82/82 [==============================] - 0s 3ms/step - loss: 0.2632 - accuracy: 0.9183 - val_loss: 0.1657 - val_accuracy: 0.9608\n",
      "Epoch 43/250\n",
      "82/82 [==============================] - 0s 3ms/step - loss: 0.2570 - accuracy: 0.9159 - val_loss: 0.1652 - val_accuracy: 0.9706\n",
      "Epoch 44/250\n",
      "82/82 [==============================] - 0s 3ms/step - loss: 0.2371 - accuracy: 0.9159 - val_loss: 0.1617 - val_accuracy: 0.9608\n",
      "Epoch 45/250\n",
      "82/82 [==============================] - 0s 3ms/step - loss: 0.2554 - accuracy: 0.9098 - val_loss: 0.1574 - val_accuracy: 0.9706\n",
      "Epoch 46/250\n",
      "82/82 [==============================] - 0s 3ms/step - loss: 0.2377 - accuracy: 0.9171 - val_loss: 0.1549 - val_accuracy: 0.9608\n",
      "Epoch 47/250\n",
      "82/82 [==============================] - 0s 3ms/step - loss: 0.2415 - accuracy: 0.9098 - val_loss: 0.1508 - val_accuracy: 0.9706\n",
      "Epoch 48/250\n",
      "82/82 [==============================] - 0s 3ms/step - loss: 0.2359 - accuracy: 0.9183 - val_loss: 0.1490 - val_accuracy: 0.9804\n",
      "Epoch 49/250\n",
      "82/82 [==============================] - 0s 3ms/step - loss: 0.2310 - accuracy: 0.9220 - val_loss: 0.1535 - val_accuracy: 0.9804\n",
      "Epoch 50/250\n",
      "82/82 [==============================] - 0s 3ms/step - loss: 0.2349 - accuracy: 0.9207 - val_loss: 0.1468 - val_accuracy: 0.9804\n",
      "Epoch 51/250\n",
      "82/82 [==============================] - 0s 3ms/step - loss: 0.2208 - accuracy: 0.9244 - val_loss: 0.1488 - val_accuracy: 0.9608\n",
      "Epoch 52/250\n",
      "82/82 [==============================] - 0s 3ms/step - loss: 0.2246 - accuracy: 0.9195 - val_loss: 0.1426 - val_accuracy: 0.9706\n",
      "Epoch 53/250\n",
      "82/82 [==============================] - 0s 3ms/step - loss: 0.2172 - accuracy: 0.9268 - val_loss: 0.1351 - val_accuracy: 0.9706\n",
      "Epoch 54/250\n",
      "82/82 [==============================] - 0s 3ms/step - loss: 0.2348 - accuracy: 0.9244 - val_loss: 0.1423 - val_accuracy: 0.9706\n",
      "Epoch 55/250\n",
      "82/82 [==============================] - 0s 2ms/step - loss: 0.2447 - accuracy: 0.9171 - val_loss: 0.1452 - val_accuracy: 0.9706\n",
      "Epoch 56/250\n",
      "82/82 [==============================] - 0s 3ms/step - loss: 0.2307 - accuracy: 0.9329 - val_loss: 0.1482 - val_accuracy: 0.9706\n",
      "Epoch 57/250\n",
      "82/82 [==============================] - 0s 3ms/step - loss: 0.2235 - accuracy: 0.9232 - val_loss: 0.1428 - val_accuracy: 0.9706\n",
      "Epoch 58/250\n",
      "82/82 [==============================] - 0s 3ms/step - loss: 0.2398 - accuracy: 0.9244 - val_loss: 0.1389 - val_accuracy: 0.9706\n"
     ]
    },
    {
     "name": "stdout",
     "output_type": "stream",
     "text": [
      "Epoch 59/250\n",
      "82/82 [==============================] - 0s 3ms/step - loss: 0.2224 - accuracy: 0.9256 - val_loss: 0.1395 - val_accuracy: 0.9706\n",
      "Epoch 60/250\n",
      "82/82 [==============================] - 0s 3ms/step - loss: 0.2167 - accuracy: 0.9232 - val_loss: 0.1384 - val_accuracy: 0.9804\n",
      "Epoch 61/250\n",
      "82/82 [==============================] - 0s 3ms/step - loss: 0.2177 - accuracy: 0.9256 - val_loss: 0.1314 - val_accuracy: 0.9706\n",
      "Epoch 62/250\n",
      "82/82 [==============================] - 0s 3ms/step - loss: 0.2246 - accuracy: 0.9195 - val_loss: 0.1324 - val_accuracy: 0.9804\n",
      "Epoch 63/250\n",
      "82/82 [==============================] - 0s 3ms/step - loss: 0.2167 - accuracy: 0.9244 - val_loss: 0.1253 - val_accuracy: 0.9804\n",
      "Epoch 64/250\n",
      "82/82 [==============================] - 0s 3ms/step - loss: 0.2275 - accuracy: 0.9293 - val_loss: 0.1296 - val_accuracy: 0.9706\n",
      "Epoch 65/250\n",
      "82/82 [==============================] - 0s 3ms/step - loss: 0.2332 - accuracy: 0.9268 - val_loss: 0.1300 - val_accuracy: 0.9706\n",
      "Epoch 66/250\n",
      "82/82 [==============================] - 0s 3ms/step - loss: 0.2254 - accuracy: 0.9183 - val_loss: 0.1312 - val_accuracy: 0.9804\n",
      "Epoch 67/250\n",
      "82/82 [==============================] - 0s 3ms/step - loss: 0.2168 - accuracy: 0.9232 - val_loss: 0.1294 - val_accuracy: 0.9804\n",
      "Epoch 68/250\n",
      "82/82 [==============================] - 0s 3ms/step - loss: 0.2296 - accuracy: 0.9146 - val_loss: 0.1296 - val_accuracy: 0.9804\n",
      "Epoch 69/250\n",
      "82/82 [==============================] - 0s 3ms/step - loss: 0.2256 - accuracy: 0.9232 - val_loss: 0.1299 - val_accuracy: 0.9804\n",
      "Epoch 70/250\n",
      "82/82 [==============================] - 0s 3ms/step - loss: 0.2178 - accuracy: 0.9256 - val_loss: 0.1269 - val_accuracy: 0.9804\n",
      "Epoch 71/250\n",
      "82/82 [==============================] - 0s 3ms/step - loss: 0.2096 - accuracy: 0.9256 - val_loss: 0.1266 - val_accuracy: 0.9804\n",
      "Epoch 72/250\n",
      "82/82 [==============================] - 0s 3ms/step - loss: 0.2165 - accuracy: 0.9366 - val_loss: 0.1237 - val_accuracy: 0.9804\n",
      "Epoch 73/250\n",
      "82/82 [==============================] - 0s 3ms/step - loss: 0.2088 - accuracy: 0.9293 - val_loss: 0.1261 - val_accuracy: 0.9706\n",
      "Epoch 74/250\n",
      "82/82 [==============================] - 0s 3ms/step - loss: 0.2130 - accuracy: 0.9232 - val_loss: 0.1190 - val_accuracy: 0.9804\n",
      "Epoch 75/250\n",
      "82/82 [==============================] - 0s 3ms/step - loss: 0.2017 - accuracy: 0.9256 - val_loss: 0.1197 - val_accuracy: 0.9804\n",
      "Epoch 76/250\n",
      "82/82 [==============================] - 0s 3ms/step - loss: 0.2125 - accuracy: 0.9341 - val_loss: 0.1210 - val_accuracy: 0.9804\n",
      "Epoch 77/250\n",
      "82/82 [==============================] - 0s 3ms/step - loss: 0.1936 - accuracy: 0.9378 - val_loss: 0.1159 - val_accuracy: 0.9804\n",
      "Epoch 78/250\n",
      "82/82 [==============================] - 0s 3ms/step - loss: 0.2003 - accuracy: 0.9244 - val_loss: 0.1116 - val_accuracy: 0.9804\n",
      "Epoch 79/250\n",
      "82/82 [==============================] - 0s 3ms/step - loss: 0.2088 - accuracy: 0.9317 - val_loss: 0.1188 - val_accuracy: 0.9804\n",
      "Epoch 80/250\n",
      "82/82 [==============================] - 0s 3ms/step - loss: 0.2228 - accuracy: 0.9256 - val_loss: 0.1206 - val_accuracy: 0.9804\n",
      "Epoch 81/250\n",
      "82/82 [==============================] - 0s 3ms/step - loss: 0.1955 - accuracy: 0.9317 - val_loss: 0.1180 - val_accuracy: 0.9804\n",
      "Epoch 82/250\n",
      "82/82 [==============================] - 0s 3ms/step - loss: 0.2032 - accuracy: 0.9280 - val_loss: 0.1283 - val_accuracy: 0.9706\n",
      "Epoch 83/250\n",
      "82/82 [==============================] - 0s 3ms/step - loss: 0.2101 - accuracy: 0.9268 - val_loss: 0.1163 - val_accuracy: 0.9804\n",
      "Epoch 84/250\n",
      "82/82 [==============================] - 0s 3ms/step - loss: 0.2004 - accuracy: 0.9317 - val_loss: 0.1116 - val_accuracy: 0.9804\n",
      "Epoch 85/250\n",
      "82/82 [==============================] - 0s 3ms/step - loss: 0.2033 - accuracy: 0.9415 - val_loss: 0.1134 - val_accuracy: 0.9804\n",
      "Epoch 86/250\n",
      "82/82 [==============================] - 0s 3ms/step - loss: 0.1893 - accuracy: 0.9427 - val_loss: 0.1073 - val_accuracy: 0.9804\n",
      "Epoch 87/250\n",
      "82/82 [==============================] - 0s 3ms/step - loss: 0.1947 - accuracy: 0.9402 - val_loss: 0.1148 - val_accuracy: 0.9804\n",
      "Epoch 88/250\n",
      "82/82 [==============================] - 0s 3ms/step - loss: 0.2266 - accuracy: 0.9220 - val_loss: 0.1082 - val_accuracy: 0.9804\n",
      "Epoch 89/250\n",
      "82/82 [==============================] - 0s 3ms/step - loss: 0.2063 - accuracy: 0.9305 - val_loss: 0.1099 - val_accuracy: 0.9804\n",
      "Epoch 90/250\n",
      "82/82 [==============================] - 0s 3ms/step - loss: 0.1945 - accuracy: 0.9354 - val_loss: 0.1063 - val_accuracy: 0.9804\n",
      "Epoch 91/250\n",
      "82/82 [==============================] - 0s 3ms/step - loss: 0.2070 - accuracy: 0.9305 - val_loss: 0.1047 - val_accuracy: 0.9804\n",
      "Epoch 92/250\n",
      "82/82 [==============================] - 0s 3ms/step - loss: 0.1951 - accuracy: 0.9329 - val_loss: 0.1065 - val_accuracy: 0.9804\n",
      "Epoch 93/250\n",
      "82/82 [==============================] - 0s 3ms/step - loss: 0.2200 - accuracy: 0.9146 - val_loss: 0.1081 - val_accuracy: 0.9804\n",
      "Epoch 94/250\n",
      "82/82 [==============================] - 0s 3ms/step - loss: 0.2066 - accuracy: 0.9305 - val_loss: 0.1092 - val_accuracy: 0.9902\n",
      "Epoch 95/250\n",
      "82/82 [==============================] - 0s 3ms/step - loss: 0.2071 - accuracy: 0.9293 - val_loss: 0.1064 - val_accuracy: 0.9804\n",
      "Epoch 96/250\n",
      "82/82 [==============================] - 0s 3ms/step - loss: 0.1971 - accuracy: 0.9366 - val_loss: 0.1038 - val_accuracy: 0.9804\n",
      "Epoch 97/250\n",
      "82/82 [==============================] - 0s 3ms/step - loss: 0.2089 - accuracy: 0.9329 - val_loss: 0.1087 - val_accuracy: 0.9804\n",
      "Epoch 98/250\n",
      "82/82 [==============================] - 0s 3ms/step - loss: 0.1861 - accuracy: 0.9402 - val_loss: 0.1048 - val_accuracy: 0.9804\n",
      "Epoch 99/250\n",
      "82/82 [==============================] - 0s 3ms/step - loss: 0.2070 - accuracy: 0.9220 - val_loss: 0.1083 - val_accuracy: 0.9804\n",
      "Epoch 100/250\n",
      "82/82 [==============================] - 0s 3ms/step - loss: 0.1792 - accuracy: 0.9463 - val_loss: 0.1013 - val_accuracy: 0.9804\n",
      "Epoch 101/250\n",
      "82/82 [==============================] - 0s 3ms/step - loss: 0.1974 - accuracy: 0.9341 - val_loss: 0.0973 - val_accuracy: 0.9804\n",
      "Epoch 102/250\n",
      "82/82 [==============================] - 0s 3ms/step - loss: 0.2006 - accuracy: 0.9354 - val_loss: 0.0992 - val_accuracy: 0.9804\n",
      "Epoch 103/250\n",
      "82/82 [==============================] - 0s 3ms/step - loss: 0.2079 - accuracy: 0.9317 - val_loss: 0.1058 - val_accuracy: 0.9804\n",
      "Epoch 104/250\n",
      "82/82 [==============================] - 0s 3ms/step - loss: 0.2107 - accuracy: 0.9317 - val_loss: 0.0997 - val_accuracy: 0.9804\n",
      "Epoch 105/250\n",
      "82/82 [==============================] - 0s 3ms/step - loss: 0.1978 - accuracy: 0.9317 - val_loss: 0.1023 - val_accuracy: 0.9902\n",
      "Epoch 106/250\n",
      "82/82 [==============================] - 0s 3ms/step - loss: 0.1873 - accuracy: 0.9427 - val_loss: 0.0959 - val_accuracy: 0.9902\n",
      "Epoch 107/250\n",
      "82/82 [==============================] - 0s 3ms/step - loss: 0.1855 - accuracy: 0.9427 - val_loss: 0.0953 - val_accuracy: 0.9804\n",
      "Epoch 108/250\n",
      "82/82 [==============================] - 0s 3ms/step - loss: 0.1803 - accuracy: 0.9415 - val_loss: 0.0928 - val_accuracy: 0.9804\n",
      "Epoch 109/250\n",
      "82/82 [==============================] - 0s 3ms/step - loss: 0.1757 - accuracy: 0.9341 - val_loss: 0.0920 - val_accuracy: 0.9902\n",
      "Epoch 110/250\n",
      "82/82 [==============================] - 0s 3ms/step - loss: 0.1920 - accuracy: 0.9341 - val_loss: 0.0931 - val_accuracy: 0.9804\n",
      "Epoch 111/250\n",
      "82/82 [==============================] - 0s 3ms/step - loss: 0.1757 - accuracy: 0.9366 - val_loss: 0.0972 - val_accuracy: 0.9804\n",
      "Epoch 112/250\n",
      "82/82 [==============================] - 0s 3ms/step - loss: 0.2025 - accuracy: 0.9329 - val_loss: 0.1030 - val_accuracy: 0.9804\n",
      "Epoch 113/250\n",
      "82/82 [==============================] - 0s 3ms/step - loss: 0.1808 - accuracy: 0.9439 - val_loss: 0.0966 - val_accuracy: 0.9804\n",
      "Epoch 114/250\n",
      "82/82 [==============================] - 0s 3ms/step - loss: 0.1784 - accuracy: 0.9390 - val_loss: 0.0914 - val_accuracy: 0.9902\n",
      "Epoch 115/250\n",
      "82/82 [==============================] - 0s 3ms/step - loss: 0.2171 - accuracy: 0.9244 - val_loss: 0.0889 - val_accuracy: 0.9902\n",
      "Epoch 116/250\n"
     ]
    },
    {
     "name": "stdout",
     "output_type": "stream",
     "text": [
      "82/82 [==============================] - 0s 3ms/step - loss: 0.1799 - accuracy: 0.9402 - val_loss: 0.0897 - val_accuracy: 0.9804\n",
      "Epoch 117/250\n",
      "82/82 [==============================] - 0s 3ms/step - loss: 0.1877 - accuracy: 0.9427 - val_loss: 0.0949 - val_accuracy: 0.9804\n",
      "Epoch 118/250\n",
      "82/82 [==============================] - 0s 3ms/step - loss: 0.1687 - accuracy: 0.9439 - val_loss: 0.0899 - val_accuracy: 0.9902\n",
      "Epoch 119/250\n",
      "82/82 [==============================] - 0s 3ms/step - loss: 0.1895 - accuracy: 0.9341 - val_loss: 0.0913 - val_accuracy: 0.9902\n",
      "Epoch 120/250\n",
      "82/82 [==============================] - 0s 3ms/step - loss: 0.2064 - accuracy: 0.9341 - val_loss: 0.0951 - val_accuracy: 0.9902\n",
      "Epoch 121/250\n",
      "82/82 [==============================] - 0s 3ms/step - loss: 0.1784 - accuracy: 0.9427 - val_loss: 0.0964 - val_accuracy: 0.9804\n",
      "Epoch 122/250\n",
      "82/82 [==============================] - 0s 3ms/step - loss: 0.1912 - accuracy: 0.9354 - val_loss: 0.0914 - val_accuracy: 0.9804\n",
      "Epoch 123/250\n",
      "82/82 [==============================] - 0s 3ms/step - loss: 0.1899 - accuracy: 0.9341 - val_loss: 0.0908 - val_accuracy: 0.9804\n",
      "Epoch 124/250\n",
      "82/82 [==============================] - 0s 3ms/step - loss: 0.1766 - accuracy: 0.9415 - val_loss: 0.0851 - val_accuracy: 0.9902\n",
      "Epoch 125/250\n",
      "82/82 [==============================] - 0s 3ms/step - loss: 0.2069 - accuracy: 0.9305 - val_loss: 0.0908 - val_accuracy: 0.9902\n",
      "Epoch 126/250\n",
      "82/82 [==============================] - 0s 3ms/step - loss: 0.1785 - accuracy: 0.9402 - val_loss: 0.0853 - val_accuracy: 0.9902\n",
      "Epoch 127/250\n",
      "82/82 [==============================] - 0s 3ms/step - loss: 0.1909 - accuracy: 0.9390 - val_loss: 0.0968 - val_accuracy: 0.9804\n",
      "Epoch 128/250\n",
      "82/82 [==============================] - 0s 3ms/step - loss: 0.1824 - accuracy: 0.9439 - val_loss: 0.0931 - val_accuracy: 0.9902\n",
      "Epoch 129/250\n",
      "82/82 [==============================] - 0s 3ms/step - loss: 0.1809 - accuracy: 0.9390 - val_loss: 0.0888 - val_accuracy: 0.9902\n",
      "Epoch 130/250\n",
      "82/82 [==============================] - 0s 3ms/step - loss: 0.1790 - accuracy: 0.9402 - val_loss: 0.0887 - val_accuracy: 0.9902\n",
      "Epoch 131/250\n",
      "82/82 [==============================] - 0s 3ms/step - loss: 0.1969 - accuracy: 0.9390 - val_loss: 0.0911 - val_accuracy: 0.9902\n",
      "Epoch 132/250\n",
      "82/82 [==============================] - 0s 2ms/step - loss: 0.1742 - accuracy: 0.9476 - val_loss: 0.0858 - val_accuracy: 0.9902\n",
      "Epoch 133/250\n",
      "82/82 [==============================] - 0s 3ms/step - loss: 0.1741 - accuracy: 0.9402 - val_loss: 0.0947 - val_accuracy: 0.9902\n",
      "Epoch 134/250\n",
      "82/82 [==============================] - 0s 3ms/step - loss: 0.1875 - accuracy: 0.9354 - val_loss: 0.0882 - val_accuracy: 0.9902\n",
      "Epoch 135/250\n",
      "82/82 [==============================] - 0s 3ms/step - loss: 0.1789 - accuracy: 0.9451 - val_loss: 0.0929 - val_accuracy: 0.9706\n",
      "Epoch 136/250\n",
      "82/82 [==============================] - 0s 3ms/step - loss: 0.1798 - accuracy: 0.9402 - val_loss: 0.0939 - val_accuracy: 0.9902\n",
      "Epoch 137/250\n",
      "82/82 [==============================] - 0s 3ms/step - loss: 0.1826 - accuracy: 0.9439 - val_loss: 0.0917 - val_accuracy: 0.9902\n",
      "Epoch 138/250\n",
      "82/82 [==============================] - 0s 3ms/step - loss: 0.1749 - accuracy: 0.9415 - val_loss: 0.0890 - val_accuracy: 0.9902\n",
      "Epoch 139/250\n",
      "82/82 [==============================] - 0s 3ms/step - loss: 0.2152 - accuracy: 0.9427 - val_loss: 0.0923 - val_accuracy: 0.9902\n",
      "Epoch 140/250\n",
      "82/82 [==============================] - 0s 3ms/step - loss: 0.1791 - accuracy: 0.9451 - val_loss: 0.0906 - val_accuracy: 0.9804\n",
      "Epoch 141/250\n",
      "82/82 [==============================] - 0s 3ms/step - loss: 0.1795 - accuracy: 0.9415 - val_loss: 0.0928 - val_accuracy: 0.9804\n",
      "Epoch 142/250\n",
      "82/82 [==============================] - 0s 3ms/step - loss: 0.1733 - accuracy: 0.9476 - val_loss: 0.0939 - val_accuracy: 0.9804\n",
      "Epoch 143/250\n",
      "82/82 [==============================] - 0s 3ms/step - loss: 0.1931 - accuracy: 0.9402 - val_loss: 0.0885 - val_accuracy: 0.9902\n",
      "Epoch 144/250\n",
      "82/82 [==============================] - 0s 3ms/step - loss: 0.1983 - accuracy: 0.9256 - val_loss: 0.0936 - val_accuracy: 0.9902\n",
      "Epoch 145/250\n",
      "82/82 [==============================] - 0s 3ms/step - loss: 0.1779 - accuracy: 0.9402 - val_loss: 0.0891 - val_accuracy: 0.9902\n",
      "Epoch 146/250\n",
      "82/82 [==============================] - 0s 3ms/step - loss: 0.2050 - accuracy: 0.9378 - val_loss: 0.0889 - val_accuracy: 0.9902\n",
      "Epoch 147/250\n",
      "82/82 [==============================] - 0s 3ms/step - loss: 0.1967 - accuracy: 0.9366 - val_loss: 0.0996 - val_accuracy: 0.9902\n",
      "Epoch 148/250\n",
      "82/82 [==============================] - 0s 3ms/step - loss: 0.1695 - accuracy: 0.9378 - val_loss: 0.0868 - val_accuracy: 0.9902\n",
      "Epoch 149/250\n",
      "82/82 [==============================] - 0s 3ms/step - loss: 0.1743 - accuracy: 0.9451 - val_loss: 0.0888 - val_accuracy: 0.9902\n",
      "Epoch 150/250\n",
      "82/82 [==============================] - 0s 3ms/step - loss: 0.1852 - accuracy: 0.9402 - val_loss: 0.0856 - val_accuracy: 0.9902\n",
      "Epoch 151/250\n",
      "82/82 [==============================] - 0s 3ms/step - loss: 0.1847 - accuracy: 0.9415 - val_loss: 0.0841 - val_accuracy: 0.9902\n",
      "Epoch 152/250\n",
      "82/82 [==============================] - 0s 3ms/step - loss: 0.1994 - accuracy: 0.9390 - val_loss: 0.0894 - val_accuracy: 0.9902\n",
      "Epoch 153/250\n",
      "82/82 [==============================] - 0s 3ms/step - loss: 0.1628 - accuracy: 0.9415 - val_loss: 0.0886 - val_accuracy: 0.9902\n",
      "Epoch 154/250\n",
      "82/82 [==============================] - 0s 3ms/step - loss: 0.1624 - accuracy: 0.9476 - val_loss: 0.0832 - val_accuracy: 0.9902\n",
      "Epoch 155/250\n",
      "82/82 [==============================] - 0s 3ms/step - loss: 0.1940 - accuracy: 0.9354 - val_loss: 0.0847 - val_accuracy: 0.9902\n",
      "Epoch 156/250\n",
      "82/82 [==============================] - 0s 3ms/step - loss: 0.1664 - accuracy: 0.9451 - val_loss: 0.0869 - val_accuracy: 0.9804\n",
      "Epoch 157/250\n",
      "82/82 [==============================] - 0s 3ms/step - loss: 0.1634 - accuracy: 0.9476 - val_loss: 0.0851 - val_accuracy: 0.9804\n",
      "Epoch 158/250\n",
      "82/82 [==============================] - 0s 3ms/step - loss: 0.1825 - accuracy: 0.9402 - val_loss: 0.0829 - val_accuracy: 0.9804\n",
      "Epoch 159/250\n",
      "82/82 [==============================] - 0s 3ms/step - loss: 0.1802 - accuracy: 0.9366 - val_loss: 0.0852 - val_accuracy: 0.9902\n",
      "Epoch 160/250\n",
      "82/82 [==============================] - 0s 3ms/step - loss: 0.2056 - accuracy: 0.9366 - val_loss: 0.0879 - val_accuracy: 0.9902\n",
      "Epoch 161/250\n",
      "82/82 [==============================] - 0s 3ms/step - loss: 0.1989 - accuracy: 0.9256 - val_loss: 0.0888 - val_accuracy: 0.9804\n",
      "Epoch 162/250\n",
      "82/82 [==============================] - 0s 3ms/step - loss: 0.1719 - accuracy: 0.9415 - val_loss: 0.0908 - val_accuracy: 0.9804\n",
      "Epoch 163/250\n",
      "82/82 [==============================] - 0s 3ms/step - loss: 0.1750 - accuracy: 0.9476 - val_loss: 0.0853 - val_accuracy: 0.9902\n",
      "Epoch 164/250\n",
      "82/82 [==============================] - 0s 3ms/step - loss: 0.1778 - accuracy: 0.9451 - val_loss: 0.0811 - val_accuracy: 0.9902\n",
      "Epoch 165/250\n",
      "82/82 [==============================] - 0s 3ms/step - loss: 0.1719 - accuracy: 0.9488 - val_loss: 0.0798 - val_accuracy: 0.9902\n",
      "Epoch 166/250\n",
      "82/82 [==============================] - 0s 3ms/step - loss: 0.1868 - accuracy: 0.9415 - val_loss: 0.0848 - val_accuracy: 0.9902\n",
      "Epoch 167/250\n",
      "82/82 [==============================] - 0s 3ms/step - loss: 0.1682 - accuracy: 0.9415 - val_loss: 0.0830 - val_accuracy: 0.9902\n",
      "Epoch 168/250\n",
      "82/82 [==============================] - 0s 3ms/step - loss: 0.1723 - accuracy: 0.9378 - val_loss: 0.0831 - val_accuracy: 0.9902\n",
      "Epoch 169/250\n",
      "82/82 [==============================] - 0s 3ms/step - loss: 0.1901 - accuracy: 0.9305 - val_loss: 0.0796 - val_accuracy: 0.9902\n",
      "Epoch 170/250\n",
      "82/82 [==============================] - 0s 3ms/step - loss: 0.1737 - accuracy: 0.9415 - val_loss: 0.0806 - val_accuracy: 0.9902\n",
      "Epoch 171/250\n",
      "82/82 [==============================] - 0s 3ms/step - loss: 0.1660 - accuracy: 0.9402 - val_loss: 0.0773 - val_accuracy: 0.9902\n",
      "Epoch 172/250\n",
      "82/82 [==============================] - 0s 3ms/step - loss: 0.1761 - accuracy: 0.9354 - val_loss: 0.0822 - val_accuracy: 0.9902\n",
      "Epoch 173/250\n"
     ]
    },
    {
     "name": "stdout",
     "output_type": "stream",
     "text": [
      "82/82 [==============================] - 0s 3ms/step - loss: 0.1789 - accuracy: 0.9378 - val_loss: 0.0860 - val_accuracy: 0.9804\n",
      "Epoch 174/250\n",
      "82/82 [==============================] - 0s 3ms/step - loss: 0.1723 - accuracy: 0.9390 - val_loss: 0.0776 - val_accuracy: 0.9804\n",
      "Epoch 175/250\n",
      "82/82 [==============================] - 0s 3ms/step - loss: 0.1721 - accuracy: 0.9378 - val_loss: 0.0761 - val_accuracy: 0.9902\n",
      "Epoch 176/250\n",
      "82/82 [==============================] - 0s 3ms/step - loss: 0.1593 - accuracy: 0.9476 - val_loss: 0.0769 - val_accuracy: 0.9902\n",
      "Epoch 177/250\n",
      "82/82 [==============================] - 0s 3ms/step - loss: 0.1626 - accuracy: 0.9354 - val_loss: 0.0802 - val_accuracy: 0.9902\n",
      "Epoch 178/250\n",
      "82/82 [==============================] - 0s 3ms/step - loss: 0.1739 - accuracy: 0.9390 - val_loss: 0.0775 - val_accuracy: 0.9804\n",
      "Epoch 179/250\n",
      "82/82 [==============================] - 0s 3ms/step - loss: 0.1869 - accuracy: 0.9329 - val_loss: 0.0810 - val_accuracy: 0.9804\n",
      "Epoch 180/250\n",
      "82/82 [==============================] - 0s 3ms/step - loss: 0.1516 - accuracy: 0.9512 - val_loss: 0.0751 - val_accuracy: 0.9902\n",
      "Epoch 181/250\n",
      "82/82 [==============================] - 0s 3ms/step - loss: 0.1896 - accuracy: 0.9451 - val_loss: 0.0812 - val_accuracy: 0.9902\n",
      "Epoch 182/250\n",
      "82/82 [==============================] - 0s 3ms/step - loss: 0.1573 - accuracy: 0.9512 - val_loss: 0.0779 - val_accuracy: 0.9902\n",
      "Epoch 183/250\n",
      "82/82 [==============================] - 0s 3ms/step - loss: 0.1695 - accuracy: 0.9476 - val_loss: 0.0774 - val_accuracy: 0.9902\n",
      "Epoch 184/250\n",
      "82/82 [==============================] - 0s 3ms/step - loss: 0.1753 - accuracy: 0.9354 - val_loss: 0.0740 - val_accuracy: 0.9902\n",
      "Epoch 185/250\n",
      "82/82 [==============================] - 0s 3ms/step - loss: 0.1810 - accuracy: 0.9341 - val_loss: 0.0735 - val_accuracy: 0.9902\n",
      "Epoch 186/250\n",
      "82/82 [==============================] - 0s 3ms/step - loss: 0.1611 - accuracy: 0.9439 - val_loss: 0.0777 - val_accuracy: 0.9902\n",
      "Epoch 187/250\n",
      "82/82 [==============================] - 0s 3ms/step - loss: 0.1603 - accuracy: 0.9463 - val_loss: 0.0751 - val_accuracy: 0.9902\n",
      "Epoch 188/250\n",
      "82/82 [==============================] - 0s 3ms/step - loss: 0.1656 - accuracy: 0.9488 - val_loss: 0.0790 - val_accuracy: 0.9902\n",
      "Epoch 189/250\n",
      "82/82 [==============================] - 0s 3ms/step - loss: 0.1650 - accuracy: 0.9439 - val_loss: 0.0738 - val_accuracy: 0.9902\n",
      "Epoch 190/250\n",
      "82/82 [==============================] - 0s 3ms/step - loss: 0.1739 - accuracy: 0.9366 - val_loss: 0.0757 - val_accuracy: 0.9902\n",
      "Epoch 191/250\n",
      "82/82 [==============================] - 0s 3ms/step - loss: 0.1800 - accuracy: 0.9427 - val_loss: 0.0808 - val_accuracy: 0.9902\n",
      "Epoch 192/250\n",
      "82/82 [==============================] - 0s 3ms/step - loss: 0.1619 - accuracy: 0.9415 - val_loss: 0.0729 - val_accuracy: 0.9902\n",
      "Epoch 193/250\n",
      "82/82 [==============================] - 0s 3ms/step - loss: 0.1654 - accuracy: 0.9439 - val_loss: 0.0744 - val_accuracy: 0.9902\n",
      "Epoch 194/250\n",
      "82/82 [==============================] - 0s 3ms/step - loss: 0.1877 - accuracy: 0.9439 - val_loss: 0.0765 - val_accuracy: 0.9902\n",
      "Epoch 195/250\n",
      "82/82 [==============================] - 0s 3ms/step - loss: 0.1691 - accuracy: 0.9439 - val_loss: 0.0786 - val_accuracy: 0.9902\n",
      "Epoch 196/250\n",
      "82/82 [==============================] - 0s 3ms/step - loss: 0.1587 - accuracy: 0.9427 - val_loss: 0.0761 - val_accuracy: 0.9902\n",
      "Epoch 197/250\n",
      "82/82 [==============================] - 0s 3ms/step - loss: 0.1723 - accuracy: 0.9415 - val_loss: 0.0814 - val_accuracy: 0.9902\n",
      "Epoch 198/250\n",
      "82/82 [==============================] - 0s 3ms/step - loss: 0.1767 - accuracy: 0.9402 - val_loss: 0.0777 - val_accuracy: 0.9902\n",
      "Epoch 199/250\n",
      "82/82 [==============================] - 0s 3ms/step - loss: 0.1847 - accuracy: 0.9329 - val_loss: 0.0813 - val_accuracy: 0.9902\n",
      "Epoch 200/250\n",
      "82/82 [==============================] - 0s 3ms/step - loss: 0.1649 - accuracy: 0.9439 - val_loss: 0.0757 - val_accuracy: 0.9902\n",
      "Epoch 201/250\n",
      "82/82 [==============================] - 0s 3ms/step - loss: 0.1571 - accuracy: 0.9451 - val_loss: 0.0742 - val_accuracy: 0.9902\n",
      "Epoch 202/250\n",
      "82/82 [==============================] - 0s 3ms/step - loss: 0.1690 - accuracy: 0.9500 - val_loss: 0.0773 - val_accuracy: 0.9902\n",
      "Epoch 203/250\n",
      "82/82 [==============================] - 0s 3ms/step - loss: 0.1490 - accuracy: 0.9439 - val_loss: 0.0710 - val_accuracy: 0.9902\n",
      "Epoch 204/250\n",
      "82/82 [==============================] - 0s 3ms/step - loss: 0.1816 - accuracy: 0.9415 - val_loss: 0.0694 - val_accuracy: 0.9902\n",
      "Epoch 205/250\n",
      "82/82 [==============================] - 0s 3ms/step - loss: 0.1716 - accuracy: 0.9390 - val_loss: 0.0735 - val_accuracy: 0.9804\n",
      "Epoch 206/250\n",
      "82/82 [==============================] - 0s 3ms/step - loss: 0.1801 - accuracy: 0.9402 - val_loss: 0.0733 - val_accuracy: 0.9902\n",
      "Epoch 207/250\n",
      "82/82 [==============================] - 0s 3ms/step - loss: 0.1686 - accuracy: 0.9378 - val_loss: 0.0814 - val_accuracy: 0.9902\n",
      "Epoch 208/250\n",
      "82/82 [==============================] - 0s 3ms/step - loss: 0.1540 - accuracy: 0.9512 - val_loss: 0.0716 - val_accuracy: 0.9902\n",
      "Epoch 209/250\n",
      "82/82 [==============================] - 0s 3ms/step - loss: 0.1715 - accuracy: 0.9500 - val_loss: 0.0742 - val_accuracy: 0.9902\n",
      "Epoch 210/250\n",
      "82/82 [==============================] - 0s 3ms/step - loss: 0.1438 - accuracy: 0.9427 - val_loss: 0.0687 - val_accuracy: 0.9902\n",
      "Epoch 211/250\n",
      "82/82 [==============================] - 0s 3ms/step - loss: 0.1745 - accuracy: 0.9378 - val_loss: 0.0727 - val_accuracy: 0.9902\n",
      "Epoch 212/250\n",
      "82/82 [==============================] - 0s 3ms/step - loss: 0.1758 - accuracy: 0.9439 - val_loss: 0.0752 - val_accuracy: 0.9902\n",
      "Epoch 213/250\n",
      "82/82 [==============================] - 0s 3ms/step - loss: 0.1607 - accuracy: 0.9439 - val_loss: 0.0738 - val_accuracy: 0.9902\n",
      "Epoch 214/250\n",
      "82/82 [==============================] - 0s 3ms/step - loss: 0.1698 - accuracy: 0.9439 - val_loss: 0.0788 - val_accuracy: 0.9804\n",
      "Epoch 215/250\n",
      "82/82 [==============================] - 0s 3ms/step - loss: 0.1870 - accuracy: 0.9378 - val_loss: 0.0745 - val_accuracy: 0.9902\n",
      "Epoch 216/250\n",
      "82/82 [==============================] - 0s 3ms/step - loss: 0.1501 - accuracy: 0.9573 - val_loss: 0.0685 - val_accuracy: 0.9902\n",
      "Epoch 217/250\n",
      "82/82 [==============================] - 0s 3ms/step - loss: 0.1749 - accuracy: 0.9366 - val_loss: 0.0660 - val_accuracy: 0.9902\n",
      "Epoch 218/250\n",
      "82/82 [==============================] - 0s 3ms/step - loss: 0.1661 - accuracy: 0.9463 - val_loss: 0.0645 - val_accuracy: 0.9902\n",
      "Epoch 219/250\n",
      "82/82 [==============================] - 0s 3ms/step - loss: 0.1788 - accuracy: 0.9378 - val_loss: 0.0701 - val_accuracy: 0.9902\n",
      "Epoch 220/250\n",
      "82/82 [==============================] - 0s 3ms/step - loss: 0.1693 - accuracy: 0.9415 - val_loss: 0.0734 - val_accuracy: 0.9902\n",
      "Epoch 221/250\n",
      "82/82 [==============================] - 0s 3ms/step - loss: 0.1822 - accuracy: 0.9317 - val_loss: 0.0777 - val_accuracy: 0.9804\n",
      "Epoch 222/250\n",
      "82/82 [==============================] - 0s 3ms/step - loss: 0.1741 - accuracy: 0.9427 - val_loss: 0.0797 - val_accuracy: 0.9804\n",
      "Epoch 223/250\n",
      "82/82 [==============================] - 0s 3ms/step - loss: 0.1631 - accuracy: 0.9537 - val_loss: 0.0772 - val_accuracy: 0.9902\n",
      "Epoch 224/250\n",
      "82/82 [==============================] - 0s 3ms/step - loss: 0.1519 - accuracy: 0.9549 - val_loss: 0.0804 - val_accuracy: 0.9804\n",
      "Epoch 225/250\n",
      "82/82 [==============================] - 0s 3ms/step - loss: 0.1570 - accuracy: 0.9488 - val_loss: 0.0750 - val_accuracy: 0.9902\n",
      "Epoch 226/250\n",
      "82/82 [==============================] - 0s 3ms/step - loss: 0.1833 - accuracy: 0.9439 - val_loss: 0.0764 - val_accuracy: 0.9902\n",
      "Epoch 227/250\n",
      "82/82 [==============================] - 0s 3ms/step - loss: 0.1534 - accuracy: 0.9488 - val_loss: 0.0713 - val_accuracy: 0.9902\n",
      "Epoch 228/250\n",
      "82/82 [==============================] - 0s 3ms/step - loss: 0.1582 - accuracy: 0.9463 - val_loss: 0.0765 - val_accuracy: 0.9902\n",
      "Epoch 229/250\n",
      "82/82 [==============================] - 0s 3ms/step - loss: 0.1532 - accuracy: 0.9451 - val_loss: 0.0783 - val_accuracy: 0.9902\n",
      "Epoch 230/250\n"
     ]
    },
    {
     "name": "stdout",
     "output_type": "stream",
     "text": [
      "82/82 [==============================] - 0s 3ms/step - loss: 0.1641 - accuracy: 0.9500 - val_loss: 0.0779 - val_accuracy: 0.9902\n",
      "Epoch 231/250\n",
      "82/82 [==============================] - 0s 3ms/step - loss: 0.1526 - accuracy: 0.9476 - val_loss: 0.0778 - val_accuracy: 0.9902\n",
      "Epoch 232/250\n",
      "82/82 [==============================] - 0s 3ms/step - loss: 0.1554 - accuracy: 0.9500 - val_loss: 0.0754 - val_accuracy: 0.9902\n",
      "Epoch 233/250\n",
      "82/82 [==============================] - 0s 3ms/step - loss: 0.1572 - accuracy: 0.9439 - val_loss: 0.0739 - val_accuracy: 0.9804\n",
      "Epoch 234/250\n",
      "82/82 [==============================] - 0s 3ms/step - loss: 0.1781 - accuracy: 0.9439 - val_loss: 0.0715 - val_accuracy: 0.9804\n",
      "Epoch 235/250\n",
      "82/82 [==============================] - 0s 3ms/step - loss: 0.1491 - accuracy: 0.9451 - val_loss: 0.0688 - val_accuracy: 0.9804\n",
      "Epoch 236/250\n",
      "82/82 [==============================] - 0s 3ms/step - loss: 0.1586 - accuracy: 0.9427 - val_loss: 0.0687 - val_accuracy: 0.9902\n",
      "Epoch 237/250\n",
      "82/82 [==============================] - 0s 3ms/step - loss: 0.1715 - accuracy: 0.9512 - val_loss: 0.0726 - val_accuracy: 0.9902\n",
      "Epoch 238/250\n",
      "82/82 [==============================] - 0s 3ms/step - loss: 0.1565 - accuracy: 0.9476 - val_loss: 0.0713 - val_accuracy: 0.9902\n",
      "Epoch 239/250\n",
      "82/82 [==============================] - 0s 3ms/step - loss: 0.1730 - accuracy: 0.9415 - val_loss: 0.0732 - val_accuracy: 0.9902\n",
      "Epoch 240/250\n",
      "82/82 [==============================] - 0s 3ms/step - loss: 0.1546 - accuracy: 0.9476 - val_loss: 0.0773 - val_accuracy: 0.9804\n",
      "Epoch 241/250\n",
      "82/82 [==============================] - 0s 3ms/step - loss: 0.1390 - accuracy: 0.9512 - val_loss: 0.0676 - val_accuracy: 0.9902\n",
      "Epoch 242/250\n",
      "82/82 [==============================] - 0s 3ms/step - loss: 0.1489 - accuracy: 0.9537 - val_loss: 0.0688 - val_accuracy: 0.9902\n",
      "Epoch 243/250\n",
      "82/82 [==============================] - 0s 3ms/step - loss: 0.1566 - accuracy: 0.9561 - val_loss: 0.0757 - val_accuracy: 0.9804\n",
      "Epoch 244/250\n",
      "82/82 [==============================] - 0s 3ms/step - loss: 0.1632 - accuracy: 0.9500 - val_loss: 0.0708 - val_accuracy: 0.9902\n",
      "Epoch 245/250\n",
      "82/82 [==============================] - 0s 3ms/step - loss: 0.1847 - accuracy: 0.9354 - val_loss: 0.0714 - val_accuracy: 0.9902\n",
      "Epoch 246/250\n",
      "82/82 [==============================] - 0s 3ms/step - loss: 0.1650 - accuracy: 0.9488 - val_loss: 0.0746 - val_accuracy: 0.9902\n",
      "Epoch 247/250\n",
      "82/82 [==============================] - 0s 3ms/step - loss: 0.1694 - accuracy: 0.9488 - val_loss: 0.0787 - val_accuracy: 0.9804\n",
      "Epoch 248/250\n",
      "82/82 [==============================] - 0s 3ms/step - loss: 0.1634 - accuracy: 0.9463 - val_loss: 0.0738 - val_accuracy: 0.9902\n",
      "Epoch 249/250\n",
      "82/82 [==============================] - 0s 3ms/step - loss: 0.1624 - accuracy: 0.9476 - val_loss: 0.0746 - val_accuracy: 0.9902\n",
      "Epoch 250/250\n",
      "82/82 [==============================] - 0s 3ms/step - loss: 0.1672 - accuracy: 0.9439 - val_loss: 0.0733 - val_accuracy: 0.9902\n",
      "done\n"
     ]
    }
   ],
   "source": [
    "#train the sets...\n",
    "history=model.fit(standardized_x_train , Y_train, validation_data=(x_val, Y_val),epochs=250, batch_size=10,)  \n",
    "print('done')"
   ]
  },
  {
   "cell_type": "markdown",
   "id": "e9123c31",
   "metadata": {},
   "source": [
    "# Visualizing the training results"
   ]
  },
  {
   "cell_type": "code",
   "execution_count": 22,
   "id": "43e1cdce",
   "metadata": {
    "scrolled": false
   },
   "outputs": [
    {
     "data": {
      "image/png": "[encoded data removed]",
      "text/plain": [
       "<Figure size 576x432 with 2 Axes>"
      ]
     },
     "metadata": {
      "needs_background": "light"
     },
     "output_type": "display_data"
    }
   ],
   "source": [
    "\n",
    "#training history\n",
    "loss = history.history['loss']\n",
    "val_loss = history.history['val_loss']\n",
    "acc=history.history['accuracy']\n",
    "val_acc=history.history['val_accuracy']\n",
    "\n",
    "\n",
    "#'Training and Validation loss\n",
    "plt.figure(figsize=(8, 6))\n",
    "plt.subplot(1, 2, 1)\n",
    "plt.plot(history.history['accuracy']) #plot accuracy\n",
    "plt.plot(history.history['val_accuracy']) #plot val_acc\n",
    "plt.title('Training Accuracy')\n",
    "plt.ylabel('accuracy')\n",
    "plt.xlabel('epoch')\n",
    "plt.legend(['accuracy', 'val_accuracy'])\n",
    "\n",
    "#Training and Validation accuracy\n",
    "plt.subplot(1, 2, 2)\n",
    "plt.plot(history.history['loss']) #plot loss\n",
    "plt.plot(history.history['val_loss']) #plot val_loss\n",
    "plt.title('Training Loss')\n",
    "plt.ylabel('loss')\n",
    "plt.xlabel('epoch')\n",
    "plt.legend(['loss','val_loss'])\n",
    "\n",
    "#display plot\n",
    "plt.show()"
   ]
  },
  {
   "cell_type": "markdown",
   "id": "85351ccf",
   "metadata": {},
   "source": [
    "# Evaluate accuracy on test set"
   ]
  },
  {
   "cell_type": "code",
   "execution_count": 23,
   "id": "13a807c4",
   "metadata": {},
   "outputs": [
    {
     "name": "stdout",
     "output_type": "stream",
     "text": [
      "4/4 [==============================] - 0s 6ms/step - loss: 0.2339 - accuracy: 0.8835\n"
     ]
    },
    {
     "data": {
      "text/plain": [
       "[0.23385827243328094, 0.8834951519966125]"
      ]
     },
     "execution_count": 23,
     "metadata": {},
     "output_type": "execute_result"
    }
   ],
   "source": [
    "#evaluate on test set\n",
    "model.evaluate(standardized_x_test,Y_test)"
   ]
  },
  {
   "cell_type": "markdown",
   "id": "850e1754",
   "metadata": {},
   "source": [
    "# Make prediction on the test set"
   ]
  },
  {
   "cell_type": "code",
   "execution_count": 24,
   "id": "e8f60aa4",
   "metadata": {},
   "outputs": [
    {
     "name": "stdout",
     "output_type": "stream",
     "text": [
      "4/4 [==============================] - 0s 6ms/step\n",
      "Results\n",
      "accuracy_score = 0.883495145631068\n",
      "              precision    recall  f1-score   support\n",
      "\n",
      "           0       0.94      0.84      0.89        58\n",
      "           1       0.82      0.93      0.87        45\n",
      "\n",
      "    accuracy                           0.88       103\n",
      "   macro avg       0.88      0.89      0.88       103\n",
      "weighted avg       0.89      0.88      0.88       103\n",
      "\n"
     ]
    }
   ],
   "source": [
    "#predict on test data\n",
    "predictions = model.predict(standardized_x_test)\n",
    "#print(predictions.shape)\n",
    "pred_category = np.argmax(predictions, axis=1)\n",
    "\n",
    "#classification report\n",
    "print(\"Results\")\n",
    "print('accuracy_score =',accuracy_score(y_test,pred_category))\n",
    "print(classification_report(y_test, pred_category))"
   ]
  },
  {
   "cell_type": "code",
   "execution_count": 25,
   "id": "0f0a4e77",
   "metadata": {},
   "outputs": [
    {
     "data": {
      "text/plain": [
       "<tf.Tensor: shape=(2, 2), dtype=int32, numpy=\n",
       "array([[49,  9],\n",
       "       [ 3, 42]])>"
      ]
     },
     "execution_count": 25,
     "metadata": {},
     "output_type": "execute_result"
    }
   ],
   "source": [
    "#confusion matrix...\n",
    "cf_matrix=confusion_matrix(y_test,(pred_category))\n",
    "cf_matrix"
   ]
  },
  {
   "cell_type": "code",
   "execution_count": 26,
   "id": "83a5175c",
   "metadata": {},
   "outputs": [],
   "source": [
    "#defining the confusion matrix heatmap\n",
    "def plot_conf(cf_matrix):\n",
    "    ax = sns.heatmap(cf_matrix, annot=True, cmap='plasma')\n",
    "\n",
    "    ax.set_title(' Confusion Matrix:Testing');\n",
    "    ax.set_xlabel('\\nPredicted Values')\n",
    "    ax.set_ylabel('Actual Values ');\n",
    "\n",
    "    #Tick labels \n",
    "    ax.xaxis.set_ticklabels(['0','1'])\n",
    "    ax.yaxis.set_ticklabels(['0','1'])\n",
    "\n",
    "    #Display Matrix\n",
    "    plt.show()"
   ]
  },
  {
   "cell_type": "code",
   "execution_count": 27,
   "id": "38c0606c",
   "metadata": {
    "scrolled": false
   },
   "outputs": [
    {
     "data": {
      "image/png": "[encoded data removed]",
      "text/plain": [
       "<Figure size 432x288 with 2 Axes>"
      ]
     },
     "metadata": {
      "needs_background": "light"
     },
     "output_type": "display_data"
    }
   ],
   "source": [
    "#visualize performance\n",
    "plot_conf(cf_matrix) "
   ]
  },
  {
   "cell_type": "markdown",
   "id": "815b643a",
   "metadata": {},
   "source": [
    "In the target variable 0 represents the patient has not heart disease and 1 represents patient got heart disease. So according to the given confusion matrix it can be seen that an accuracy of 92% is obtained. There is a total of 58 patients in test data which do not have heart disease out of which 49 were classified successfully and the 3 remaining were wrongly classified as positive for heart disease. Similarly, in the case of 45 patients who actually had heart disease 9 were classified to be negative and 42 as positive. The Final error in the model is 8%. The group of patient which were checked for the heart disease are categorized in four parts:\n",
    "\n",
    "- True positive (TP): these are the patients which are classified are negative for heart disease and actually they don’t have any heart disease.\n",
    "- False Positive(FP): This is the group of patients which are classified wrongly as positive i.e. they have heart disease\n",
    "- True Negative(TN): The group of patients which are actually diagnosed with heart disease and model classify them as positive for heart disease .\n",
    "- False Negative(FN): This is the group of patients which do not have the heart disease but the model showed that they have heart disease."
   ]
  },
  {
   "cell_type": "markdown",
   "id": "89b22e16",
   "metadata": {},
   "source": [
    "# Save model"
   ]
  },
  {
   "cell_type": "code",
   "execution_count": 28,
   "id": "e1464bb4",
   "metadata": {},
   "outputs": [
    {
     "name": "stdout",
     "output_type": "stream",
     "text": [
      "INFO:tensorflow:Assets written to: heart disease\\assets\n"
     ]
    }
   ],
   "source": [
    "model.save('heart disease')\n",
    "#reloaded_model = tf.keras.models.load_model('heart disease')"
   ]
  },
  {
   "cell_type": "markdown",
   "id": "a57866c5",
   "metadata": {},
   "source": [
    "# Summary of the Classification Measure"
   ]
  },
  {
   "cell_type": "markdown",
   "id": "a04f7ed2",
   "metadata": {},
   "source": [
    "Accuracy: It is a measure of correctness that is achieved in true prediction.\n",
    "          Simply measures how often the classifier makes the correct prediction, (TP & TN)\n",
    "\n",
    "Precision:It is a measure of correctness that is achieved in true prediction too.\n",
    "           it tells how many predictions that are actually positive out of all the total positive predicted.\n",
    "\n",
    "Recall:It measures the actual observations which are predicted correctly, i.e, \n",
    "       how many observations of positive class are actually predicted as positive. It is also known as Sensitivity. \n",
    "       Recall is a valid choice of evaluation metric when you want to capture as many positives as possible.\n",
    "        \n",
    "F1-Score: F1 score is a harmonic mean of Precision and Recall.\n",
    "          F1 score sort of maintains a balance between the precision and recall for your classifier  "
   ]
  },
  {
   "cell_type": "code",
   "execution_count": null,
   "id": "e1528e64",
   "metadata": {},
   "outputs": [],
   "source": []
  }
 ],
 "metadata": {
  "kernelspec": {
   "display_name": "Python 3 (ipykernel)",
   "language": "python",
   "name": "python3"
  },
  "language_info": {
   "codemirror_mode": {
    "name": "ipython",
    "version": 3
   },
   "file_extension": ".py",
   "mimetype": "text/x-python",
   "name": "python",
   "nbconvert_exporter": "python",
   "pygments_lexer": "ipython3",
   "version": "3.9.12"
  }
 },
 "nbformat": 4,
 "nbformat_minor": 5
}
