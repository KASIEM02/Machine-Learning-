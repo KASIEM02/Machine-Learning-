{
 "cells": [
  {
   "cell_type": "markdown",
   "id": "34710d59",
   "metadata": {},
   "source": [
    "# Prediction of Heart disease using Deep Neural Network"
   ]
  },
  {
   "cell_type": "markdown",
   "id": "32f66527",
   "metadata": {},
   "source": [
    "The data set dates from 1988 and consists of four databases: Cleveland, Hungary, Switzerland, and Long Beach V. It contains 76 attributes, including the predicted attribute, but all published experiments refer to using a subset of 14 of them. The \"target\" field refers to the presence of heart disease in the patient. It is integer valued 0 = no disease and 1 = disease."
   ]
  },
  {
   "cell_type": "markdown",
   "id": "beebb7ed",
   "metadata": {},
   "source": [
    "Acknowledgement: This data comes from the University of California Irvine's Machine Learning Repository at https://archive.ics.uci.edu/ml/datasets/Heart+Disease."
   ]
  },
  {
   "cell_type": "markdown",
   "id": "f7961b1e",
   "metadata": {},
   "source": [
    "The dataset contains 14 attributes:\n",
    "1.  (age) :  age in years\n",
    "2.  (sex) :  sex (1 = male; 0 = female)\n",
    "3.  (cp) :  chest pain type\n",
    "4.  (trestbps) :  Resting Blood presssure in mm Hg\n",
    "5.  (chol) :  serum cholesterol in mg/dl\n",
    "6.  (fbs) :  Fasting Blood Sugar in mg/dl\n",
    "7.  (restecg) :  Resting Electrocadiographic Results\n",
    "8.  (thalach) :  Maximum Heart Rate achieved\n",
    "9.  (exang) :  exercise induced angina \n",
    "10. (oldpeak) :  ST depression induced by exercise relative to rest\n",
    "11. (slope) :  slope of the Peak Exercise ST segment\n",
    "12. (ca):  number of major vessels (0-3) colored by flourosopy\n",
    "13. (thal) :  3 = normal; 6 = fixed defect; 7 = reversable defect\n",
    "14. (target) :  (the predicted attribute) . Diagnosis of heart disease (angiographic disease status) Values:0(absence) & 1(presence)"
   ]
  },
  {
   "cell_type": "code",
   "execution_count": null,
   "id": "8cdf4a3c",
   "metadata": {},
   "outputs": [],
   "source": []
  },
  {
   "cell_type": "markdown",
   "id": "096bee29",
   "metadata": {},
   "source": [
    "# Importing the required libraries"
   ]
  },
  {
   "cell_type": "code",
   "execution_count": 1,
   "id": "301f9d32",
   "metadata": {},
   "outputs": [],
   "source": [
    "import numpy as np\n",
    "import pandas as pd\n",
    "import seaborn as sns\n",
    "import matplotlib.pyplot as plt\n",
    "import keras\n",
    "import tensorflow as tf\n",
    "from tensorflow.keras.models import Sequential\n",
    "from tensorflow.keras.layers import Activation, Dropout, Flatten, Dense\n",
    "from tensorflow.math import confusion_matrix\n",
    "from keras.optimizers import Adam\n",
    "from tensorflow.keras import layers\n",
    "from tensorflow.keras.callbacks import EarlyStopping\n",
    "from keras import regularizers\n",
    "from sklearn import preprocessing\n",
    "from sklearn.preprocessing import StandardScaler\n",
    "from sklearn.model_selection import train_test_split\n",
    "from sklearn.metrics import classification_report, accuracy_score"
   ]
  },
  {
   "cell_type": "code",
   "execution_count": 2,
   "id": "d26565cd",
   "metadata": {},
   "outputs": [],
   "source": [
    "import warnings\n",
    "warnings.filterwarnings('ignore')"
   ]
  },
  {
   "cell_type": "markdown",
   "id": "9d4d9b0d",
   "metadata": {},
   "source": [
    "# Loading and preparing data"
   ]
  },
  {
   "cell_type": "code",
   "execution_count": 3,
   "id": "8f5f61e9",
   "metadata": {},
   "outputs": [
    {
     "name": "stdout",
     "output_type": "stream",
     "text": [
      "\n",
      "\n"
     ]
    },
    {
     "data": {
      "text/html": [
       "<div>\n",
       "<style scoped>\n",
       "    .dataframe tbody tr th:only-of-type {\n",
       "        vertical-align: middle;\n",
       "    }\n",
       "\n",
       "    .dataframe tbody tr th {\n",
       "        vertical-align: top;\n",
       "    }\n",
       "\n",
       "    .dataframe thead th {\n",
       "        text-align: right;\n",
       "    }\n",
       "</style>\n",
       "<table border=\"1\" class=\"dataframe\">\n",
       "  <thead>\n",
       "    <tr style=\"text-align: right;\">\n",
       "      <th></th>\n",
       "      <th>age</th>\n",
       "      <th>sex</th>\n",
       "      <th>cp</th>\n",
       "      <th>trestbps</th>\n",
       "      <th>chol</th>\n",
       "      <th>fbs</th>\n",
       "      <th>restecg</th>\n",
       "      <th>thalach</th>\n",
       "      <th>exang</th>\n",
       "      <th>oldpeak</th>\n",
       "      <th>slope</th>\n",
       "      <th>ca</th>\n",
       "      <th>thal</th>\n",
       "      <th>target</th>\n",
       "    </tr>\n",
       "  </thead>\n",
       "  <tbody>\n",
       "    <tr>\n",
       "      <th>1020</th>\n",
       "      <td>59</td>\n",
       "      <td>1</td>\n",
       "      <td>1</td>\n",
       "      <td>140</td>\n",
       "      <td>221</td>\n",
       "      <td>0</td>\n",
       "      <td>1</td>\n",
       "      <td>164</td>\n",
       "      <td>1</td>\n",
       "      <td>0.0</td>\n",
       "      <td>2</td>\n",
       "      <td>0</td>\n",
       "      <td>2</td>\n",
       "      <td>1</td>\n",
       "    </tr>\n",
       "    <tr>\n",
       "      <th>1021</th>\n",
       "      <td>60</td>\n",
       "      <td>1</td>\n",
       "      <td>0</td>\n",
       "      <td>125</td>\n",
       "      <td>258</td>\n",
       "      <td>0</td>\n",
       "      <td>0</td>\n",
       "      <td>141</td>\n",
       "      <td>1</td>\n",
       "      <td>2.8</td>\n",
       "      <td>1</td>\n",
       "      <td>1</td>\n",
       "      <td>3</td>\n",
       "      <td>0</td>\n",
       "    </tr>\n",
       "    <tr>\n",
       "      <th>1022</th>\n",
       "      <td>47</td>\n",
       "      <td>1</td>\n",
       "      <td>0</td>\n",
       "      <td>110</td>\n",
       "      <td>275</td>\n",
       "      <td>0</td>\n",
       "      <td>0</td>\n",
       "      <td>118</td>\n",
       "      <td>1</td>\n",
       "      <td>1.0</td>\n",
       "      <td>1</td>\n",
       "      <td>1</td>\n",
       "      <td>2</td>\n",
       "      <td>0</td>\n",
       "    </tr>\n",
       "    <tr>\n",
       "      <th>1023</th>\n",
       "      <td>50</td>\n",
       "      <td>0</td>\n",
       "      <td>0</td>\n",
       "      <td>110</td>\n",
       "      <td>254</td>\n",
       "      <td>0</td>\n",
       "      <td>0</td>\n",
       "      <td>159</td>\n",
       "      <td>0</td>\n",
       "      <td>0.0</td>\n",
       "      <td>2</td>\n",
       "      <td>0</td>\n",
       "      <td>2</td>\n",
       "      <td>1</td>\n",
       "    </tr>\n",
       "    <tr>\n",
       "      <th>1024</th>\n",
       "      <td>54</td>\n",
       "      <td>1</td>\n",
       "      <td>0</td>\n",
       "      <td>120</td>\n",
       "      <td>188</td>\n",
       "      <td>0</td>\n",
       "      <td>1</td>\n",
       "      <td>113</td>\n",
       "      <td>0</td>\n",
       "      <td>1.4</td>\n",
       "      <td>1</td>\n",
       "      <td>1</td>\n",
       "      <td>3</td>\n",
       "      <td>0</td>\n",
       "    </tr>\n",
       "  </tbody>\n",
       "</table>\n",
       "</div>"
      ],
      "text/plain": [
       "      age  sex  cp  trestbps  chol  fbs  restecg  thalach  exang  oldpeak  \\\n",
       "1020   59    1   1       140   221    0        1      164      1      0.0   \n",
       "1021   60    1   0       125   258    0        0      141      1      2.8   \n",
       "1022   47    1   0       110   275    0        0      118      1      1.0   \n",
       "1023   50    0   0       110   254    0        0      159      0      0.0   \n",
       "1024   54    1   0       120   188    0        1      113      0      1.4   \n",
       "\n",
       "      slope  ca  thal  target  \n",
       "1020      2   0     2       1  \n",
       "1021      1   1     3       0  \n",
       "1022      1   1     2       0  \n",
       "1023      2   0     2       1  \n",
       "1024      1   1     3       0  "
      ]
     },
     "execution_count": 3,
     "metadata": {},
     "output_type": "execute_result"
    }
   ],
   "source": [
    "#load and display dataframe\n",
    "heart_disease=r\"C:\\Users\\val-c\\Desktop\\heart disease\\heart.csv\"\n",
    "hrt_dis=pd.read_csv(heart_disease)\n",
    "hrt_dis.head() #display first-five rows\n",
    "\n",
    "print('\\n') #hold back\n",
    "\n",
    "#display last five rows of the dataframe\n",
    "hrt_dis.tail()"
   ]
  },
  {
   "cell_type": "code",
   "execution_count": 4,
   "id": "cdf7c441",
   "metadata": {},
   "outputs": [
    {
     "name": "stdout",
     "output_type": "stream",
     "text": [
      "(rows,cols) = (1025, 14)\n"
     ]
    }
   ],
   "source": [
    "#no of rows and columns\n",
    "print('(rows,cols) =',hrt_dis.shape)"
   ]
  },
  {
   "cell_type": "code",
   "execution_count": 5,
   "id": "ae44a54b",
   "metadata": {},
   "outputs": [
    {
     "name": "stdout",
     "output_type": "stream",
     "text": [
      "<class 'pandas.core.frame.DataFrame'>\n",
      "RangeIndex: 1025 entries, 0 to 1024\n",
      "Data columns (total 14 columns):\n",
      " #   Column    Non-Null Count  Dtype  \n",
      "---  ------    --------------  -----  \n",
      " 0   age       1025 non-null   int64  \n",
      " 1   sex       1025 non-null   int64  \n",
      " 2   cp        1025 non-null   int64  \n",
      " 3   trestbps  1025 non-null   int64  \n",
      " 4   chol      1025 non-null   int64  \n",
      " 5   fbs       1025 non-null   int64  \n",
      " 6   restecg   1025 non-null   int64  \n",
      " 7   thalach   1025 non-null   int64  \n",
      " 8   exang     1025 non-null   int64  \n",
      " 9   oldpeak   1025 non-null   float64\n",
      " 10  slope     1025 non-null   int64  \n",
      " 11  ca        1025 non-null   int64  \n",
      " 12  thal      1025 non-null   int64  \n",
      " 13  target    1025 non-null   int64  \n",
      "dtypes: float64(1), int64(13)\n",
      "memory usage: 112.2 KB\n"
     ]
    }
   ],
   "source": [
    "#display data types for the dataframe\n",
    "hrt_dis.info()"
   ]
  },
  {
   "cell_type": "code",
   "execution_count": 6,
   "id": "88192b39",
   "metadata": {},
   "outputs": [
    {
     "data": {
      "text/html": [
       "<div>\n",
       "<style scoped>\n",
       "    .dataframe tbody tr th:only-of-type {\n",
       "        vertical-align: middle;\n",
       "    }\n",
       "\n",
       "    .dataframe tbody tr th {\n",
       "        vertical-align: top;\n",
       "    }\n",
       "\n",
       "    .dataframe thead th {\n",
       "        text-align: right;\n",
       "    }\n",
       "</style>\n",
       "<table border=\"1\" class=\"dataframe\">\n",
       "  <thead>\n",
       "    <tr style=\"text-align: right;\">\n",
       "      <th></th>\n",
       "      <th>Total</th>\n",
       "    </tr>\n",
       "  </thead>\n",
       "  <tbody>\n",
       "    <tr>\n",
       "      <th>age</th>\n",
       "      <td>0</td>\n",
       "    </tr>\n",
       "    <tr>\n",
       "      <th>sex</th>\n",
       "      <td>0</td>\n",
       "    </tr>\n",
       "    <tr>\n",
       "      <th>cp</th>\n",
       "      <td>0</td>\n",
       "    </tr>\n",
       "    <tr>\n",
       "      <th>trestbps</th>\n",
       "      <td>0</td>\n",
       "    </tr>\n",
       "    <tr>\n",
       "      <th>chol</th>\n",
       "      <td>0</td>\n",
       "    </tr>\n",
       "    <tr>\n",
       "      <th>fbs</th>\n",
       "      <td>0</td>\n",
       "    </tr>\n",
       "    <tr>\n",
       "      <th>restecg</th>\n",
       "      <td>0</td>\n",
       "    </tr>\n",
       "    <tr>\n",
       "      <th>thalach</th>\n",
       "      <td>0</td>\n",
       "    </tr>\n",
       "    <tr>\n",
       "      <th>exang</th>\n",
       "      <td>0</td>\n",
       "    </tr>\n",
       "    <tr>\n",
       "      <th>oldpeak</th>\n",
       "      <td>0</td>\n",
       "    </tr>\n",
       "    <tr>\n",
       "      <th>slope</th>\n",
       "      <td>0</td>\n",
       "    </tr>\n",
       "    <tr>\n",
       "      <th>ca</th>\n",
       "      <td>0</td>\n",
       "    </tr>\n",
       "    <tr>\n",
       "      <th>thal</th>\n",
       "      <td>0</td>\n",
       "    </tr>\n",
       "    <tr>\n",
       "      <th>target</th>\n",
       "      <td>0</td>\n",
       "    </tr>\n",
       "  </tbody>\n",
       "</table>\n",
       "</div>"
      ],
      "text/plain": [
       "          Total\n",
       "age           0\n",
       "sex           0\n",
       "cp            0\n",
       "trestbps      0\n",
       "chol          0\n",
       "fbs           0\n",
       "restecg       0\n",
       "thalach       0\n",
       "exang         0\n",
       "oldpeak       0\n",
       "slope         0\n",
       "ca            0\n",
       "thal          0\n",
       "target        0"
      ]
     },
     "execution_count": 6,
     "metadata": {},
     "output_type": "execute_result"
    }
   ],
   "source": [
    "#calculate the existing NaN/missing values in the datasets\n",
    "\n",
    "hrt_dis.isna().sum().to_frame('Total')"
   ]
  },
  {
   "cell_type": "code",
   "execution_count": 7,
   "id": "9762394f",
   "metadata": {},
   "outputs": [
    {
     "data": {
      "image/png": "[encoded data removed]",
      "text/plain": [
       "<Figure size 432x288 with 1 Axes>"
      ]
     },
     "metadata": {
      "needs_background": "light"
     },
     "output_type": "display_data"
    },
    {
     "name": "stdout",
     "output_type": "stream",
     "text": [
      "1    526\n",
      "0    499\n",
      "Name: target, dtype: int64\n"
     ]
    }
   ],
   "source": [
    "#show the number of persons who go heart disease or not.\n",
    "y=('target')\n",
    "sns.countplot(y, data=hrt_dis)\n",
    "plt.show()\n",
    "print(hrt_dis.target.value_counts())"
   ]
  },
  {
   "cell_type": "markdown",
   "id": "99b177ba",
   "metadata": {},
   "source": [
    "526 number of persons got heart disease, while 499 got not"
   ]
  },
  {
   "cell_type": "code",
   "execution_count": 8,
   "id": "e9ed5033",
   "metadata": {},
   "outputs": [
    {
     "data": {
      "text/html": [
       "<div>\n",
       "<style scoped>\n",
       "    .dataframe tbody tr th:only-of-type {\n",
       "        vertical-align: middle;\n",
       "    }\n",
       "\n",
       "    .dataframe tbody tr th {\n",
       "        vertical-align: top;\n",
       "    }\n",
       "\n",
       "    .dataframe thead th {\n",
       "        text-align: right;\n",
       "    }\n",
       "</style>\n",
       "<table border=\"1\" class=\"dataframe\">\n",
       "  <thead>\n",
       "    <tr style=\"text-align: right;\">\n",
       "      <th></th>\n",
       "      <th>count</th>\n",
       "      <th>mean</th>\n",
       "      <th>std</th>\n",
       "      <th>min</th>\n",
       "      <th>25%</th>\n",
       "      <th>50%</th>\n",
       "      <th>75%</th>\n",
       "      <th>max</th>\n",
       "    </tr>\n",
       "  </thead>\n",
       "  <tbody>\n",
       "    <tr>\n",
       "      <th>age</th>\n",
       "      <td>1025.0</td>\n",
       "      <td>54.434146</td>\n",
       "      <td>9.072290</td>\n",
       "      <td>29.0</td>\n",
       "      <td>48.0</td>\n",
       "      <td>56.0</td>\n",
       "      <td>61.0</td>\n",
       "      <td>77.0</td>\n",
       "    </tr>\n",
       "    <tr>\n",
       "      <th>sex</th>\n",
       "      <td>1025.0</td>\n",
       "      <td>0.695610</td>\n",
       "      <td>0.460373</td>\n",
       "      <td>0.0</td>\n",
       "      <td>0.0</td>\n",
       "      <td>1.0</td>\n",
       "      <td>1.0</td>\n",
       "      <td>1.0</td>\n",
       "    </tr>\n",
       "    <tr>\n",
       "      <th>cp</th>\n",
       "      <td>1025.0</td>\n",
       "      <td>0.942439</td>\n",
       "      <td>1.029641</td>\n",
       "      <td>0.0</td>\n",
       "      <td>0.0</td>\n",
       "      <td>1.0</td>\n",
       "      <td>2.0</td>\n",
       "      <td>3.0</td>\n",
       "    </tr>\n",
       "    <tr>\n",
       "      <th>trestbps</th>\n",
       "      <td>1025.0</td>\n",
       "      <td>131.611707</td>\n",
       "      <td>17.516718</td>\n",
       "      <td>94.0</td>\n",
       "      <td>120.0</td>\n",
       "      <td>130.0</td>\n",
       "      <td>140.0</td>\n",
       "      <td>200.0</td>\n",
       "    </tr>\n",
       "    <tr>\n",
       "      <th>chol</th>\n",
       "      <td>1025.0</td>\n",
       "      <td>246.000000</td>\n",
       "      <td>51.592510</td>\n",
       "      <td>126.0</td>\n",
       "      <td>211.0</td>\n",
       "      <td>240.0</td>\n",
       "      <td>275.0</td>\n",
       "      <td>564.0</td>\n",
       "    </tr>\n",
       "    <tr>\n",
       "      <th>fbs</th>\n",
       "      <td>1025.0</td>\n",
       "      <td>0.149268</td>\n",
       "      <td>0.356527</td>\n",
       "      <td>0.0</td>\n",
       "      <td>0.0</td>\n",
       "      <td>0.0</td>\n",
       "      <td>0.0</td>\n",
       "      <td>1.0</td>\n",
       "    </tr>\n",
       "    <tr>\n",
       "      <th>restecg</th>\n",
       "      <td>1025.0</td>\n",
       "      <td>0.529756</td>\n",
       "      <td>0.527878</td>\n",
       "      <td>0.0</td>\n",
       "      <td>0.0</td>\n",
       "      <td>1.0</td>\n",
       "      <td>1.0</td>\n",
       "      <td>2.0</td>\n",
       "    </tr>\n",
       "    <tr>\n",
       "      <th>thalach</th>\n",
       "      <td>1025.0</td>\n",
       "      <td>149.114146</td>\n",
       "      <td>23.005724</td>\n",
       "      <td>71.0</td>\n",
       "      <td>132.0</td>\n",
       "      <td>152.0</td>\n",
       "      <td>166.0</td>\n",
       "      <td>202.0</td>\n",
       "    </tr>\n",
       "    <tr>\n",
       "      <th>exang</th>\n",
       "      <td>1025.0</td>\n",
       "      <td>0.336585</td>\n",
       "      <td>0.472772</td>\n",
       "      <td>0.0</td>\n",
       "      <td>0.0</td>\n",
       "      <td>0.0</td>\n",
       "      <td>1.0</td>\n",
       "      <td>1.0</td>\n",
       "    </tr>\n",
       "    <tr>\n",
       "      <th>oldpeak</th>\n",
       "      <td>1025.0</td>\n",
       "      <td>1.071512</td>\n",
       "      <td>1.175053</td>\n",
       "      <td>0.0</td>\n",
       "      <td>0.0</td>\n",
       "      <td>0.8</td>\n",
       "      <td>1.8</td>\n",
       "      <td>6.2</td>\n",
       "    </tr>\n",
       "    <tr>\n",
       "      <th>slope</th>\n",
       "      <td>1025.0</td>\n",
       "      <td>1.385366</td>\n",
       "      <td>0.617755</td>\n",
       "      <td>0.0</td>\n",
       "      <td>1.0</td>\n",
       "      <td>1.0</td>\n",
       "      <td>2.0</td>\n",
       "      <td>2.0</td>\n",
       "    </tr>\n",
       "    <tr>\n",
       "      <th>ca</th>\n",
       "      <td>1025.0</td>\n",
       "      <td>0.754146</td>\n",
       "      <td>1.030798</td>\n",
       "      <td>0.0</td>\n",
       "      <td>0.0</td>\n",
       "      <td>0.0</td>\n",
       "      <td>1.0</td>\n",
       "      <td>4.0</td>\n",
       "    </tr>\n",
       "    <tr>\n",
       "      <th>thal</th>\n",
       "      <td>1025.0</td>\n",
       "      <td>2.323902</td>\n",
       "      <td>0.620660</td>\n",
       "      <td>0.0</td>\n",
       "      <td>2.0</td>\n",
       "      <td>2.0</td>\n",
       "      <td>3.0</td>\n",
       "      <td>3.0</td>\n",
       "    </tr>\n",
       "    <tr>\n",
       "      <th>target</th>\n",
       "      <td>1025.0</td>\n",
       "      <td>0.513171</td>\n",
       "      <td>0.500070</td>\n",
       "      <td>0.0</td>\n",
       "      <td>0.0</td>\n",
       "      <td>1.0</td>\n",
       "      <td>1.0</td>\n",
       "      <td>1.0</td>\n",
       "    </tr>\n",
       "  </tbody>\n",
       "</table>\n",
       "</div>"
      ],
      "text/plain": [
       "           count        mean        std    min    25%    50%    75%    max\n",
       "age       1025.0   54.434146   9.072290   29.0   48.0   56.0   61.0   77.0\n",
       "sex       1025.0    0.695610   0.460373    0.0    0.0    1.0    1.0    1.0\n",
       "cp        1025.0    0.942439   1.029641    0.0    0.0    1.0    2.0    3.0\n",
       "trestbps  1025.0  131.611707  17.516718   94.0  120.0  130.0  140.0  200.0\n",
       "chol      1025.0  246.000000  51.592510  126.0  211.0  240.0  275.0  564.0\n",
       "fbs       1025.0    0.149268   0.356527    0.0    0.0    0.0    0.0    1.0\n",
       "restecg   1025.0    0.529756   0.527878    0.0    0.0    1.0    1.0    2.0\n",
       "thalach   1025.0  149.114146  23.005724   71.0  132.0  152.0  166.0  202.0\n",
       "exang     1025.0    0.336585   0.472772    0.0    0.0    0.0    1.0    1.0\n",
       "oldpeak   1025.0    1.071512   1.175053    0.0    0.0    0.8    1.8    6.2\n",
       "slope     1025.0    1.385366   0.617755    0.0    1.0    1.0    2.0    2.0\n",
       "ca        1025.0    0.754146   1.030798    0.0    0.0    0.0    1.0    4.0\n",
       "thal      1025.0    2.323902   0.620660    0.0    2.0    2.0    3.0    3.0\n",
       "target    1025.0    0.513171   0.500070    0.0    0.0    1.0    1.0    1.0"
      ]
     },
     "execution_count": 8,
     "metadata": {},
     "output_type": "execute_result"
    }
   ],
   "source": [
    "#statistics of the attributes\n",
    "dist=hrt_dis.describe().transpose()\n",
    "dist"
   ]
  },
  {
   "cell_type": "code",
   "execution_count": 9,
   "id": "622f547c",
   "metadata": {},
   "outputs": [
    {
     "data": {
      "image/png": "[encoded data removed]",
      "text/plain": [
       "<Figure size 864x432 with 2 Axes>"
      ]
     },
     "metadata": {
      "needs_background": "light"
     },
     "output_type": "display_data"
    }
   ],
   "source": [
    "#correlation between attributes\n",
    "plt.figure(figsize=(12,6))\n",
    "corrl=hrt_dis.corr()\n",
    "sns.heatmap(corrl, annot=True, cmap=\"plasma\")\n",
    "plt.show()"
   ]
  },
  {
   "cell_type": "code",
   "execution_count": 10,
   "id": "b1115294",
   "metadata": {},
   "outputs": [
    {
     "data": {
      "image/png": "[encoded data removed]",
      "text/plain": [
       "<Figure size 864x576 with 1 Axes>"
      ]
     },
     "metadata": {
      "needs_background": "light"
     },
     "output_type": "display_data"
    }
   ],
   "source": [
    "#visualize the distribution of ages to heart disease\n",
    "pd.crosstab(hrt_dis.age, hrt_dis.target).plot(kind=\"bar\",figsize=(12,8),cmap='copper')\n",
    "plt.title(\"Heart Disease Distribution by Ages\")\n",
    "plt.xlabel('age')\n",
    "plt.ylabel('frequency')\n",
    "plt.show()"
   ]
  },
  {
   "cell_type": "code",
   "execution_count": null,
   "id": "f4943e07",
   "metadata": {},
   "outputs": [],
   "source": [
    "#explore the attributes distribution\n",
    "hrt_dis.hist(figsize =(12, 11))\n",
    "plt.show()#display dist..."
   ]
  },
  {
   "cell_type": "markdown",
   "id": "0b61b995",
   "metadata": {},
   "source": [
    "# Creating training and testing sets"
   ]
  },
  {
   "cell_type": "code",
   "execution_count": 12,
   "id": "52935b3e",
   "metadata": {},
   "outputs": [],
   "source": [
    "hrt_dis_features = hrt_dis.copy()\n",
    "hrt_dis_labels = hrt_dis_features.pop('target') #drop attribute 'target'=label"
   ]
  },
  {
   "cell_type": "code",
   "execution_count": 13,
   "id": "02769b25",
   "metadata": {},
   "outputs": [],
   "source": [
    "X=hrt_dis_features #features\n",
    "Y=hrt_dis_labels # target "
   ]
  },
  {
   "cell_type": "code",
   "execution_count": 14,
   "id": "b41e7e92",
   "metadata": {},
   "outputs": [
    {
     "name": "stdout",
     "output_type": "stream",
     "text": [
      "number of training samples: 820\n",
      "number of test samples: 205\n"
     ]
    }
   ],
   "source": [
    "#split data into train _ test\n",
    "x_train, x_test, y_train, y_test = train_test_split(X,Y, test_size=0.2, random_state=42)\n",
    "\n",
    "print(\"number of training samples:\",x_train.shape[0])\n",
    "\n",
    "print(\"number of test samples:\", x_test.shape[0])"
   ]
  },
  {
   "cell_type": "markdown",
   "id": "e9c259fb",
   "metadata": {},
   "source": [
    "# Standardizing the features"
   ]
  },
  {
   "cell_type": "code",
   "execution_count": 15,
   "id": "4921f033",
   "metadata": {},
   "outputs": [],
   "source": [
    "# Instantiating StandardScaler\n",
    "sc = StandardScaler()\n",
    "standardized_x_train = sc.fit_transform(x_train)\n",
    "standardized_x_test= sc.transform(x_test)\n"
   ]
  },
  {
   "cell_type": "markdown",
   "id": "3841aae5",
   "metadata": {},
   "source": [
    "- Extraction of validation sample"
   ]
  },
  {
   "cell_type": "code",
   "execution_count": 16,
   "id": "eb9d8179",
   "metadata": {},
   "outputs": [
    {
     "name": "stdout",
     "output_type": "stream",
     "text": [
      "new training samples: 718\n",
      "number of validation samples: 102\n"
     ]
    }
   ],
   "source": [
    "#Extracting validation set\n",
    "standardized_x_train= standardized_x_train[:-102]\n",
    "y_train = y_train[:-102]\n",
    "\n",
    "x_val =standardized_x_train[-102:]\n",
    "y_val = y_train[-102:]\n",
    "\n",
    "print(\"new training samples:\",standardized_x_train.shape[0])\n",
    "\n",
    "print(\"number of validation samples:\",x_val.shape[0])"
   ]
  },
  {
   "cell_type": "code",
   "execution_count": 17,
   "id": "fd27884d",
   "metadata": {},
   "outputs": [],
   "source": [
    "# convert to categorical label\n",
    "from keras.utils.np_utils import to_categorical \n",
    "\n",
    "Y_train = to_categorical(y_train, num_classes=None) \n",
    "Y_test = to_categorical(y_test, num_classes=None) \n",
    "Y_val = to_categorical(y_val, num_classes=None)"
   ]
  },
  {
   "cell_type": "markdown",
   "id": "8470f5ea",
   "metadata": {},
   "source": [
    "# Creating the model"
   ]
  },
  {
   "cell_type": "markdown",
   "id": "25dc992f",
   "metadata": {},
   "source": [
    "Deep neural network was configured here"
   ]
  },
  {
   "cell_type": "code",
   "execution_count": 18,
   "id": "e9aaa90e",
   "metadata": {},
   "outputs": [],
   "source": [
    "#configuration.....\n",
    "model = Sequential()\n",
    "model.add(Dense(16, input_dim=13, kernel_initializer='normal', kernel_regularizer=regularizers.l2(0.001), activation='relu'))\n",
    "model.add(Dropout(0.25))\n",
    "model.add(Dense(8, kernel_initializer='normal', kernel_regularizer=regularizers.l2(0.001), activation='relu'))\n",
    "model.add(Dropout(0.25))\n",
    "model.add(Dense(2, activation=\"softmax\"))"
   ]
  },
  {
   "cell_type": "code",
   "execution_count": 19,
   "id": "66e6d69b",
   "metadata": {
    "scrolled": false
   },
   "outputs": [
    {
     "name": "stdout",
     "output_type": "stream",
     "text": [
      "Model: \"sequential\"\n",
      "_________________________________________________________________\n",
      " Layer (type)                Output Shape              Param #   \n",
      "=================================================================\n",
      " dense (Dense)               (None, 16)                224       \n",
      "                                                                 \n",
      " dropout (Dropout)           (None, 16)                0         \n",
      "                                                                 \n",
      " dense_1 (Dense)             (None, 8)                 136       \n",
      "                                                                 \n",
      " dropout_1 (Dropout)         (None, 8)                 0         \n",
      "                                                                 \n",
      " dense_2 (Dense)             (None, 2)                 18        \n",
      "                                                                 \n",
      "=================================================================\n",
      "Total params: 378\n",
      "Trainable params: 378\n",
      "Non-trainable params: 0\n",
      "_________________________________________________________________\n"
     ]
    }
   ],
   "source": [
    "model.summary() #summary of the model configuration"
   ]
  },
  {
   "cell_type": "markdown",
   "id": "6f879f28",
   "metadata": {},
   "source": [
    "# Compile the model"
   ]
  },
  {
   "cell_type": "code",
   "execution_count": 20,
   "id": "92109d9d",
   "metadata": {},
   "outputs": [],
   "source": [
    "#compiling......\n",
    "opt = keras.optimizers.Adam(learning_rate=0.001)\n",
    "model.compile(loss=tf.keras.losses.CategoricalCrossentropy(from_logits=True), optimizer=opt,metrics=['accuracy'])"
   ]
  },
  {
   "cell_type": "markdown",
   "id": "1efb2859",
   "metadata": {},
   "source": [
    "# Train the model"
   ]
  },
  {
   "cell_type": "code",
   "execution_count": 21,
   "id": "bb692b46",
   "metadata": {},
   "outputs": [
    {
     "name": "stdout",
     "output_type": "stream",
     "text": [
      "Epoch 1/250\n",
      "72/72 [==============================] - 2s 10ms/step - loss: 0.6696 - accuracy: 0.6922 - val_loss: 0.6168 - val_accuracy: 0.8235\n",
      "Epoch 2/250\n",
      "72/72 [==============================] - 0s 3ms/step - loss: 0.5108 - accuracy: 0.8329 - val_loss: 0.4265 - val_accuracy: 0.8333\n",
      "Epoch 3/250\n",
      "72/72 [==============================] - 0s 3ms/step - loss: 0.3976 - accuracy: 0.8621 - val_loss: 0.3642 - val_accuracy: 0.8529\n",
      "Epoch 4/250\n",
      "72/72 [==============================] - 0s 5ms/step - loss: 0.3427 - accuracy: 0.8635 - val_loss: 0.3445 - val_accuracy: 0.8529\n",
      "Epoch 5/250\n",
      "72/72 [==============================] - 0s 4ms/step - loss: 0.3332 - accuracy: 0.8830 - val_loss: 0.3325 - val_accuracy: 0.8627\n",
      "Epoch 6/250\n",
      "72/72 [==============================] - 0s 4ms/step - loss: 0.3253 - accuracy: 0.8747 - val_loss: 0.3304 - val_accuracy: 0.8725\n",
      "Epoch 7/250\n",
      "72/72 [==============================] - 0s 3ms/step - loss: 0.3195 - accuracy: 0.8900 - val_loss: 0.3251 - val_accuracy: 0.8725\n",
      "Epoch 8/250\n",
      "72/72 [==============================] - 0s 4ms/step - loss: 0.3062 - accuracy: 0.8886 - val_loss: 0.3164 - val_accuracy: 0.8725\n",
      "Epoch 9/250\n",
      "72/72 [==============================] - 0s 3ms/step - loss: 0.3183 - accuracy: 0.8886 - val_loss: 0.3085 - val_accuracy: 0.8922\n",
      "Epoch 10/250\n",
      "72/72 [==============================] - 0s 3ms/step - loss: 0.3033 - accuracy: 0.8914 - val_loss: 0.3027 - val_accuracy: 0.8922\n",
      "Epoch 11/250\n",
      "72/72 [==============================] - 0s 3ms/step - loss: 0.3046 - accuracy: 0.8997 - val_loss: 0.2982 - val_accuracy: 0.8922\n",
      "Epoch 12/250\n",
      "72/72 [==============================] - 0s 3ms/step - loss: 0.3128 - accuracy: 0.8928 - val_loss: 0.3020 - val_accuracy: 0.8922\n",
      "Epoch 13/250\n",
      "72/72 [==============================] - 0s 4ms/step - loss: 0.3053 - accuracy: 0.8928 - val_loss: 0.2965 - val_accuracy: 0.8922\n",
      "Epoch 14/250\n",
      "72/72 [==============================] - 0s 3ms/step - loss: 0.2986 - accuracy: 0.8969 - val_loss: 0.2994 - val_accuracy: 0.9118\n",
      "Epoch 15/250\n",
      "72/72 [==============================] - 0s 3ms/step - loss: 0.3061 - accuracy: 0.9039 - val_loss: 0.2900 - val_accuracy: 0.9118\n",
      "Epoch 16/250\n",
      "72/72 [==============================] - 0s 3ms/step - loss: 0.3133 - accuracy: 0.9039 - val_loss: 0.2847 - val_accuracy: 0.9216\n",
      "Epoch 17/250\n",
      "72/72 [==============================] - 0s 5ms/step - loss: 0.2803 - accuracy: 0.9164 - val_loss: 0.2793 - val_accuracy: 0.9216\n",
      "Epoch 18/250\n",
      "72/72 [==============================] - 0s 3ms/step - loss: 0.2758 - accuracy: 0.9095 - val_loss: 0.2772 - val_accuracy: 0.9216\n",
      "Epoch 19/250\n",
      "72/72 [==============================] - 0s 4ms/step - loss: 0.2811 - accuracy: 0.8955 - val_loss: 0.2724 - val_accuracy: 0.9216\n",
      "Epoch 20/250\n",
      "72/72 [==============================] - 0s 4ms/step - loss: 0.2696 - accuracy: 0.9081 - val_loss: 0.2687 - val_accuracy: 0.9216\n",
      "Epoch 21/250\n",
      "72/72 [==============================] - 0s 3ms/step - loss: 0.2762 - accuracy: 0.9025 - val_loss: 0.2676 - val_accuracy: 0.9118\n",
      "Epoch 22/250\n",
      "72/72 [==============================] - 0s 3ms/step - loss: 0.2730 - accuracy: 0.9123 - val_loss: 0.2632 - val_accuracy: 0.9216\n",
      "Epoch 23/250\n",
      "72/72 [==============================] - 0s 3ms/step - loss: 0.2842 - accuracy: 0.9025 - val_loss: 0.2612 - val_accuracy: 0.9216\n",
      "Epoch 24/250\n",
      "72/72 [==============================] - 0s 3ms/step - loss: 0.2759 - accuracy: 0.9178 - val_loss: 0.2543 - val_accuracy: 0.9216\n",
      "Epoch 25/250\n",
      "72/72 [==============================] - 0s 3ms/step - loss: 0.2938 - accuracy: 0.9025 - val_loss: 0.2575 - val_accuracy: 0.9216\n",
      "Epoch 26/250\n",
      "72/72 [==============================] - 0s 4ms/step - loss: 0.2612 - accuracy: 0.9123 - val_loss: 0.2573 - val_accuracy: 0.9118\n",
      "Epoch 27/250\n",
      "72/72 [==============================] - 0s 4ms/step - loss: 0.2761 - accuracy: 0.9095 - val_loss: 0.2506 - val_accuracy: 0.9216\n",
      "Epoch 28/250\n",
      "72/72 [==============================] - 0s 4ms/step - loss: 0.2548 - accuracy: 0.9136 - val_loss: 0.2479 - val_accuracy: 0.9412\n",
      "Epoch 29/250\n",
      "72/72 [==============================] - 0s 3ms/step - loss: 0.2820 - accuracy: 0.9095 - val_loss: 0.2462 - val_accuracy: 0.9412\n",
      "Epoch 30/250\n",
      "72/72 [==============================] - 0s 5ms/step - loss: 0.2793 - accuracy: 0.9095 - val_loss: 0.2464 - val_accuracy: 0.9412\n",
      "Epoch 31/250\n",
      "72/72 [==============================] - 0s 6ms/step - loss: 0.2683 - accuracy: 0.9178 - val_loss: 0.2451 - val_accuracy: 0.9314\n",
      "Epoch 32/250\n",
      "72/72 [==============================] - 0s 5ms/step - loss: 0.2620 - accuracy: 0.9178 - val_loss: 0.2384 - val_accuracy: 0.9412\n",
      "Epoch 33/250\n",
      "72/72 [==============================] - 0s 5ms/step - loss: 0.2593 - accuracy: 0.9234 - val_loss: 0.2356 - val_accuracy: 0.9412\n",
      "Epoch 34/250\n",
      "72/72 [==============================] - 0s 5ms/step - loss: 0.2663 - accuracy: 0.9136 - val_loss: 0.2378 - val_accuracy: 0.9412\n",
      "Epoch 35/250\n",
      "72/72 [==============================] - 0s 4ms/step - loss: 0.2568 - accuracy: 0.9109 - val_loss: 0.2282 - val_accuracy: 0.9314\n",
      "Epoch 36/250\n",
      "72/72 [==============================] - 0s 5ms/step - loss: 0.2523 - accuracy: 0.9081 - val_loss: 0.2321 - val_accuracy: 0.9412\n",
      "Epoch 37/250\n",
      "72/72 [==============================] - 0s 5ms/step - loss: 0.2573 - accuracy: 0.9164 - val_loss: 0.2344 - val_accuracy: 0.9216\n",
      "Epoch 38/250\n",
      "72/72 [==============================] - 0s 5ms/step - loss: 0.2654 - accuracy: 0.9081 - val_loss: 0.2272 - val_accuracy: 0.9412\n",
      "Epoch 39/250\n",
      "72/72 [==============================] - 0s 5ms/step - loss: 0.2484 - accuracy: 0.9206 - val_loss: 0.2263 - val_accuracy: 0.9412\n",
      "Epoch 40/250\n",
      "72/72 [==============================] - 0s 5ms/step - loss: 0.2516 - accuracy: 0.9192 - val_loss: 0.2220 - val_accuracy: 0.9412\n",
      "Epoch 41/250\n",
      "72/72 [==============================] - 0s 6ms/step - loss: 0.2621 - accuracy: 0.9150 - val_loss: 0.2213 - val_accuracy: 0.9412\n",
      "Epoch 42/250\n",
      "72/72 [==============================] - 0s 5ms/step - loss: 0.2663 - accuracy: 0.9136 - val_loss: 0.2172 - val_accuracy: 0.9314\n",
      "Epoch 43/250\n",
      "72/72 [==============================] - 0s 4ms/step - loss: 0.2502 - accuracy: 0.9262 - val_loss: 0.2232 - val_accuracy: 0.9412\n",
      "Epoch 44/250\n",
      "72/72 [==============================] - 1s 7ms/step - loss: 0.2592 - accuracy: 0.9136 - val_loss: 0.2107 - val_accuracy: 0.9412\n",
      "Epoch 45/250\n",
      "72/72 [==============================] - 0s 5ms/step - loss: 0.2589 - accuracy: 0.9150 - val_loss: 0.2097 - val_accuracy: 0.9412\n",
      "Epoch 46/250\n",
      "72/72 [==============================] - 0s 5ms/step - loss: 0.2609 - accuracy: 0.9164 - val_loss: 0.2112 - val_accuracy: 0.9412\n",
      "Epoch 47/250\n",
      "72/72 [==============================] - 0s 5ms/step - loss: 0.2501 - accuracy: 0.9164 - val_loss: 0.2086 - val_accuracy: 0.9412\n",
      "Epoch 48/250\n",
      "72/72 [==============================] - 0s 4ms/step - loss: 0.2248 - accuracy: 0.9318 - val_loss: 0.2103 - val_accuracy: 0.9412\n",
      "Epoch 49/250\n",
      "72/72 [==============================] - 0s 5ms/step - loss: 0.2469 - accuracy: 0.9095 - val_loss: 0.2065 - val_accuracy: 0.9412\n",
      "Epoch 50/250\n",
      "72/72 [==============================] - 0s 4ms/step - loss: 0.2445 - accuracy: 0.9234 - val_loss: 0.2078 - val_accuracy: 0.9412\n",
      "Epoch 51/250\n",
      "72/72 [==============================] - 0s 4ms/step - loss: 0.2429 - accuracy: 0.9123 - val_loss: 0.2085 - val_accuracy: 0.9412\n",
      "Epoch 52/250\n",
      "72/72 [==============================] - 0s 5ms/step - loss: 0.2438 - accuracy: 0.9109 - val_loss: 0.2054 - val_accuracy: 0.9412\n",
      "Epoch 53/250\n",
      "72/72 [==============================] - 0s 3ms/step - loss: 0.2443 - accuracy: 0.9276 - val_loss: 0.2065 - val_accuracy: 0.9412\n",
      "Epoch 54/250\n",
      "72/72 [==============================] - 0s 4ms/step - loss: 0.2501 - accuracy: 0.9220 - val_loss: 0.2063 - val_accuracy: 0.9412\n",
      "Epoch 55/250\n",
      "72/72 [==============================] - 0s 3ms/step - loss: 0.2534 - accuracy: 0.9150 - val_loss: 0.2035 - val_accuracy: 0.9510\n",
      "Epoch 56/250\n",
      "72/72 [==============================] - 0s 3ms/step - loss: 0.2307 - accuracy: 0.9318 - val_loss: 0.2073 - val_accuracy: 0.9412\n",
      "Epoch 57/250\n",
      "72/72 [==============================] - 0s 4ms/step - loss: 0.2401 - accuracy: 0.9220 - val_loss: 0.1968 - val_accuracy: 0.9412\n",
      "Epoch 58/250\n",
      "72/72 [==============================] - 0s 6ms/step - loss: 0.2508 - accuracy: 0.9276 - val_loss: 0.2020 - val_accuracy: 0.9412\n"
     ]
    },
    {
     "name": "stdout",
     "output_type": "stream",
     "text": [
      "Epoch 59/250\n",
      "72/72 [==============================] - 0s 3ms/step - loss: 0.2332 - accuracy: 0.9220 - val_loss: 0.1987 - val_accuracy: 0.9412\n",
      "Epoch 60/250\n",
      "72/72 [==============================] - 0s 3ms/step - loss: 0.2389 - accuracy: 0.9248 - val_loss: 0.1971 - val_accuracy: 0.9412\n",
      "Epoch 61/250\n",
      "72/72 [==============================] - 0s 3ms/step - loss: 0.2337 - accuracy: 0.9164 - val_loss: 0.2000 - val_accuracy: 0.9412\n",
      "Epoch 62/250\n",
      "72/72 [==============================] - 0s 3ms/step - loss: 0.2429 - accuracy: 0.9248 - val_loss: 0.1983 - val_accuracy: 0.9510\n",
      "Epoch 63/250\n",
      "72/72 [==============================] - 0s 4ms/step - loss: 0.2638 - accuracy: 0.9206 - val_loss: 0.1973 - val_accuracy: 0.9412\n",
      "Epoch 64/250\n",
      "72/72 [==============================] - 0s 3ms/step - loss: 0.2425 - accuracy: 0.9331 - val_loss: 0.1968 - val_accuracy: 0.9412\n",
      "Epoch 65/250\n",
      "72/72 [==============================] - 0s 3ms/step - loss: 0.2449 - accuracy: 0.9206 - val_loss: 0.1981 - val_accuracy: 0.9412\n",
      "Epoch 66/250\n",
      "72/72 [==============================] - 0s 4ms/step - loss: 0.2328 - accuracy: 0.9248 - val_loss: 0.2042 - val_accuracy: 0.9412\n",
      "Epoch 67/250\n",
      "72/72 [==============================] - 0s 3ms/step - loss: 0.2393 - accuracy: 0.9220 - val_loss: 0.1980 - val_accuracy: 0.9412\n",
      "Epoch 68/250\n",
      "72/72 [==============================] - 0s 3ms/step - loss: 0.2392 - accuracy: 0.9234 - val_loss: 0.2012 - val_accuracy: 0.9412\n",
      "Epoch 69/250\n",
      "72/72 [==============================] - 0s 3ms/step - loss: 0.2287 - accuracy: 0.9290 - val_loss: 0.1960 - val_accuracy: 0.9510\n",
      "Epoch 70/250\n",
      "72/72 [==============================] - 0s 3ms/step - loss: 0.2233 - accuracy: 0.9262 - val_loss: 0.1947 - val_accuracy: 0.9510\n",
      "Epoch 71/250\n",
      "72/72 [==============================] - 0s 5ms/step - loss: 0.2230 - accuracy: 0.9345 - val_loss: 0.1944 - val_accuracy: 0.9412\n",
      "Epoch 72/250\n",
      "72/72 [==============================] - 0s 4ms/step - loss: 0.2233 - accuracy: 0.9262 - val_loss: 0.1882 - val_accuracy: 0.9510\n",
      "Epoch 73/250\n",
      "72/72 [==============================] - 0s 3ms/step - loss: 0.2385 - accuracy: 0.9248 - val_loss: 0.1873 - val_accuracy: 0.9510\n",
      "Epoch 74/250\n",
      "72/72 [==============================] - 0s 3ms/step - loss: 0.2232 - accuracy: 0.9276 - val_loss: 0.1915 - val_accuracy: 0.9412\n",
      "Epoch 75/250\n",
      "72/72 [==============================] - 0s 4ms/step - loss: 0.2267 - accuracy: 0.9318 - val_loss: 0.1920 - val_accuracy: 0.9412\n",
      "Epoch 76/250\n",
      "72/72 [==============================] - 0s 3ms/step - loss: 0.2244 - accuracy: 0.9220 - val_loss: 0.1926 - val_accuracy: 0.9412\n",
      "Epoch 77/250\n",
      "72/72 [==============================] - 0s 3ms/step - loss: 0.2322 - accuracy: 0.9178 - val_loss: 0.1871 - val_accuracy: 0.9510\n",
      "Epoch 78/250\n",
      "72/72 [==============================] - 0s 3ms/step - loss: 0.2381 - accuracy: 0.9290 - val_loss: 0.1851 - val_accuracy: 0.9510\n",
      "Epoch 79/250\n",
      "72/72 [==============================] - 0s 5ms/step - loss: 0.2276 - accuracy: 0.9304 - val_loss: 0.1912 - val_accuracy: 0.9510\n",
      "Epoch 80/250\n",
      "72/72 [==============================] - 0s 3ms/step - loss: 0.2285 - accuracy: 0.9248 - val_loss: 0.1885 - val_accuracy: 0.9510\n",
      "Epoch 81/250\n",
      "72/72 [==============================] - 0s 3ms/step - loss: 0.2499 - accuracy: 0.9192 - val_loss: 0.1905 - val_accuracy: 0.9510\n",
      "Epoch 82/250\n",
      "72/72 [==============================] - 0s 3ms/step - loss: 0.2223 - accuracy: 0.9164 - val_loss: 0.1861 - val_accuracy: 0.9510\n",
      "Epoch 83/250\n",
      "72/72 [==============================] - 0s 3ms/step - loss: 0.2240 - accuracy: 0.9345 - val_loss: 0.1862 - val_accuracy: 0.9412\n",
      "Epoch 84/250\n",
      "72/72 [==============================] - 0s 5ms/step - loss: 0.2373 - accuracy: 0.9304 - val_loss: 0.1828 - val_accuracy: 0.9412\n",
      "Epoch 85/250\n",
      "72/72 [==============================] - 0s 4ms/step - loss: 0.2352 - accuracy: 0.9290 - val_loss: 0.1812 - val_accuracy: 0.9510\n",
      "Epoch 86/250\n",
      "72/72 [==============================] - 0s 4ms/step - loss: 0.2181 - accuracy: 0.9318 - val_loss: 0.1802 - val_accuracy: 0.9510\n",
      "Epoch 87/250\n",
      "72/72 [==============================] - 0s 4ms/step - loss: 0.2264 - accuracy: 0.9248 - val_loss: 0.1816 - val_accuracy: 0.9510\n",
      "Epoch 88/250\n",
      "72/72 [==============================] - 0s 4ms/step - loss: 0.2216 - accuracy: 0.9318 - val_loss: 0.1753 - val_accuracy: 0.9510\n",
      "Epoch 89/250\n",
      "72/72 [==============================] - 0s 4ms/step - loss: 0.2228 - accuracy: 0.9276 - val_loss: 0.1762 - val_accuracy: 0.9510\n",
      "Epoch 90/250\n",
      "72/72 [==============================] - 0s 4ms/step - loss: 0.2176 - accuracy: 0.9373 - val_loss: 0.1712 - val_accuracy: 0.9412\n",
      "Epoch 91/250\n",
      "72/72 [==============================] - 0s 4ms/step - loss: 0.2173 - accuracy: 0.9276 - val_loss: 0.1741 - val_accuracy: 0.9510\n",
      "Epoch 92/250\n",
      "72/72 [==============================] - 0s 4ms/step - loss: 0.2127 - accuracy: 0.9318 - val_loss: 0.1699 - val_accuracy: 0.9412\n",
      "Epoch 93/250\n",
      "72/72 [==============================] - 0s 4ms/step - loss: 0.1976 - accuracy: 0.9331 - val_loss: 0.1722 - val_accuracy: 0.9510\n",
      "Epoch 94/250\n",
      "72/72 [==============================] - 0s 4ms/step - loss: 0.2133 - accuracy: 0.9345 - val_loss: 0.1728 - val_accuracy: 0.9510\n",
      "Epoch 95/250\n",
      "72/72 [==============================] - 0s 4ms/step - loss: 0.2265 - accuracy: 0.9304 - val_loss: 0.1710 - val_accuracy: 0.9510\n",
      "Epoch 96/250\n",
      "72/72 [==============================] - 0s 4ms/step - loss: 0.2140 - accuracy: 0.9359 - val_loss: 0.1762 - val_accuracy: 0.9510\n",
      "Epoch 97/250\n",
      "72/72 [==============================] - 0s 6ms/step - loss: 0.2227 - accuracy: 0.9248 - val_loss: 0.1715 - val_accuracy: 0.9510\n",
      "Epoch 98/250\n",
      "72/72 [==============================] - 0s 4ms/step - loss: 0.2091 - accuracy: 0.9331 - val_loss: 0.1715 - val_accuracy: 0.9510\n",
      "Epoch 99/250\n",
      "72/72 [==============================] - 0s 4ms/step - loss: 0.2233 - accuracy: 0.9206 - val_loss: 0.1757 - val_accuracy: 0.9510\n",
      "Epoch 100/250\n",
      "72/72 [==============================] - 0s 4ms/step - loss: 0.2318 - accuracy: 0.9276 - val_loss: 0.1736 - val_accuracy: 0.9510\n",
      "Epoch 101/250\n",
      "72/72 [==============================] - 0s 5ms/step - loss: 0.2155 - accuracy: 0.9345 - val_loss: 0.1726 - val_accuracy: 0.9510\n",
      "Epoch 102/250\n",
      "72/72 [==============================] - 0s 4ms/step - loss: 0.2169 - accuracy: 0.9331 - val_loss: 0.1716 - val_accuracy: 0.9510\n",
      "Epoch 103/250\n",
      "72/72 [==============================] - 0s 4ms/step - loss: 0.2116 - accuracy: 0.9304 - val_loss: 0.1743 - val_accuracy: 0.9412\n",
      "Epoch 104/250\n",
      "72/72 [==============================] - 0s 5ms/step - loss: 0.2289 - accuracy: 0.9290 - val_loss: 0.1733 - val_accuracy: 0.9510\n",
      "Epoch 105/250\n",
      "72/72 [==============================] - 0s 4ms/step - loss: 0.2063 - accuracy: 0.9331 - val_loss: 0.1710 - val_accuracy: 0.9510\n",
      "Epoch 106/250\n",
      "72/72 [==============================] - 0s 3ms/step - loss: 0.2115 - accuracy: 0.9248 - val_loss: 0.1788 - val_accuracy: 0.9510\n",
      "Epoch 107/250\n",
      "72/72 [==============================] - 0s 4ms/step - loss: 0.2213 - accuracy: 0.9401 - val_loss: 0.1687 - val_accuracy: 0.9510\n",
      "Epoch 108/250\n",
      "72/72 [==============================] - 0s 4ms/step - loss: 0.2239 - accuracy: 0.9318 - val_loss: 0.1698 - val_accuracy: 0.9510\n",
      "Epoch 109/250\n",
      "72/72 [==============================] - 0s 5ms/step - loss: 0.2125 - accuracy: 0.9331 - val_loss: 0.1738 - val_accuracy: 0.9412\n",
      "Epoch 110/250\n",
      "72/72 [==============================] - 0s 3ms/step - loss: 0.2109 - accuracy: 0.9304 - val_loss: 0.1710 - val_accuracy: 0.9510\n",
      "Epoch 111/250\n",
      "72/72 [==============================] - 0s 5ms/step - loss: 0.2238 - accuracy: 0.9290 - val_loss: 0.1748 - val_accuracy: 0.9412\n",
      "Epoch 112/250\n",
      "72/72 [==============================] - 0s 3ms/step - loss: 0.1995 - accuracy: 0.9290 - val_loss: 0.1699 - val_accuracy: 0.9510\n",
      "Epoch 113/250\n",
      "72/72 [==============================] - 0s 3ms/step - loss: 0.2082 - accuracy: 0.9359 - val_loss: 0.1717 - val_accuracy: 0.9510\n",
      "Epoch 114/250\n",
      "72/72 [==============================] - 0s 4ms/step - loss: 0.1987 - accuracy: 0.9345 - val_loss: 0.1696 - val_accuracy: 0.9510\n",
      "Epoch 115/250\n",
      "72/72 [==============================] - 0s 4ms/step - loss: 0.1981 - accuracy: 0.9345 - val_loss: 0.1667 - val_accuracy: 0.9510\n",
      "Epoch 116/250\n"
     ]
    },
    {
     "name": "stdout",
     "output_type": "stream",
     "text": [
      "72/72 [==============================] - 0s 3ms/step - loss: 0.2079 - accuracy: 0.9304 - val_loss: 0.1697 - val_accuracy: 0.9510\n",
      "Epoch 117/250\n",
      "72/72 [==============================] - 0s 4ms/step - loss: 0.2038 - accuracy: 0.9304 - val_loss: 0.1722 - val_accuracy: 0.9412\n",
      "Epoch 118/250\n",
      "72/72 [==============================] - 0s 4ms/step - loss: 0.2122 - accuracy: 0.9331 - val_loss: 0.1778 - val_accuracy: 0.9412\n",
      "Epoch 119/250\n",
      "72/72 [==============================] - 0s 4ms/step - loss: 0.2125 - accuracy: 0.9220 - val_loss: 0.1839 - val_accuracy: 0.9412\n",
      "Epoch 120/250\n",
      "72/72 [==============================] - 0s 4ms/step - loss: 0.2095 - accuracy: 0.9276 - val_loss: 0.1699 - val_accuracy: 0.9412\n",
      "Epoch 121/250\n",
      "72/72 [==============================] - 0s 4ms/step - loss: 0.2152 - accuracy: 0.9318 - val_loss: 0.1713 - val_accuracy: 0.9510\n",
      "Epoch 122/250\n",
      "72/72 [==============================] - 0s 4ms/step - loss: 0.1899 - accuracy: 0.9401 - val_loss: 0.1684 - val_accuracy: 0.9510\n",
      "Epoch 123/250\n",
      "72/72 [==============================] - 0s 3ms/step - loss: 0.2156 - accuracy: 0.9290 - val_loss: 0.1660 - val_accuracy: 0.9412\n",
      "Epoch 124/250\n",
      "72/72 [==============================] - 0s 5ms/step - loss: 0.1929 - accuracy: 0.9373 - val_loss: 0.1637 - val_accuracy: 0.9510\n",
      "Epoch 125/250\n",
      "72/72 [==============================] - 0s 4ms/step - loss: 0.1917 - accuracy: 0.9401 - val_loss: 0.1677 - val_accuracy: 0.9510\n",
      "Epoch 126/250\n",
      "72/72 [==============================] - 0s 4ms/step - loss: 0.1842 - accuracy: 0.9373 - val_loss: 0.1642 - val_accuracy: 0.9510\n",
      "Epoch 127/250\n",
      "72/72 [==============================] - 0s 4ms/step - loss: 0.2004 - accuracy: 0.9304 - val_loss: 0.1643 - val_accuracy: 0.9510\n",
      "Epoch 128/250\n",
      "72/72 [==============================] - 0s 4ms/step - loss: 0.1826 - accuracy: 0.9387 - val_loss: 0.1614 - val_accuracy: 0.9510\n",
      "Epoch 129/250\n",
      "72/72 [==============================] - 0s 5ms/step - loss: 0.1867 - accuracy: 0.9331 - val_loss: 0.1645 - val_accuracy: 0.9510\n",
      "Epoch 130/250\n",
      "72/72 [==============================] - 0s 4ms/step - loss: 0.1916 - accuracy: 0.9345 - val_loss: 0.1657 - val_accuracy: 0.9510\n",
      "Epoch 131/250\n",
      "72/72 [==============================] - 0s 3ms/step - loss: 0.2113 - accuracy: 0.9304 - val_loss: 0.1612 - val_accuracy: 0.9510\n",
      "Epoch 132/250\n",
      "72/72 [==============================] - 0s 3ms/step - loss: 0.2013 - accuracy: 0.9290 - val_loss: 0.1644 - val_accuracy: 0.9510\n",
      "Epoch 133/250\n",
      "72/72 [==============================] - 0s 4ms/step - loss: 0.1899 - accuracy: 0.9401 - val_loss: 0.1670 - val_accuracy: 0.9412\n",
      "Epoch 134/250\n",
      "72/72 [==============================] - 0s 4ms/step - loss: 0.1819 - accuracy: 0.9387 - val_loss: 0.1590 - val_accuracy: 0.9510\n",
      "Epoch 135/250\n",
      "72/72 [==============================] - 0s 3ms/step - loss: 0.2106 - accuracy: 0.9290 - val_loss: 0.1596 - val_accuracy: 0.9510\n",
      "Epoch 136/250\n",
      "72/72 [==============================] - 0s 3ms/step - loss: 0.1969 - accuracy: 0.9304 - val_loss: 0.1592 - val_accuracy: 0.9510\n",
      "Epoch 137/250\n",
      "72/72 [==============================] - 0s 3ms/step - loss: 0.1944 - accuracy: 0.9331 - val_loss: 0.1518 - val_accuracy: 0.9510\n",
      "Epoch 138/250\n",
      "72/72 [==============================] - 0s 6ms/step - loss: 0.2089 - accuracy: 0.9290 - val_loss: 0.1504 - val_accuracy: 0.9510\n",
      "Epoch 139/250\n",
      "72/72 [==============================] - 0s 4ms/step - loss: 0.2283 - accuracy: 0.9262 - val_loss: 0.1545 - val_accuracy: 0.9510\n",
      "Epoch 140/250\n",
      "72/72 [==============================] - 0s 5ms/step - loss: 0.2060 - accuracy: 0.9331 - val_loss: 0.1563 - val_accuracy: 0.9510\n",
      "Epoch 141/250\n",
      "72/72 [==============================] - 0s 4ms/step - loss: 0.1964 - accuracy: 0.9387 - val_loss: 0.1585 - val_accuracy: 0.9510\n",
      "Epoch 142/250\n",
      "72/72 [==============================] - 0s 4ms/step - loss: 0.1939 - accuracy: 0.9304 - val_loss: 0.1566 - val_accuracy: 0.9510\n",
      "Epoch 143/250\n",
      "72/72 [==============================] - 0s 4ms/step - loss: 0.2105 - accuracy: 0.9331 - val_loss: 0.1558 - val_accuracy: 0.9510\n",
      "Epoch 144/250\n",
      "72/72 [==============================] - 0s 4ms/step - loss: 0.1880 - accuracy: 0.9415 - val_loss: 0.1563 - val_accuracy: 0.9510\n",
      "Epoch 145/250\n",
      "72/72 [==============================] - 0s 4ms/step - loss: 0.1886 - accuracy: 0.9429 - val_loss: 0.1584 - val_accuracy: 0.9510\n",
      "Epoch 146/250\n",
      "72/72 [==============================] - 0s 4ms/step - loss: 0.1980 - accuracy: 0.9415 - val_loss: 0.1580 - val_accuracy: 0.9510\n",
      "Epoch 147/250\n",
      "72/72 [==============================] - 0s 4ms/step - loss: 0.1989 - accuracy: 0.9415 - val_loss: 0.1571 - val_accuracy: 0.9510\n",
      "Epoch 148/250\n",
      "72/72 [==============================] - 0s 4ms/step - loss: 0.1779 - accuracy: 0.9443 - val_loss: 0.1541 - val_accuracy: 0.9510\n",
      "Epoch 149/250\n",
      "72/72 [==============================] - 0s 4ms/step - loss: 0.2055 - accuracy: 0.9318 - val_loss: 0.1562 - val_accuracy: 0.9510\n",
      "Epoch 150/250\n",
      "72/72 [==============================] - 0s 4ms/step - loss: 0.2223 - accuracy: 0.9262 - val_loss: 0.1614 - val_accuracy: 0.9510\n",
      "Epoch 151/250\n",
      "72/72 [==============================] - 0s 6ms/step - loss: 0.1961 - accuracy: 0.9359 - val_loss: 0.1559 - val_accuracy: 0.9510\n",
      "Epoch 152/250\n",
      "72/72 [==============================] - 0s 5ms/step - loss: 0.1932 - accuracy: 0.9345 - val_loss: 0.1568 - val_accuracy: 0.9510\n",
      "Epoch 153/250\n",
      "72/72 [==============================] - 0s 4ms/step - loss: 0.2054 - accuracy: 0.9387 - val_loss: 0.1557 - val_accuracy: 0.9510\n",
      "Epoch 154/250\n",
      "72/72 [==============================] - 0s 4ms/step - loss: 0.1842 - accuracy: 0.9415 - val_loss: 0.1588 - val_accuracy: 0.9510\n",
      "Epoch 155/250\n",
      "72/72 [==============================] - 0s 4ms/step - loss: 0.2321 - accuracy: 0.9234 - val_loss: 0.1563 - val_accuracy: 0.9510\n",
      "Epoch 156/250\n",
      "72/72 [==============================] - 0s 4ms/step - loss: 0.1863 - accuracy: 0.9401 - val_loss: 0.1573 - val_accuracy: 0.9510\n",
      "Epoch 157/250\n",
      "72/72 [==============================] - 0s 4ms/step - loss: 0.1928 - accuracy: 0.9415 - val_loss: 0.1562 - val_accuracy: 0.9510\n",
      "Epoch 158/250\n",
      "72/72 [==============================] - 0s 4ms/step - loss: 0.1954 - accuracy: 0.9345 - val_loss: 0.1529 - val_accuracy: 0.9510\n",
      "Epoch 159/250\n",
      "72/72 [==============================] - 0s 3ms/step - loss: 0.1989 - accuracy: 0.9373 - val_loss: 0.1538 - val_accuracy: 0.9510\n",
      "Epoch 160/250\n",
      "72/72 [==============================] - 0s 4ms/step - loss: 0.2133 - accuracy: 0.9387 - val_loss: 0.1557 - val_accuracy: 0.9510\n",
      "Epoch 161/250\n",
      "72/72 [==============================] - 0s 3ms/step - loss: 0.1866 - accuracy: 0.9457 - val_loss: 0.1545 - val_accuracy: 0.9510\n",
      "Epoch 162/250\n",
      "72/72 [==============================] - 0s 4ms/step - loss: 0.1933 - accuracy: 0.9304 - val_loss: 0.1599 - val_accuracy: 0.9510\n",
      "Epoch 163/250\n",
      "72/72 [==============================] - 0s 4ms/step - loss: 0.1910 - accuracy: 0.9387 - val_loss: 0.1540 - val_accuracy: 0.9510\n",
      "Epoch 164/250\n",
      "72/72 [==============================] - 0s 4ms/step - loss: 0.1966 - accuracy: 0.9387 - val_loss: 0.1549 - val_accuracy: 0.9510\n",
      "Epoch 165/250\n",
      "72/72 [==============================] - 0s 5ms/step - loss: 0.2148 - accuracy: 0.9262 - val_loss: 0.1531 - val_accuracy: 0.9510\n",
      "Epoch 166/250\n",
      "72/72 [==============================] - 0s 5ms/step - loss: 0.1968 - accuracy: 0.9401 - val_loss: 0.1517 - val_accuracy: 0.9510\n",
      "Epoch 167/250\n",
      "72/72 [==============================] - 0s 4ms/step - loss: 0.1807 - accuracy: 0.9415 - val_loss: 0.1525 - val_accuracy: 0.9510\n",
      "Epoch 168/250\n",
      "72/72 [==============================] - 0s 5ms/step - loss: 0.1860 - accuracy: 0.9401 - val_loss: 0.1564 - val_accuracy: 0.9510\n",
      "Epoch 169/250\n",
      "72/72 [==============================] - 0s 5ms/step - loss: 0.1858 - accuracy: 0.9331 - val_loss: 0.1537 - val_accuracy: 0.9510\n",
      "Epoch 170/250\n",
      "72/72 [==============================] - 0s 5ms/step - loss: 0.1838 - accuracy: 0.9429 - val_loss: 0.1539 - val_accuracy: 0.9510\n",
      "Epoch 171/250\n",
      "72/72 [==============================] - 0s 4ms/step - loss: 0.1894 - accuracy: 0.9345 - val_loss: 0.1514 - val_accuracy: 0.9510\n",
      "Epoch 172/250\n",
      "72/72 [==============================] - 0s 4ms/step - loss: 0.1852 - accuracy: 0.9401 - val_loss: 0.1536 - val_accuracy: 0.9510\n",
      "Epoch 173/250\n"
     ]
    },
    {
     "name": "stdout",
     "output_type": "stream",
     "text": [
      "72/72 [==============================] - 0s 4ms/step - loss: 0.1909 - accuracy: 0.9373 - val_loss: 0.1544 - val_accuracy: 0.9510\n",
      "Epoch 174/250\n",
      "72/72 [==============================] - 0s 4ms/step - loss: 0.1993 - accuracy: 0.9304 - val_loss: 0.1554 - val_accuracy: 0.9510\n",
      "Epoch 175/250\n",
      "72/72 [==============================] - 0s 4ms/step - loss: 0.1834 - accuracy: 0.9345 - val_loss: 0.1567 - val_accuracy: 0.9510\n",
      "Epoch 176/250\n",
      "72/72 [==============================] - 0s 4ms/step - loss: 0.1789 - accuracy: 0.9373 - val_loss: 0.1570 - val_accuracy: 0.9510\n",
      "Epoch 177/250\n",
      "72/72 [==============================] - 0s 3ms/step - loss: 0.1916 - accuracy: 0.9331 - val_loss: 0.1568 - val_accuracy: 0.9510\n",
      "Epoch 178/250\n",
      "72/72 [==============================] - 0s 4ms/step - loss: 0.1879 - accuracy: 0.9345 - val_loss: 0.1556 - val_accuracy: 0.9510\n",
      "Epoch 179/250\n",
      "72/72 [==============================] - 0s 4ms/step - loss: 0.1780 - accuracy: 0.9429 - val_loss: 0.1529 - val_accuracy: 0.9510\n",
      "Epoch 180/250\n",
      "72/72 [==============================] - 0s 5ms/step - loss: 0.1713 - accuracy: 0.9387 - val_loss: 0.1549 - val_accuracy: 0.9510\n",
      "Epoch 181/250\n",
      "72/72 [==============================] - 0s 4ms/step - loss: 0.2070 - accuracy: 0.9248 - val_loss: 0.1522 - val_accuracy: 0.9510\n",
      "Epoch 182/250\n",
      "72/72 [==============================] - 0s 4ms/step - loss: 0.1954 - accuracy: 0.9373 - val_loss: 0.1587 - val_accuracy: 0.9510\n",
      "Epoch 183/250\n",
      "72/72 [==============================] - 0s 3ms/step - loss: 0.1905 - accuracy: 0.9331 - val_loss: 0.1510 - val_accuracy: 0.9510\n",
      "Epoch 184/250\n",
      "72/72 [==============================] - 0s 4ms/step - loss: 0.1611 - accuracy: 0.9429 - val_loss: 0.1443 - val_accuracy: 0.9510\n",
      "Epoch 185/250\n",
      "72/72 [==============================] - 0s 3ms/step - loss: 0.1952 - accuracy: 0.9318 - val_loss: 0.1492 - val_accuracy: 0.9510\n",
      "Epoch 186/250\n",
      "72/72 [==============================] - 0s 4ms/step - loss: 0.1839 - accuracy: 0.9401 - val_loss: 0.1463 - val_accuracy: 0.9510\n",
      "Epoch 187/250\n",
      "72/72 [==============================] - 0s 4ms/step - loss: 0.1815 - accuracy: 0.9429 - val_loss: 0.1440 - val_accuracy: 0.9510\n",
      "Epoch 188/250\n",
      "72/72 [==============================] - 0s 4ms/step - loss: 0.1852 - accuracy: 0.9387 - val_loss: 0.1428 - val_accuracy: 0.9510\n",
      "Epoch 189/250\n",
      "72/72 [==============================] - 0s 4ms/step - loss: 0.1856 - accuracy: 0.9359 - val_loss: 0.1446 - val_accuracy: 0.9510\n",
      "Epoch 190/250\n",
      "72/72 [==============================] - 0s 4ms/step - loss: 0.1653 - accuracy: 0.9485 - val_loss: 0.1446 - val_accuracy: 0.9510\n",
      "Epoch 191/250\n",
      "72/72 [==============================] - 0s 4ms/step - loss: 0.1913 - accuracy: 0.9443 - val_loss: 0.1437 - val_accuracy: 0.9510\n",
      "Epoch 192/250\n",
      "72/72 [==============================] - 0s 4ms/step - loss: 0.1679 - accuracy: 0.9415 - val_loss: 0.1486 - val_accuracy: 0.9510\n",
      "Epoch 193/250\n",
      "72/72 [==============================] - 0s 5ms/step - loss: 0.1799 - accuracy: 0.9443 - val_loss: 0.1440 - val_accuracy: 0.9510\n",
      "Epoch 194/250\n",
      "72/72 [==============================] - 0s 6ms/step - loss: 0.1812 - accuracy: 0.9387 - val_loss: 0.1415 - val_accuracy: 0.9510\n",
      "Epoch 195/250\n",
      "72/72 [==============================] - 0s 5ms/step - loss: 0.1740 - accuracy: 0.9401 - val_loss: 0.1434 - val_accuracy: 0.9510\n",
      "Epoch 196/250\n",
      "72/72 [==============================] - 0s 4ms/step - loss: 0.1774 - accuracy: 0.9485 - val_loss: 0.1496 - val_accuracy: 0.9510\n",
      "Epoch 197/250\n",
      "72/72 [==============================] - 0s 5ms/step - loss: 0.1903 - accuracy: 0.9331 - val_loss: 0.1459 - val_accuracy: 0.9510\n",
      "Epoch 198/250\n",
      "72/72 [==============================] - 0s 4ms/step - loss: 0.1704 - accuracy: 0.9429 - val_loss: 0.1450 - val_accuracy: 0.9510\n",
      "Epoch 199/250\n",
      "72/72 [==============================] - 0s 5ms/step - loss: 0.1664 - accuracy: 0.9457 - val_loss: 0.1432 - val_accuracy: 0.9510\n",
      "Epoch 200/250\n",
      "72/72 [==============================] - 0s 4ms/step - loss: 0.1746 - accuracy: 0.9429 - val_loss: 0.1430 - val_accuracy: 0.9510\n",
      "Epoch 201/250\n",
      "72/72 [==============================] - 0s 5ms/step - loss: 0.1795 - accuracy: 0.9345 - val_loss: 0.1410 - val_accuracy: 0.9510\n",
      "Epoch 202/250\n",
      "72/72 [==============================] - 0s 4ms/step - loss: 0.2018 - accuracy: 0.9345 - val_loss: 0.1482 - val_accuracy: 0.9412\n",
      "Epoch 203/250\n",
      "72/72 [==============================] - 0s 4ms/step - loss: 0.1927 - accuracy: 0.9373 - val_loss: 0.1449 - val_accuracy: 0.9510\n",
      "Epoch 204/250\n",
      "72/72 [==============================] - 0s 5ms/step - loss: 0.1816 - accuracy: 0.9331 - val_loss: 0.1356 - val_accuracy: 0.9510\n",
      "Epoch 205/250\n",
      "72/72 [==============================] - 0s 4ms/step - loss: 0.1832 - accuracy: 0.9359 - val_loss: 0.1382 - val_accuracy: 0.9510\n",
      "Epoch 206/250\n",
      "72/72 [==============================] - 0s 4ms/step - loss: 0.2092 - accuracy: 0.9387 - val_loss: 0.1378 - val_accuracy: 0.9510\n",
      "Epoch 207/250\n",
      "72/72 [==============================] - 0s 4ms/step - loss: 0.1852 - accuracy: 0.9415 - val_loss: 0.1406 - val_accuracy: 0.9510\n",
      "Epoch 208/250\n",
      "72/72 [==============================] - 0s 7ms/step - loss: 0.1785 - accuracy: 0.9373 - val_loss: 0.1357 - val_accuracy: 0.9510\n",
      "Epoch 209/250\n",
      "72/72 [==============================] - 0s 5ms/step - loss: 0.1679 - accuracy: 0.9415 - val_loss: 0.1362 - val_accuracy: 0.9510\n",
      "Epoch 210/250\n",
      "72/72 [==============================] - 0s 4ms/step - loss: 0.2054 - accuracy: 0.9318 - val_loss: 0.1410 - val_accuracy: 0.9510\n",
      "Epoch 211/250\n",
      "72/72 [==============================] - 0s 4ms/step - loss: 0.1885 - accuracy: 0.9290 - val_loss: 0.1363 - val_accuracy: 0.9510\n",
      "Epoch 212/250\n",
      "72/72 [==============================] - 0s 4ms/step - loss: 0.1817 - accuracy: 0.9276 - val_loss: 0.1408 - val_accuracy: 0.9510\n",
      "Epoch 213/250\n",
      "72/72 [==============================] - 0s 4ms/step - loss: 0.1782 - accuracy: 0.9359 - val_loss: 0.1373 - val_accuracy: 0.9510\n",
      "Epoch 214/250\n",
      "72/72 [==============================] - 0s 4ms/step - loss: 0.1724 - accuracy: 0.9415 - val_loss: 0.1395 - val_accuracy: 0.9510\n",
      "Epoch 215/250\n",
      "72/72 [==============================] - 0s 4ms/step - loss: 0.1727 - accuracy: 0.9415 - val_loss: 0.1473 - val_accuracy: 0.9510\n",
      "Epoch 216/250\n",
      "72/72 [==============================] - 0s 3ms/step - loss: 0.1706 - accuracy: 0.9387 - val_loss: 0.1402 - val_accuracy: 0.9510\n",
      "Epoch 217/250\n",
      "72/72 [==============================] - 0s 4ms/step - loss: 0.1650 - accuracy: 0.9457 - val_loss: 0.1380 - val_accuracy: 0.9510\n",
      "Epoch 218/250\n",
      "72/72 [==============================] - 0s 4ms/step - loss: 0.2039 - accuracy: 0.9234 - val_loss: 0.1380 - val_accuracy: 0.9510\n",
      "Epoch 219/250\n",
      "72/72 [==============================] - 0s 3ms/step - loss: 0.1659 - accuracy: 0.9415 - val_loss: 0.1443 - val_accuracy: 0.9510\n",
      "Epoch 220/250\n",
      "72/72 [==============================] - 0s 4ms/step - loss: 0.1682 - accuracy: 0.9345 - val_loss: 0.1435 - val_accuracy: 0.9510\n",
      "Epoch 221/250\n",
      "72/72 [==============================] - 0s 4ms/step - loss: 0.1850 - accuracy: 0.9276 - val_loss: 0.1362 - val_accuracy: 0.9510\n",
      "Epoch 222/250\n",
      "72/72 [==============================] - 0s 6ms/step - loss: 0.1830 - accuracy: 0.9415 - val_loss: 0.1397 - val_accuracy: 0.9510\n",
      "Epoch 223/250\n",
      "72/72 [==============================] - 0s 3ms/step - loss: 0.1702 - accuracy: 0.9387 - val_loss: 0.1358 - val_accuracy: 0.9510\n",
      "Epoch 224/250\n",
      "72/72 [==============================] - 0s 4ms/step - loss: 0.1579 - accuracy: 0.9485 - val_loss: 0.1335 - val_accuracy: 0.9510\n",
      "Epoch 225/250\n",
      "72/72 [==============================] - 0s 4ms/step - loss: 0.1845 - accuracy: 0.9429 - val_loss: 0.1394 - val_accuracy: 0.9510\n",
      "Epoch 226/250\n",
      "72/72 [==============================] - 0s 3ms/step - loss: 0.1854 - accuracy: 0.9387 - val_loss: 0.1375 - val_accuracy: 0.9510\n",
      "Epoch 227/250\n",
      "72/72 [==============================] - 0s 4ms/step - loss: 0.1818 - accuracy: 0.9471 - val_loss: 0.1355 - val_accuracy: 0.9510\n",
      "Epoch 228/250\n",
      "72/72 [==============================] - 0s 4ms/step - loss: 0.1848 - accuracy: 0.9331 - val_loss: 0.1367 - val_accuracy: 0.9510\n",
      "Epoch 229/250\n",
      "72/72 [==============================] - 0s 4ms/step - loss: 0.1550 - accuracy: 0.9499 - val_loss: 0.1317 - val_accuracy: 0.9510\n",
      "Epoch 230/250\n"
     ]
    },
    {
     "name": "stdout",
     "output_type": "stream",
     "text": [
      "72/72 [==============================] - 0s 4ms/step - loss: 0.1736 - accuracy: 0.9499 - val_loss: 0.1308 - val_accuracy: 0.9510\n",
      "Epoch 231/250\n",
      "72/72 [==============================] - 0s 3ms/step - loss: 0.1822 - accuracy: 0.9429 - val_loss: 0.1336 - val_accuracy: 0.9510\n",
      "Epoch 232/250\n",
      "72/72 [==============================] - 0s 3ms/step - loss: 0.1678 - accuracy: 0.9457 - val_loss: 0.1342 - val_accuracy: 0.9510\n",
      "Epoch 233/250\n",
      "72/72 [==============================] - 0s 3ms/step - loss: 0.1745 - accuracy: 0.9401 - val_loss: 0.1402 - val_accuracy: 0.9510\n",
      "Epoch 234/250\n",
      "72/72 [==============================] - 0s 3ms/step - loss: 0.1780 - accuracy: 0.9429 - val_loss: 0.1303 - val_accuracy: 0.9510\n",
      "Epoch 235/250\n",
      "72/72 [==============================] - 0s 4ms/step - loss: 0.1625 - accuracy: 0.9429 - val_loss: 0.1316 - val_accuracy: 0.9510\n",
      "Epoch 236/250\n",
      "72/72 [==============================] - 0s 5ms/step - loss: 0.1708 - accuracy: 0.9429 - val_loss: 0.1323 - val_accuracy: 0.9510\n",
      "Epoch 237/250\n",
      "72/72 [==============================] - 0s 3ms/step - loss: 0.1751 - accuracy: 0.9457 - val_loss: 0.1339 - val_accuracy: 0.9510\n",
      "Epoch 238/250\n",
      "72/72 [==============================] - 0s 3ms/step - loss: 0.1782 - accuracy: 0.9415 - val_loss: 0.1329 - val_accuracy: 0.9510\n",
      "Epoch 239/250\n",
      "72/72 [==============================] - 0s 3ms/step - loss: 0.2006 - accuracy: 0.9373 - val_loss: 0.1323 - val_accuracy: 0.9510\n",
      "Epoch 240/250\n",
      "72/72 [==============================] - 0s 4ms/step - loss: 0.1692 - accuracy: 0.9387 - val_loss: 0.1366 - val_accuracy: 0.9510\n",
      "Epoch 241/250\n",
      "72/72 [==============================] - 0s 4ms/step - loss: 0.1664 - accuracy: 0.9415 - val_loss: 0.1328 - val_accuracy: 0.9510\n",
      "Epoch 242/250\n",
      "72/72 [==============================] - 0s 3ms/step - loss: 0.1910 - accuracy: 0.9373 - val_loss: 0.1373 - val_accuracy: 0.9510\n",
      "Epoch 243/250\n",
      "72/72 [==============================] - 0s 3ms/step - loss: 0.1560 - accuracy: 0.9429 - val_loss: 0.1368 - val_accuracy: 0.9510\n",
      "Epoch 244/250\n",
      "72/72 [==============================] - 0s 3ms/step - loss: 0.1604 - accuracy: 0.9387 - val_loss: 0.1366 - val_accuracy: 0.9510\n",
      "Epoch 245/250\n",
      "72/72 [==============================] - 0s 4ms/step - loss: 0.1862 - accuracy: 0.9331 - val_loss: 0.1402 - val_accuracy: 0.9510\n",
      "Epoch 246/250\n",
      "72/72 [==============================] - 0s 4ms/step - loss: 0.1793 - accuracy: 0.9415 - val_loss: 0.1340 - val_accuracy: 0.9510\n",
      "Epoch 247/250\n",
      "72/72 [==============================] - 0s 4ms/step - loss: 0.1933 - accuracy: 0.9318 - val_loss: 0.1310 - val_accuracy: 0.9510\n",
      "Epoch 248/250\n",
      "72/72 [==============================] - 0s 4ms/step - loss: 0.1686 - accuracy: 0.9401 - val_loss: 0.1346 - val_accuracy: 0.9510\n",
      "Epoch 249/250\n",
      "72/72 [==============================] - 0s 6ms/step - loss: 0.1634 - accuracy: 0.9415 - val_loss: 0.1358 - val_accuracy: 0.9510\n",
      "Epoch 250/250\n",
      "72/72 [==============================] - 0s 4ms/step - loss: 0.1688 - accuracy: 0.9373 - val_loss: 0.1347 - val_accuracy: 0.9510\n",
      "done\n"
     ]
    }
   ],
   "source": [
    "#train the sets...\n",
    "history=model.fit(standardized_x_train , Y_train, validation_data=(x_val, Y_val),epochs=250, batch_size=10,)  \n",
    "print('done')"
   ]
  },
  {
   "cell_type": "markdown",
   "id": "e9123c31",
   "metadata": {},
   "source": [
    "# Visualizing the training results"
   ]
  },
  {
   "cell_type": "code",
   "execution_count": 22,
   "id": "43e1cdce",
   "metadata": {
    "scrolled": false
   },
   "outputs": [
    {
     "data": {
      "image/png": "[encoded data removed]",
      "text/plain": [
       "<Figure size 576x432 with 2 Axes>"
      ]
     },
     "metadata": {
      "needs_background": "light"
     },
     "output_type": "display_data"
    }
   ],
   "source": [
    "\n",
    "#training history\n",
    "loss = history.history['loss']\n",
    "val_loss = history.history['val_loss']\n",
    "acc=history.history['accuracy']\n",
    "val_acc=history.history['val_accuracy']\n",
    "\n",
    "\n",
    "#'Training and Validation loss\n",
    "plt.figure(figsize=(8, 6))\n",
    "plt.subplot(1, 2, 1)\n",
    "plt.plot(history.history['accuracy']) #plot accuracy\n",
    "plt.plot(history.history['val_accuracy']) #plot val_acc\n",
    "plt.title('Training Accuracy')\n",
    "plt.ylabel('accuracy')\n",
    "plt.xlabel('epoch')\n",
    "plt.legend(['accuracy', 'val_accuracy'])\n",
    "\n",
    "#Training and Validation accuracy\n",
    "plt.subplot(1, 2, 2)\n",
    "plt.plot(history.history['loss']) #plot loss\n",
    "plt.plot(history.history['val_loss']) #plot val_loss\n",
    "plt.title('Training Loss')\n",
    "plt.ylabel('loss')\n",
    "plt.xlabel('epoch')\n",
    "plt.legend(['loss','val_loss'])\n",
    "\n",
    "#display plot\n",
    "plt.show()"
   ]
  },
  {
   "cell_type": "markdown",
   "id": "85351ccf",
   "metadata": {},
   "source": [
    "# Evaluate accuracy on test set"
   ]
  },
  {
   "cell_type": "code",
   "execution_count": 23,
   "id": "13a807c4",
   "metadata": {},
   "outputs": [
    {
     "name": "stdout",
     "output_type": "stream",
     "text": [
      "7/7 [==============================] - 0s 4ms/step - loss: 0.2126 - accuracy: 0.9122\n"
     ]
    },
    {
     "data": {
      "text/plain": [
       "[0.21259352564811707, 0.9121951460838318]"
      ]
     },
     "execution_count": 23,
     "metadata": {},
     "output_type": "execute_result"
    }
   ],
   "source": [
    "#evaluate on test set\n",
    "model.evaluate(standardized_x_test,Y_test)"
   ]
  },
  {
   "cell_type": "markdown",
   "id": "850e1754",
   "metadata": {},
   "source": [
    "# Make prediction on the test set"
   ]
  },
  {
   "cell_type": "code",
   "execution_count": 24,
   "id": "e8f60aa4",
   "metadata": {},
   "outputs": [
    {
     "name": "stdout",
     "output_type": "stream",
     "text": [
      "7/7 [==============================] - 0s 3ms/step\n",
      "Results\n",
      "accuracy_score = 0.9121951219512195\n",
      "              precision    recall  f1-score   support\n",
      "\n",
      "           0       0.90      0.93      0.91       102\n",
      "           1       0.93      0.89      0.91       103\n",
      "\n",
      "    accuracy                           0.91       205\n",
      "   macro avg       0.91      0.91      0.91       205\n",
      "weighted avg       0.91      0.91      0.91       205\n",
      "\n"
     ]
    }
   ],
   "source": [
    "#predict on test data\n",
    "predictions = model.predict(standardized_x_test)\n",
    "#print(predictions.shape)\n",
    "pred_category = np.argmax(predictions, axis=1)\n",
    "\n",
    "#classification report\n",
    "print(\"Results\")\n",
    "print('accuracy_score =',accuracy_score(y_test,pred_category))\n",
    "print(classification_report(y_test, pred_category))"
   ]
  },
  {
   "cell_type": "code",
   "execution_count": 25,
   "id": "0f0a4e77",
   "metadata": {},
   "outputs": [
    {
     "data": {
      "text/plain": [
       "<tf.Tensor: shape=(2, 2), dtype=int32, numpy=\n",
       "array([[95,  7],\n",
       "       [11, 92]])>"
      ]
     },
     "execution_count": 25,
     "metadata": {},
     "output_type": "execute_result"
    }
   ],
   "source": [
    "#confusion matrix...\n",
    "cf_matrix=confusion_matrix(y_test,(pred_category))\n",
    "cf_matrix"
   ]
  },
  {
   "cell_type": "code",
   "execution_count": 26,
   "id": "83a5175c",
   "metadata": {},
   "outputs": [],
   "source": [
    "#defining the confusion matrix heatmap\n",
    "def plot_conf(cf_matrix):\n",
    "    ax = sns.heatmap(cf_matrix, annot=True, cmap='plasma')\n",
    "\n",
    "    ax.set_title(' Confusion Matrix:Testing');\n",
    "    ax.set_xlabel('\\nPredicted Values')\n",
    "    ax.set_ylabel('Actual Values ');\n",
    "\n",
    "    #Tick labels \n",
    "    ax.xaxis.set_ticklabels(['0','1'])\n",
    "    ax.yaxis.set_ticklabels(['0','1'])\n",
    "\n",
    "    #Display Matrix\n",
    "    plt.show()"
   ]
  },
  {
   "cell_type": "code",
   "execution_count": 27,
   "id": "38c0606c",
   "metadata": {
    "scrolled": false
   },
   "outputs": [
    {
     "data": {
      "image/png": "[encoded data removed]",
      "text/plain": [
       "<Figure size 432x288 with 2 Axes>"
      ]
     },
     "metadata": {
      "needs_background": "light"
     },
     "output_type": "display_data"
    }
   ],
   "source": [
    "#visualize performance\n",
    "plot_conf(cf_matrix) "
   ]
  },
  {
   "cell_type": "markdown",
   "id": "864d7d18",
   "metadata": {},
   "source": [
    "In the target variable 0 represents the patient has not heart disease and 1 represents patient got heart disease. According to the given confusion matrix, it can be deduced that an accuracy of 91% was obtained. There is a total number of 102 patients in the test data which do not have heart disease out of which 95 were classified successfully and the 11 remaining were wrongly classified as positive for heart disease. Similarly, in the case of 103 patients who actually had heart disease 7 were classified to be negative and 92 as positive. The Final error in the model is 8%. The group of patient which were checked for the heart disease are categorized in four parts:\n",
    "\n",
    "- True positive (TP): these are the patients which are classified are negative for heart disease and actually they don’t have any heart disease.\n",
    "- False Positive(FP): This is the group of patients which are classified wrongly as positive i.e. they have heart disease\n",
    "- True Negative(TN): The group of patients which are actually diagnosed with heart disease and model classify them as positive for heart disease .\n",
    "- False Negative(FN): This is the group of patients which do not have the heart disease but the model showed that they have heart disease."
   ]
  },
  {
   "cell_type": "markdown",
   "id": "89b22e16",
   "metadata": {},
   "source": [
    "# Save model"
   ]
  },
  {
   "cell_type": "code",
   "execution_count": 28,
   "id": "e1464bb4",
   "metadata": {},
   "outputs": [
    {
     "name": "stdout",
     "output_type": "stream",
     "text": [
      "INFO:tensorflow:Assets written to: heart disease\\assets\n"
     ]
    }
   ],
   "source": [
    "model.save('heart disease')\n",
    "#reloaded_model = tf.keras.models.load_model('heart disease')"
   ]
  },
  {
   "cell_type": "markdown",
   "id": "a57866c5",
   "metadata": {},
   "source": [
    "# Summary of the Classification Measure"
   ]
  },
  {
   "cell_type": "markdown",
   "id": "a04f7ed2",
   "metadata": {},
   "source": [
    "Accuracy: It is a measure of correctness that is achieved in true prediction.\n",
    "          Simply measures how often the classifier makes the correct prediction, (TP & TN)\n",
    "\n",
    "Precision:It is a measure of correctness that is achieved in true prediction too.\n",
    "           it tells how many predictions that are actually positive out of all the total positive predicted.\n",
    "\n",
    "Recall:It measures the actual observations which are predicted correctly, i.e, \n",
    "       how many observations of positive class are actually predicted as positive. It is also known as Sensitivity. \n",
    "       Recall is a valid choice of evaluation metric when you want to capture as many positives as possible.\n",
    "        \n",
    "F1-Score: F1 score is a harmonic mean of Precision and Recall.\n",
    "          F1 score sort of maintains a balance between the precision and recall for your classifier  "
   ]
  },
  {
   "cell_type": "code",
   "execution_count": null,
   "id": "e1528e64",
   "metadata": {},
   "outputs": [],
   "source": []
  }
 ],
 "metadata": {
  "kernelspec": {
   "display_name": "Python 3 (ipykernel)",
   "language": "python",
   "name": "python3"
  },
  "language_info": {
   "codemirror_mode": {
    "name": "ipython",
    "version": 3
   },
   "file_extension": ".py",
   "mimetype": "text/x-python",
   "name": "python",
   "nbconvert_exporter": "python",
   "pygments_lexer": "ipython3",
   "version": "3.9.12"
  }
 },
 "nbformat": 4,
 "nbformat_minor": 5
}
