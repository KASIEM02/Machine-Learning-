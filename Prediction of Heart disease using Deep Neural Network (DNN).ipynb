{
 "cells": [
  {
   "cell_type": "markdown",
   "id": "34710d59",
   "metadata": {},
   "source": [
    "# Prediction of Heart disease using Deep Neural Network"
   ]
  },
  {
   "cell_type": "markdown",
   "id": "32f66527",
   "metadata": {},
   "source": [
    "The data set dates from 1988 and consists of four databases: Cleveland, Hungary, Switzerland, and Long Beach V. It contains 76 attributes, including the predicted attribute, but all published experiments refer to using a subset of 14 of them. The \"target\" field refers to the presence of heart disease in the patient. It is integer valued 0 = no disease and 1 = disease."
   ]
  },
  {
   "cell_type": "markdown",
   "id": "beebb7ed",
   "metadata": {},
   "source": [
    "Acknowledgement: This data comes from the University of California Irvine's Machine Learning Repository at https://archive.ics.uci.edu/ml/datasets/Heart+Disease."
   ]
  },
  {
   "cell_type": "markdown",
   "id": "f7961b1e",
   "metadata": {},
   "source": [
    "The dataset contains 14 attributes:\n",
    "1.  (age) :  age in years\n",
    "2.  (sex) :  sex (1 = male; 0 = female)\n",
    "3.  (cp) :  chest pain type\n",
    "4.  (trestbps) :  Resting Blood presssure in mm Hg\n",
    "5.  (chol) :  serum cholesterol in mg/dl\n",
    "6.  (fbs) :  Fasting Blood Sugar in mg/dl\n",
    "7.  (restecg) :  Resting Electrocadiographic Results\n",
    "8.  (thalach) :  Maximum Heart Rate achieved\n",
    "9.  (exang) :  exercise induced angina \n",
    "10. (oldpeak) :  ST depression induced by exercise relative to rest\n",
    "11. (slope) :  slope of the Peak Exercise ST segment\n",
    "12. (ca):  number of major vessels (0-3) colored by flourosopy\n",
    "13. (thal) :  3 = normal; 6 = fixed defect; 7 = reversable defect\n",
    "14. (target) :  (the predicted attribute) . Diagnosis of heart disease (angiographic disease status) Values:0(absence) & 1(presence)"
   ]
  },
  {
   "cell_type": "code",
   "execution_count": null,
   "id": "8cdf4a3c",
   "metadata": {},
   "outputs": [],
   "source": []
  },
  {
   "cell_type": "markdown",
   "id": "096bee29",
   "metadata": {},
   "source": [
    "# Importing the required libraries"
   ]
  },
  {
   "cell_type": "code",
   "execution_count": 1,
   "id": "301f9d32",
   "metadata": {},
   "outputs": [],
   "source": [
    "import tensorflow as tf\n",
    "import numpy as np\n",
    "import pandas as pd\n",
    "import seaborn as sns\n",
    "import matplotlib.pyplot as plt\n",
    "\n",
    "import keras\n",
    "from tensorflow.keras.models import Sequential\n",
    "from tensorflow.keras.layers import Activation, Dropout, Flatten, Dense\n",
    "from tensorflow.math import confusion_matrix\n",
    "from keras.optimizers import Adam\n",
    "from tensorflow.keras import layers\n",
    "from tensorflow.keras.callbacks import EarlyStopping\n",
    "from keras import regularizers\n",
    "\n",
    "from sklearn import preprocessing\n",
    "from sklearn.preprocessing import StandardScaler\n",
    "from sklearn.preprocessing import MinMaxScaler\n",
    "from sklearn.preprocessing import scale\n",
    "from sklearn import model_selection\n",
    "from sklearn.model_selection import train_test_split\n",
    "from sklearn.metrics import classification_report, accuracy_score"
   ]
  },
  {
   "cell_type": "code",
   "execution_count": 2,
   "id": "d26565cd",
   "metadata": {},
   "outputs": [],
   "source": [
    "import warnings\n",
    "warnings.filterwarnings('ignore')"
   ]
  },
  {
   "cell_type": "markdown",
   "id": "9d4d9b0d",
   "metadata": {},
   "source": [
    "# Loading and preparing data"
   ]
  },
  {
   "cell_type": "code",
   "execution_count": 3,
   "id": "8f5f61e9",
   "metadata": {},
   "outputs": [
    {
     "name": "stdout",
     "output_type": "stream",
     "text": [
      "\n",
      "\n"
     ]
    },
    {
     "data": {
      "text/html": [
       "<div>\n",
       "<style scoped>\n",
       "    .dataframe tbody tr th:only-of-type {\n",
       "        vertical-align: middle;\n",
       "    }\n",
       "\n",
       "    .dataframe tbody tr th {\n",
       "        vertical-align: top;\n",
       "    }\n",
       "\n",
       "    .dataframe thead th {\n",
       "        text-align: right;\n",
       "    }\n",
       "</style>\n",
       "<table border=\"1\" class=\"dataframe\">\n",
       "  <thead>\n",
       "    <tr style=\"text-align: right;\">\n",
       "      <th></th>\n",
       "      <th>age</th>\n",
       "      <th>sex</th>\n",
       "      <th>cp</th>\n",
       "      <th>trestbps</th>\n",
       "      <th>chol</th>\n",
       "      <th>fbs</th>\n",
       "      <th>restecg</th>\n",
       "      <th>thalach</th>\n",
       "      <th>exang</th>\n",
       "      <th>oldpeak</th>\n",
       "      <th>slope</th>\n",
       "      <th>ca</th>\n",
       "      <th>thal</th>\n",
       "      <th>target</th>\n",
       "    </tr>\n",
       "  </thead>\n",
       "  <tbody>\n",
       "    <tr>\n",
       "      <th>1020</th>\n",
       "      <td>59</td>\n",
       "      <td>1</td>\n",
       "      <td>1</td>\n",
       "      <td>140</td>\n",
       "      <td>221</td>\n",
       "      <td>0</td>\n",
       "      <td>1</td>\n",
       "      <td>164</td>\n",
       "      <td>1</td>\n",
       "      <td>0.0</td>\n",
       "      <td>2</td>\n",
       "      <td>0</td>\n",
       "      <td>2</td>\n",
       "      <td>1</td>\n",
       "    </tr>\n",
       "    <tr>\n",
       "      <th>1021</th>\n",
       "      <td>60</td>\n",
       "      <td>1</td>\n",
       "      <td>0</td>\n",
       "      <td>125</td>\n",
       "      <td>258</td>\n",
       "      <td>0</td>\n",
       "      <td>0</td>\n",
       "      <td>141</td>\n",
       "      <td>1</td>\n",
       "      <td>2.8</td>\n",
       "      <td>1</td>\n",
       "      <td>1</td>\n",
       "      <td>3</td>\n",
       "      <td>0</td>\n",
       "    </tr>\n",
       "    <tr>\n",
       "      <th>1022</th>\n",
       "      <td>47</td>\n",
       "      <td>1</td>\n",
       "      <td>0</td>\n",
       "      <td>110</td>\n",
       "      <td>275</td>\n",
       "      <td>0</td>\n",
       "      <td>0</td>\n",
       "      <td>118</td>\n",
       "      <td>1</td>\n",
       "      <td>1.0</td>\n",
       "      <td>1</td>\n",
       "      <td>1</td>\n",
       "      <td>2</td>\n",
       "      <td>0</td>\n",
       "    </tr>\n",
       "    <tr>\n",
       "      <th>1023</th>\n",
       "      <td>50</td>\n",
       "      <td>0</td>\n",
       "      <td>0</td>\n",
       "      <td>110</td>\n",
       "      <td>254</td>\n",
       "      <td>0</td>\n",
       "      <td>0</td>\n",
       "      <td>159</td>\n",
       "      <td>0</td>\n",
       "      <td>0.0</td>\n",
       "      <td>2</td>\n",
       "      <td>0</td>\n",
       "      <td>2</td>\n",
       "      <td>1</td>\n",
       "    </tr>\n",
       "    <tr>\n",
       "      <th>1024</th>\n",
       "      <td>54</td>\n",
       "      <td>1</td>\n",
       "      <td>0</td>\n",
       "      <td>120</td>\n",
       "      <td>188</td>\n",
       "      <td>0</td>\n",
       "      <td>1</td>\n",
       "      <td>113</td>\n",
       "      <td>0</td>\n",
       "      <td>1.4</td>\n",
       "      <td>1</td>\n",
       "      <td>1</td>\n",
       "      <td>3</td>\n",
       "      <td>0</td>\n",
       "    </tr>\n",
       "  </tbody>\n",
       "</table>\n",
       "</div>"
      ],
      "text/plain": [
       "      age  sex  cp  trestbps  chol  fbs  restecg  thalach  exang  oldpeak  \\\n",
       "1020   59    1   1       140   221    0        1      164      1      0.0   \n",
       "1021   60    1   0       125   258    0        0      141      1      2.8   \n",
       "1022   47    1   0       110   275    0        0      118      1      1.0   \n",
       "1023   50    0   0       110   254    0        0      159      0      0.0   \n",
       "1024   54    1   0       120   188    0        1      113      0      1.4   \n",
       "\n",
       "      slope  ca  thal  target  \n",
       "1020      2   0     2       1  \n",
       "1021      1   1     3       0  \n",
       "1022      1   1     2       0  \n",
       "1023      2   0     2       1  \n",
       "1024      1   1     3       0  "
      ]
     },
     "execution_count": 3,
     "metadata": {},
     "output_type": "execute_result"
    }
   ],
   "source": [
    "#load and display dataframe\n",
    "heart_disease=r\"C:\\Users\\val-c\\Desktop\\heart disease\\heart.csv\"\n",
    "hrt_dis=pd.read_csv(heart_disease)\n",
    "hrt_dis.head() #display first-five rows\n",
    "\n",
    "print('\\n') #hold back\n",
    "\n",
    "#display last five rows of the dataframe\n",
    "hrt_dis.tail()"
   ]
  },
  {
   "cell_type": "code",
   "execution_count": 4,
   "id": "cdf7c441",
   "metadata": {},
   "outputs": [
    {
     "name": "stdout",
     "output_type": "stream",
     "text": [
      "(rows,cols) = (1025, 14)\n"
     ]
    }
   ],
   "source": [
    "#no of rows and columns\n",
    "print('(rows,cols) =',hrt_dis.shape)"
   ]
  },
  {
   "cell_type": "code",
   "execution_count": 5,
   "id": "ae44a54b",
   "metadata": {},
   "outputs": [
    {
     "name": "stdout",
     "output_type": "stream",
     "text": [
      "<class 'pandas.core.frame.DataFrame'>\n",
      "RangeIndex: 1025 entries, 0 to 1024\n",
      "Data columns (total 14 columns):\n",
      " #   Column    Non-Null Count  Dtype  \n",
      "---  ------    --------------  -----  \n",
      " 0   age       1025 non-null   int64  \n",
      " 1   sex       1025 non-null   int64  \n",
      " 2   cp        1025 non-null   int64  \n",
      " 3   trestbps  1025 non-null   int64  \n",
      " 4   chol      1025 non-null   int64  \n",
      " 5   fbs       1025 non-null   int64  \n",
      " 6   restecg   1025 non-null   int64  \n",
      " 7   thalach   1025 non-null   int64  \n",
      " 8   exang     1025 non-null   int64  \n",
      " 9   oldpeak   1025 non-null   float64\n",
      " 10  slope     1025 non-null   int64  \n",
      " 11  ca        1025 non-null   int64  \n",
      " 12  thal      1025 non-null   int64  \n",
      " 13  target    1025 non-null   int64  \n",
      "dtypes: float64(1), int64(13)\n",
      "memory usage: 112.2 KB\n"
     ]
    }
   ],
   "source": [
    "#display data types for the dataframe\n",
    "hrt_dis.info()"
   ]
  },
  {
   "cell_type": "code",
   "execution_count": 6,
   "id": "88192b39",
   "metadata": {},
   "outputs": [
    {
     "data": {
      "text/html": [
       "<div>\n",
       "<style scoped>\n",
       "    .dataframe tbody tr th:only-of-type {\n",
       "        vertical-align: middle;\n",
       "    }\n",
       "\n",
       "    .dataframe tbody tr th {\n",
       "        vertical-align: top;\n",
       "    }\n",
       "\n",
       "    .dataframe thead th {\n",
       "        text-align: right;\n",
       "    }\n",
       "</style>\n",
       "<table border=\"1\" class=\"dataframe\">\n",
       "  <thead>\n",
       "    <tr style=\"text-align: right;\">\n",
       "      <th></th>\n",
       "      <th>Total</th>\n",
       "    </tr>\n",
       "  </thead>\n",
       "  <tbody>\n",
       "    <tr>\n",
       "      <th>age</th>\n",
       "      <td>0</td>\n",
       "    </tr>\n",
       "    <tr>\n",
       "      <th>sex</th>\n",
       "      <td>0</td>\n",
       "    </tr>\n",
       "    <tr>\n",
       "      <th>cp</th>\n",
       "      <td>0</td>\n",
       "    </tr>\n",
       "    <tr>\n",
       "      <th>trestbps</th>\n",
       "      <td>0</td>\n",
       "    </tr>\n",
       "    <tr>\n",
       "      <th>chol</th>\n",
       "      <td>0</td>\n",
       "    </tr>\n",
       "    <tr>\n",
       "      <th>fbs</th>\n",
       "      <td>0</td>\n",
       "    </tr>\n",
       "    <tr>\n",
       "      <th>restecg</th>\n",
       "      <td>0</td>\n",
       "    </tr>\n",
       "    <tr>\n",
       "      <th>thalach</th>\n",
       "      <td>0</td>\n",
       "    </tr>\n",
       "    <tr>\n",
       "      <th>exang</th>\n",
       "      <td>0</td>\n",
       "    </tr>\n",
       "    <tr>\n",
       "      <th>oldpeak</th>\n",
       "      <td>0</td>\n",
       "    </tr>\n",
       "    <tr>\n",
       "      <th>slope</th>\n",
       "      <td>0</td>\n",
       "    </tr>\n",
       "    <tr>\n",
       "      <th>ca</th>\n",
       "      <td>0</td>\n",
       "    </tr>\n",
       "    <tr>\n",
       "      <th>thal</th>\n",
       "      <td>0</td>\n",
       "    </tr>\n",
       "    <tr>\n",
       "      <th>target</th>\n",
       "      <td>0</td>\n",
       "    </tr>\n",
       "  </tbody>\n",
       "</table>\n",
       "</div>"
      ],
      "text/plain": [
       "          Total\n",
       "age           0\n",
       "sex           0\n",
       "cp            0\n",
       "trestbps      0\n",
       "chol          0\n",
       "fbs           0\n",
       "restecg       0\n",
       "thalach       0\n",
       "exang         0\n",
       "oldpeak       0\n",
       "slope         0\n",
       "ca            0\n",
       "thal          0\n",
       "target        0"
      ]
     },
     "execution_count": 6,
     "metadata": {},
     "output_type": "execute_result"
    }
   ],
   "source": [
    "#calculate the existing NaN/missing values in the datasets\n",
    "\n",
    "hrt_dis.isna().sum().to_frame('Total')"
   ]
  },
  {
   "cell_type": "code",
   "execution_count": 7,
   "id": "9762394f",
   "metadata": {},
   "outputs": [
    {
     "data": {
      "image/png": "[encoded data removed]",
      "text/plain": [
       "<Figure size 432x288 with 1 Axes>"
      ]
     },
     "metadata": {
      "needs_background": "light"
     },
     "output_type": "display_data"
    },
    {
     "name": "stdout",
     "output_type": "stream",
     "text": [
      "1    526\n",
      "0    499\n",
      "Name: target, dtype: int64\n"
     ]
    }
   ],
   "source": [
    "#show the number of persons who go heart disease or not.\n",
    "y=('target')\n",
    "sns.countplot(y, data=hrt_dis)\n",
    "plt.show()\n",
    "print(hrt_dis.target.value_counts())"
   ]
  },
  {
   "cell_type": "markdown",
   "id": "99b177ba",
   "metadata": {},
   "source": [
    "526 number of persons got heart disease, while 499 got not"
   ]
  },
  {
   "cell_type": "code",
   "execution_count": 8,
   "id": "e9ed5033",
   "metadata": {},
   "outputs": [
    {
     "data": {
      "text/html": [
       "<div>\n",
       "<style scoped>\n",
       "    .dataframe tbody tr th:only-of-type {\n",
       "        vertical-align: middle;\n",
       "    }\n",
       "\n",
       "    .dataframe tbody tr th {\n",
       "        vertical-align: top;\n",
       "    }\n",
       "\n",
       "    .dataframe thead th {\n",
       "        text-align: right;\n",
       "    }\n",
       "</style>\n",
       "<table border=\"1\" class=\"dataframe\">\n",
       "  <thead>\n",
       "    <tr style=\"text-align: right;\">\n",
       "      <th></th>\n",
       "      <th>count</th>\n",
       "      <th>mean</th>\n",
       "      <th>std</th>\n",
       "      <th>min</th>\n",
       "      <th>25%</th>\n",
       "      <th>50%</th>\n",
       "      <th>75%</th>\n",
       "      <th>max</th>\n",
       "    </tr>\n",
       "  </thead>\n",
       "  <tbody>\n",
       "    <tr>\n",
       "      <th>age</th>\n",
       "      <td>1025.0</td>\n",
       "      <td>54.434146</td>\n",
       "      <td>9.072290</td>\n",
       "      <td>29.0</td>\n",
       "      <td>48.0</td>\n",
       "      <td>56.0</td>\n",
       "      <td>61.0</td>\n",
       "      <td>77.0</td>\n",
       "    </tr>\n",
       "    <tr>\n",
       "      <th>sex</th>\n",
       "      <td>1025.0</td>\n",
       "      <td>0.695610</td>\n",
       "      <td>0.460373</td>\n",
       "      <td>0.0</td>\n",
       "      <td>0.0</td>\n",
       "      <td>1.0</td>\n",
       "      <td>1.0</td>\n",
       "      <td>1.0</td>\n",
       "    </tr>\n",
       "    <tr>\n",
       "      <th>cp</th>\n",
       "      <td>1025.0</td>\n",
       "      <td>0.942439</td>\n",
       "      <td>1.029641</td>\n",
       "      <td>0.0</td>\n",
       "      <td>0.0</td>\n",
       "      <td>1.0</td>\n",
       "      <td>2.0</td>\n",
       "      <td>3.0</td>\n",
       "    </tr>\n",
       "    <tr>\n",
       "      <th>trestbps</th>\n",
       "      <td>1025.0</td>\n",
       "      <td>131.611707</td>\n",
       "      <td>17.516718</td>\n",
       "      <td>94.0</td>\n",
       "      <td>120.0</td>\n",
       "      <td>130.0</td>\n",
       "      <td>140.0</td>\n",
       "      <td>200.0</td>\n",
       "    </tr>\n",
       "    <tr>\n",
       "      <th>chol</th>\n",
       "      <td>1025.0</td>\n",
       "      <td>246.000000</td>\n",
       "      <td>51.592510</td>\n",
       "      <td>126.0</td>\n",
       "      <td>211.0</td>\n",
       "      <td>240.0</td>\n",
       "      <td>275.0</td>\n",
       "      <td>564.0</td>\n",
       "    </tr>\n",
       "    <tr>\n",
       "      <th>fbs</th>\n",
       "      <td>1025.0</td>\n",
       "      <td>0.149268</td>\n",
       "      <td>0.356527</td>\n",
       "      <td>0.0</td>\n",
       "      <td>0.0</td>\n",
       "      <td>0.0</td>\n",
       "      <td>0.0</td>\n",
       "      <td>1.0</td>\n",
       "    </tr>\n",
       "    <tr>\n",
       "      <th>restecg</th>\n",
       "      <td>1025.0</td>\n",
       "      <td>0.529756</td>\n",
       "      <td>0.527878</td>\n",
       "      <td>0.0</td>\n",
       "      <td>0.0</td>\n",
       "      <td>1.0</td>\n",
       "      <td>1.0</td>\n",
       "      <td>2.0</td>\n",
       "    </tr>\n",
       "    <tr>\n",
       "      <th>thalach</th>\n",
       "      <td>1025.0</td>\n",
       "      <td>149.114146</td>\n",
       "      <td>23.005724</td>\n",
       "      <td>71.0</td>\n",
       "      <td>132.0</td>\n",
       "      <td>152.0</td>\n",
       "      <td>166.0</td>\n",
       "      <td>202.0</td>\n",
       "    </tr>\n",
       "    <tr>\n",
       "      <th>exang</th>\n",
       "      <td>1025.0</td>\n",
       "      <td>0.336585</td>\n",
       "      <td>0.472772</td>\n",
       "      <td>0.0</td>\n",
       "      <td>0.0</td>\n",
       "      <td>0.0</td>\n",
       "      <td>1.0</td>\n",
       "      <td>1.0</td>\n",
       "    </tr>\n",
       "    <tr>\n",
       "      <th>oldpeak</th>\n",
       "      <td>1025.0</td>\n",
       "      <td>1.071512</td>\n",
       "      <td>1.175053</td>\n",
       "      <td>0.0</td>\n",
       "      <td>0.0</td>\n",
       "      <td>0.8</td>\n",
       "      <td>1.8</td>\n",
       "      <td>6.2</td>\n",
       "    </tr>\n",
       "    <tr>\n",
       "      <th>slope</th>\n",
       "      <td>1025.0</td>\n",
       "      <td>1.385366</td>\n",
       "      <td>0.617755</td>\n",
       "      <td>0.0</td>\n",
       "      <td>1.0</td>\n",
       "      <td>1.0</td>\n",
       "      <td>2.0</td>\n",
       "      <td>2.0</td>\n",
       "    </tr>\n",
       "    <tr>\n",
       "      <th>ca</th>\n",
       "      <td>1025.0</td>\n",
       "      <td>0.754146</td>\n",
       "      <td>1.030798</td>\n",
       "      <td>0.0</td>\n",
       "      <td>0.0</td>\n",
       "      <td>0.0</td>\n",
       "      <td>1.0</td>\n",
       "      <td>4.0</td>\n",
       "    </tr>\n",
       "    <tr>\n",
       "      <th>thal</th>\n",
       "      <td>1025.0</td>\n",
       "      <td>2.323902</td>\n",
       "      <td>0.620660</td>\n",
       "      <td>0.0</td>\n",
       "      <td>2.0</td>\n",
       "      <td>2.0</td>\n",
       "      <td>3.0</td>\n",
       "      <td>3.0</td>\n",
       "    </tr>\n",
       "    <tr>\n",
       "      <th>target</th>\n",
       "      <td>1025.0</td>\n",
       "      <td>0.513171</td>\n",
       "      <td>0.500070</td>\n",
       "      <td>0.0</td>\n",
       "      <td>0.0</td>\n",
       "      <td>1.0</td>\n",
       "      <td>1.0</td>\n",
       "      <td>1.0</td>\n",
       "    </tr>\n",
       "  </tbody>\n",
       "</table>\n",
       "</div>"
      ],
      "text/plain": [
       "           count        mean        std    min    25%    50%    75%    max\n",
       "age       1025.0   54.434146   9.072290   29.0   48.0   56.0   61.0   77.0\n",
       "sex       1025.0    0.695610   0.460373    0.0    0.0    1.0    1.0    1.0\n",
       "cp        1025.0    0.942439   1.029641    0.0    0.0    1.0    2.0    3.0\n",
       "trestbps  1025.0  131.611707  17.516718   94.0  120.0  130.0  140.0  200.0\n",
       "chol      1025.0  246.000000  51.592510  126.0  211.0  240.0  275.0  564.0\n",
       "fbs       1025.0    0.149268   0.356527    0.0    0.0    0.0    0.0    1.0\n",
       "restecg   1025.0    0.529756   0.527878    0.0    0.0    1.0    1.0    2.0\n",
       "thalach   1025.0  149.114146  23.005724   71.0  132.0  152.0  166.0  202.0\n",
       "exang     1025.0    0.336585   0.472772    0.0    0.0    0.0    1.0    1.0\n",
       "oldpeak   1025.0    1.071512   1.175053    0.0    0.0    0.8    1.8    6.2\n",
       "slope     1025.0    1.385366   0.617755    0.0    1.0    1.0    2.0    2.0\n",
       "ca        1025.0    0.754146   1.030798    0.0    0.0    0.0    1.0    4.0\n",
       "thal      1025.0    2.323902   0.620660    0.0    2.0    2.0    3.0    3.0\n",
       "target    1025.0    0.513171   0.500070    0.0    0.0    1.0    1.0    1.0"
      ]
     },
     "execution_count": 8,
     "metadata": {},
     "output_type": "execute_result"
    }
   ],
   "source": [
    "#statistics of the attributes\n",
    "dist=hrt_dis.describe().transpose()\n",
    "dist"
   ]
  },
  {
   "cell_type": "code",
   "execution_count": 9,
   "id": "622f547c",
   "metadata": {},
   "outputs": [
    {
     "data": {
      "image/png": "[encoded data removed]",
      "text/plain": [
       "<Figure size 864x432 with 2 Axes>"
      ]
     },
     "metadata": {
      "needs_background": "light"
     },
     "output_type": "display_data"
    }
   ],
   "source": [
    "#correlation between attributes\n",
    "plt.figure(figsize=(12,6))\n",
    "corrl=hrt_dis.corr()\n",
    "sns.heatmap(corrl, annot=True, cmap=\"plasma\")\n",
    "plt.show()"
   ]
  },
  {
   "cell_type": "code",
   "execution_count": 10,
   "id": "b1115294",
   "metadata": {},
   "outputs": [
    {
     "data": {
      "image/png": "[encoded data removed]",
      "text/plain": [
       "<Figure size 864x576 with 1 Axes>"
      ]
     },
     "metadata": {
      "needs_background": "light"
     },
     "output_type": "display_data"
    }
   ],
   "source": [
    "#visualize the distribution of ages to heart disease\n",
    "pd.crosstab(hrt_dis.age, hrt_dis.target).plot(kind=\"bar\",figsize=(12,8),cmap='copper')\n",
    "plt.title(\"Heart Disease Distribution by Ages\")\n",
    "plt.xlabel('age')\n",
    "plt.ylabel('frequency')\n",
    "plt.show()"
   ]
  },
  {
   "cell_type": "code",
   "execution_count": null,
   "id": "f40c8caf",
   "metadata": {},
   "outputs": [],
   "source": [
    "#check for outliers with the boxplot\n",
    "plt.figure(figsize=(12,12))\n",
    "_=sns.boxplot(data=hrt_dis) #display figue\n"
   ]
  },
  {
   "cell_type": "code",
   "execution_count": null,
   "id": "f4943e07",
   "metadata": {},
   "outputs": [],
   "source": [
    "#explore the attributes distribution before normalizing\n",
    "hrt_dis.hist(figsize =(12, 11))\n",
    "plt.show()#display dist..."
   ]
  },
  {
   "cell_type": "markdown",
   "id": "0b61b995",
   "metadata": {},
   "source": [
    "# Creating training and testing sets"
   ]
  },
  {
   "cell_type": "code",
   "execution_count": 13,
   "id": "52935b3e",
   "metadata": {},
   "outputs": [],
   "source": [
    "hrt_dis_features = hrt_dis.copy()\n",
    "hrt_dis_labels = hrt_dis_features.pop('target') #drop attribute 'target'=label"
   ]
  },
  {
   "cell_type": "code",
   "execution_count": 14,
   "id": "02769b25",
   "metadata": {},
   "outputs": [],
   "source": [
    "hrt_dis_features = np.array( hrt_dis_features)\n",
    "X=hrt_dis_features #features\n",
    "Y=hrt_dis_labels # target "
   ]
  },
  {
   "cell_type": "code",
   "execution_count": 15,
   "id": "b41e7e92",
   "metadata": {},
   "outputs": [
    {
     "name": "stdout",
     "output_type": "stream",
     "text": [
      "number of training samples: 922\n",
      "number of test samples: 103\n"
     ]
    }
   ],
   "source": [
    "#split data into train _ test\n",
    "x_train, x_test, y_train, y_test = train_test_split(X,Y, test_size=0.1, random_state=42)\n",
    "\n",
    "print(\"number of training samples:\",x_train.shape[0])\n",
    "\n",
    "print(\"number of test samples:\", x_test.shape[0])"
   ]
  },
  {
   "cell_type": "markdown",
   "id": "56b5b8b1",
   "metadata": {},
   "source": [
    "# Normalization and Standardization "
   ]
  },
  {
   "cell_type": "code",
   "execution_count": 16,
   "id": "c95b6481",
   "metadata": {
    "scrolled": true
   },
   "outputs": [
    {
     "name": "stdout",
     "output_type": "stream",
     "text": [
      "normalized x_test\n"
     ]
    },
    {
     "data": {
      "text/plain": [
       "array([[0.20726746, 0.        , 0.        , 0.41453492, 0.69869193,\n",
       "        0.        , 0.00334302, 0.54491284, 0.        , 0.        ,\n",
       "        0.00668605, 0.        , 0.00668605]])"
      ]
     },
     "execution_count": 16,
     "metadata": {},
     "output_type": "execute_result"
    }
   ],
   "source": [
    "normalizer = preprocessing.Normalizer()  #normalizer function\n",
    "normalized_x_test= normalizer.fit_transform(x_test) #normalize test set\n",
    "print('normalized x_test')\n",
    "normalized_x_test[:1]\n"
   ]
  },
  {
   "cell_type": "code",
   "execution_count": 17,
   "id": "cfddb5b7",
   "metadata": {},
   "outputs": [],
   "source": [
    "# Instantiating MinMaxScaler and using it to rescale X_train and X_test\n",
    "scaler = MinMaxScaler(feature_range=(0, 1))\n",
    "x_train = scaler.fit_transform(x_train)\n",
    "x_test = scaler.transform(x_test)\n"
   ]
  },
  {
   "cell_type": "code",
   "execution_count": 18,
   "id": "4e6e5119",
   "metadata": {},
   "outputs": [
    {
     "name": "stdout",
     "output_type": "stream",
     "text": [
      "new training samples: 820\n",
      "number of validation samples: 102\n"
     ]
    }
   ],
   "source": [
    "#Extracting validation sample\n",
    "x_train = x_train[:-102]\n",
    "y_train = y_train[:-102]\n",
    "\n",
    "x_val =x_train[-102:]\n",
    "y_val = y_train[-102:]\n",
    "\n",
    "print(\"new training samples:\",x_train.shape[0])\n",
    "\n",
    "print(\"number of validation samples:\",x_val.shape[0])"
   ]
  },
  {
   "cell_type": "code",
   "execution_count": 19,
   "id": "d220a7bc",
   "metadata": {},
   "outputs": [],
   "source": [
    "# convert to categorical label\n",
    "from keras.utils.np_utils import to_categorical \n",
    "\n",
    "Y_train = to_categorical(y_train, num_classes=None) \n",
    "Y_test = to_categorical(y_test, num_classes=None) \n",
    "Y_val = to_categorical(y_val, num_classes=None)"
   ]
  },
  {
   "cell_type": "markdown",
   "id": "8470f5ea",
   "metadata": {},
   "source": [
    "# Creating the model"
   ]
  },
  {
   "cell_type": "markdown",
   "id": "25dc992f",
   "metadata": {},
   "source": [
    "Deep neural network was configured here"
   ]
  },
  {
   "cell_type": "code",
   "execution_count": 20,
   "id": "e9aaa90e",
   "metadata": {},
   "outputs": [],
   "source": [
    "#configuration.....\n",
    "model = Sequential()\n",
    "model.add(Dense(16, input_dim=13, kernel_initializer='normal', kernel_regularizer=regularizers.l2(0.001), activation='relu'))\n",
    "model.add(Dropout(0.25))\n",
    "model.add(Dense(8, kernel_initializer='normal', kernel_regularizer=regularizers.l2(0.001), activation='relu'))\n",
    "model.add(Dropout(0.25))\n",
    "model.add(Dense(2, activation=\"softmax\"))"
   ]
  },
  {
   "cell_type": "code",
   "execution_count": 21,
   "id": "66e6d69b",
   "metadata": {
    "scrolled": false
   },
   "outputs": [
    {
     "name": "stdout",
     "output_type": "stream",
     "text": [
      "Model: \"sequential\"\n",
      "_________________________________________________________________\n",
      " Layer (type)                Output Shape              Param #   \n",
      "=================================================================\n",
      " dense (Dense)               (None, 16)                224       \n",
      "                                                                 \n",
      " dropout (Dropout)           (None, 16)                0         \n",
      "                                                                 \n",
      " dense_1 (Dense)             (None, 8)                 136       \n",
      "                                                                 \n",
      " dropout_1 (Dropout)         (None, 8)                 0         \n",
      "                                                                 \n",
      " dense_2 (Dense)             (None, 2)                 18        \n",
      "                                                                 \n",
      "=================================================================\n",
      "Total params: 378\n",
      "Trainable params: 378\n",
      "Non-trainable params: 0\n",
      "_________________________________________________________________\n"
     ]
    }
   ],
   "source": [
    "model.summary() #summary of the model configuration"
   ]
  },
  {
   "cell_type": "markdown",
   "id": "6f879f28",
   "metadata": {},
   "source": [
    "# Compile the model"
   ]
  },
  {
   "cell_type": "code",
   "execution_count": 22,
   "id": "92109d9d",
   "metadata": {},
   "outputs": [],
   "source": [
    "#compiling......\n",
    "opt = keras.optimizers.Adam(learning_rate=0.001)\n",
    "model.compile(loss=tf.keras.losses.CategoricalCrossentropy(from_logits=True), optimizer=opt,metrics=['accuracy'])"
   ]
  },
  {
   "cell_type": "markdown",
   "id": "1efb2859",
   "metadata": {},
   "source": [
    "# Train the model"
   ]
  },
  {
   "cell_type": "code",
   "execution_count": 23,
   "id": "bb692b46",
   "metadata": {
    "collapsed": true
   },
   "outputs": [
    {
     "name": "stdout",
     "output_type": "stream",
     "text": [
      "Epoch 1/300\n",
      "82/82 [==============================] - 2s 7ms/step - loss: 0.6867 - accuracy: 0.5780 - val_loss: 0.6702 - val_accuracy: 0.7647\n",
      "Epoch 2/300\n",
      "82/82 [==============================] - 0s 3ms/step - loss: 0.6228 - accuracy: 0.7598 - val_loss: 0.5666 - val_accuracy: 0.7647\n",
      "Epoch 3/300\n",
      "82/82 [==============================] - 0s 3ms/step - loss: 0.5173 - accuracy: 0.7890 - val_loss: 0.4893 - val_accuracy: 0.7843\n",
      "Epoch 4/300\n",
      "82/82 [==============================] - 0s 3ms/step - loss: 0.4536 - accuracy: 0.8122 - val_loss: 0.4353 - val_accuracy: 0.8039\n",
      "Epoch 5/300\n",
      "82/82 [==============================] - 0s 3ms/step - loss: 0.4592 - accuracy: 0.8159 - val_loss: 0.4357 - val_accuracy: 0.7843\n",
      "Epoch 6/300\n",
      "82/82 [==============================] - 0s 3ms/step - loss: 0.4404 - accuracy: 0.8183 - val_loss: 0.4119 - val_accuracy: 0.8235\n",
      "Epoch 7/300\n",
      "82/82 [==============================] - 0s 3ms/step - loss: 0.4288 - accuracy: 0.8354 - val_loss: 0.4127 - val_accuracy: 0.8235\n",
      "Epoch 8/300\n",
      "82/82 [==============================] - 0s 3ms/step - loss: 0.4242 - accuracy: 0.8293 - val_loss: 0.4053 - val_accuracy: 0.8137\n",
      "Epoch 9/300\n",
      "82/82 [==============================] - 0s 3ms/step - loss: 0.4206 - accuracy: 0.8378 - val_loss: 0.3952 - val_accuracy: 0.8627\n",
      "Epoch 10/300\n",
      "82/82 [==============================] - 0s 3ms/step - loss: 0.4131 - accuracy: 0.8476 - val_loss: 0.3933 - val_accuracy: 0.8431\n",
      "Epoch 11/300\n",
      "82/82 [==============================] - 0s 3ms/step - loss: 0.4068 - accuracy: 0.8402 - val_loss: 0.3900 - val_accuracy: 0.8235\n",
      "Epoch 12/300\n",
      "82/82 [==============================] - 0s 3ms/step - loss: 0.3925 - accuracy: 0.8488 - val_loss: 0.3811 - val_accuracy: 0.8725\n",
      "Epoch 13/300\n",
      "82/82 [==============================] - 0s 3ms/step - loss: 0.4053 - accuracy: 0.8488 - val_loss: 0.3754 - val_accuracy: 0.8627\n",
      "Epoch 14/300\n",
      "82/82 [==============================] - 0s 3ms/step - loss: 0.3838 - accuracy: 0.8610 - val_loss: 0.3745 - val_accuracy: 0.8725\n",
      "Epoch 15/300\n",
      "82/82 [==============================] - 0s 3ms/step - loss: 0.4076 - accuracy: 0.8500 - val_loss: 0.3894 - val_accuracy: 0.8431\n",
      "Epoch 16/300\n",
      "82/82 [==============================] - 0s 3ms/step - loss: 0.3873 - accuracy: 0.8415 - val_loss: 0.3758 - val_accuracy: 0.8824\n",
      "Epoch 17/300\n",
      "82/82 [==============================] - 0s 3ms/step - loss: 0.3727 - accuracy: 0.8500 - val_loss: 0.3979 - val_accuracy: 0.8039\n",
      "Epoch 18/300\n",
      "82/82 [==============================] - 0s 3ms/step - loss: 0.3887 - accuracy: 0.8488 - val_loss: 0.3683 - val_accuracy: 0.8627\n",
      "Epoch 19/300\n",
      "82/82 [==============================] - 0s 3ms/step - loss: 0.3919 - accuracy: 0.8463 - val_loss: 0.3689 - val_accuracy: 0.8627\n",
      "Epoch 20/300\n",
      "82/82 [==============================] - 0s 3ms/step - loss: 0.3856 - accuracy: 0.8500 - val_loss: 0.3767 - val_accuracy: 0.8725\n",
      "Epoch 21/300\n",
      "82/82 [==============================] - 0s 3ms/step - loss: 0.3767 - accuracy: 0.8537 - val_loss: 0.3591 - val_accuracy: 0.8627\n",
      "Epoch 22/300\n",
      "82/82 [==============================] - 0s 3ms/step - loss: 0.3788 - accuracy: 0.8610 - val_loss: 0.3558 - val_accuracy: 0.8529\n",
      "Epoch 23/300\n",
      "82/82 [==============================] - 0s 3ms/step - loss: 0.3640 - accuracy: 0.8573 - val_loss: 0.3535 - val_accuracy: 0.8529\n",
      "Epoch 24/300\n",
      "82/82 [==============================] - 0s 3ms/step - loss: 0.3561 - accuracy: 0.8610 - val_loss: 0.3981 - val_accuracy: 0.8137\n",
      "Epoch 25/300\n",
      "82/82 [==============================] - 0s 3ms/step - loss: 0.3701 - accuracy: 0.8573 - val_loss: 0.3600 - val_accuracy: 0.8922\n",
      "Epoch 26/300\n",
      "82/82 [==============================] - 0s 3ms/step - loss: 0.3634 - accuracy: 0.8585 - val_loss: 0.3544 - val_accuracy: 0.9020\n",
      "Epoch 27/300\n",
      "82/82 [==============================] - 0s 3ms/step - loss: 0.3563 - accuracy: 0.8549 - val_loss: 0.3575 - val_accuracy: 0.9020\n",
      "Epoch 28/300\n",
      "82/82 [==============================] - 0s 4ms/step - loss: 0.3723 - accuracy: 0.8646 - val_loss: 0.3655 - val_accuracy: 0.9118\n",
      "Epoch 29/300\n",
      "82/82 [==============================] - 0s 3ms/step - loss: 0.3575 - accuracy: 0.8549 - val_loss: 0.3532 - val_accuracy: 0.9118\n",
      "Epoch 30/300\n",
      "82/82 [==============================] - 0s 3ms/step - loss: 0.3392 - accuracy: 0.8659 - val_loss: 0.3573 - val_accuracy: 0.9216\n",
      "Epoch 31/300\n",
      "82/82 [==============================] - 0s 3ms/step - loss: 0.3618 - accuracy: 0.8646 - val_loss: 0.3421 - val_accuracy: 0.8725\n",
      "Epoch 32/300\n",
      "82/82 [==============================] - 0s 3ms/step - loss: 0.3573 - accuracy: 0.8573 - val_loss: 0.3356 - val_accuracy: 0.8824\n",
      "Epoch 33/300\n",
      "82/82 [==============================] - 0s 3ms/step - loss: 0.3725 - accuracy: 0.8549 - val_loss: 0.3492 - val_accuracy: 0.8922\n",
      "Epoch 34/300\n",
      "82/82 [==============================] - 0s 3ms/step - loss: 0.3609 - accuracy: 0.8683 - val_loss: 0.3369 - val_accuracy: 0.8824\n",
      "Epoch 35/300\n",
      "82/82 [==============================] - 0s 3ms/step - loss: 0.3574 - accuracy: 0.8634 - val_loss: 0.3393 - val_accuracy: 0.8922\n",
      "Epoch 36/300\n",
      "82/82 [==============================] - 0s 4ms/step - loss: 0.3623 - accuracy: 0.8573 - val_loss: 0.3412 - val_accuracy: 0.9118\n",
      "Epoch 37/300\n",
      "82/82 [==============================] - 0s 3ms/step - loss: 0.3479 - accuracy: 0.8671 - val_loss: 0.3456 - val_accuracy: 0.9118\n",
      "Epoch 38/300\n",
      "82/82 [==============================] - 0s 3ms/step - loss: 0.3420 - accuracy: 0.8659 - val_loss: 0.3339 - val_accuracy: 0.8922\n",
      "Epoch 39/300\n",
      "82/82 [==============================] - 0s 3ms/step - loss: 0.3559 - accuracy: 0.8646 - val_loss: 0.3324 - val_accuracy: 0.9118\n",
      "Epoch 40/300\n",
      "82/82 [==============================] - 0s 3ms/step - loss: 0.3405 - accuracy: 0.8720 - val_loss: 0.3403 - val_accuracy: 0.9216\n",
      "Epoch 41/300\n",
      "82/82 [==============================] - 0s 3ms/step - loss: 0.3344 - accuracy: 0.8634 - val_loss: 0.3295 - val_accuracy: 0.8922\n",
      "Epoch 42/300\n",
      "82/82 [==============================] - 0s 3ms/step - loss: 0.3550 - accuracy: 0.8610 - val_loss: 0.3229 - val_accuracy: 0.9118\n",
      "Epoch 43/300\n",
      "82/82 [==============================] - 0s 3ms/step - loss: 0.3346 - accuracy: 0.8683 - val_loss: 0.3262 - val_accuracy: 0.9118\n",
      "Epoch 44/300\n",
      "82/82 [==============================] - 0s 3ms/step - loss: 0.3396 - accuracy: 0.8768 - val_loss: 0.3132 - val_accuracy: 0.8627\n",
      "Epoch 45/300\n",
      "82/82 [==============================] - 0s 2ms/step - loss: 0.3346 - accuracy: 0.8707 - val_loss: 0.3152 - val_accuracy: 0.8627\n",
      "Epoch 46/300\n",
      "82/82 [==============================] - 0s 3ms/step - loss: 0.3540 - accuracy: 0.8646 - val_loss: 0.3128 - val_accuracy: 0.8627\n",
      "Epoch 47/300\n",
      "82/82 [==============================] - 0s 3ms/step - loss: 0.3230 - accuracy: 0.8878 - val_loss: 0.3072 - val_accuracy: 0.8627\n",
      "Epoch 48/300\n",
      "82/82 [==============================] - 0s 3ms/step - loss: 0.3226 - accuracy: 0.8793 - val_loss: 0.3089 - val_accuracy: 0.9118\n",
      "Epoch 49/300\n",
      "82/82 [==============================] - 0s 3ms/step - loss: 0.3351 - accuracy: 0.8707 - val_loss: 0.3092 - val_accuracy: 0.8922\n",
      "Epoch 50/300\n",
      "82/82 [==============================] - 0s 3ms/step - loss: 0.3348 - accuracy: 0.8671 - val_loss: 0.3288 - val_accuracy: 0.9118\n",
      "Epoch 51/300\n",
      "82/82 [==============================] - 0s 3ms/step - loss: 0.3369 - accuracy: 0.8671 - val_loss: 0.3161 - val_accuracy: 0.9216\n",
      "Epoch 52/300\n",
      "82/82 [==============================] - 0s 3ms/step - loss: 0.3312 - accuracy: 0.8720 - val_loss: 0.3219 - val_accuracy: 0.9216\n",
      "Epoch 53/300\n",
      "82/82 [==============================] - 0s 3ms/step - loss: 0.3565 - accuracy: 0.8634 - val_loss: 0.3066 - val_accuracy: 0.8922\n",
      "Epoch 54/300\n",
      "82/82 [==============================] - 0s 3ms/step - loss: 0.3192 - accuracy: 0.8805 - val_loss: 0.3000 - val_accuracy: 0.8627\n",
      "Epoch 55/300\n",
      "82/82 [==============================] - 0s 3ms/step - loss: 0.3269 - accuracy: 0.8756 - val_loss: 0.2992 - val_accuracy: 0.8824\n",
      "Epoch 56/300\n",
      "82/82 [==============================] - 0s 3ms/step - loss: 0.3205 - accuracy: 0.8817 - val_loss: 0.2966 - val_accuracy: 0.9020\n",
      "Epoch 57/300\n",
      "82/82 [==============================] - 0s 3ms/step - loss: 0.3314 - accuracy: 0.8805 - val_loss: 0.3070 - val_accuracy: 0.9314\n",
      "Epoch 58/300\n",
      "82/82 [==============================] - 0s 3ms/step - loss: 0.3187 - accuracy: 0.8890 - val_loss: 0.3013 - val_accuracy: 0.9216\n"
     ]
    },
    {
     "name": "stdout",
     "output_type": "stream",
     "text": [
      "Epoch 59/300\n",
      "82/82 [==============================] - 0s 3ms/step - loss: 0.3284 - accuracy: 0.8780 - val_loss: 0.2974 - val_accuracy: 0.9118\n",
      "Epoch 60/300\n",
      "82/82 [==============================] - 0s 3ms/step - loss: 0.3160 - accuracy: 0.8890 - val_loss: 0.2957 - val_accuracy: 0.8725\n",
      "Epoch 61/300\n",
      "82/82 [==============================] - 0s 3ms/step - loss: 0.3257 - accuracy: 0.8805 - val_loss: 0.2969 - val_accuracy: 0.8725\n",
      "Epoch 62/300\n",
      "82/82 [==============================] - 0s 3ms/step - loss: 0.3313 - accuracy: 0.8756 - val_loss: 0.3067 - val_accuracy: 0.8922\n",
      "Epoch 63/300\n",
      "82/82 [==============================] - 0s 3ms/step - loss: 0.3212 - accuracy: 0.8768 - val_loss: 0.2966 - val_accuracy: 0.9020\n",
      "Epoch 64/300\n",
      "82/82 [==============================] - 0s 3ms/step - loss: 0.3201 - accuracy: 0.8817 - val_loss: 0.2937 - val_accuracy: 0.9118\n",
      "Epoch 65/300\n",
      "82/82 [==============================] - 0s 3ms/step - loss: 0.3177 - accuracy: 0.8854 - val_loss: 0.2913 - val_accuracy: 0.9216\n",
      "Epoch 66/300\n",
      "82/82 [==============================] - 0s 4ms/step - loss: 0.3164 - accuracy: 0.8817 - val_loss: 0.2934 - val_accuracy: 0.9216\n",
      "Epoch 67/300\n",
      "82/82 [==============================] - 0s 3ms/step - loss: 0.3351 - accuracy: 0.8671 - val_loss: 0.2984 - val_accuracy: 0.9412\n",
      "Epoch 68/300\n",
      "82/82 [==============================] - 0s 3ms/step - loss: 0.3305 - accuracy: 0.8805 - val_loss: 0.2887 - val_accuracy: 0.8922\n",
      "Epoch 69/300\n",
      "82/82 [==============================] - 0s 3ms/step - loss: 0.3393 - accuracy: 0.8671 - val_loss: 0.2891 - val_accuracy: 0.9314\n",
      "Epoch 70/300\n",
      "82/82 [==============================] - 0s 3ms/step - loss: 0.3271 - accuracy: 0.8707 - val_loss: 0.2911 - val_accuracy: 0.9020\n",
      "Epoch 71/300\n",
      "82/82 [==============================] - 0s 3ms/step - loss: 0.3264 - accuracy: 0.8732 - val_loss: 0.2875 - val_accuracy: 0.9118\n",
      "Epoch 72/300\n",
      "82/82 [==============================] - 0s 3ms/step - loss: 0.3175 - accuracy: 0.8744 - val_loss: 0.2878 - val_accuracy: 0.9216\n",
      "Epoch 73/300\n",
      "82/82 [==============================] - 0s 3ms/step - loss: 0.3247 - accuracy: 0.8902 - val_loss: 0.2947 - val_accuracy: 0.9314\n",
      "Epoch 74/300\n",
      "82/82 [==============================] - 0s 3ms/step - loss: 0.3213 - accuracy: 0.8841 - val_loss: 0.2798 - val_accuracy: 0.9118\n",
      "Epoch 75/300\n",
      "82/82 [==============================] - 0s 4ms/step - loss: 0.3253 - accuracy: 0.8732 - val_loss: 0.2913 - val_accuracy: 0.9216\n",
      "Epoch 76/300\n",
      "82/82 [==============================] - 0s 3ms/step - loss: 0.3291 - accuracy: 0.8817 - val_loss: 0.2800 - val_accuracy: 0.9216\n",
      "Epoch 77/300\n",
      "82/82 [==============================] - 0s 4ms/step - loss: 0.3153 - accuracy: 0.8878 - val_loss: 0.2852 - val_accuracy: 0.9216\n",
      "Epoch 78/300\n",
      "82/82 [==============================] - 0s 3ms/step - loss: 0.3252 - accuracy: 0.8829 - val_loss: 0.2772 - val_accuracy: 0.8922\n",
      "Epoch 79/300\n",
      "82/82 [==============================] - 0s 3ms/step - loss: 0.3038 - accuracy: 0.8854 - val_loss: 0.2736 - val_accuracy: 0.9118\n",
      "Epoch 80/300\n",
      "82/82 [==============================] - 0s 3ms/step - loss: 0.2983 - accuracy: 0.8854 - val_loss: 0.2983 - val_accuracy: 0.9412\n",
      "Epoch 81/300\n",
      "82/82 [==============================] - 0s 3ms/step - loss: 0.3071 - accuracy: 0.8793 - val_loss: 0.2760 - val_accuracy: 0.9314\n",
      "Epoch 82/300\n",
      "82/82 [==============================] - 0s 4ms/step - loss: 0.2989 - accuracy: 0.8829 - val_loss: 0.2733 - val_accuracy: 0.9314\n",
      "Epoch 83/300\n",
      "82/82 [==============================] - 0s 4ms/step - loss: 0.3271 - accuracy: 0.8756 - val_loss: 0.2744 - val_accuracy: 0.9216\n",
      "Epoch 84/300\n",
      "82/82 [==============================] - 0s 3ms/step - loss: 0.2995 - accuracy: 0.8878 - val_loss: 0.2754 - val_accuracy: 0.9020\n",
      "Epoch 85/300\n",
      "82/82 [==============================] - 0s 3ms/step - loss: 0.3123 - accuracy: 0.8780 - val_loss: 0.2786 - val_accuracy: 0.9314\n",
      "Epoch 86/300\n",
      "82/82 [==============================] - 0s 3ms/step - loss: 0.3020 - accuracy: 0.8890 - val_loss: 0.2701 - val_accuracy: 0.9216\n",
      "Epoch 87/300\n",
      "82/82 [==============================] - 0s 3ms/step - loss: 0.3084 - accuracy: 0.8902 - val_loss: 0.2728 - val_accuracy: 0.9314\n",
      "Epoch 88/300\n",
      "82/82 [==============================] - 0s 3ms/step - loss: 0.3166 - accuracy: 0.8829 - val_loss: 0.2714 - val_accuracy: 0.9314\n",
      "Epoch 89/300\n",
      "82/82 [==============================] - 0s 4ms/step - loss: 0.3007 - accuracy: 0.8854 - val_loss: 0.2679 - val_accuracy: 0.9314\n",
      "Epoch 90/300\n",
      "82/82 [==============================] - 0s 5ms/step - loss: 0.3259 - accuracy: 0.8732 - val_loss: 0.2806 - val_accuracy: 0.9314\n",
      "Epoch 91/300\n",
      "82/82 [==============================] - 0s 5ms/step - loss: 0.3151 - accuracy: 0.8732 - val_loss: 0.2754 - val_accuracy: 0.9314\n",
      "Epoch 92/300\n",
      "82/82 [==============================] - 0s 3ms/step - loss: 0.2966 - accuracy: 0.8793 - val_loss: 0.2738 - val_accuracy: 0.9314\n",
      "Epoch 93/300\n",
      "82/82 [==============================] - 0s 4ms/step - loss: 0.3248 - accuracy: 0.8683 - val_loss: 0.2782 - val_accuracy: 0.9314\n",
      "Epoch 94/300\n",
      "82/82 [==============================] - 0s 4ms/step - loss: 0.3023 - accuracy: 0.8915 - val_loss: 0.2706 - val_accuracy: 0.9216\n",
      "Epoch 95/300\n",
      "82/82 [==============================] - 0s 4ms/step - loss: 0.3247 - accuracy: 0.8793 - val_loss: 0.2723 - val_accuracy: 0.9216\n",
      "Epoch 96/300\n",
      "82/82 [==============================] - 0s 5ms/step - loss: 0.3159 - accuracy: 0.8780 - val_loss: 0.2729 - val_accuracy: 0.8922\n",
      "Epoch 97/300\n",
      "82/82 [==============================] - 0s 4ms/step - loss: 0.3103 - accuracy: 0.8854 - val_loss: 0.2720 - val_accuracy: 0.9216\n",
      "Epoch 98/300\n",
      "82/82 [==============================] - 0s 4ms/step - loss: 0.3067 - accuracy: 0.8890 - val_loss: 0.2657 - val_accuracy: 0.9020\n",
      "Epoch 99/300\n",
      "82/82 [==============================] - 0s 5ms/step - loss: 0.3025 - accuracy: 0.8915 - val_loss: 0.2735 - val_accuracy: 0.9412\n",
      "Epoch 100/300\n",
      "82/82 [==============================] - 0s 4ms/step - loss: 0.2883 - accuracy: 0.8817 - val_loss: 0.2781 - val_accuracy: 0.9412\n",
      "Epoch 101/300\n",
      "82/82 [==============================] - 0s 4ms/step - loss: 0.3210 - accuracy: 0.8829 - val_loss: 0.2675 - val_accuracy: 0.9118\n",
      "Epoch 102/300\n",
      "82/82 [==============================] - 0s 4ms/step - loss: 0.3079 - accuracy: 0.8854 - val_loss: 0.2659 - val_accuracy: 0.8922\n",
      "Epoch 103/300\n",
      "82/82 [==============================] - 0s 4ms/step - loss: 0.3185 - accuracy: 0.8841 - val_loss: 0.2673 - val_accuracy: 0.9020\n",
      "Epoch 104/300\n",
      "82/82 [==============================] - 1s 9ms/step - loss: 0.3153 - accuracy: 0.8817 - val_loss: 0.2697 - val_accuracy: 0.9020\n",
      "Epoch 105/300\n",
      "82/82 [==============================] - 0s 3ms/step - loss: 0.2934 - accuracy: 0.9000 - val_loss: 0.2606 - val_accuracy: 0.9216\n",
      "Epoch 106/300\n",
      "82/82 [==============================] - 0s 3ms/step - loss: 0.3069 - accuracy: 0.8829 - val_loss: 0.2604 - val_accuracy: 0.9216\n",
      "Epoch 107/300\n",
      "82/82 [==============================] - 0s 3ms/step - loss: 0.2829 - accuracy: 0.8841 - val_loss: 0.2645 - val_accuracy: 0.9314\n",
      "Epoch 108/300\n",
      "82/82 [==============================] - 0s 4ms/step - loss: 0.3011 - accuracy: 0.8866 - val_loss: 0.2605 - val_accuracy: 0.9020\n",
      "Epoch 109/300\n",
      "82/82 [==============================] - 0s 3ms/step - loss: 0.2879 - accuracy: 0.9000 - val_loss: 0.2554 - val_accuracy: 0.9216\n",
      "Epoch 110/300\n",
      "82/82 [==============================] - 0s 3ms/step - loss: 0.3086 - accuracy: 0.8866 - val_loss: 0.2546 - val_accuracy: 0.9412\n",
      "Epoch 111/300\n",
      "82/82 [==============================] - 0s 3ms/step - loss: 0.2888 - accuracy: 0.9024 - val_loss: 0.2656 - val_accuracy: 0.9314\n",
      "Epoch 112/300\n",
      "82/82 [==============================] - 0s 3ms/step - loss: 0.3079 - accuracy: 0.8793 - val_loss: 0.2553 - val_accuracy: 0.9314\n",
      "Epoch 113/300\n",
      "82/82 [==============================] - 0s 3ms/step - loss: 0.2916 - accuracy: 0.8951 - val_loss: 0.2546 - val_accuracy: 0.9314\n",
      "Epoch 114/300\n",
      "82/82 [==============================] - 0s 3ms/step - loss: 0.3146 - accuracy: 0.8780 - val_loss: 0.2568 - val_accuracy: 0.9412\n",
      "Epoch 115/300\n",
      "82/82 [==============================] - 0s 3ms/step - loss: 0.3108 - accuracy: 0.8854 - val_loss: 0.2617 - val_accuracy: 0.9412\n",
      "Epoch 116/300\n"
     ]
    },
    {
     "name": "stdout",
     "output_type": "stream",
     "text": [
      "82/82 [==============================] - 0s 3ms/step - loss: 0.3164 - accuracy: 0.8878 - val_loss: 0.2629 - val_accuracy: 0.9118\n",
      "Epoch 117/300\n",
      "82/82 [==============================] - 0s 4ms/step - loss: 0.3020 - accuracy: 0.8915 - val_loss: 0.2594 - val_accuracy: 0.9314\n",
      "Epoch 118/300\n",
      "82/82 [==============================] - 0s 4ms/step - loss: 0.2936 - accuracy: 0.8927 - val_loss: 0.2575 - val_accuracy: 0.9412\n",
      "Epoch 119/300\n",
      "82/82 [==============================] - 0s 3ms/step - loss: 0.2856 - accuracy: 0.9024 - val_loss: 0.2597 - val_accuracy: 0.9216\n",
      "Epoch 120/300\n",
      "82/82 [==============================] - 0s 3ms/step - loss: 0.2931 - accuracy: 0.8878 - val_loss: 0.2626 - val_accuracy: 0.9314\n",
      "Epoch 121/300\n",
      "82/82 [==============================] - 0s 3ms/step - loss: 0.2795 - accuracy: 0.9000 - val_loss: 0.2501 - val_accuracy: 0.9216\n",
      "Epoch 122/300\n",
      "82/82 [==============================] - 0s 3ms/step - loss: 0.2989 - accuracy: 0.9000 - val_loss: 0.2680 - val_accuracy: 0.9412\n",
      "Epoch 123/300\n",
      "82/82 [==============================] - 0s 3ms/step - loss: 0.2862 - accuracy: 0.8939 - val_loss: 0.2442 - val_accuracy: 0.9412\n",
      "Epoch 124/300\n",
      "82/82 [==============================] - 0s 3ms/step - loss: 0.2945 - accuracy: 0.8890 - val_loss: 0.2472 - val_accuracy: 0.9216\n",
      "Epoch 125/300\n",
      "82/82 [==============================] - 0s 3ms/step - loss: 0.2894 - accuracy: 0.9098 - val_loss: 0.2418 - val_accuracy: 0.9216\n",
      "Epoch 126/300\n",
      "82/82 [==============================] - 0s 3ms/step - loss: 0.3032 - accuracy: 0.8817 - val_loss: 0.2452 - val_accuracy: 0.9314\n",
      "Epoch 127/300\n",
      "82/82 [==============================] - 0s 3ms/step - loss: 0.2809 - accuracy: 0.9061 - val_loss: 0.2551 - val_accuracy: 0.9412\n",
      "Epoch 128/300\n",
      "82/82 [==============================] - 0s 3ms/step - loss: 0.3032 - accuracy: 0.8939 - val_loss: 0.2488 - val_accuracy: 0.9314\n",
      "Epoch 129/300\n",
      "82/82 [==============================] - 0s 4ms/step - loss: 0.2996 - accuracy: 0.8805 - val_loss: 0.2516 - val_accuracy: 0.9314\n",
      "Epoch 130/300\n",
      "82/82 [==============================] - 0s 3ms/step - loss: 0.3005 - accuracy: 0.8878 - val_loss: 0.2590 - val_accuracy: 0.9412\n",
      "Epoch 131/300\n",
      "82/82 [==============================] - 0s 3ms/step - loss: 0.2923 - accuracy: 0.8976 - val_loss: 0.2587 - val_accuracy: 0.9314\n",
      "Epoch 132/300\n",
      "82/82 [==============================] - 0s 4ms/step - loss: 0.2933 - accuracy: 0.9024 - val_loss: 0.2468 - val_accuracy: 0.9314\n",
      "Epoch 133/300\n",
      "82/82 [==============================] - 0s 3ms/step - loss: 0.2948 - accuracy: 0.8866 - val_loss: 0.2443 - val_accuracy: 0.9314\n",
      "Epoch 134/300\n",
      "82/82 [==============================] - 0s 4ms/step - loss: 0.2624 - accuracy: 0.9098 - val_loss: 0.2499 - val_accuracy: 0.9412\n",
      "Epoch 135/300\n",
      "82/82 [==============================] - 0s 4ms/step - loss: 0.2882 - accuracy: 0.8939 - val_loss: 0.2370 - val_accuracy: 0.9314\n",
      "Epoch 136/300\n",
      "82/82 [==============================] - 0s 5ms/step - loss: 0.3015 - accuracy: 0.8939 - val_loss: 0.2385 - val_accuracy: 0.9118\n",
      "Epoch 137/300\n",
      "82/82 [==============================] - 0s 3ms/step - loss: 0.3115 - accuracy: 0.8817 - val_loss: 0.2346 - val_accuracy: 0.9314\n",
      "Epoch 138/300\n",
      "82/82 [==============================] - 0s 3ms/step - loss: 0.2847 - accuracy: 0.8988 - val_loss: 0.2385 - val_accuracy: 0.9412\n",
      "Epoch 139/300\n",
      "82/82 [==============================] - 0s 3ms/step - loss: 0.2892 - accuracy: 0.8744 - val_loss: 0.2444 - val_accuracy: 0.9314\n",
      "Epoch 140/300\n",
      "82/82 [==============================] - 0s 3ms/step - loss: 0.2944 - accuracy: 0.8927 - val_loss: 0.2398 - val_accuracy: 0.9412\n",
      "Epoch 141/300\n",
      "82/82 [==============================] - 0s 3ms/step - loss: 0.2827 - accuracy: 0.8951 - val_loss: 0.2404 - val_accuracy: 0.9314\n",
      "Epoch 142/300\n",
      "82/82 [==============================] - 0s 3ms/step - loss: 0.2881 - accuracy: 0.8902 - val_loss: 0.2370 - val_accuracy: 0.9216\n",
      "Epoch 143/300\n",
      "82/82 [==============================] - 0s 3ms/step - loss: 0.2834 - accuracy: 0.9061 - val_loss: 0.2427 - val_accuracy: 0.9314\n",
      "Epoch 144/300\n",
      "82/82 [==============================] - 0s 3ms/step - loss: 0.2781 - accuracy: 0.9012 - val_loss: 0.2342 - val_accuracy: 0.9412\n",
      "Epoch 145/300\n",
      "82/82 [==============================] - 0s 3ms/step - loss: 0.2998 - accuracy: 0.8902 - val_loss: 0.2530 - val_accuracy: 0.9314\n",
      "Epoch 146/300\n",
      "82/82 [==============================] - 0s 4ms/step - loss: 0.2944 - accuracy: 0.8841 - val_loss: 0.2372 - val_accuracy: 0.9412\n",
      "Epoch 147/300\n",
      "82/82 [==============================] - 0s 3ms/step - loss: 0.2884 - accuracy: 0.8976 - val_loss: 0.2285 - val_accuracy: 0.9314\n",
      "Epoch 148/300\n",
      "82/82 [==============================] - 0s 3ms/step - loss: 0.3010 - accuracy: 0.8927 - val_loss: 0.2367 - val_accuracy: 0.9314\n",
      "Epoch 149/300\n",
      "82/82 [==============================] - 0s 3ms/step - loss: 0.2987 - accuracy: 0.8829 - val_loss: 0.2373 - val_accuracy: 0.9412\n",
      "Epoch 150/300\n",
      "82/82 [==============================] - 0s 3ms/step - loss: 0.2727 - accuracy: 0.8951 - val_loss: 0.2364 - val_accuracy: 0.9314\n",
      "Epoch 151/300\n",
      "82/82 [==============================] - 0s 3ms/step - loss: 0.2799 - accuracy: 0.8951 - val_loss: 0.2247 - val_accuracy: 0.9412\n",
      "Epoch 152/300\n",
      "82/82 [==============================] - 0s 3ms/step - loss: 0.2729 - accuracy: 0.9061 - val_loss: 0.2412 - val_accuracy: 0.9314\n",
      "Epoch 153/300\n",
      "82/82 [==============================] - 0s 3ms/step - loss: 0.2878 - accuracy: 0.9000 - val_loss: 0.2222 - val_accuracy: 0.9412\n",
      "Epoch 154/300\n",
      "82/82 [==============================] - 0s 4ms/step - loss: 0.2854 - accuracy: 0.8854 - val_loss: 0.2231 - val_accuracy: 0.9412\n",
      "Epoch 155/300\n",
      "82/82 [==============================] - 0s 3ms/step - loss: 0.2919 - accuracy: 0.9049 - val_loss: 0.2302 - val_accuracy: 0.9412\n",
      "Epoch 156/300\n",
      "82/82 [==============================] - 0s 3ms/step - loss: 0.3127 - accuracy: 0.8902 - val_loss: 0.2292 - val_accuracy: 0.9412\n",
      "Epoch 157/300\n",
      "82/82 [==============================] - 0s 3ms/step - loss: 0.2637 - accuracy: 0.9085 - val_loss: 0.2296 - val_accuracy: 0.9412\n",
      "Epoch 158/300\n",
      "82/82 [==============================] - 0s 3ms/step - loss: 0.2638 - accuracy: 0.9061 - val_loss: 0.2266 - val_accuracy: 0.9412\n",
      "Epoch 159/300\n",
      "82/82 [==============================] - 0s 3ms/step - loss: 0.2827 - accuracy: 0.8866 - val_loss: 0.2278 - val_accuracy: 0.9314\n",
      "Epoch 160/300\n",
      "82/82 [==============================] - 0s 3ms/step - loss: 0.2843 - accuracy: 0.8939 - val_loss: 0.2167 - val_accuracy: 0.9412\n",
      "Epoch 161/300\n",
      "82/82 [==============================] - 0s 3ms/step - loss: 0.2778 - accuracy: 0.8988 - val_loss: 0.2132 - val_accuracy: 0.9314\n",
      "Epoch 162/300\n",
      "82/82 [==============================] - 0s 3ms/step - loss: 0.2860 - accuracy: 0.8951 - val_loss: 0.2289 - val_accuracy: 0.9412\n",
      "Epoch 163/300\n",
      "82/82 [==============================] - 0s 2ms/step - loss: 0.2729 - accuracy: 0.9098 - val_loss: 0.2236 - val_accuracy: 0.9314\n",
      "Epoch 164/300\n",
      "82/82 [==============================] - 0s 3ms/step - loss: 0.2644 - accuracy: 0.9073 - val_loss: 0.2258 - val_accuracy: 0.9412\n",
      "Epoch 165/300\n",
      "82/82 [==============================] - 0s 3ms/step - loss: 0.2794 - accuracy: 0.9037 - val_loss: 0.2145 - val_accuracy: 0.9314\n",
      "Epoch 166/300\n",
      "82/82 [==============================] - 0s 3ms/step - loss: 0.3164 - accuracy: 0.8927 - val_loss: 0.2192 - val_accuracy: 0.9314\n",
      "Epoch 167/300\n",
      "82/82 [==============================] - 0s 3ms/step - loss: 0.3041 - accuracy: 0.8866 - val_loss: 0.2142 - val_accuracy: 0.9314\n",
      "Epoch 168/300\n",
      "82/82 [==============================] - 0s 3ms/step - loss: 0.2827 - accuracy: 0.9110 - val_loss: 0.2173 - val_accuracy: 0.9314\n",
      "Epoch 169/300\n",
      "82/82 [==============================] - 0s 3ms/step - loss: 0.2817 - accuracy: 0.8939 - val_loss: 0.2124 - val_accuracy: 0.9314\n",
      "Epoch 170/300\n",
      "82/82 [==============================] - 0s 3ms/step - loss: 0.2646 - accuracy: 0.9098 - val_loss: 0.2248 - val_accuracy: 0.9412\n",
      "Epoch 171/300\n",
      "82/82 [==============================] - 0s 3ms/step - loss: 0.2745 - accuracy: 0.8976 - val_loss: 0.2178 - val_accuracy: 0.9314\n",
      "Epoch 172/300\n",
      "82/82 [==============================] - 0s 3ms/step - loss: 0.2775 - accuracy: 0.8988 - val_loss: 0.2120 - val_accuracy: 0.9412\n",
      "Epoch 173/300\n"
     ]
    },
    {
     "name": "stdout",
     "output_type": "stream",
     "text": [
      "82/82 [==============================] - 0s 3ms/step - loss: 0.2650 - accuracy: 0.9024 - val_loss: 0.2083 - val_accuracy: 0.9412\n",
      "Epoch 174/300\n",
      "82/82 [==============================] - 0s 3ms/step - loss: 0.2563 - accuracy: 0.9122 - val_loss: 0.2098 - val_accuracy: 0.9314\n",
      "Epoch 175/300\n",
      "82/82 [==============================] - 0s 2ms/step - loss: 0.2931 - accuracy: 0.8951 - val_loss: 0.2051 - val_accuracy: 0.9412\n",
      "Epoch 176/300\n",
      "82/82 [==============================] - 0s 3ms/step - loss: 0.2728 - accuracy: 0.9049 - val_loss: 0.2096 - val_accuracy: 0.9314\n",
      "Epoch 177/300\n",
      "82/82 [==============================] - 0s 3ms/step - loss: 0.2746 - accuracy: 0.9000 - val_loss: 0.2187 - val_accuracy: 0.9412\n",
      "Epoch 178/300\n",
      "82/82 [==============================] - 0s 3ms/step - loss: 0.2739 - accuracy: 0.8976 - val_loss: 0.2196 - val_accuracy: 0.9412\n",
      "Epoch 179/300\n",
      "82/82 [==============================] - 0s 3ms/step - loss: 0.2832 - accuracy: 0.9061 - val_loss: 0.2109 - val_accuracy: 0.9412\n",
      "Epoch 180/300\n",
      "82/82 [==============================] - 0s 3ms/step - loss: 0.2677 - accuracy: 0.9000 - val_loss: 0.2063 - val_accuracy: 0.9314\n",
      "Epoch 181/300\n",
      "82/82 [==============================] - 0s 3ms/step - loss: 0.2608 - accuracy: 0.9110 - val_loss: 0.2039 - val_accuracy: 0.9412\n",
      "Epoch 182/300\n",
      "82/82 [==============================] - 0s 2ms/step - loss: 0.2814 - accuracy: 0.8878 - val_loss: 0.2026 - val_accuracy: 0.9412\n",
      "Epoch 183/300\n",
      "82/82 [==============================] - 0s 3ms/step - loss: 0.2720 - accuracy: 0.9073 - val_loss: 0.2009 - val_accuracy: 0.9412\n",
      "Epoch 184/300\n",
      "82/82 [==============================] - 0s 3ms/step - loss: 0.2677 - accuracy: 0.9037 - val_loss: 0.2078 - val_accuracy: 0.9412\n",
      "Epoch 185/300\n",
      "82/82 [==============================] - 0s 3ms/step - loss: 0.2821 - accuracy: 0.9012 - val_loss: 0.2046 - val_accuracy: 0.9314\n",
      "Epoch 186/300\n",
      "82/82 [==============================] - 0s 3ms/step - loss: 0.2525 - accuracy: 0.9195 - val_loss: 0.1980 - val_accuracy: 0.9412\n",
      "Epoch 187/300\n",
      "82/82 [==============================] - 0s 3ms/step - loss: 0.2569 - accuracy: 0.9183 - val_loss: 0.2041 - val_accuracy: 0.9412\n",
      "Epoch 188/300\n",
      "82/82 [==============================] - 0s 3ms/step - loss: 0.2877 - accuracy: 0.9024 - val_loss: 0.1992 - val_accuracy: 0.9412\n",
      "Epoch 189/300\n",
      "82/82 [==============================] - 0s 3ms/step - loss: 0.2771 - accuracy: 0.8988 - val_loss: 0.2063 - val_accuracy: 0.9412\n",
      "Epoch 190/300\n",
      "82/82 [==============================] - 0s 3ms/step - loss: 0.2639 - accuracy: 0.9098 - val_loss: 0.2024 - val_accuracy: 0.9412\n",
      "Epoch 191/300\n",
      "82/82 [==============================] - 0s 3ms/step - loss: 0.2515 - accuracy: 0.9073 - val_loss: 0.2015 - val_accuracy: 0.9314\n",
      "Epoch 192/300\n",
      "82/82 [==============================] - 0s 3ms/step - loss: 0.2871 - accuracy: 0.8976 - val_loss: 0.2009 - val_accuracy: 0.9314\n",
      "Epoch 193/300\n",
      "82/82 [==============================] - 0s 3ms/step - loss: 0.2783 - accuracy: 0.9024 - val_loss: 0.2159 - val_accuracy: 0.9412\n",
      "Epoch 194/300\n",
      "82/82 [==============================] - 0s 3ms/step - loss: 0.2619 - accuracy: 0.8976 - val_loss: 0.2000 - val_accuracy: 0.9412\n",
      "Epoch 195/300\n",
      "82/82 [==============================] - 0s 3ms/step - loss: 0.2557 - accuracy: 0.9195 - val_loss: 0.1968 - val_accuracy: 0.9412\n",
      "Epoch 196/300\n",
      "82/82 [==============================] - 0s 3ms/step - loss: 0.2773 - accuracy: 0.9085 - val_loss: 0.2064 - val_accuracy: 0.9412\n",
      "Epoch 197/300\n",
      "82/82 [==============================] - 0s 3ms/step - loss: 0.2748 - accuracy: 0.9061 - val_loss: 0.1949 - val_accuracy: 0.9412\n",
      "Epoch 198/300\n",
      "82/82 [==============================] - 0s 3ms/step - loss: 0.2755 - accuracy: 0.9000 - val_loss: 0.2038 - val_accuracy: 0.9314\n",
      "Epoch 199/300\n",
      "82/82 [==============================] - 0s 2ms/step - loss: 0.2902 - accuracy: 0.8951 - val_loss: 0.1964 - val_accuracy: 0.9412\n",
      "Epoch 200/300\n",
      "82/82 [==============================] - 0s 3ms/step - loss: 0.2520 - accuracy: 0.9037 - val_loss: 0.1934 - val_accuracy: 0.9412\n",
      "Epoch 201/300\n",
      "82/82 [==============================] - 0s 3ms/step - loss: 0.2545 - accuracy: 0.9159 - val_loss: 0.1997 - val_accuracy: 0.9412\n",
      "Epoch 202/300\n",
      "82/82 [==============================] - 0s 3ms/step - loss: 0.2591 - accuracy: 0.9061 - val_loss: 0.1911 - val_accuracy: 0.9412\n",
      "Epoch 203/300\n",
      "82/82 [==============================] - 0s 3ms/step - loss: 0.2777 - accuracy: 0.9061 - val_loss: 0.1968 - val_accuracy: 0.9412\n",
      "Epoch 204/300\n",
      "82/82 [==============================] - 0s 3ms/step - loss: 0.2611 - accuracy: 0.9171 - val_loss: 0.1873 - val_accuracy: 0.9412\n",
      "Epoch 205/300\n",
      "82/82 [==============================] - 0s 3ms/step - loss: 0.2805 - accuracy: 0.9012 - val_loss: 0.1982 - val_accuracy: 0.9412\n",
      "Epoch 206/300\n",
      "82/82 [==============================] - 0s 3ms/step - loss: 0.2620 - accuracy: 0.9098 - val_loss: 0.1981 - val_accuracy: 0.9412\n",
      "Epoch 207/300\n",
      "82/82 [==============================] - 0s 3ms/step - loss: 0.2404 - accuracy: 0.9073 - val_loss: 0.1902 - val_accuracy: 0.9412\n",
      "Epoch 208/300\n",
      "82/82 [==============================] - 0s 3ms/step - loss: 0.2802 - accuracy: 0.9037 - val_loss: 0.1952 - val_accuracy: 0.9412\n",
      "Epoch 209/300\n",
      "82/82 [==============================] - 0s 3ms/step - loss: 0.2695 - accuracy: 0.9098 - val_loss: 0.1887 - val_accuracy: 0.9412\n",
      "Epoch 210/300\n",
      "82/82 [==============================] - 0s 3ms/step - loss: 0.2591 - accuracy: 0.9146 - val_loss: 0.2054 - val_accuracy: 0.9412\n",
      "Epoch 211/300\n",
      "82/82 [==============================] - 0s 3ms/step - loss: 0.2618 - accuracy: 0.9134 - val_loss: 0.1887 - val_accuracy: 0.9412\n",
      "Epoch 212/300\n",
      "82/82 [==============================] - 0s 3ms/step - loss: 0.2694 - accuracy: 0.9012 - val_loss: 0.1914 - val_accuracy: 0.9412\n",
      "Epoch 213/300\n",
      "82/82 [==============================] - 0s 3ms/step - loss: 0.2486 - accuracy: 0.9146 - val_loss: 0.1969 - val_accuracy: 0.9314\n",
      "Epoch 214/300\n",
      "82/82 [==============================] - 0s 3ms/step - loss: 0.2878 - accuracy: 0.9073 - val_loss: 0.1924 - val_accuracy: 0.9412\n",
      "Epoch 215/300\n",
      "82/82 [==============================] - 0s 3ms/step - loss: 0.2620 - accuracy: 0.9122 - val_loss: 0.1888 - val_accuracy: 0.9412\n",
      "Epoch 216/300\n",
      "82/82 [==============================] - 0s 3ms/step - loss: 0.2395 - accuracy: 0.9171 - val_loss: 0.1905 - val_accuracy: 0.9412\n",
      "Epoch 217/300\n",
      "82/82 [==============================] - 0s 3ms/step - loss: 0.2632 - accuracy: 0.9061 - val_loss: 0.1873 - val_accuracy: 0.9412\n",
      "Epoch 218/300\n",
      "82/82 [==============================] - 0s 3ms/step - loss: 0.2546 - accuracy: 0.9098 - val_loss: 0.1953 - val_accuracy: 0.9412\n",
      "Epoch 219/300\n",
      "82/82 [==============================] - 0s 3ms/step - loss: 0.2681 - accuracy: 0.9024 - val_loss: 0.1873 - val_accuracy: 0.9412\n",
      "Epoch 220/300\n",
      "82/82 [==============================] - 0s 3ms/step - loss: 0.2753 - accuracy: 0.9037 - val_loss: 0.1993 - val_accuracy: 0.9412\n",
      "Epoch 221/300\n",
      "82/82 [==============================] - 0s 3ms/step - loss: 0.2589 - accuracy: 0.9110 - val_loss: 0.1970 - val_accuracy: 0.9412\n",
      "Epoch 222/300\n",
      "82/82 [==============================] - 0s 4ms/step - loss: 0.2746 - accuracy: 0.9061 - val_loss: 0.1950 - val_accuracy: 0.9412\n",
      "Epoch 223/300\n",
      "82/82 [==============================] - 0s 3ms/step - loss: 0.2477 - accuracy: 0.9195 - val_loss: 0.1959 - val_accuracy: 0.9412\n",
      "Epoch 224/300\n",
      "82/82 [==============================] - 0s 3ms/step - loss: 0.2707 - accuracy: 0.9024 - val_loss: 0.1967 - val_accuracy: 0.9412\n",
      "Epoch 225/300\n",
      "82/82 [==============================] - 0s 3ms/step - loss: 0.2992 - accuracy: 0.8927 - val_loss: 0.2015 - val_accuracy: 0.9412\n",
      "Epoch 226/300\n",
      "82/82 [==============================] - 0s 3ms/step - loss: 0.2488 - accuracy: 0.9122 - val_loss: 0.2005 - val_accuracy: 0.9412\n",
      "Epoch 227/300\n",
      "82/82 [==============================] - 0s 3ms/step - loss: 0.2724 - accuracy: 0.9098 - val_loss: 0.1889 - val_accuracy: 0.9412\n",
      "Epoch 228/300\n",
      "82/82 [==============================] - 0s 3ms/step - loss: 0.2731 - accuracy: 0.8988 - val_loss: 0.1901 - val_accuracy: 0.9412\n",
      "Epoch 229/300\n",
      "82/82 [==============================] - 0s 3ms/step - loss: 0.2617 - accuracy: 0.9122 - val_loss: 0.1852 - val_accuracy: 0.9412\n",
      "Epoch 230/300\n"
     ]
    },
    {
     "name": "stdout",
     "output_type": "stream",
     "text": [
      "82/82 [==============================] - 0s 3ms/step - loss: 0.2781 - accuracy: 0.9061 - val_loss: 0.2024 - val_accuracy: 0.9412\n",
      "Epoch 231/300\n",
      "82/82 [==============================] - 0s 3ms/step - loss: 0.2554 - accuracy: 0.9134 - val_loss: 0.1985 - val_accuracy: 0.9412\n",
      "Epoch 232/300\n",
      "82/82 [==============================] - 0s 3ms/step - loss: 0.2576 - accuracy: 0.9098 - val_loss: 0.1978 - val_accuracy: 0.9412\n",
      "Epoch 233/300\n",
      "82/82 [==============================] - 0s 3ms/step - loss: 0.2677 - accuracy: 0.9037 - val_loss: 0.1894 - val_accuracy: 0.9412\n",
      "Epoch 234/300\n",
      "82/82 [==============================] - 0s 3ms/step - loss: 0.2489 - accuracy: 0.9232 - val_loss: 0.1950 - val_accuracy: 0.9412\n",
      "Epoch 235/300\n",
      "82/82 [==============================] - 0s 2ms/step - loss: 0.2765 - accuracy: 0.9037 - val_loss: 0.1905 - val_accuracy: 0.9412\n",
      "Epoch 236/300\n",
      "82/82 [==============================] - 0s 2ms/step - loss: 0.2435 - accuracy: 0.9085 - val_loss: 0.2018 - val_accuracy: 0.9314\n",
      "Epoch 237/300\n",
      "82/82 [==============================] - 0s 3ms/step - loss: 0.2763 - accuracy: 0.9110 - val_loss: 0.1850 - val_accuracy: 0.9412\n",
      "Epoch 238/300\n",
      "82/82 [==============================] - 0s 3ms/step - loss: 0.2482 - accuracy: 0.9171 - val_loss: 0.1810 - val_accuracy: 0.9412\n",
      "Epoch 239/300\n",
      "82/82 [==============================] - 0s 3ms/step - loss: 0.2668 - accuracy: 0.9012 - val_loss: 0.1918 - val_accuracy: 0.9608\n",
      "Epoch 240/300\n",
      "82/82 [==============================] - 0s 3ms/step - loss: 0.2707 - accuracy: 0.9098 - val_loss: 0.1756 - val_accuracy: 0.9608\n",
      "Epoch 241/300\n",
      "82/82 [==============================] - 0s 3ms/step - loss: 0.2554 - accuracy: 0.9195 - val_loss: 0.1867 - val_accuracy: 0.9412\n",
      "Epoch 242/300\n",
      "82/82 [==============================] - 0s 3ms/step - loss: 0.2619 - accuracy: 0.9024 - val_loss: 0.1930 - val_accuracy: 0.9412\n",
      "Epoch 243/300\n",
      "82/82 [==============================] - 0s 3ms/step - loss: 0.2399 - accuracy: 0.9122 - val_loss: 0.1812 - val_accuracy: 0.9412\n",
      "Epoch 244/300\n",
      "82/82 [==============================] - 0s 3ms/step - loss: 0.2722 - accuracy: 0.9061 - val_loss: 0.1843 - val_accuracy: 0.9412\n",
      "Epoch 245/300\n",
      "82/82 [==============================] - 0s 3ms/step - loss: 0.2601 - accuracy: 0.9134 - val_loss: 0.1842 - val_accuracy: 0.9412\n",
      "Epoch 246/300\n",
      "82/82 [==============================] - 0s 3ms/step - loss: 0.2648 - accuracy: 0.8988 - val_loss: 0.1928 - val_accuracy: 0.9412\n",
      "Epoch 247/300\n",
      "82/82 [==============================] - 0s 3ms/step - loss: 0.2655 - accuracy: 0.9073 - val_loss: 0.1906 - val_accuracy: 0.9412\n",
      "Epoch 248/300\n",
      "82/82 [==============================] - 0s 3ms/step - loss: 0.2549 - accuracy: 0.9171 - val_loss: 0.1929 - val_accuracy: 0.9412\n",
      "Epoch 249/300\n",
      "82/82 [==============================] - 0s 3ms/step - loss: 0.2621 - accuracy: 0.9098 - val_loss: 0.1891 - val_accuracy: 0.9412\n",
      "Epoch 250/300\n",
      "82/82 [==============================] - 0s 3ms/step - loss: 0.2653 - accuracy: 0.8927 - val_loss: 0.1851 - val_accuracy: 0.9412\n",
      "Epoch 251/300\n",
      "82/82 [==============================] - 0s 3ms/step - loss: 0.2597 - accuracy: 0.9098 - val_loss: 0.1791 - val_accuracy: 0.9412\n",
      "Epoch 252/300\n",
      "82/82 [==============================] - 0s 3ms/step - loss: 0.2654 - accuracy: 0.8963 - val_loss: 0.1834 - val_accuracy: 0.9412\n",
      "Epoch 253/300\n",
      "82/82 [==============================] - 0s 2ms/step - loss: 0.2548 - accuracy: 0.9037 - val_loss: 0.1869 - val_accuracy: 0.9412\n",
      "Epoch 254/300\n",
      "82/82 [==============================] - 0s 3ms/step - loss: 0.2706 - accuracy: 0.9110 - val_loss: 0.1879 - val_accuracy: 0.9608\n",
      "Epoch 255/300\n",
      "82/82 [==============================] - 0s 3ms/step - loss: 0.2595 - accuracy: 0.9171 - val_loss: 0.1886 - val_accuracy: 0.9412\n",
      "Epoch 256/300\n",
      "82/82 [==============================] - 0s 3ms/step - loss: 0.2717 - accuracy: 0.9085 - val_loss: 0.1801 - val_accuracy: 0.9412\n",
      "Epoch 257/300\n",
      "82/82 [==============================] - 0s 3ms/step - loss: 0.2362 - accuracy: 0.9207 - val_loss: 0.1810 - val_accuracy: 0.9412\n",
      "Epoch 258/300\n",
      "82/82 [==============================] - 0s 3ms/step - loss: 0.2480 - accuracy: 0.9207 - val_loss: 0.1898 - val_accuracy: 0.9412\n",
      "Epoch 259/300\n",
      "82/82 [==============================] - 0s 3ms/step - loss: 0.2427 - accuracy: 0.9073 - val_loss: 0.1853 - val_accuracy: 0.9412\n",
      "Epoch 260/300\n",
      "82/82 [==============================] - 0s 2ms/step - loss: 0.2347 - accuracy: 0.9293 - val_loss: 0.1874 - val_accuracy: 0.9412\n",
      "Epoch 261/300\n",
      "82/82 [==============================] - 0s 3ms/step - loss: 0.2644 - accuracy: 0.9000 - val_loss: 0.1805 - val_accuracy: 0.9608\n",
      "Epoch 262/300\n",
      "82/82 [==============================] - 0s 3ms/step - loss: 0.2718 - accuracy: 0.9146 - val_loss: 0.1990 - val_accuracy: 0.9412\n",
      "Epoch 263/300\n",
      "82/82 [==============================] - 0s 3ms/step - loss: 0.2486 - accuracy: 0.9122 - val_loss: 0.1820 - val_accuracy: 0.9510\n",
      "Epoch 264/300\n",
      "82/82 [==============================] - 0s 3ms/step - loss: 0.2474 - accuracy: 0.9268 - val_loss: 0.1746 - val_accuracy: 0.9412\n",
      "Epoch 265/300\n",
      "82/82 [==============================] - 0s 2ms/step - loss: 0.2513 - accuracy: 0.9146 - val_loss: 0.1732 - val_accuracy: 0.9608\n",
      "Epoch 266/300\n",
      "82/82 [==============================] - 0s 3ms/step - loss: 0.2742 - accuracy: 0.9085 - val_loss: 0.1761 - val_accuracy: 0.9412\n",
      "Epoch 267/300\n",
      "82/82 [==============================] - 0s 3ms/step - loss: 0.2606 - accuracy: 0.9207 - val_loss: 0.1759 - val_accuracy: 0.9412\n",
      "Epoch 268/300\n",
      "82/82 [==============================] - 0s 3ms/step - loss: 0.2505 - accuracy: 0.9098 - val_loss: 0.1811 - val_accuracy: 0.9412\n",
      "Epoch 269/300\n",
      "82/82 [==============================] - 0s 3ms/step - loss: 0.2407 - accuracy: 0.9134 - val_loss: 0.1784 - val_accuracy: 0.9412\n",
      "Epoch 270/300\n",
      "82/82 [==============================] - 0s 3ms/step - loss: 0.2673 - accuracy: 0.9037 - val_loss: 0.1828 - val_accuracy: 0.9412\n",
      "Epoch 271/300\n",
      "82/82 [==============================] - 0s 3ms/step - loss: 0.2668 - accuracy: 0.9000 - val_loss: 0.1784 - val_accuracy: 0.9510\n",
      "Epoch 272/300\n",
      "82/82 [==============================] - 0s 3ms/step - loss: 0.2654 - accuracy: 0.9049 - val_loss: 0.1805 - val_accuracy: 0.9412\n",
      "Epoch 273/300\n",
      "82/82 [==============================] - 0s 3ms/step - loss: 0.2806 - accuracy: 0.9024 - val_loss: 0.1829 - val_accuracy: 0.9412\n",
      "Epoch 274/300\n",
      "82/82 [==============================] - 0s 3ms/step - loss: 0.2550 - accuracy: 0.9146 - val_loss: 0.1821 - val_accuracy: 0.9412\n",
      "Epoch 275/300\n",
      "82/82 [==============================] - 0s 3ms/step - loss: 0.2697 - accuracy: 0.9000 - val_loss: 0.1793 - val_accuracy: 0.9412\n",
      "Epoch 276/300\n",
      "82/82 [==============================] - 0s 3ms/step - loss: 0.2587 - accuracy: 0.9122 - val_loss: 0.1747 - val_accuracy: 0.9510\n",
      "Epoch 277/300\n",
      "82/82 [==============================] - 0s 3ms/step - loss: 0.2586 - accuracy: 0.9122 - val_loss: 0.1755 - val_accuracy: 0.9412\n",
      "Epoch 278/300\n",
      "82/82 [==============================] - 0s 3ms/step - loss: 0.2617 - accuracy: 0.9085 - val_loss: 0.1748 - val_accuracy: 0.9412\n",
      "Epoch 279/300\n",
      "82/82 [==============================] - 0s 3ms/step - loss: 0.2191 - accuracy: 0.9256 - val_loss: 0.1771 - val_accuracy: 0.9510\n",
      "Epoch 280/300\n",
      "82/82 [==============================] - 0s 3ms/step - loss: 0.2576 - accuracy: 0.9207 - val_loss: 0.1877 - val_accuracy: 0.9608\n",
      "Epoch 281/300\n",
      "82/82 [==============================] - 0s 3ms/step - loss: 0.2514 - accuracy: 0.9134 - val_loss: 0.1701 - val_accuracy: 0.9608\n",
      "Epoch 282/300\n",
      "82/82 [==============================] - 0s 3ms/step - loss: 0.2479 - accuracy: 0.9171 - val_loss: 0.1855 - val_accuracy: 0.9412\n",
      "Epoch 283/300\n",
      "82/82 [==============================] - 0s 3ms/step - loss: 0.2664 - accuracy: 0.9061 - val_loss: 0.1842 - val_accuracy: 0.9706\n",
      "Epoch 284/300\n",
      "82/82 [==============================] - 0s 3ms/step - loss: 0.2595 - accuracy: 0.9073 - val_loss: 0.1765 - val_accuracy: 0.9412\n",
      "Epoch 285/300\n",
      "82/82 [==============================] - 0s 3ms/step - loss: 0.2547 - accuracy: 0.9098 - val_loss: 0.1737 - val_accuracy: 0.9412\n",
      "Epoch 286/300\n",
      "82/82 [==============================] - 0s 3ms/step - loss: 0.2416 - accuracy: 0.9207 - val_loss: 0.1799 - val_accuracy: 0.9412\n",
      "Epoch 287/300\n"
     ]
    },
    {
     "name": "stdout",
     "output_type": "stream",
     "text": [
      "82/82 [==============================] - 0s 3ms/step - loss: 0.2480 - accuracy: 0.9146 - val_loss: 0.1742 - val_accuracy: 0.9412\n",
      "Epoch 288/300\n",
      "82/82 [==============================] - 0s 3ms/step - loss: 0.2565 - accuracy: 0.9220 - val_loss: 0.1683 - val_accuracy: 0.9706\n",
      "Epoch 289/300\n",
      "82/82 [==============================] - 0s 3ms/step - loss: 0.2391 - accuracy: 0.9195 - val_loss: 0.1669 - val_accuracy: 0.9706\n",
      "Epoch 290/300\n",
      "82/82 [==============================] - 0s 3ms/step - loss: 0.2293 - accuracy: 0.9183 - val_loss: 0.1786 - val_accuracy: 0.9706\n",
      "Epoch 291/300\n",
      "82/82 [==============================] - 0s 3ms/step - loss: 0.2358 - accuracy: 0.9146 - val_loss: 0.1776 - val_accuracy: 0.9412\n",
      "Epoch 292/300\n",
      "82/82 [==============================] - 0s 3ms/step - loss: 0.2322 - accuracy: 0.9280 - val_loss: 0.1727 - val_accuracy: 0.9608\n",
      "Epoch 293/300\n",
      "82/82 [==============================] - 0s 3ms/step - loss: 0.2416 - accuracy: 0.9159 - val_loss: 0.1692 - val_accuracy: 0.9412\n",
      "Epoch 294/300\n",
      "82/82 [==============================] - 0s 3ms/step - loss: 0.2306 - accuracy: 0.9220 - val_loss: 0.1689 - val_accuracy: 0.9412\n",
      "Epoch 295/300\n",
      "82/82 [==============================] - 0s 3ms/step - loss: 0.2395 - accuracy: 0.9122 - val_loss: 0.1769 - val_accuracy: 0.9608\n",
      "Epoch 296/300\n",
      "82/82 [==============================] - 0s 3ms/step - loss: 0.2371 - accuracy: 0.9110 - val_loss: 0.1739 - val_accuracy: 0.9608\n",
      "Epoch 297/300\n",
      "82/82 [==============================] - 0s 3ms/step - loss: 0.2587 - accuracy: 0.9122 - val_loss: 0.1797 - val_accuracy: 0.9412\n",
      "Epoch 298/300\n",
      "82/82 [==============================] - 0s 3ms/step - loss: 0.2585 - accuracy: 0.9110 - val_loss: 0.1744 - val_accuracy: 0.9608\n",
      "Epoch 299/300\n",
      "82/82 [==============================] - 0s 3ms/step - loss: 0.2469 - accuracy: 0.9183 - val_loss: 0.1763 - val_accuracy: 0.9412\n",
      "Epoch 300/300\n",
      "82/82 [==============================] - 0s 3ms/step - loss: 0.2528 - accuracy: 0.9183 - val_loss: 0.1902 - val_accuracy: 0.9412\n",
      "done\n"
     ]
    }
   ],
   "source": [
    "#train the sets...\n",
    "history=model.fit(x_train, Y_train,validation_data=(x_val, Y_val),epochs=300, batch_size=10,)  \n",
    "print('done')"
   ]
  },
  {
   "cell_type": "markdown",
   "id": "e9123c31",
   "metadata": {},
   "source": [
    "# Visualizing the training results"
   ]
  },
  {
   "cell_type": "code",
   "execution_count": 24,
   "id": "43e1cdce",
   "metadata": {
    "scrolled": false
   },
   "outputs": [
    {
     "data": {
      "image/png": "[encoded data removed]",
      "text/plain": [
       "<Figure size 576x432 with 2 Axes>"
      ]
     },
     "metadata": {
      "needs_background": "light"
     },
     "output_type": "display_data"
    }
   ],
   "source": [
    "\n",
    "#training history\n",
    "loss = history.history['loss']\n",
    "val_loss = history.history['val_loss']\n",
    "acc=history.history['accuracy']\n",
    "val_acc=history.history['val_accuracy']\n",
    "\n",
    "\n",
    "#'Training and Validation loss\n",
    "plt.figure(figsize=(8, 6))\n",
    "plt.subplot(1, 2, 1)\n",
    "plt.plot(history.history['accuracy']) #plot accuracy\n",
    "plt.plot(history.history['val_accuracy']) #plot val_acc\n",
    "plt.title('Training Accuracy')\n",
    "plt.ylabel('accuracy')\n",
    "plt.xlabel('epoch')\n",
    "plt.legend(['accuracy', 'val_accuracy'])\n",
    "\n",
    "#Training and Validation accuracy\n",
    "plt.subplot(1, 2, 2)\n",
    "plt.plot(history.history['loss']) #plot loss\n",
    "plt.plot(history.history['val_loss']) #plot val_loss\n",
    "plt.title('Training Loss')\n",
    "plt.ylabel('loss')\n",
    "plt.xlabel('epoch')\n",
    "plt.legend(['loss','val_loss'])\n",
    "\n",
    "#display plot\n",
    "plt.show()"
   ]
  },
  {
   "cell_type": "markdown",
   "id": "85351ccf",
   "metadata": {},
   "source": [
    "# Evaluate accuracy on test set"
   ]
  },
  {
   "cell_type": "code",
   "execution_count": 25,
   "id": "13a807c4",
   "metadata": {},
   "outputs": [
    {
     "name": "stdout",
     "output_type": "stream",
     "text": [
      "4/4 [==============================] - 0s 7ms/step - loss: 0.3469 - accuracy: 0.8932\n"
     ]
    },
    {
     "data": {
      "text/plain": [
       "[0.34692591428756714, 0.893203854560852]"
      ]
     },
     "execution_count": 25,
     "metadata": {},
     "output_type": "execute_result"
    }
   ],
   "source": [
    "#evaluate on test set\n",
    "model.evaluate(x_test,Y_test)"
   ]
  },
  {
   "cell_type": "markdown",
   "id": "850e1754",
   "metadata": {},
   "source": [
    "# Make prediction on the test set"
   ]
  },
  {
   "cell_type": "code",
   "execution_count": 26,
   "id": "e8f60aa4",
   "metadata": {},
   "outputs": [
    {
     "name": "stdout",
     "output_type": "stream",
     "text": [
      "4/4 [==============================] - 0s 8ms/step\n",
      "Results\n",
      "accuracy_score = 0.8932038834951457\n",
      "              precision    recall  f1-score   support\n",
      "\n",
      "           0       0.94      0.86      0.90        58\n",
      "           1       0.84      0.93      0.88        45\n",
      "\n",
      "    accuracy                           0.89       103\n",
      "   macro avg       0.89      0.90      0.89       103\n",
      "weighted avg       0.90      0.89      0.89       103\n",
      "\n"
     ]
    }
   ],
   "source": [
    "#predict on test data\n",
    "predictions = model.predict(x_test)\n",
    "#print(predictions.shape)\n",
    "pred_category = np.argmax(predictions, axis=1)\n",
    "\n",
    "#classification report\n",
    "print(\"Results\")\n",
    "print('accuracy_score =',accuracy_score(y_test,pred_category))\n",
    "print(classification_report(y_test, pred_category))"
   ]
  },
  {
   "cell_type": "code",
   "execution_count": 27,
   "id": "0f0a4e77",
   "metadata": {},
   "outputs": [
    {
     "data": {
      "text/plain": [
       "<tf.Tensor: shape=(2, 2), dtype=int32, numpy=\n",
       "array([[50,  8],\n",
       "       [ 3, 42]])>"
      ]
     },
     "execution_count": 27,
     "metadata": {},
     "output_type": "execute_result"
    }
   ],
   "source": [
    "#confusion matrix...\n",
    "cf_matrix=confusion_matrix(y_test,pred_category)\n",
    "cf_matrix"
   ]
  },
  {
   "cell_type": "code",
   "execution_count": 28,
   "id": "83a5175c",
   "metadata": {},
   "outputs": [],
   "source": [
    "#defining the confusion matrix heatmap\n",
    "def plot_conf(cf_matrix):\n",
    "    ax = sns.heatmap(cf_matrix, annot=True, cmap='plasma')\n",
    "\n",
    "    ax.set_title(' Confusion Matrix:Testing');\n",
    "    ax.set_xlabel('\\nPredicted Values')\n",
    "    ax.set_ylabel('Actual Values ');\n",
    "\n",
    "    #Tick labels \n",
    "    ax.xaxis.set_ticklabels(['0','1'])\n",
    "    ax.yaxis.set_ticklabels(['0','1'])\n",
    "\n",
    "    #Display Matrix\n",
    "    plt.show()"
   ]
  },
  {
   "cell_type": "code",
   "execution_count": 29,
   "id": "38c0606c",
   "metadata": {
    "scrolled": false
   },
   "outputs": [
    {
     "data": {
      "image/png": "[encoded data removed]",
      "text/plain": [
       "<Figure size 432x288 with 2 Axes>"
      ]
     },
     "metadata": {
      "needs_background": "light"
     },
     "output_type": "display_data"
    }
   ],
   "source": [
    "#visualize performance\n",
    "plot_conf(cf_matrix) "
   ]
  },
  {
   "cell_type": "markdown",
   "id": "2365fc28",
   "metadata": {},
   "source": [
    "In the target variable 0 represents the patient has not heart disease and 1 represent patient has heart disease. So,according to the given confusion matrix it can be seen that an accuracy of 89.3% is obtained. There is a total of 58 patients in test data which do not have heart disease out of which 50 were classified successfully and the 3 remaining were wrongly classified as positive for heart disease. Similarly, in the case of 45 patients who actually had heart disease, out of these 45 patients, 8 were classified to be negative and 42 as positive. The Final error in the model is 10.7%. The group of patient which are checked for the heart disease are categorized in four parts:\n",
    "\n",
    "- True positive (TP): these are the patients which are classified are negative for heart disease and actually they don’t have any heart disease.\n",
    "- False Positive(FP): This is the group of patients which are classified wrongly as positive i.e. they have heart disease\n",
    "- True Negative(TN): The group of patients which are actually diagnosed with heart disease and model classify them as positive for heart disease .\n",
    "- False Negative(FN): This is the group of patients which do not have the heart disease but the model showed that they have heart disease."
   ]
  },
  {
   "cell_type": "markdown",
   "id": "89b22e16",
   "metadata": {},
   "source": [
    "# Save model"
   ]
  },
  {
   "cell_type": "code",
   "execution_count": 30,
   "id": "e1464bb4",
   "metadata": {},
   "outputs": [
    {
     "name": "stdout",
     "output_type": "stream",
     "text": [
      "INFO:tensorflow:Assets written to: heart disease\\assets\n"
     ]
    }
   ],
   "source": [
    "model.save('heart disease')\n",
    "#reloaded_model = tf.keras.models.load_model('heart disease')"
   ]
  },
  {
   "cell_type": "markdown",
   "id": "a57866c5",
   "metadata": {},
   "source": [
    "# Summary of the Classification Measure"
   ]
  },
  {
   "cell_type": "markdown",
   "id": "a04f7ed2",
   "metadata": {},
   "source": [
    "Accuracy: It is a measure of correctness that is achieved in true prediction.\n",
    "          Simply measures how often the classifier makes the correct prediction, (TP & TN)\n",
    "\n",
    "Precision:It is a measure of correctness that is achieved in true prediction too.\n",
    "           it tells how many predictions that are actually positive out of all the total positive predicted.\n",
    "\n",
    "Recall:It measures the actual observations which are predicted correctly, i.e, \n",
    "       how many observations of positive class are actually predicted as positive. It is also known as Sensitivity. \n",
    "       Recall is a valid choice of evaluation metric when you want to capture as many positives as possible.\n",
    "        \n",
    "F1-Score: F1 score is a harmonic mean of Precision and Recall.\n",
    "          F1 score sort of maintains a balance between the precision and recall for your classifier  "
   ]
  },
  {
   "cell_type": "code",
   "execution_count": null,
   "id": "e1528e64",
   "metadata": {},
   "outputs": [],
   "source": []
  }
 ],
 "metadata": {
  "kernelspec": {
   "display_name": "Python 3 (ipykernel)",
   "language": "python",
   "name": "python3"
  },
  "language_info": {
   "codemirror_mode": {
    "name": "ipython",
    "version": 3
   },
   "file_extension": ".py",
   "mimetype": "text/x-python",
   "name": "python",
   "nbconvert_exporter": "python",
   "pygments_lexer": "ipython3",
   "version": "3.9.12"
  }
 },
 "nbformat": 4,
 "nbformat_minor": 5
}
