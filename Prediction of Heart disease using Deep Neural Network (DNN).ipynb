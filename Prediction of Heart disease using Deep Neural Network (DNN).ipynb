{
 "cells": [
  {
   "cell_type": "markdown",
   "id": "34710d59",
   "metadata": {},
   "source": [
    "# Prediction of Heart disease using Deep Neural Network"
   ]
  },
  {
   "cell_type": "markdown",
   "id": "32f66527",
   "metadata": {},
   "source": [
    "The data set dates from 1988 and consists of four databases: Cleveland, Hungary, Switzerland, and Long Beach V. It contains 76 attributes, including the predicted attribute, but all published experiments refer to using a subset of 14 of them. The \"target\" field refers to the presence of heart disease in the patient. It is integer valued 0 = no disease and 1 = disease."
   ]
  },
  {
   "cell_type": "markdown",
   "id": "beebb7ed",
   "metadata": {},
   "source": [
    "Acknowledgement: This data comes from the University of California Irvine's Machine Learning Repository at https://archive.ics.uci.edu/ml/datasets/Heart+Disease."
   ]
  },
  {
   "cell_type": "markdown",
   "id": "f7961b1e",
   "metadata": {},
   "source": [
    "The dataset contains 14 attributes:\n",
    "1.  (age) :  age in years\n",
    "2.  (sex) :  sex (1 = male; 0 = female)\n",
    "3.  (cp) :  chest pain type\n",
    "4.  (trestbps) :  Resting Blood presssure in mm Hg\n",
    "5.  (chol) :  serum cholesterol in mg/dl\n",
    "6.  (fbs) :  Fasting Blood Sugar in mg/dl\n",
    "7.  (restecg) :  Resting Electrocadiographic Results\n",
    "8.  (thalach) :  Maximum Heart Rate achieved\n",
    "9.  (exang) :  exercise induced angina \n",
    "10. (oldpeak) :  ST depression induced by exercise relative to rest\n",
    "11. (slope) :  slope of the Peak Exercise ST segment\n",
    "12. (ca):  number of major vessels (0-3) colored by flourosopy\n",
    "13. (thal) :  3 = normal; 6 = fixed defect; 7 = reversable defect\n",
    "14. (target) :  (the predicted attribute) . Diagnosis of heart disease (angiographic disease status) Values:0(absence) & 1(presence)"
   ]
  },
  {
   "cell_type": "code",
   "execution_count": null,
   "id": "8cdf4a3c",
   "metadata": {},
   "outputs": [],
   "source": []
  },
  {
   "cell_type": "markdown",
   "id": "096bee29",
   "metadata": {},
   "source": [
    "# Importing the required libraries"
   ]
  },
  {
   "cell_type": "code",
   "execution_count": 1,
   "id": "301f9d32",
   "metadata": {},
   "outputs": [],
   "source": [
    "import tensorflow as tf\n",
    "import numpy as np\n",
    "import pandas as pd\n",
    "import seaborn as sns\n",
    "import matplotlib.pyplot as plt\n",
    "\n",
    "import keras\n",
    "from tensorflow.keras.models import Sequential\n",
    "from tensorflow.keras.layers import Activation, Dropout, Flatten, Dense\n",
    "from tensorflow.math import confusion_matrix\n",
    "from keras.optimizers import Adam\n",
    "from tensorflow.keras import layers\n",
    "from tensorflow.keras.callbacks import EarlyStopping\n",
    "from keras import regularizers\n",
    "\n",
    "from sklearn import preprocessing\n",
    "from sklearn.preprocessing import StandardScaler\n",
    "from sklearn.preprocessing import MinMaxScaler\n",
    "from sklearn.preprocessing import scale\n",
    "from sklearn import model_selection\n",
    "from sklearn.model_selection import train_test_split\n",
    "from sklearn.metrics import classification_report, accuracy_score"
   ]
  },
  {
   "cell_type": "code",
   "execution_count": 2,
   "id": "d26565cd",
   "metadata": {},
   "outputs": [],
   "source": [
    "import warnings\n",
    "warnings.filterwarnings('ignore')"
   ]
  },
  {
   "cell_type": "markdown",
   "id": "9d4d9b0d",
   "metadata": {},
   "source": [
    "# Loading and preparing data"
   ]
  },
  {
   "cell_type": "code",
   "execution_count": 3,
   "id": "8f5f61e9",
   "metadata": {},
   "outputs": [
    {
     "name": "stdout",
     "output_type": "stream",
     "text": [
      "\n",
      "\n"
     ]
    },
    {
     "data": {
      "text/html": [
       "<div>\n",
       "<style scoped>\n",
       "    .dataframe tbody tr th:only-of-type {\n",
       "        vertical-align: middle;\n",
       "    }\n",
       "\n",
       "    .dataframe tbody tr th {\n",
       "        vertical-align: top;\n",
       "    }\n",
       "\n",
       "    .dataframe thead th {\n",
       "        text-align: right;\n",
       "    }\n",
       "</style>\n",
       "<table border=\"1\" class=\"dataframe\">\n",
       "  <thead>\n",
       "    <tr style=\"text-align: right;\">\n",
       "      <th></th>\n",
       "      <th>age</th>\n",
       "      <th>sex</th>\n",
       "      <th>cp</th>\n",
       "      <th>trestbps</th>\n",
       "      <th>chol</th>\n",
       "      <th>fbs</th>\n",
       "      <th>restecg</th>\n",
       "      <th>thalach</th>\n",
       "      <th>exang</th>\n",
       "      <th>oldpeak</th>\n",
       "      <th>slope</th>\n",
       "      <th>ca</th>\n",
       "      <th>thal</th>\n",
       "      <th>target</th>\n",
       "    </tr>\n",
       "  </thead>\n",
       "  <tbody>\n",
       "    <tr>\n",
       "      <th>1020</th>\n",
       "      <td>59</td>\n",
       "      <td>1</td>\n",
       "      <td>1</td>\n",
       "      <td>140</td>\n",
       "      <td>221</td>\n",
       "      <td>0</td>\n",
       "      <td>1</td>\n",
       "      <td>164</td>\n",
       "      <td>1</td>\n",
       "      <td>0.0</td>\n",
       "      <td>2</td>\n",
       "      <td>0</td>\n",
       "      <td>2</td>\n",
       "      <td>1</td>\n",
       "    </tr>\n",
       "    <tr>\n",
       "      <th>1021</th>\n",
       "      <td>60</td>\n",
       "      <td>1</td>\n",
       "      <td>0</td>\n",
       "      <td>125</td>\n",
       "      <td>258</td>\n",
       "      <td>0</td>\n",
       "      <td>0</td>\n",
       "      <td>141</td>\n",
       "      <td>1</td>\n",
       "      <td>2.8</td>\n",
       "      <td>1</td>\n",
       "      <td>1</td>\n",
       "      <td>3</td>\n",
       "      <td>0</td>\n",
       "    </tr>\n",
       "    <tr>\n",
       "      <th>1022</th>\n",
       "      <td>47</td>\n",
       "      <td>1</td>\n",
       "      <td>0</td>\n",
       "      <td>110</td>\n",
       "      <td>275</td>\n",
       "      <td>0</td>\n",
       "      <td>0</td>\n",
       "      <td>118</td>\n",
       "      <td>1</td>\n",
       "      <td>1.0</td>\n",
       "      <td>1</td>\n",
       "      <td>1</td>\n",
       "      <td>2</td>\n",
       "      <td>0</td>\n",
       "    </tr>\n",
       "    <tr>\n",
       "      <th>1023</th>\n",
       "      <td>50</td>\n",
       "      <td>0</td>\n",
       "      <td>0</td>\n",
       "      <td>110</td>\n",
       "      <td>254</td>\n",
       "      <td>0</td>\n",
       "      <td>0</td>\n",
       "      <td>159</td>\n",
       "      <td>0</td>\n",
       "      <td>0.0</td>\n",
       "      <td>2</td>\n",
       "      <td>0</td>\n",
       "      <td>2</td>\n",
       "      <td>1</td>\n",
       "    </tr>\n",
       "    <tr>\n",
       "      <th>1024</th>\n",
       "      <td>54</td>\n",
       "      <td>1</td>\n",
       "      <td>0</td>\n",
       "      <td>120</td>\n",
       "      <td>188</td>\n",
       "      <td>0</td>\n",
       "      <td>1</td>\n",
       "      <td>113</td>\n",
       "      <td>0</td>\n",
       "      <td>1.4</td>\n",
       "      <td>1</td>\n",
       "      <td>1</td>\n",
       "      <td>3</td>\n",
       "      <td>0</td>\n",
       "    </tr>\n",
       "  </tbody>\n",
       "</table>\n",
       "</div>"
      ],
      "text/plain": [
       "      age  sex  cp  trestbps  chol  fbs  restecg  thalach  exang  oldpeak  \\\n",
       "1020   59    1   1       140   221    0        1      164      1      0.0   \n",
       "1021   60    1   0       125   258    0        0      141      1      2.8   \n",
       "1022   47    1   0       110   275    0        0      118      1      1.0   \n",
       "1023   50    0   0       110   254    0        0      159      0      0.0   \n",
       "1024   54    1   0       120   188    0        1      113      0      1.4   \n",
       "\n",
       "      slope  ca  thal  target  \n",
       "1020      2   0     2       1  \n",
       "1021      1   1     3       0  \n",
       "1022      1   1     2       0  \n",
       "1023      2   0     2       1  \n",
       "1024      1   1     3       0  "
      ]
     },
     "execution_count": 3,
     "metadata": {},
     "output_type": "execute_result"
    }
   ],
   "source": [
    "#load and display dataframe\n",
    "heart_disease=r\"C:\\Users\\val-c\\Desktop\\heart disease\\heart.csv\"\n",
    "hrt_dis=pd.read_csv(heart_disease)\n",
    "hrt_dis.head() #display first-five rows\n",
    "\n",
    "print('\\n') #hold back\n",
    "\n",
    "#display last five rows of the dataframe\n",
    "hrt_dis.tail()"
   ]
  },
  {
   "cell_type": "code",
   "execution_count": 4,
   "id": "cdf7c441",
   "metadata": {},
   "outputs": [
    {
     "name": "stdout",
     "output_type": "stream",
     "text": [
      "(rows,cols) = (1025, 14)\n"
     ]
    }
   ],
   "source": [
    "#no of rows and columns\n",
    "print('(rows,cols) =',hrt_dis.shape)"
   ]
  },
  {
   "cell_type": "code",
   "execution_count": 5,
   "id": "ae44a54b",
   "metadata": {},
   "outputs": [
    {
     "name": "stdout",
     "output_type": "stream",
     "text": [
      "<class 'pandas.core.frame.DataFrame'>\n",
      "RangeIndex: 1025 entries, 0 to 1024\n",
      "Data columns (total 14 columns):\n",
      " #   Column    Non-Null Count  Dtype  \n",
      "---  ------    --------------  -----  \n",
      " 0   age       1025 non-null   int64  \n",
      " 1   sex       1025 non-null   int64  \n",
      " 2   cp        1025 non-null   int64  \n",
      " 3   trestbps  1025 non-null   int64  \n",
      " 4   chol      1025 non-null   int64  \n",
      " 5   fbs       1025 non-null   int64  \n",
      " 6   restecg   1025 non-null   int64  \n",
      " 7   thalach   1025 non-null   int64  \n",
      " 8   exang     1025 non-null   int64  \n",
      " 9   oldpeak   1025 non-null   float64\n",
      " 10  slope     1025 non-null   int64  \n",
      " 11  ca        1025 non-null   int64  \n",
      " 12  thal      1025 non-null   int64  \n",
      " 13  target    1025 non-null   int64  \n",
      "dtypes: float64(1), int64(13)\n",
      "memory usage: 112.2 KB\n"
     ]
    }
   ],
   "source": [
    "#display data types for the dataframe\n",
    "hrt_dis.info()"
   ]
  },
  {
   "cell_type": "code",
   "execution_count": 6,
   "id": "88192b39",
   "metadata": {},
   "outputs": [
    {
     "data": {
      "text/html": [
       "<div>\n",
       "<style scoped>\n",
       "    .dataframe tbody tr th:only-of-type {\n",
       "        vertical-align: middle;\n",
       "    }\n",
       "\n",
       "    .dataframe tbody tr th {\n",
       "        vertical-align: top;\n",
       "    }\n",
       "\n",
       "    .dataframe thead th {\n",
       "        text-align: right;\n",
       "    }\n",
       "</style>\n",
       "<table border=\"1\" class=\"dataframe\">\n",
       "  <thead>\n",
       "    <tr style=\"text-align: right;\">\n",
       "      <th></th>\n",
       "      <th>Total</th>\n",
       "    </tr>\n",
       "  </thead>\n",
       "  <tbody>\n",
       "    <tr>\n",
       "      <th>age</th>\n",
       "      <td>0</td>\n",
       "    </tr>\n",
       "    <tr>\n",
       "      <th>sex</th>\n",
       "      <td>0</td>\n",
       "    </tr>\n",
       "    <tr>\n",
       "      <th>cp</th>\n",
       "      <td>0</td>\n",
       "    </tr>\n",
       "    <tr>\n",
       "      <th>trestbps</th>\n",
       "      <td>0</td>\n",
       "    </tr>\n",
       "    <tr>\n",
       "      <th>chol</th>\n",
       "      <td>0</td>\n",
       "    </tr>\n",
       "    <tr>\n",
       "      <th>fbs</th>\n",
       "      <td>0</td>\n",
       "    </tr>\n",
       "    <tr>\n",
       "      <th>restecg</th>\n",
       "      <td>0</td>\n",
       "    </tr>\n",
       "    <tr>\n",
       "      <th>thalach</th>\n",
       "      <td>0</td>\n",
       "    </tr>\n",
       "    <tr>\n",
       "      <th>exang</th>\n",
       "      <td>0</td>\n",
       "    </tr>\n",
       "    <tr>\n",
       "      <th>oldpeak</th>\n",
       "      <td>0</td>\n",
       "    </tr>\n",
       "    <tr>\n",
       "      <th>slope</th>\n",
       "      <td>0</td>\n",
       "    </tr>\n",
       "    <tr>\n",
       "      <th>ca</th>\n",
       "      <td>0</td>\n",
       "    </tr>\n",
       "    <tr>\n",
       "      <th>thal</th>\n",
       "      <td>0</td>\n",
       "    </tr>\n",
       "    <tr>\n",
       "      <th>target</th>\n",
       "      <td>0</td>\n",
       "    </tr>\n",
       "  </tbody>\n",
       "</table>\n",
       "</div>"
      ],
      "text/plain": [
       "          Total\n",
       "age           0\n",
       "sex           0\n",
       "cp            0\n",
       "trestbps      0\n",
       "chol          0\n",
       "fbs           0\n",
       "restecg       0\n",
       "thalach       0\n",
       "exang         0\n",
       "oldpeak       0\n",
       "slope         0\n",
       "ca            0\n",
       "thal          0\n",
       "target        0"
      ]
     },
     "execution_count": 6,
     "metadata": {},
     "output_type": "execute_result"
    }
   ],
   "source": [
    "#calculate the existing NaN/missing values in the datasets\n",
    "\n",
    "hrt_dis.isna().sum().to_frame('Total')"
   ]
  },
  {
   "cell_type": "code",
   "execution_count": 7,
   "id": "9762394f",
   "metadata": {},
   "outputs": [
    {
     "data": {
      "image/png": "[encoded data removed]",
      "text/plain": [
       "<Figure size 432x288 with 1 Axes>"
      ]
     },
     "metadata": {
      "needs_background": "light"
     },
     "output_type": "display_data"
    },
    {
     "name": "stdout",
     "output_type": "stream",
     "text": [
      "1    526\n",
      "0    499\n",
      "Name: target, dtype: int64\n"
     ]
    }
   ],
   "source": [
    "#show the number of persons who go heart disease or not.\n",
    "y=('target')\n",
    "sns.countplot(y, data=hrt_dis)\n",
    "plt.show()\n",
    "print(hrt_dis.target.value_counts())"
   ]
  },
  {
   "cell_type": "markdown",
   "id": "99b177ba",
   "metadata": {},
   "source": [
    "526 number of persons got heart disease, while 499 got not"
   ]
  },
  {
   "cell_type": "code",
   "execution_count": 8,
   "id": "e9ed5033",
   "metadata": {},
   "outputs": [
    {
     "data": {
      "text/html": [
       "<div>\n",
       "<style scoped>\n",
       "    .dataframe tbody tr th:only-of-type {\n",
       "        vertical-align: middle;\n",
       "    }\n",
       "\n",
       "    .dataframe tbody tr th {\n",
       "        vertical-align: top;\n",
       "    }\n",
       "\n",
       "    .dataframe thead th {\n",
       "        text-align: right;\n",
       "    }\n",
       "</style>\n",
       "<table border=\"1\" class=\"dataframe\">\n",
       "  <thead>\n",
       "    <tr style=\"text-align: right;\">\n",
       "      <th></th>\n",
       "      <th>count</th>\n",
       "      <th>mean</th>\n",
       "      <th>std</th>\n",
       "      <th>min</th>\n",
       "      <th>25%</th>\n",
       "      <th>50%</th>\n",
       "      <th>75%</th>\n",
       "      <th>max</th>\n",
       "    </tr>\n",
       "  </thead>\n",
       "  <tbody>\n",
       "    <tr>\n",
       "      <th>age</th>\n",
       "      <td>1025.0</td>\n",
       "      <td>54.434146</td>\n",
       "      <td>9.072290</td>\n",
       "      <td>29.0</td>\n",
       "      <td>48.0</td>\n",
       "      <td>56.0</td>\n",
       "      <td>61.0</td>\n",
       "      <td>77.0</td>\n",
       "    </tr>\n",
       "    <tr>\n",
       "      <th>sex</th>\n",
       "      <td>1025.0</td>\n",
       "      <td>0.695610</td>\n",
       "      <td>0.460373</td>\n",
       "      <td>0.0</td>\n",
       "      <td>0.0</td>\n",
       "      <td>1.0</td>\n",
       "      <td>1.0</td>\n",
       "      <td>1.0</td>\n",
       "    </tr>\n",
       "    <tr>\n",
       "      <th>cp</th>\n",
       "      <td>1025.0</td>\n",
       "      <td>0.942439</td>\n",
       "      <td>1.029641</td>\n",
       "      <td>0.0</td>\n",
       "      <td>0.0</td>\n",
       "      <td>1.0</td>\n",
       "      <td>2.0</td>\n",
       "      <td>3.0</td>\n",
       "    </tr>\n",
       "    <tr>\n",
       "      <th>trestbps</th>\n",
       "      <td>1025.0</td>\n",
       "      <td>131.611707</td>\n",
       "      <td>17.516718</td>\n",
       "      <td>94.0</td>\n",
       "      <td>120.0</td>\n",
       "      <td>130.0</td>\n",
       "      <td>140.0</td>\n",
       "      <td>200.0</td>\n",
       "    </tr>\n",
       "    <tr>\n",
       "      <th>chol</th>\n",
       "      <td>1025.0</td>\n",
       "      <td>246.000000</td>\n",
       "      <td>51.592510</td>\n",
       "      <td>126.0</td>\n",
       "      <td>211.0</td>\n",
       "      <td>240.0</td>\n",
       "      <td>275.0</td>\n",
       "      <td>564.0</td>\n",
       "    </tr>\n",
       "    <tr>\n",
       "      <th>fbs</th>\n",
       "      <td>1025.0</td>\n",
       "      <td>0.149268</td>\n",
       "      <td>0.356527</td>\n",
       "      <td>0.0</td>\n",
       "      <td>0.0</td>\n",
       "      <td>0.0</td>\n",
       "      <td>0.0</td>\n",
       "      <td>1.0</td>\n",
       "    </tr>\n",
       "    <tr>\n",
       "      <th>restecg</th>\n",
       "      <td>1025.0</td>\n",
       "      <td>0.529756</td>\n",
       "      <td>0.527878</td>\n",
       "      <td>0.0</td>\n",
       "      <td>0.0</td>\n",
       "      <td>1.0</td>\n",
       "      <td>1.0</td>\n",
       "      <td>2.0</td>\n",
       "    </tr>\n",
       "    <tr>\n",
       "      <th>thalach</th>\n",
       "      <td>1025.0</td>\n",
       "      <td>149.114146</td>\n",
       "      <td>23.005724</td>\n",
       "      <td>71.0</td>\n",
       "      <td>132.0</td>\n",
       "      <td>152.0</td>\n",
       "      <td>166.0</td>\n",
       "      <td>202.0</td>\n",
       "    </tr>\n",
       "    <tr>\n",
       "      <th>exang</th>\n",
       "      <td>1025.0</td>\n",
       "      <td>0.336585</td>\n",
       "      <td>0.472772</td>\n",
       "      <td>0.0</td>\n",
       "      <td>0.0</td>\n",
       "      <td>0.0</td>\n",
       "      <td>1.0</td>\n",
       "      <td>1.0</td>\n",
       "    </tr>\n",
       "    <tr>\n",
       "      <th>oldpeak</th>\n",
       "      <td>1025.0</td>\n",
       "      <td>1.071512</td>\n",
       "      <td>1.175053</td>\n",
       "      <td>0.0</td>\n",
       "      <td>0.0</td>\n",
       "      <td>0.8</td>\n",
       "      <td>1.8</td>\n",
       "      <td>6.2</td>\n",
       "    </tr>\n",
       "    <tr>\n",
       "      <th>slope</th>\n",
       "      <td>1025.0</td>\n",
       "      <td>1.385366</td>\n",
       "      <td>0.617755</td>\n",
       "      <td>0.0</td>\n",
       "      <td>1.0</td>\n",
       "      <td>1.0</td>\n",
       "      <td>2.0</td>\n",
       "      <td>2.0</td>\n",
       "    </tr>\n",
       "    <tr>\n",
       "      <th>ca</th>\n",
       "      <td>1025.0</td>\n",
       "      <td>0.754146</td>\n",
       "      <td>1.030798</td>\n",
       "      <td>0.0</td>\n",
       "      <td>0.0</td>\n",
       "      <td>0.0</td>\n",
       "      <td>1.0</td>\n",
       "      <td>4.0</td>\n",
       "    </tr>\n",
       "    <tr>\n",
       "      <th>thal</th>\n",
       "      <td>1025.0</td>\n",
       "      <td>2.323902</td>\n",
       "      <td>0.620660</td>\n",
       "      <td>0.0</td>\n",
       "      <td>2.0</td>\n",
       "      <td>2.0</td>\n",
       "      <td>3.0</td>\n",
       "      <td>3.0</td>\n",
       "    </tr>\n",
       "    <tr>\n",
       "      <th>target</th>\n",
       "      <td>1025.0</td>\n",
       "      <td>0.513171</td>\n",
       "      <td>0.500070</td>\n",
       "      <td>0.0</td>\n",
       "      <td>0.0</td>\n",
       "      <td>1.0</td>\n",
       "      <td>1.0</td>\n",
       "      <td>1.0</td>\n",
       "    </tr>\n",
       "  </tbody>\n",
       "</table>\n",
       "</div>"
      ],
      "text/plain": [
       "           count        mean        std    min    25%    50%    75%    max\n",
       "age       1025.0   54.434146   9.072290   29.0   48.0   56.0   61.0   77.0\n",
       "sex       1025.0    0.695610   0.460373    0.0    0.0    1.0    1.0    1.0\n",
       "cp        1025.0    0.942439   1.029641    0.0    0.0    1.0    2.0    3.0\n",
       "trestbps  1025.0  131.611707  17.516718   94.0  120.0  130.0  140.0  200.0\n",
       "chol      1025.0  246.000000  51.592510  126.0  211.0  240.0  275.0  564.0\n",
       "fbs       1025.0    0.149268   0.356527    0.0    0.0    0.0    0.0    1.0\n",
       "restecg   1025.0    0.529756   0.527878    0.0    0.0    1.0    1.0    2.0\n",
       "thalach   1025.0  149.114146  23.005724   71.0  132.0  152.0  166.0  202.0\n",
       "exang     1025.0    0.336585   0.472772    0.0    0.0    0.0    1.0    1.0\n",
       "oldpeak   1025.0    1.071512   1.175053    0.0    0.0    0.8    1.8    6.2\n",
       "slope     1025.0    1.385366   0.617755    0.0    1.0    1.0    2.0    2.0\n",
       "ca        1025.0    0.754146   1.030798    0.0    0.0    0.0    1.0    4.0\n",
       "thal      1025.0    2.323902   0.620660    0.0    2.0    2.0    3.0    3.0\n",
       "target    1025.0    0.513171   0.500070    0.0    0.0    1.0    1.0    1.0"
      ]
     },
     "execution_count": 8,
     "metadata": {},
     "output_type": "execute_result"
    }
   ],
   "source": [
    "#statistics of the attributes\n",
    "dist=hrt_dis.describe().transpose()\n",
    "dist"
   ]
  },
  {
   "cell_type": "code",
   "execution_count": 9,
   "id": "622f547c",
   "metadata": {},
   "outputs": [
    {
     "data": {
      "image/png": "[encoded data removed]",
      "text/plain": [
       "<Figure size 864x432 with 2 Axes>"
      ]
     },
     "metadata": {
      "needs_background": "light"
     },
     "output_type": "display_data"
    }
   ],
   "source": [
    "#correlation between attributes\n",
    "plt.figure(figsize=(12,6))\n",
    "corrl=hrt_dis.corr()\n",
    "sns.heatmap(corrl, annot=True, cmap=\"plasma\")\n",
    "plt.show()"
   ]
  },
  {
   "cell_type": "code",
   "execution_count": null,
   "id": "b1115294",
   "metadata": {},
   "outputs": [],
   "source": [
    "#visualize the distribution of ages to heart disease\n",
    "pd.crosstab(hrt_dis.age, hrt_dis.target).plot(kind=\"bar\",figsize=(12,8),cmap='copper')\n",
    "plt.title(\"Heart Disease Distribution by Ages\")\n",
    "plt.xlabel('age')\n",
    "plt.ylabel('frequency')\n",
    "plt.show()"
   ]
  },
  {
   "cell_type": "code",
   "execution_count": null,
   "id": "f40c8caf",
   "metadata": {},
   "outputs": [],
   "source": [
    "#using boxplot function from seaborn to plot dataset\n",
    "plt.figure(figsize=(12,6))\n",
    "sns.boxplot(data=hrt_dis) #display figue\n"
   ]
  },
  {
   "cell_type": "code",
   "execution_count": 12,
   "id": "f4943e07",
   "metadata": {},
   "outputs": [
    {
     "data": {
      "image/png": "[encoded data removed]",
      "text/plain": [
       "<Figure size 864x792 with 16 Axes>"
      ]
     },
     "metadata": {
      "needs_background": "light"
     },
     "output_type": "display_data"
    }
   ],
   "source": [
    "#explore the attributes distribution before normalizing\n",
    "hrt_dis.hist(figsize =(12, 11))\n",
    "plt.show()#display dist..."
   ]
  },
  {
   "cell_type": "markdown",
   "id": "0b61b995",
   "metadata": {},
   "source": [
    "# Creating training and testing sets"
   ]
  },
  {
   "cell_type": "code",
   "execution_count": 13,
   "id": "52935b3e",
   "metadata": {},
   "outputs": [],
   "source": [
    "hrt_dis_features = hrt_dis.copy()\n",
    "hrt_dis_labels = hrt_dis_features.pop('target') #drop attribute 'target'=label"
   ]
  },
  {
   "cell_type": "code",
   "execution_count": 14,
   "id": "02769b25",
   "metadata": {},
   "outputs": [],
   "source": [
    "hrt_dis_features = np.array( hrt_dis_features)\n",
    "X=hrt_dis_features #features\n",
    "Y=hrt_dis_labels # target "
   ]
  },
  {
   "cell_type": "code",
   "execution_count": 15,
   "id": "b41e7e92",
   "metadata": {},
   "outputs": [
    {
     "name": "stdout",
     "output_type": "stream",
     "text": [
      "number of training samples: 922\n",
      "number of test samples: 103\n"
     ]
    }
   ],
   "source": [
    "#split data into train _ test\n",
    "x_train, x_test, y_train, y_test = train_test_split(X,Y, test_size=0.1, random_state=42)\n",
    "\n",
    "print(\"number of training samples:\",x_train.shape[0])\n",
    "\n",
    "print(\"number of test samples:\", x_test.shape[0])"
   ]
  },
  {
   "cell_type": "markdown",
   "id": "56b5b8b1",
   "metadata": {},
   "source": [
    "# Normalization and Standardization "
   ]
  },
  {
   "cell_type": "code",
   "execution_count": 16,
   "id": "c95b6481",
   "metadata": {
    "scrolled": true
   },
   "outputs": [
    {
     "name": "stdout",
     "output_type": "stream",
     "text": [
      "normalized x_test\n"
     ]
    },
    {
     "data": {
      "text/plain": [
       "array([[0.20726746, 0.        , 0.        , 0.41453492, 0.69869193,\n",
       "        0.        , 0.00334302, 0.54491284, 0.        , 0.        ,\n",
       "        0.00668605, 0.        , 0.00668605]])"
      ]
     },
     "execution_count": 16,
     "metadata": {},
     "output_type": "execute_result"
    }
   ],
   "source": [
    "normalizer = preprocessing.Normalizer()  #normalizer function\n",
    "normalized_x_test= normalizer.fit_transform(x_test) #normalize test set\n",
    "print('normalized x_test')\n",
    "normalized_x_test[:1]\n"
   ]
  },
  {
   "cell_type": "code",
   "execution_count": 17,
   "id": "cfddb5b7",
   "metadata": {},
   "outputs": [],
   "source": [
    "# Instantiating MinMaxScaler and using it to rescale X_train and X_test\n",
    "scaler = MinMaxScaler(feature_range=(0, 1))\n",
    "x_train = scaler.fit_transform(x_train)\n",
    "x_test = scaler.transform(x_test)\n"
   ]
  },
  {
   "cell_type": "code",
   "execution_count": 18,
   "id": "617f788c",
   "metadata": {},
   "outputs": [
    {
     "name": "stdout",
     "output_type": "stream",
     "text": [
      "standardized test_set\n"
     ]
    },
    {
     "data": {
      "text/plain": [
       "array([[0.6875    , 0.        , 0.        , 0.28301887, 0.18949772,\n",
       "        0.        , 0.5       , 0.70229008, 0.        , 0.        ,\n",
       "        1.        , 0.        , 0.66666667]])"
      ]
     },
     "execution_count": 18,
     "metadata": {},
     "output_type": "execute_result"
    }
   ],
   "source": [
    "print('standardized test_set')\n",
    "x_test[:1]"
   ]
  },
  {
   "cell_type": "code",
   "execution_count": 19,
   "id": "8122fe8e",
   "metadata": {},
   "outputs": [
    {
     "name": "stdout",
     "output_type": "stream",
     "text": [
      "new training samples: 820\n",
      "number of validation samples: 102\n"
     ]
    }
   ],
   "source": [
    "#Extracting validation sample\n",
    "x_train = x_train[:-102]\n",
    "y_train = y_train[:-102]\n",
    "\n",
    "x_val =x_train[-102:]\n",
    "y_val = y_train[-102:]\n",
    "\n",
    "print(\"new training samples:\",x_train.shape[0])\n",
    "\n",
    "print(\"number of validation samples:\",x_val.shape[0])\n"
   ]
  },
  {
   "cell_type": "code",
   "execution_count": 20,
   "id": "2ec3a6ec",
   "metadata": {},
   "outputs": [],
   "source": [
    "# convert to categorical labels\n",
    "from keras.utils.np_utils import to_categorical \n",
    "\n",
    "Y_train = to_categorical(y_train, num_classes=None) \n",
    "Y_test = to_categorical(y_test, num_classes=None) \n",
    "Y_val = to_categorical(y_val, num_classes=None)\n",
    "\n"
   ]
  },
  {
   "cell_type": "markdown",
   "id": "8470f5ea",
   "metadata": {},
   "source": [
    "# Creating the model"
   ]
  },
  {
   "cell_type": "markdown",
   "id": "25dc992f",
   "metadata": {},
   "source": [
    "Deep neural network was configured here"
   ]
  },
  {
   "cell_type": "code",
   "execution_count": 21,
   "id": "e9aaa90e",
   "metadata": {},
   "outputs": [],
   "source": [
    "#configuration.....\n",
    "model = Sequential()\n",
    "model.add(Dense(16, input_dim=13, kernel_initializer='normal', kernel_regularizer=regularizers.l2(0.001), activation='relu'))\n",
    "model.add(Dropout(0.25))\n",
    "model.add(Dense(8, kernel_initializer='normal', kernel_regularizer=regularizers.l2(0.001), activation='relu'))\n",
    "model.add(Dropout(0.25))\n",
    "model.add(Dense(2, activation=\"softmax\"))"
   ]
  },
  {
   "cell_type": "code",
   "execution_count": 22,
   "id": "66e6d69b",
   "metadata": {
    "scrolled": false
   },
   "outputs": [
    {
     "name": "stdout",
     "output_type": "stream",
     "text": [
      "Model: \"sequential\"\n",
      "_________________________________________________________________\n",
      " Layer (type)                Output Shape              Param #   \n",
      "=================================================================\n",
      " dense (Dense)               (None, 16)                224       \n",
      "                                                                 \n",
      " dropout (Dropout)           (None, 16)                0         \n",
      "                                                                 \n",
      " dense_1 (Dense)             (None, 8)                 136       \n",
      "                                                                 \n",
      " dropout_1 (Dropout)         (None, 8)                 0         \n",
      "                                                                 \n",
      " dense_2 (Dense)             (None, 2)                 18        \n",
      "                                                                 \n",
      "=================================================================\n",
      "Total params: 378\n",
      "Trainable params: 378\n",
      "Non-trainable params: 0\n",
      "_________________________________________________________________\n"
     ]
    }
   ],
   "source": [
    "model.summary() #summary of the model configuration"
   ]
  },
  {
   "cell_type": "markdown",
   "id": "6f879f28",
   "metadata": {},
   "source": [
    "# Compile the model"
   ]
  },
  {
   "cell_type": "code",
   "execution_count": 23,
   "id": "48fecf9e",
   "metadata": {},
   "outputs": [],
   "source": [
    "#compiling......\n",
    "opt = keras.optimizers.Adam(learning_rate=0.001)\n",
    "model.compile(loss=tf.keras.losses.CategoricalCrossentropy(from_logits=True), optimizer=opt,metrics=['accuracy'])\n"
   ]
  },
  {
   "cell_type": "markdown",
   "id": "1efb2859",
   "metadata": {},
   "source": [
    "# Train the model"
   ]
  },
  {
   "cell_type": "code",
   "execution_count": 24,
   "id": "bb692b46",
   "metadata": {},
   "outputs": [
    {
     "name": "stdout",
     "output_type": "stream",
     "text": [
      "Epoch 1/300\n",
      "82/82 [==============================] - 2s 9ms/step - loss: 0.6854 - accuracy: 0.6573 - val_loss: 0.6740 - val_accuracy: 0.7255\n",
      "Epoch 2/300\n",
      "82/82 [==============================] - 0s 4ms/step - loss: 0.6365 - accuracy: 0.7634 - val_loss: 0.5900 - val_accuracy: 0.7451\n",
      "Epoch 3/300\n",
      "82/82 [==============================] - 0s 4ms/step - loss: 0.5375 - accuracy: 0.7841 - val_loss: 0.5056 - val_accuracy: 0.7843\n",
      "Epoch 4/300\n",
      "82/82 [==============================] - 0s 3ms/step - loss: 0.4859 - accuracy: 0.7927 - val_loss: 0.4395 - val_accuracy: 0.7941\n",
      "Epoch 5/300\n",
      "82/82 [==============================] - 0s 3ms/step - loss: 0.4631 - accuracy: 0.8000 - val_loss: 0.4213 - val_accuracy: 0.7941\n",
      "Epoch 6/300\n",
      "82/82 [==============================] - 0s 4ms/step - loss: 0.4323 - accuracy: 0.8232 - val_loss: 0.4123 - val_accuracy: 0.8039\n",
      "Epoch 7/300\n",
      "82/82 [==============================] - 0s 4ms/step - loss: 0.4123 - accuracy: 0.8256 - val_loss: 0.4064 - val_accuracy: 0.8039\n",
      "Epoch 8/300\n",
      "82/82 [==============================] - 0s 4ms/step - loss: 0.4044 - accuracy: 0.8378 - val_loss: 0.3762 - val_accuracy: 0.8725\n",
      "Epoch 9/300\n",
      "82/82 [==============================] - 0s 3ms/step - loss: 0.4166 - accuracy: 0.8402 - val_loss: 0.3967 - val_accuracy: 0.8137\n",
      "Epoch 10/300\n",
      "82/82 [==============================] - 0s 4ms/step - loss: 0.4203 - accuracy: 0.8256 - val_loss: 0.3752 - val_accuracy: 0.8627\n",
      "Epoch 11/300\n",
      "82/82 [==============================] - 0s 4ms/step - loss: 0.4109 - accuracy: 0.8378 - val_loss: 0.3742 - val_accuracy: 0.8627\n",
      "Epoch 12/300\n",
      "82/82 [==============================] - 0s 3ms/step - loss: 0.4164 - accuracy: 0.8317 - val_loss: 0.3700 - val_accuracy: 0.8725\n",
      "Epoch 13/300\n",
      "82/82 [==============================] - 0s 3ms/step - loss: 0.3905 - accuracy: 0.8476 - val_loss: 0.3765 - val_accuracy: 0.8333\n",
      "Epoch 14/300\n",
      "82/82 [==============================] - 0s 4ms/step - loss: 0.3964 - accuracy: 0.8476 - val_loss: 0.3641 - val_accuracy: 0.8824\n",
      "Epoch 15/300\n",
      "82/82 [==============================] - 0s 3ms/step - loss: 0.3840 - accuracy: 0.8488 - val_loss: 0.3591 - val_accuracy: 0.8725\n",
      "Epoch 16/300\n",
      "82/82 [==============================] - 0s 3ms/step - loss: 0.3876 - accuracy: 0.8488 - val_loss: 0.3703 - val_accuracy: 0.8431\n",
      "Epoch 17/300\n",
      "82/82 [==============================] - 0s 3ms/step - loss: 0.3813 - accuracy: 0.8427 - val_loss: 0.3597 - val_accuracy: 0.8725\n",
      "Epoch 18/300\n",
      "82/82 [==============================] - 0s 4ms/step - loss: 0.3866 - accuracy: 0.8500 - val_loss: 0.3564 - val_accuracy: 0.8922\n",
      "Epoch 19/300\n",
      "82/82 [==============================] - 0s 4ms/step - loss: 0.3873 - accuracy: 0.8512 - val_loss: 0.3550 - val_accuracy: 0.8922\n",
      "Epoch 20/300\n",
      "82/82 [==============================] - 0s 3ms/step - loss: 0.3841 - accuracy: 0.8488 - val_loss: 0.3537 - val_accuracy: 0.8725\n",
      "Epoch 21/300\n",
      "82/82 [==============================] - 0s 3ms/step - loss: 0.3722 - accuracy: 0.8500 - val_loss: 0.3610 - val_accuracy: 0.8627\n",
      "Epoch 22/300\n",
      "82/82 [==============================] - 0s 3ms/step - loss: 0.3845 - accuracy: 0.8512 - val_loss: 0.3607 - val_accuracy: 0.8627\n",
      "Epoch 23/300\n",
      "82/82 [==============================] - 0s 3ms/step - loss: 0.3850 - accuracy: 0.8451 - val_loss: 0.3503 - val_accuracy: 0.8824\n",
      "Epoch 24/300\n",
      "82/82 [==============================] - 0s 3ms/step - loss: 0.3650 - accuracy: 0.8561 - val_loss: 0.3487 - val_accuracy: 0.8922\n",
      "Epoch 25/300\n",
      "82/82 [==============================] - 0s 3ms/step - loss: 0.3773 - accuracy: 0.8537 - val_loss: 0.3509 - val_accuracy: 0.8824\n",
      "Epoch 26/300\n",
      "82/82 [==============================] - 0s 3ms/step - loss: 0.3714 - accuracy: 0.8573 - val_loss: 0.3461 - val_accuracy: 0.8922\n",
      "Epoch 27/300\n",
      "82/82 [==============================] - 0s 3ms/step - loss: 0.3615 - accuracy: 0.8659 - val_loss: 0.3551 - val_accuracy: 0.9020\n",
      "Epoch 28/300\n",
      "82/82 [==============================] - 0s 3ms/step - loss: 0.3647 - accuracy: 0.8646 - val_loss: 0.3382 - val_accuracy: 0.8824\n",
      "Epoch 29/300\n",
      "82/82 [==============================] - 0s 3ms/step - loss: 0.3597 - accuracy: 0.8646 - val_loss: 0.3653 - val_accuracy: 0.8529\n",
      "Epoch 30/300\n",
      "82/82 [==============================] - 0s 3ms/step - loss: 0.3920 - accuracy: 0.8488 - val_loss: 0.3518 - val_accuracy: 0.8922\n",
      "Epoch 31/300\n",
      "82/82 [==============================] - 0s 3ms/step - loss: 0.3548 - accuracy: 0.8646 - val_loss: 0.3502 - val_accuracy: 0.9020\n",
      "Epoch 32/300\n",
      "82/82 [==============================] - 0s 3ms/step - loss: 0.3544 - accuracy: 0.8805 - val_loss: 0.3469 - val_accuracy: 0.8922\n",
      "Epoch 33/300\n",
      "82/82 [==============================] - 0s 3ms/step - loss: 0.3644 - accuracy: 0.8683 - val_loss: 0.3409 - val_accuracy: 0.8922\n",
      "Epoch 34/300\n",
      "82/82 [==============================] - 0s 3ms/step - loss: 0.3687 - accuracy: 0.8610 - val_loss: 0.3367 - val_accuracy: 0.9020\n",
      "Epoch 35/300\n",
      "82/82 [==============================] - 0s 3ms/step - loss: 0.3672 - accuracy: 0.8671 - val_loss: 0.3358 - val_accuracy: 0.8922\n",
      "Epoch 36/300\n",
      "82/82 [==============================] - 0s 3ms/step - loss: 0.3488 - accuracy: 0.8671 - val_loss: 0.3344 - val_accuracy: 0.8824\n",
      "Epoch 37/300\n",
      "82/82 [==============================] - 0s 3ms/step - loss: 0.3512 - accuracy: 0.8585 - val_loss: 0.3284 - val_accuracy: 0.8824\n",
      "Epoch 38/300\n",
      "82/82 [==============================] - 0s 3ms/step - loss: 0.3503 - accuracy: 0.8646 - val_loss: 0.3274 - val_accuracy: 0.8824\n",
      "Epoch 39/300\n",
      "82/82 [==============================] - 0s 3ms/step - loss: 0.3386 - accuracy: 0.8671 - val_loss: 0.3257 - val_accuracy: 0.8824\n",
      "Epoch 40/300\n",
      "82/82 [==============================] - 0s 4ms/step - loss: 0.3626 - accuracy: 0.8768 - val_loss: 0.3394 - val_accuracy: 0.9020\n",
      "Epoch 41/300\n",
      "82/82 [==============================] - 0s 3ms/step - loss: 0.3492 - accuracy: 0.8561 - val_loss: 0.3315 - val_accuracy: 0.9020\n",
      "Epoch 42/300\n",
      "82/82 [==============================] - 0s 3ms/step - loss: 0.3328 - accuracy: 0.8829 - val_loss: 0.3349 - val_accuracy: 0.9020\n",
      "Epoch 43/300\n",
      "82/82 [==============================] - 0s 4ms/step - loss: 0.3408 - accuracy: 0.8720 - val_loss: 0.3241 - val_accuracy: 0.8725\n",
      "Epoch 44/300\n",
      "82/82 [==============================] - 0s 4ms/step - loss: 0.3406 - accuracy: 0.8707 - val_loss: 0.3234 - val_accuracy: 0.8922\n",
      "Epoch 45/300\n",
      "82/82 [==============================] - 0s 3ms/step - loss: 0.3513 - accuracy: 0.8780 - val_loss: 0.3255 - val_accuracy: 0.8922\n",
      "Epoch 46/300\n",
      "82/82 [==============================] - 0s 4ms/step - loss: 0.3591 - accuracy: 0.8695 - val_loss: 0.3194 - val_accuracy: 0.8824\n",
      "Epoch 47/300\n",
      "82/82 [==============================] - 0s 4ms/step - loss: 0.3399 - accuracy: 0.8793 - val_loss: 0.3174 - val_accuracy: 0.8922\n",
      "Epoch 48/300\n",
      "82/82 [==============================] - 0s 4ms/step - loss: 0.3332 - accuracy: 0.8866 - val_loss: 0.3246 - val_accuracy: 0.9020\n",
      "Epoch 49/300\n",
      "82/82 [==============================] - 0s 3ms/step - loss: 0.3431 - accuracy: 0.8793 - val_loss: 0.3193 - val_accuracy: 0.9020\n",
      "Epoch 50/300\n",
      "82/82 [==============================] - 0s 3ms/step - loss: 0.3545 - accuracy: 0.8768 - val_loss: 0.3178 - val_accuracy: 0.9020\n",
      "Epoch 51/300\n",
      "82/82 [==============================] - 0s 3ms/step - loss: 0.3558 - accuracy: 0.8598 - val_loss: 0.3146 - val_accuracy: 0.8922\n",
      "Epoch 52/300\n",
      "82/82 [==============================] - 0s 4ms/step - loss: 0.3390 - accuracy: 0.8671 - val_loss: 0.3180 - val_accuracy: 0.8922\n",
      "Epoch 53/300\n",
      "82/82 [==============================] - 0s 4ms/step - loss: 0.3342 - accuracy: 0.8780 - val_loss: 0.3090 - val_accuracy: 0.8725\n",
      "Epoch 54/300\n",
      "82/82 [==============================] - 0s 3ms/step - loss: 0.3350 - accuracy: 0.8756 - val_loss: 0.3085 - val_accuracy: 0.9020\n",
      "Epoch 55/300\n",
      "82/82 [==============================] - 0s 3ms/step - loss: 0.3286 - accuracy: 0.8646 - val_loss: 0.3051 - val_accuracy: 0.8922\n",
      "Epoch 56/300\n",
      "82/82 [==============================] - 0s 3ms/step - loss: 0.3504 - accuracy: 0.8585 - val_loss: 0.3209 - val_accuracy: 0.8922\n",
      "Epoch 57/300\n",
      "82/82 [==============================] - 0s 3ms/step - loss: 0.3209 - accuracy: 0.8841 - val_loss: 0.3008 - val_accuracy: 0.8824\n",
      "Epoch 58/300\n",
      "82/82 [==============================] - 0s 3ms/step - loss: 0.3328 - accuracy: 0.8720 - val_loss: 0.3077 - val_accuracy: 0.9020\n"
     ]
    },
    {
     "name": "stdout",
     "output_type": "stream",
     "text": [
      "Epoch 59/300\n",
      "82/82 [==============================] - 0s 4ms/step - loss: 0.3341 - accuracy: 0.8817 - val_loss: 0.3101 - val_accuracy: 0.8922\n",
      "Epoch 60/300\n",
      "82/82 [==============================] - 0s 3ms/step - loss: 0.3400 - accuracy: 0.8817 - val_loss: 0.3107 - val_accuracy: 0.8922\n",
      "Epoch 61/300\n",
      "82/82 [==============================] - 0s 3ms/step - loss: 0.3264 - accuracy: 0.8744 - val_loss: 0.3169 - val_accuracy: 0.8922\n",
      "Epoch 62/300\n",
      "82/82 [==============================] - 0s 3ms/step - loss: 0.3368 - accuracy: 0.8695 - val_loss: 0.3011 - val_accuracy: 0.9020\n",
      "Epoch 63/300\n",
      "82/82 [==============================] - 0s 4ms/step - loss: 0.3384 - accuracy: 0.8780 - val_loss: 0.2977 - val_accuracy: 0.8922\n",
      "Epoch 64/300\n",
      "82/82 [==============================] - 0s 3ms/step - loss: 0.3218 - accuracy: 0.8976 - val_loss: 0.3002 - val_accuracy: 0.8922\n",
      "Epoch 65/300\n",
      "82/82 [==============================] - 0s 3ms/step - loss: 0.3413 - accuracy: 0.8805 - val_loss: 0.2945 - val_accuracy: 0.8922\n",
      "Epoch 66/300\n",
      "82/82 [==============================] - 0s 3ms/step - loss: 0.3316 - accuracy: 0.8805 - val_loss: 0.2995 - val_accuracy: 0.8922\n",
      "Epoch 67/300\n",
      "82/82 [==============================] - 0s 3ms/step - loss: 0.3287 - accuracy: 0.8866 - val_loss: 0.2972 - val_accuracy: 0.8824\n",
      "Epoch 68/300\n",
      "82/82 [==============================] - 0s 3ms/step - loss: 0.3277 - accuracy: 0.8805 - val_loss: 0.2942 - val_accuracy: 0.9020\n",
      "Epoch 69/300\n",
      "82/82 [==============================] - 0s 3ms/step - loss: 0.3181 - accuracy: 0.8878 - val_loss: 0.2959 - val_accuracy: 0.8824\n",
      "Epoch 70/300\n",
      "82/82 [==============================] - 0s 3ms/step - loss: 0.3275 - accuracy: 0.8854 - val_loss: 0.3001 - val_accuracy: 0.9118\n",
      "Epoch 71/300\n",
      "82/82 [==============================] - 0s 3ms/step - loss: 0.3242 - accuracy: 0.8805 - val_loss: 0.2914 - val_accuracy: 0.9020\n",
      "Epoch 72/300\n",
      "82/82 [==============================] - 0s 3ms/step - loss: 0.3141 - accuracy: 0.8793 - val_loss: 0.2893 - val_accuracy: 0.8922\n",
      "Epoch 73/300\n",
      "82/82 [==============================] - 0s 3ms/step - loss: 0.3272 - accuracy: 0.8744 - val_loss: 0.3023 - val_accuracy: 0.9020\n",
      "Epoch 74/300\n",
      "82/82 [==============================] - 0s 3ms/step - loss: 0.3377 - accuracy: 0.8793 - val_loss: 0.2895 - val_accuracy: 0.8922\n",
      "Epoch 75/300\n",
      "82/82 [==============================] - 0s 3ms/step - loss: 0.3331 - accuracy: 0.8744 - val_loss: 0.2852 - val_accuracy: 0.8922\n",
      "Epoch 76/300\n",
      "82/82 [==============================] - 0s 3ms/step - loss: 0.3266 - accuracy: 0.8829 - val_loss: 0.2865 - val_accuracy: 0.8922\n",
      "Epoch 77/300\n",
      "82/82 [==============================] - 0s 3ms/step - loss: 0.3285 - accuracy: 0.8793 - val_loss: 0.2880 - val_accuracy: 0.8824\n",
      "Epoch 78/300\n",
      "82/82 [==============================] - 0s 3ms/step - loss: 0.3182 - accuracy: 0.8707 - val_loss: 0.2869 - val_accuracy: 0.8922\n",
      "Epoch 79/300\n",
      "82/82 [==============================] - 0s 3ms/step - loss: 0.2985 - accuracy: 0.8988 - val_loss: 0.2834 - val_accuracy: 0.8922\n",
      "Epoch 80/300\n",
      "82/82 [==============================] - 0s 3ms/step - loss: 0.3137 - accuracy: 0.8866 - val_loss: 0.2990 - val_accuracy: 0.9118\n",
      "Epoch 81/300\n",
      "82/82 [==============================] - 0s 3ms/step - loss: 0.3077 - accuracy: 0.8805 - val_loss: 0.2748 - val_accuracy: 0.8922\n",
      "Epoch 82/300\n",
      "82/82 [==============================] - 0s 3ms/step - loss: 0.3348 - accuracy: 0.8744 - val_loss: 0.2941 - val_accuracy: 0.9020\n",
      "Epoch 83/300\n",
      "82/82 [==============================] - 0s 3ms/step - loss: 0.3073 - accuracy: 0.8902 - val_loss: 0.2781 - val_accuracy: 0.8922\n",
      "Epoch 84/300\n",
      "82/82 [==============================] - 0s 4ms/step - loss: 0.3125 - accuracy: 0.8927 - val_loss: 0.2814 - val_accuracy: 0.8922\n",
      "Epoch 85/300\n",
      "82/82 [==============================] - 0s 3ms/step - loss: 0.3120 - accuracy: 0.8805 - val_loss: 0.2794 - val_accuracy: 0.8824\n",
      "Epoch 86/300\n",
      "82/82 [==============================] - 0s 3ms/step - loss: 0.3103 - accuracy: 0.8915 - val_loss: 0.2790 - val_accuracy: 0.9020\n",
      "Epoch 87/300\n",
      "82/82 [==============================] - 0s 3ms/step - loss: 0.3231 - accuracy: 0.8878 - val_loss: 0.2727 - val_accuracy: 0.8922\n",
      "Epoch 88/300\n",
      "82/82 [==============================] - 0s 3ms/step - loss: 0.3309 - accuracy: 0.8744 - val_loss: 0.2696 - val_accuracy: 0.9118\n",
      "Epoch 89/300\n",
      "82/82 [==============================] - 0s 3ms/step - loss: 0.3212 - accuracy: 0.8902 - val_loss: 0.2889 - val_accuracy: 0.9118\n",
      "Epoch 90/300\n",
      "82/82 [==============================] - 0s 3ms/step - loss: 0.3010 - accuracy: 0.8793 - val_loss: 0.2774 - val_accuracy: 0.8922\n",
      "Epoch 91/300\n",
      "82/82 [==============================] - 0s 4ms/step - loss: 0.3081 - accuracy: 0.8841 - val_loss: 0.2780 - val_accuracy: 0.8922\n",
      "Epoch 92/300\n",
      "82/82 [==============================] - 0s 3ms/step - loss: 0.2944 - accuracy: 0.9049 - val_loss: 0.2752 - val_accuracy: 0.9020\n",
      "Epoch 93/300\n",
      "82/82 [==============================] - 0s 3ms/step - loss: 0.3127 - accuracy: 0.8841 - val_loss: 0.2711 - val_accuracy: 0.8922\n",
      "Epoch 94/300\n",
      "82/82 [==============================] - 0s 3ms/step - loss: 0.3004 - accuracy: 0.8939 - val_loss: 0.2765 - val_accuracy: 0.9020\n",
      "Epoch 95/300\n",
      "82/82 [==============================] - 0s 3ms/step - loss: 0.3248 - accuracy: 0.8695 - val_loss: 0.2656 - val_accuracy: 0.9020\n",
      "Epoch 96/300\n",
      "82/82 [==============================] - 0s 3ms/step - loss: 0.3060 - accuracy: 0.8841 - val_loss: 0.2793 - val_accuracy: 0.9020\n",
      "Epoch 97/300\n",
      "82/82 [==============================] - 0s 3ms/step - loss: 0.3183 - accuracy: 0.8902 - val_loss: 0.2607 - val_accuracy: 0.9020\n",
      "Epoch 98/300\n",
      "82/82 [==============================] - 0s 3ms/step - loss: 0.3065 - accuracy: 0.8902 - val_loss: 0.2654 - val_accuracy: 0.9020\n",
      "Epoch 99/300\n",
      "82/82 [==============================] - 0s 3ms/step - loss: 0.2886 - accuracy: 0.8951 - val_loss: 0.2633 - val_accuracy: 0.9020\n",
      "Epoch 100/300\n",
      "82/82 [==============================] - 0s 3ms/step - loss: 0.3160 - accuracy: 0.8817 - val_loss: 0.2620 - val_accuracy: 0.9020\n",
      "Epoch 101/300\n",
      "82/82 [==============================] - 0s 4ms/step - loss: 0.3126 - accuracy: 0.8902 - val_loss: 0.2636 - val_accuracy: 0.9020\n",
      "Epoch 102/300\n",
      "82/82 [==============================] - 0s 4ms/step - loss: 0.3106 - accuracy: 0.8854 - val_loss: 0.2621 - val_accuracy: 0.9020\n",
      "Epoch 103/300\n",
      "82/82 [==============================] - 0s 4ms/step - loss: 0.3086 - accuracy: 0.8829 - val_loss: 0.2586 - val_accuracy: 0.9020\n",
      "Epoch 104/300\n",
      "82/82 [==============================] - 0s 4ms/step - loss: 0.3053 - accuracy: 0.8890 - val_loss: 0.2539 - val_accuracy: 0.9020\n",
      "Epoch 105/300\n",
      "82/82 [==============================] - 0s 4ms/step - loss: 0.3148 - accuracy: 0.8866 - val_loss: 0.2545 - val_accuracy: 0.9118\n",
      "Epoch 106/300\n",
      "82/82 [==============================] - 0s 3ms/step - loss: 0.2946 - accuracy: 0.8951 - val_loss: 0.2552 - val_accuracy: 0.9020\n",
      "Epoch 107/300\n",
      "82/82 [==============================] - 0s 4ms/step - loss: 0.2980 - accuracy: 0.8890 - val_loss: 0.2520 - val_accuracy: 0.9020\n",
      "Epoch 108/300\n",
      "82/82 [==============================] - 0s 4ms/step - loss: 0.2953 - accuracy: 0.8963 - val_loss: 0.2500 - val_accuracy: 0.9118\n",
      "Epoch 109/300\n",
      "82/82 [==============================] - 0s 4ms/step - loss: 0.3039 - accuracy: 0.8963 - val_loss: 0.2452 - val_accuracy: 0.9216\n",
      "Epoch 110/300\n",
      "82/82 [==============================] - 0s 4ms/step - loss: 0.3049 - accuracy: 0.8963 - val_loss: 0.2427 - val_accuracy: 0.9118\n",
      "Epoch 111/300\n",
      "82/82 [==============================] - 0s 4ms/step - loss: 0.2961 - accuracy: 0.8988 - val_loss: 0.2502 - val_accuracy: 0.9216\n",
      "Epoch 112/300\n",
      "82/82 [==============================] - 0s 4ms/step - loss: 0.3038 - accuracy: 0.8902 - val_loss: 0.2417 - val_accuracy: 0.9118\n",
      "Epoch 113/300\n",
      "82/82 [==============================] - 0s 5ms/step - loss: 0.3001 - accuracy: 0.8841 - val_loss: 0.2511 - val_accuracy: 0.9216\n",
      "Epoch 114/300\n",
      "82/82 [==============================] - 0s 4ms/step - loss: 0.2802 - accuracy: 0.8927 - val_loss: 0.2424 - val_accuracy: 0.9216\n",
      "Epoch 115/300\n",
      "82/82 [==============================] - 0s 4ms/step - loss: 0.2909 - accuracy: 0.8976 - val_loss: 0.2539 - val_accuracy: 0.9216\n",
      "Epoch 116/300\n"
     ]
    },
    {
     "name": "stdout",
     "output_type": "stream",
     "text": [
      "82/82 [==============================] - 0s 4ms/step - loss: 0.2951 - accuracy: 0.8988 - val_loss: 0.2510 - val_accuracy: 0.9216\n",
      "Epoch 117/300\n",
      "82/82 [==============================] - 0s 3ms/step - loss: 0.3121 - accuracy: 0.8780 - val_loss: 0.2391 - val_accuracy: 0.9118\n",
      "Epoch 118/300\n",
      "82/82 [==============================] - 0s 3ms/step - loss: 0.2916 - accuracy: 0.9061 - val_loss: 0.2589 - val_accuracy: 0.9314\n",
      "Epoch 119/300\n",
      "82/82 [==============================] - 0s 3ms/step - loss: 0.2908 - accuracy: 0.8890 - val_loss: 0.2417 - val_accuracy: 0.9216\n",
      "Epoch 120/300\n",
      "82/82 [==============================] - 0s 3ms/step - loss: 0.2889 - accuracy: 0.8902 - val_loss: 0.2335 - val_accuracy: 0.9216\n",
      "Epoch 121/300\n",
      "82/82 [==============================] - 0s 3ms/step - loss: 0.2992 - accuracy: 0.8951 - val_loss: 0.2317 - val_accuracy: 0.9118\n",
      "Epoch 122/300\n",
      "82/82 [==============================] - 0s 3ms/step - loss: 0.2969 - accuracy: 0.8963 - val_loss: 0.2382 - val_accuracy: 0.9216\n",
      "Epoch 123/300\n",
      "82/82 [==============================] - 0s 3ms/step - loss: 0.2969 - accuracy: 0.8976 - val_loss: 0.2371 - val_accuracy: 0.9314\n",
      "Epoch 124/300\n",
      "82/82 [==============================] - 0s 3ms/step - loss: 0.3012 - accuracy: 0.8927 - val_loss: 0.2314 - val_accuracy: 0.9412\n",
      "Epoch 125/300\n",
      "82/82 [==============================] - 0s 3ms/step - loss: 0.2801 - accuracy: 0.8951 - val_loss: 0.2430 - val_accuracy: 0.9314\n",
      "Epoch 126/300\n",
      "82/82 [==============================] - 0s 3ms/step - loss: 0.2807 - accuracy: 0.9110 - val_loss: 0.2349 - val_accuracy: 0.9314\n",
      "Epoch 127/300\n",
      "82/82 [==============================] - 0s 3ms/step - loss: 0.2791 - accuracy: 0.8939 - val_loss: 0.2361 - val_accuracy: 0.9216\n",
      "Epoch 128/300\n",
      "82/82 [==============================] - 0s 3ms/step - loss: 0.2975 - accuracy: 0.8902 - val_loss: 0.2291 - val_accuracy: 0.9118\n",
      "Epoch 129/300\n",
      "82/82 [==============================] - 0s 3ms/step - loss: 0.2705 - accuracy: 0.9024 - val_loss: 0.2289 - val_accuracy: 0.9314\n",
      "Epoch 130/300\n",
      "82/82 [==============================] - 0s 3ms/step - loss: 0.2749 - accuracy: 0.9049 - val_loss: 0.2281 - val_accuracy: 0.9412\n",
      "Epoch 131/300\n",
      "82/82 [==============================] - 0s 3ms/step - loss: 0.2974 - accuracy: 0.8890 - val_loss: 0.2147 - val_accuracy: 0.9412\n",
      "Epoch 132/300\n",
      "82/82 [==============================] - 0s 3ms/step - loss: 0.2845 - accuracy: 0.9049 - val_loss: 0.2183 - val_accuracy: 0.9412\n",
      "Epoch 133/300\n",
      "82/82 [==============================] - 0s 3ms/step - loss: 0.2832 - accuracy: 0.8976 - val_loss: 0.2202 - val_accuracy: 0.9412\n",
      "Epoch 134/300\n",
      "82/82 [==============================] - 0s 3ms/step - loss: 0.2986 - accuracy: 0.8841 - val_loss: 0.2173 - val_accuracy: 0.9510\n",
      "Epoch 135/300\n",
      "82/82 [==============================] - 0s 3ms/step - loss: 0.2776 - accuracy: 0.9037 - val_loss: 0.2188 - val_accuracy: 0.9510\n",
      "Epoch 136/300\n",
      "82/82 [==============================] - 0s 3ms/step - loss: 0.2701 - accuracy: 0.9159 - val_loss: 0.2105 - val_accuracy: 0.9510\n",
      "Epoch 137/300\n",
      "82/82 [==============================] - 0s 3ms/step - loss: 0.2908 - accuracy: 0.9024 - val_loss: 0.2219 - val_accuracy: 0.9412\n",
      "Epoch 138/300\n",
      "82/82 [==============================] - 0s 3ms/step - loss: 0.2994 - accuracy: 0.8890 - val_loss: 0.2355 - val_accuracy: 0.9314\n",
      "Epoch 139/300\n",
      "82/82 [==============================] - 0s 3ms/step - loss: 0.2651 - accuracy: 0.9122 - val_loss: 0.2371 - val_accuracy: 0.9314\n",
      "Epoch 140/300\n",
      "82/82 [==============================] - 0s 3ms/step - loss: 0.2895 - accuracy: 0.9012 - val_loss: 0.2246 - val_accuracy: 0.9412\n",
      "Epoch 141/300\n",
      "82/82 [==============================] - 0s 3ms/step - loss: 0.2889 - accuracy: 0.9024 - val_loss: 0.2300 - val_accuracy: 0.9314\n",
      "Epoch 142/300\n",
      "82/82 [==============================] - 0s 3ms/step - loss: 0.2994 - accuracy: 0.9012 - val_loss: 0.2314 - val_accuracy: 0.9314\n",
      "Epoch 143/300\n",
      "82/82 [==============================] - 0s 3ms/step - loss: 0.2679 - accuracy: 0.9049 - val_loss: 0.2328 - val_accuracy: 0.9314\n",
      "Epoch 144/300\n",
      "82/82 [==============================] - 0s 3ms/step - loss: 0.2654 - accuracy: 0.8902 - val_loss: 0.2190 - val_accuracy: 0.9608\n",
      "Epoch 145/300\n",
      "82/82 [==============================] - 0s 3ms/step - loss: 0.2884 - accuracy: 0.8927 - val_loss: 0.2351 - val_accuracy: 0.9314\n",
      "Epoch 146/300\n",
      "82/82 [==============================] - 0s 3ms/step - loss: 0.2784 - accuracy: 0.9049 - val_loss: 0.2153 - val_accuracy: 0.9412\n",
      "Epoch 147/300\n",
      "82/82 [==============================] - 0s 3ms/step - loss: 0.2706 - accuracy: 0.9098 - val_loss: 0.2264 - val_accuracy: 0.9314\n",
      "Epoch 148/300\n",
      "82/82 [==============================] - 0s 3ms/step - loss: 0.2830 - accuracy: 0.9049 - val_loss: 0.2255 - val_accuracy: 0.9510\n",
      "Epoch 149/300\n",
      "82/82 [==============================] - 0s 3ms/step - loss: 0.2837 - accuracy: 0.8963 - val_loss: 0.2167 - val_accuracy: 0.9510\n",
      "Epoch 150/300\n",
      "82/82 [==============================] - 0s 3ms/step - loss: 0.2623 - accuracy: 0.9037 - val_loss: 0.2159 - val_accuracy: 0.9608\n",
      "Epoch 151/300\n",
      "82/82 [==============================] - 0s 3ms/step - loss: 0.2830 - accuracy: 0.9012 - val_loss: 0.2163 - val_accuracy: 0.9510\n",
      "Epoch 152/300\n",
      "82/82 [==============================] - 0s 3ms/step - loss: 0.2688 - accuracy: 0.8963 - val_loss: 0.2164 - val_accuracy: 0.9412\n",
      "Epoch 153/300\n",
      "82/82 [==============================] - 0s 3ms/step - loss: 0.2831 - accuracy: 0.9073 - val_loss: 0.2101 - val_accuracy: 0.9510\n",
      "Epoch 154/300\n",
      "82/82 [==============================] - 0s 3ms/step - loss: 0.2845 - accuracy: 0.8963 - val_loss: 0.2100 - val_accuracy: 0.9510\n",
      "Epoch 155/300\n",
      "82/82 [==============================] - 0s 3ms/step - loss: 0.2932 - accuracy: 0.8902 - val_loss: 0.2092 - val_accuracy: 0.9608\n",
      "Epoch 156/300\n",
      "82/82 [==============================] - 0s 3ms/step - loss: 0.2916 - accuracy: 0.9012 - val_loss: 0.2448 - val_accuracy: 0.9314\n",
      "Epoch 157/300\n",
      "82/82 [==============================] - 0s 4ms/step - loss: 0.2663 - accuracy: 0.9061 - val_loss: 0.2098 - val_accuracy: 0.9510\n",
      "Epoch 158/300\n",
      "82/82 [==============================] - 0s 3ms/step - loss: 0.2843 - accuracy: 0.8963 - val_loss: 0.2153 - val_accuracy: 0.9510\n",
      "Epoch 159/300\n",
      "82/82 [==============================] - 0s 3ms/step - loss: 0.2942 - accuracy: 0.8939 - val_loss: 0.2072 - val_accuracy: 0.9608\n",
      "Epoch 160/300\n",
      "82/82 [==============================] - 0s 3ms/step - loss: 0.2667 - accuracy: 0.8976 - val_loss: 0.2221 - val_accuracy: 0.9314\n",
      "Epoch 161/300\n",
      "82/82 [==============================] - 0s 3ms/step - loss: 0.2972 - accuracy: 0.8780 - val_loss: 0.2167 - val_accuracy: 0.9412\n",
      "Epoch 162/300\n",
      "82/82 [==============================] - 0s 4ms/step - loss: 0.2757 - accuracy: 0.9012 - val_loss: 0.2286 - val_accuracy: 0.9314\n",
      "Epoch 163/300\n",
      "82/82 [==============================] - 0s 4ms/step - loss: 0.2993 - accuracy: 0.8890 - val_loss: 0.2110 - val_accuracy: 0.9608\n",
      "Epoch 164/300\n",
      "82/82 [==============================] - 0s 4ms/step - loss: 0.2645 - accuracy: 0.9061 - val_loss: 0.2109 - val_accuracy: 0.9510\n",
      "Epoch 165/300\n",
      "82/82 [==============================] - 0s 3ms/step - loss: 0.2643 - accuracy: 0.9134 - val_loss: 0.2193 - val_accuracy: 0.9510\n",
      "Epoch 166/300\n",
      "82/82 [==============================] - 0s 4ms/step - loss: 0.2860 - accuracy: 0.9000 - val_loss: 0.2205 - val_accuracy: 0.9314\n",
      "Epoch 167/300\n",
      "82/82 [==============================] - 0s 3ms/step - loss: 0.2691 - accuracy: 0.9085 - val_loss: 0.2138 - val_accuracy: 0.9510\n",
      "Epoch 168/300\n",
      "82/82 [==============================] - 0s 4ms/step - loss: 0.2758 - accuracy: 0.8963 - val_loss: 0.2050 - val_accuracy: 0.9608\n",
      "Epoch 169/300\n",
      "82/82 [==============================] - 0s 3ms/step - loss: 0.2668 - accuracy: 0.9110 - val_loss: 0.2234 - val_accuracy: 0.9510\n",
      "Epoch 170/300\n",
      "82/82 [==============================] - 0s 4ms/step - loss: 0.2692 - accuracy: 0.9024 - val_loss: 0.2370 - val_accuracy: 0.9314\n",
      "Epoch 171/300\n",
      "82/82 [==============================] - 0s 3ms/step - loss: 0.2795 - accuracy: 0.9049 - val_loss: 0.2059 - val_accuracy: 0.9510\n",
      "Epoch 172/300\n",
      "82/82 [==============================] - 0s 4ms/step - loss: 0.2722 - accuracy: 0.8963 - val_loss: 0.2119 - val_accuracy: 0.9510\n",
      "Epoch 173/300\n"
     ]
    },
    {
     "name": "stdout",
     "output_type": "stream",
     "text": [
      "82/82 [==============================] - 0s 4ms/step - loss: 0.2555 - accuracy: 0.9171 - val_loss: 0.2137 - val_accuracy: 0.9412\n",
      "Epoch 174/300\n",
      "82/82 [==============================] - 0s 3ms/step - loss: 0.2896 - accuracy: 0.8976 - val_loss: 0.2138 - val_accuracy: 0.9510\n",
      "Epoch 175/300\n",
      "82/82 [==============================] - 0s 4ms/step - loss: 0.2631 - accuracy: 0.9000 - val_loss: 0.1997 - val_accuracy: 0.9608\n",
      "Epoch 176/300\n",
      "82/82 [==============================] - 0s 3ms/step - loss: 0.2529 - accuracy: 0.9024 - val_loss: 0.2012 - val_accuracy: 0.9608\n",
      "Epoch 177/300\n",
      "82/82 [==============================] - 0s 3ms/step - loss: 0.2596 - accuracy: 0.9122 - val_loss: 0.1999 - val_accuracy: 0.9608\n",
      "Epoch 178/300\n",
      "82/82 [==============================] - 0s 3ms/step - loss: 0.2668 - accuracy: 0.9037 - val_loss: 0.2040 - val_accuracy: 0.9510\n",
      "Epoch 179/300\n",
      "82/82 [==============================] - 0s 3ms/step - loss: 0.2614 - accuracy: 0.9110 - val_loss: 0.2029 - val_accuracy: 0.9510\n",
      "Epoch 180/300\n",
      "82/82 [==============================] - 0s 3ms/step - loss: 0.2621 - accuracy: 0.9110 - val_loss: 0.2088 - val_accuracy: 0.9608\n",
      "Epoch 181/300\n",
      "82/82 [==============================] - 0s 3ms/step - loss: 0.2922 - accuracy: 0.8915 - val_loss: 0.2060 - val_accuracy: 0.9510\n",
      "Epoch 182/300\n",
      "82/82 [==============================] - 0s 3ms/step - loss: 0.2633 - accuracy: 0.9073 - val_loss: 0.2012 - val_accuracy: 0.9510\n",
      "Epoch 183/300\n",
      "82/82 [==============================] - 0s 3ms/step - loss: 0.2622 - accuracy: 0.9098 - val_loss: 0.2070 - val_accuracy: 0.9510\n",
      "Epoch 184/300\n",
      "82/82 [==============================] - 0s 3ms/step - loss: 0.2652 - accuracy: 0.9000 - val_loss: 0.2056 - val_accuracy: 0.9510\n",
      "Epoch 185/300\n",
      "82/82 [==============================] - 0s 3ms/step - loss: 0.2560 - accuracy: 0.9085 - val_loss: 0.2031 - val_accuracy: 0.9510\n",
      "Epoch 186/300\n",
      "82/82 [==============================] - 0s 3ms/step - loss: 0.2587 - accuracy: 0.9049 - val_loss: 0.2274 - val_accuracy: 0.9510\n",
      "Epoch 187/300\n",
      "82/82 [==============================] - 0s 3ms/step - loss: 0.2533 - accuracy: 0.8988 - val_loss: 0.1887 - val_accuracy: 0.9510\n",
      "Epoch 188/300\n",
      "82/82 [==============================] - 0s 3ms/step - loss: 0.2692 - accuracy: 0.9171 - val_loss: 0.2130 - val_accuracy: 0.9314\n",
      "Epoch 189/300\n",
      "82/82 [==============================] - 0s 3ms/step - loss: 0.2721 - accuracy: 0.8976 - val_loss: 0.1935 - val_accuracy: 0.9510\n",
      "Epoch 190/300\n",
      "82/82 [==============================] - 0s 3ms/step - loss: 0.2776 - accuracy: 0.8988 - val_loss: 0.2006 - val_accuracy: 0.9510\n",
      "Epoch 191/300\n",
      "82/82 [==============================] - 0s 3ms/step - loss: 0.2767 - accuracy: 0.8976 - val_loss: 0.1984 - val_accuracy: 0.9510\n",
      "Epoch 192/300\n",
      "82/82 [==============================] - 0s 3ms/step - loss: 0.2765 - accuracy: 0.9024 - val_loss: 0.1990 - val_accuracy: 0.9510\n",
      "Epoch 193/300\n",
      "82/82 [==============================] - 0s 3ms/step - loss: 0.2819 - accuracy: 0.8963 - val_loss: 0.2034 - val_accuracy: 0.9608\n",
      "Epoch 194/300\n",
      "82/82 [==============================] - 0s 3ms/step - loss: 0.2785 - accuracy: 0.9073 - val_loss: 0.2116 - val_accuracy: 0.9510\n",
      "Epoch 195/300\n",
      "82/82 [==============================] - 0s 3ms/step - loss: 0.2720 - accuracy: 0.9073 - val_loss: 0.2054 - val_accuracy: 0.9510\n",
      "Epoch 196/300\n",
      "82/82 [==============================] - 0s 4ms/step - loss: 0.2795 - accuracy: 0.8927 - val_loss: 0.2111 - val_accuracy: 0.9510\n",
      "Epoch 197/300\n",
      "82/82 [==============================] - 0s 3ms/step - loss: 0.2679 - accuracy: 0.9085 - val_loss: 0.2007 - val_accuracy: 0.9608\n",
      "Epoch 198/300\n",
      "82/82 [==============================] - 0s 3ms/step - loss: 0.2640 - accuracy: 0.9134 - val_loss: 0.1956 - val_accuracy: 0.9608\n",
      "Epoch 199/300\n",
      "82/82 [==============================] - 0s 3ms/step - loss: 0.2771 - accuracy: 0.9037 - val_loss: 0.1982 - val_accuracy: 0.9510\n",
      "Epoch 200/300\n",
      "82/82 [==============================] - 0s 3ms/step - loss: 0.2729 - accuracy: 0.9024 - val_loss: 0.2019 - val_accuracy: 0.9510\n",
      "Epoch 201/300\n",
      "82/82 [==============================] - 0s 3ms/step - loss: 0.2632 - accuracy: 0.9037 - val_loss: 0.2033 - val_accuracy: 0.9510\n",
      "Epoch 202/300\n",
      "82/82 [==============================] - 0s 3ms/step - loss: 0.2596 - accuracy: 0.9134 - val_loss: 0.2271 - val_accuracy: 0.9314\n",
      "Epoch 203/300\n",
      "82/82 [==============================] - 0s 3ms/step - loss: 0.2767 - accuracy: 0.8890 - val_loss: 0.2005 - val_accuracy: 0.9608\n",
      "Epoch 204/300\n",
      "82/82 [==============================] - 0s 3ms/step - loss: 0.2740 - accuracy: 0.8963 - val_loss: 0.1962 - val_accuracy: 0.9510\n",
      "Epoch 205/300\n",
      "82/82 [==============================] - 0s 3ms/step - loss: 0.2611 - accuracy: 0.9098 - val_loss: 0.2014 - val_accuracy: 0.9314\n",
      "Epoch 206/300\n",
      "82/82 [==============================] - 0s 4ms/step - loss: 0.2699 - accuracy: 0.8927 - val_loss: 0.2050 - val_accuracy: 0.9412\n",
      "Epoch 207/300\n",
      "82/82 [==============================] - 0s 3ms/step - loss: 0.2669 - accuracy: 0.9024 - val_loss: 0.2006 - val_accuracy: 0.9510\n",
      "Epoch 208/300\n",
      "82/82 [==============================] - 0s 3ms/step - loss: 0.2621 - accuracy: 0.9000 - val_loss: 0.1985 - val_accuracy: 0.9510\n",
      "Epoch 209/300\n",
      "82/82 [==============================] - 0s 3ms/step - loss: 0.2735 - accuracy: 0.9012 - val_loss: 0.2078 - val_accuracy: 0.9412\n",
      "Epoch 210/300\n",
      "82/82 [==============================] - 0s 3ms/step - loss: 0.2654 - accuracy: 0.9085 - val_loss: 0.1914 - val_accuracy: 0.9608\n",
      "Epoch 211/300\n",
      "82/82 [==============================] - 0s 3ms/step - loss: 0.2547 - accuracy: 0.9122 - val_loss: 0.2099 - val_accuracy: 0.9510\n",
      "Epoch 212/300\n",
      "82/82 [==============================] - 0s 3ms/step - loss: 0.2760 - accuracy: 0.9061 - val_loss: 0.2059 - val_accuracy: 0.9510\n",
      "Epoch 213/300\n",
      "82/82 [==============================] - 0s 3ms/step - loss: 0.2734 - accuracy: 0.9012 - val_loss: 0.2003 - val_accuracy: 0.9510\n",
      "Epoch 214/300\n",
      "82/82 [==============================] - 0s 3ms/step - loss: 0.2637 - accuracy: 0.9012 - val_loss: 0.2415 - val_accuracy: 0.9314\n",
      "Epoch 215/300\n",
      "82/82 [==============================] - 0s 3ms/step - loss: 0.2751 - accuracy: 0.9012 - val_loss: 0.1988 - val_accuracy: 0.9608\n",
      "Epoch 216/300\n",
      "82/82 [==============================] - 0s 3ms/step - loss: 0.2727 - accuracy: 0.9061 - val_loss: 0.2010 - val_accuracy: 0.9412\n",
      "Epoch 217/300\n",
      "82/82 [==============================] - 0s 3ms/step - loss: 0.2696 - accuracy: 0.9110 - val_loss: 0.1941 - val_accuracy: 0.9608\n",
      "Epoch 218/300\n",
      "82/82 [==============================] - 0s 3ms/step - loss: 0.2727 - accuracy: 0.9061 - val_loss: 0.2011 - val_accuracy: 0.9412\n",
      "Epoch 219/300\n",
      "82/82 [==============================] - 0s 3ms/step - loss: 0.2608 - accuracy: 0.9098 - val_loss: 0.2075 - val_accuracy: 0.9314\n",
      "Epoch 220/300\n",
      "82/82 [==============================] - 0s 3ms/step - loss: 0.2617 - accuracy: 0.9085 - val_loss: 0.1937 - val_accuracy: 0.9510\n",
      "Epoch 221/300\n",
      "82/82 [==============================] - 0s 3ms/step - loss: 0.2647 - accuracy: 0.9085 - val_loss: 0.2037 - val_accuracy: 0.9314\n",
      "Epoch 222/300\n",
      "82/82 [==============================] - 0s 3ms/step - loss: 0.2747 - accuracy: 0.9061 - val_loss: 0.1898 - val_accuracy: 0.9510\n",
      "Epoch 223/300\n",
      "82/82 [==============================] - 0s 3ms/step - loss: 0.2790 - accuracy: 0.9049 - val_loss: 0.1963 - val_accuracy: 0.9510\n",
      "Epoch 224/300\n",
      "82/82 [==============================] - 0s 3ms/step - loss: 0.2521 - accuracy: 0.9220 - val_loss: 0.1843 - val_accuracy: 0.9608\n",
      "Epoch 225/300\n",
      "82/82 [==============================] - 0s 3ms/step - loss: 0.2664 - accuracy: 0.9073 - val_loss: 0.1911 - val_accuracy: 0.9510\n",
      "Epoch 226/300\n",
      "82/82 [==============================] - 0s 3ms/step - loss: 0.2888 - accuracy: 0.8915 - val_loss: 0.1933 - val_accuracy: 0.9706\n",
      "Epoch 227/300\n",
      "82/82 [==============================] - 0s 3ms/step - loss: 0.2612 - accuracy: 0.9012 - val_loss: 0.1837 - val_accuracy: 0.9706\n",
      "Epoch 228/300\n",
      "82/82 [==============================] - 0s 3ms/step - loss: 0.2665 - accuracy: 0.9122 - val_loss: 0.2112 - val_accuracy: 0.9510\n",
      "Epoch 229/300\n",
      "82/82 [==============================] - 0s 3ms/step - loss: 0.2608 - accuracy: 0.9085 - val_loss: 0.1941 - val_accuracy: 0.9510\n",
      "Epoch 230/300\n"
     ]
    },
    {
     "name": "stdout",
     "output_type": "stream",
     "text": [
      "82/82 [==============================] - 0s 3ms/step - loss: 0.2734 - accuracy: 0.8939 - val_loss: 0.2003 - val_accuracy: 0.9510\n",
      "Epoch 231/300\n",
      "82/82 [==============================] - 0s 3ms/step - loss: 0.2646 - accuracy: 0.9195 - val_loss: 0.1935 - val_accuracy: 0.9608\n",
      "Epoch 232/300\n",
      "82/82 [==============================] - 0s 3ms/step - loss: 0.2613 - accuracy: 0.9037 - val_loss: 0.1871 - val_accuracy: 0.9706\n",
      "Epoch 233/300\n",
      "82/82 [==============================] - 0s 3ms/step - loss: 0.2665 - accuracy: 0.9134 - val_loss: 0.1820 - val_accuracy: 0.9706\n",
      "Epoch 234/300\n",
      "82/82 [==============================] - 0s 3ms/step - loss: 0.2904 - accuracy: 0.9049 - val_loss: 0.1938 - val_accuracy: 0.9608\n",
      "Epoch 235/300\n",
      "82/82 [==============================] - 0s 3ms/step - loss: 0.2588 - accuracy: 0.9024 - val_loss: 0.1974 - val_accuracy: 0.9510\n",
      "Epoch 236/300\n",
      "82/82 [==============================] - 0s 3ms/step - loss: 0.2698 - accuracy: 0.9085 - val_loss: 0.1900 - val_accuracy: 0.9608\n",
      "Epoch 237/300\n",
      "82/82 [==============================] - 0s 3ms/step - loss: 0.2649 - accuracy: 0.9171 - val_loss: 0.1914 - val_accuracy: 0.9510\n",
      "Epoch 238/300\n",
      "82/82 [==============================] - 0s 4ms/step - loss: 0.2629 - accuracy: 0.9012 - val_loss: 0.1911 - val_accuracy: 0.9510\n",
      "Epoch 239/300\n",
      "82/82 [==============================] - 0s 4ms/step - loss: 0.2614 - accuracy: 0.9098 - val_loss: 0.1838 - val_accuracy: 0.9706\n",
      "Epoch 240/300\n",
      "82/82 [==============================] - 0s 3ms/step - loss: 0.2600 - accuracy: 0.9085 - val_loss: 0.1829 - val_accuracy: 0.9706\n",
      "Epoch 241/300\n",
      "82/82 [==============================] - 0s 3ms/step - loss: 0.2542 - accuracy: 0.9061 - val_loss: 0.1855 - val_accuracy: 0.9608\n",
      "Epoch 242/300\n",
      "82/82 [==============================] - 0s 3ms/step - loss: 0.2615 - accuracy: 0.9037 - val_loss: 0.1870 - val_accuracy: 0.9608\n",
      "Epoch 243/300\n",
      "82/82 [==============================] - 0s 3ms/step - loss: 0.2493 - accuracy: 0.9195 - val_loss: 0.1980 - val_accuracy: 0.9510\n",
      "Epoch 244/300\n",
      "82/82 [==============================] - 0s 3ms/step - loss: 0.2489 - accuracy: 0.9183 - val_loss: 0.1899 - val_accuracy: 0.9510\n",
      "Epoch 245/300\n",
      "82/82 [==============================] - 0s 3ms/step - loss: 0.2540 - accuracy: 0.9134 - val_loss: 0.1884 - val_accuracy: 0.9608\n",
      "Epoch 246/300\n",
      "82/82 [==============================] - 0s 3ms/step - loss: 0.2754 - accuracy: 0.9000 - val_loss: 0.1713 - val_accuracy: 0.9706\n",
      "Epoch 247/300\n",
      "82/82 [==============================] - 0s 3ms/step - loss: 0.2600 - accuracy: 0.9012 - val_loss: 0.1789 - val_accuracy: 0.9608\n",
      "Epoch 248/300\n",
      "82/82 [==============================] - 0s 3ms/step - loss: 0.2613 - accuracy: 0.9122 - val_loss: 0.1844 - val_accuracy: 0.9706\n",
      "Epoch 249/300\n",
      "82/82 [==============================] - 0s 3ms/step - loss: 0.2435 - accuracy: 0.9171 - val_loss: 0.1870 - val_accuracy: 0.9608\n",
      "Epoch 250/300\n",
      "82/82 [==============================] - 0s 3ms/step - loss: 0.2603 - accuracy: 0.9024 - val_loss: 0.1820 - val_accuracy: 0.9706\n",
      "Epoch 251/300\n",
      "82/82 [==============================] - 0s 3ms/step - loss: 0.2547 - accuracy: 0.9049 - val_loss: 0.1739 - val_accuracy: 0.9706\n",
      "Epoch 252/300\n",
      "82/82 [==============================] - 0s 3ms/step - loss: 0.2539 - accuracy: 0.9134 - val_loss: 0.1893 - val_accuracy: 0.9510\n",
      "Epoch 253/300\n",
      "82/82 [==============================] - 0s 3ms/step - loss: 0.2630 - accuracy: 0.9000 - val_loss: 0.2077 - val_accuracy: 0.9510\n",
      "Epoch 254/300\n",
      "82/82 [==============================] - 0s 3ms/step - loss: 0.2392 - accuracy: 0.9134 - val_loss: 0.1826 - val_accuracy: 0.9510\n",
      "Epoch 255/300\n",
      "82/82 [==============================] - 0s 3ms/step - loss: 0.2507 - accuracy: 0.9244 - val_loss: 0.1915 - val_accuracy: 0.9510\n",
      "Epoch 256/300\n",
      "82/82 [==============================] - 0s 3ms/step - loss: 0.2419 - accuracy: 0.9122 - val_loss: 0.1841 - val_accuracy: 0.9608\n",
      "Epoch 257/300\n",
      "82/82 [==============================] - 0s 3ms/step - loss: 0.2331 - accuracy: 0.9207 - val_loss: 0.1911 - val_accuracy: 0.9608\n",
      "Epoch 258/300\n",
      "82/82 [==============================] - 0s 3ms/step - loss: 0.2590 - accuracy: 0.9085 - val_loss: 0.1810 - val_accuracy: 0.9608\n",
      "Epoch 259/300\n",
      "82/82 [==============================] - 0s 3ms/step - loss: 0.2605 - accuracy: 0.9000 - val_loss: 0.1841 - val_accuracy: 0.9510\n",
      "Epoch 260/300\n",
      "82/82 [==============================] - 0s 3ms/step - loss: 0.2668 - accuracy: 0.9085 - val_loss: 0.1875 - val_accuracy: 0.9510\n",
      "Epoch 261/300\n",
      "82/82 [==============================] - 0s 3ms/step - loss: 0.2432 - accuracy: 0.9183 - val_loss: 0.1746 - val_accuracy: 0.9608\n",
      "Epoch 262/300\n",
      "82/82 [==============================] - 0s 3ms/step - loss: 0.2370 - accuracy: 0.9183 - val_loss: 0.1717 - val_accuracy: 0.9706\n",
      "Epoch 263/300\n",
      "82/82 [==============================] - 0s 3ms/step - loss: 0.2600 - accuracy: 0.9000 - val_loss: 0.1870 - val_accuracy: 0.9510\n",
      "Epoch 264/300\n",
      "82/82 [==============================] - 0s 3ms/step - loss: 0.2543 - accuracy: 0.9085 - val_loss: 0.1870 - val_accuracy: 0.9510\n",
      "Epoch 265/300\n",
      "82/82 [==============================] - 0s 3ms/step - loss: 0.2523 - accuracy: 0.9049 - val_loss: 0.1710 - val_accuracy: 0.9608\n",
      "Epoch 266/300\n",
      "82/82 [==============================] - 0s 3ms/step - loss: 0.2389 - accuracy: 0.9268 - val_loss: 0.1704 - val_accuracy: 0.9608\n",
      "Epoch 267/300\n",
      "82/82 [==============================] - 0s 3ms/step - loss: 0.2589 - accuracy: 0.9085 - val_loss: 0.1830 - val_accuracy: 0.9510\n",
      "Epoch 268/300\n",
      "82/82 [==============================] - 0s 3ms/step - loss: 0.2665 - accuracy: 0.9098 - val_loss: 0.1822 - val_accuracy: 0.9510\n",
      "Epoch 269/300\n",
      "82/82 [==============================] - 0s 3ms/step - loss: 0.2643 - accuracy: 0.8976 - val_loss: 0.2053 - val_accuracy: 0.9314\n",
      "Epoch 270/300\n",
      "82/82 [==============================] - 0s 3ms/step - loss: 0.2469 - accuracy: 0.9110 - val_loss: 0.1726 - val_accuracy: 0.9608\n",
      "Epoch 271/300\n",
      "82/82 [==============================] - 0s 3ms/step - loss: 0.2518 - accuracy: 0.9110 - val_loss: 0.1715 - val_accuracy: 0.9706\n",
      "Epoch 272/300\n",
      "82/82 [==============================] - 0s 3ms/step - loss: 0.2515 - accuracy: 0.9073 - val_loss: 0.1709 - val_accuracy: 0.9706\n",
      "Epoch 273/300\n",
      "82/82 [==============================] - 0s 3ms/step - loss: 0.2536 - accuracy: 0.9122 - val_loss: 0.1766 - val_accuracy: 0.9706\n",
      "Epoch 274/300\n",
      "82/82 [==============================] - 0s 3ms/step - loss: 0.2527 - accuracy: 0.9098 - val_loss: 0.1931 - val_accuracy: 0.9412\n",
      "Epoch 275/300\n",
      "82/82 [==============================] - 0s 3ms/step - loss: 0.2446 - accuracy: 0.9207 - val_loss: 0.1927 - val_accuracy: 0.9510\n",
      "Epoch 276/300\n",
      "82/82 [==============================] - 0s 3ms/step - loss: 0.2768 - accuracy: 0.9049 - val_loss: 0.1813 - val_accuracy: 0.9608\n",
      "Epoch 277/300\n",
      "82/82 [==============================] - 0s 3ms/step - loss: 0.2414 - accuracy: 0.9122 - val_loss: 0.1745 - val_accuracy: 0.9608\n",
      "Epoch 278/300\n",
      "82/82 [==============================] - 0s 3ms/step - loss: 0.2435 - accuracy: 0.9134 - val_loss: 0.1733 - val_accuracy: 0.9608\n",
      "Epoch 279/300\n",
      "82/82 [==============================] - 0s 3ms/step - loss: 0.2681 - accuracy: 0.8951 - val_loss: 0.1724 - val_accuracy: 0.9706\n",
      "Epoch 280/300\n",
      "82/82 [==============================] - 0s 3ms/step - loss: 0.2485 - accuracy: 0.9159 - val_loss: 0.1748 - val_accuracy: 0.9706\n",
      "Epoch 281/300\n",
      "82/82 [==============================] - 0s 3ms/step - loss: 0.2544 - accuracy: 0.9073 - val_loss: 0.1767 - val_accuracy: 0.9706\n",
      "Epoch 282/300\n",
      "82/82 [==============================] - 0s 3ms/step - loss: 0.2492 - accuracy: 0.8976 - val_loss: 0.1763 - val_accuracy: 0.9706\n",
      "Epoch 283/300\n",
      "82/82 [==============================] - 0s 3ms/step - loss: 0.2507 - accuracy: 0.9024 - val_loss: 0.1812 - val_accuracy: 0.9706\n",
      "Epoch 284/300\n",
      "82/82 [==============================] - 0s 3ms/step - loss: 0.2648 - accuracy: 0.9024 - val_loss: 0.1826 - val_accuracy: 0.9608\n",
      "Epoch 285/300\n",
      "82/82 [==============================] - 0s 3ms/step - loss: 0.2458 - accuracy: 0.9183 - val_loss: 0.1824 - val_accuracy: 0.9608\n",
      "Epoch 286/300\n",
      "82/82 [==============================] - 0s 3ms/step - loss: 0.2425 - accuracy: 0.9073 - val_loss: 0.1778 - val_accuracy: 0.9608\n",
      "Epoch 287/300\n"
     ]
    },
    {
     "name": "stdout",
     "output_type": "stream",
     "text": [
      "82/82 [==============================] - 0s 3ms/step - loss: 0.2599 - accuracy: 0.9110 - val_loss: 0.1863 - val_accuracy: 0.9510\n",
      "Epoch 288/300\n",
      "82/82 [==============================] - 0s 3ms/step - loss: 0.2573 - accuracy: 0.9159 - val_loss: 0.1757 - val_accuracy: 0.9608\n",
      "Epoch 289/300\n",
      "82/82 [==============================] - 0s 3ms/step - loss: 0.2669 - accuracy: 0.9110 - val_loss: 0.1712 - val_accuracy: 0.9706\n",
      "Epoch 290/300\n",
      "82/82 [==============================] - 0s 3ms/step - loss: 0.2631 - accuracy: 0.9085 - val_loss: 0.1802 - val_accuracy: 0.9608\n",
      "Epoch 291/300\n",
      "82/82 [==============================] - 0s 4ms/step - loss: 0.2684 - accuracy: 0.9049 - val_loss: 0.1671 - val_accuracy: 0.9706\n",
      "Epoch 292/300\n",
      "82/82 [==============================] - 0s 3ms/step - loss: 0.2372 - accuracy: 0.9195 - val_loss: 0.1685 - val_accuracy: 0.9706\n",
      "Epoch 293/300\n",
      "82/82 [==============================] - 0s 3ms/step - loss: 0.2430 - accuracy: 0.9110 - val_loss: 0.1725 - val_accuracy: 0.9706\n",
      "Epoch 294/300\n",
      "82/82 [==============================] - 0s 3ms/step - loss: 0.2403 - accuracy: 0.9146 - val_loss: 0.1907 - val_accuracy: 0.9608\n",
      "Epoch 295/300\n",
      "82/82 [==============================] - 0s 3ms/step - loss: 0.2258 - accuracy: 0.9317 - val_loss: 0.1686 - val_accuracy: 0.9706\n",
      "Epoch 296/300\n",
      "82/82 [==============================] - 0s 3ms/step - loss: 0.2526 - accuracy: 0.9183 - val_loss: 0.1653 - val_accuracy: 0.9706\n",
      "Epoch 297/300\n",
      "82/82 [==============================] - 0s 3ms/step - loss: 0.2546 - accuracy: 0.9085 - val_loss: 0.1797 - val_accuracy: 0.9608\n",
      "Epoch 298/300\n",
      "82/82 [==============================] - 0s 3ms/step - loss: 0.2525 - accuracy: 0.9146 - val_loss: 0.1772 - val_accuracy: 0.9608\n",
      "Epoch 299/300\n",
      "82/82 [==============================] - 0s 3ms/step - loss: 0.2475 - accuracy: 0.9024 - val_loss: 0.1710 - val_accuracy: 0.9706\n",
      "Epoch 300/300\n",
      "82/82 [==============================] - 0s 3ms/step - loss: 0.2622 - accuracy: 0.9024 - val_loss: 0.1751 - val_accuracy: 0.9706\n",
      "done\n"
     ]
    }
   ],
   "source": [
    "#train the sets...\n",
    "history=model.fit(x_train, Y_train,validation_data=(x_val, Y_val),epochs=300, batch_size=10,)  \n",
    "print('done')"
   ]
  },
  {
   "cell_type": "markdown",
   "id": "e9123c31",
   "metadata": {},
   "source": [
    "# Visualizing the training results"
   ]
  },
  {
   "cell_type": "code",
   "execution_count": 25,
   "id": "43e1cdce",
   "metadata": {
    "scrolled": false
   },
   "outputs": [
    {
     "data": {
      "image/png": "[encoded data removed]",
      "text/plain": [
       "<Figure size 576x432 with 2 Axes>"
      ]
     },
     "metadata": {
      "needs_background": "light"
     },
     "output_type": "display_data"
    }
   ],
   "source": [
    "\n",
    "#training history\n",
    "loss = history.history['loss']\n",
    "val_loss = history.history['val_loss']\n",
    "acc=history.history['accuracy']\n",
    "val_acc=history.history['val_accuracy']\n",
    "\n",
    "\n",
    "#'Training and Validation loss\n",
    "plt.figure(figsize=(8, 6))\n",
    "plt.subplot(1, 2, 1)\n",
    "plt.plot(history.history['accuracy']) #plot accuracy\n",
    "plt.plot(history.history['val_accuracy']) #plot val_acc\n",
    "plt.title('Training Accuracy')\n",
    "plt.ylabel('accuracy')\n",
    "plt.xlabel('epoch')\n",
    "plt.legend(['accuracy', 'val_accuracy'])\n",
    "\n",
    "#Training and Validation accuracy\n",
    "plt.subplot(1, 2, 2)\n",
    "plt.plot(history.history['loss']) #plot loss\n",
    "plt.plot(history.history['val_loss']) #plot val_loss\n",
    "plt.title('Training Loss')\n",
    "plt.ylabel('loss')\n",
    "plt.xlabel('epoch')\n",
    "plt.legend(['loss','val_loss'])\n",
    "\n",
    "#display plot\n",
    "plt.show()"
   ]
  },
  {
   "cell_type": "markdown",
   "id": "85351ccf",
   "metadata": {},
   "source": [
    "# Evaluate accuracy on test set"
   ]
  },
  {
   "cell_type": "code",
   "execution_count": 26,
   "id": "13a807c4",
   "metadata": {},
   "outputs": [
    {
     "name": "stdout",
     "output_type": "stream",
     "text": [
      "4/4 [==============================] - 0s 4ms/step - loss: 0.4009 - accuracy: 0.8544\n"
     ]
    },
    {
     "data": {
      "text/plain": [
       "[0.40090471506118774, 0.8543689250946045]"
      ]
     },
     "execution_count": 26,
     "metadata": {},
     "output_type": "execute_result"
    }
   ],
   "source": [
    "#evaluate on test set\n",
    "model.evaluate(x_test,Y_test)"
   ]
  },
  {
   "cell_type": "markdown",
   "id": "850e1754",
   "metadata": {},
   "source": [
    "# Make prediction on the test set"
   ]
  },
  {
   "cell_type": "code",
   "execution_count": 27,
   "id": "e8f60aa4",
   "metadata": {},
   "outputs": [
    {
     "name": "stdout",
     "output_type": "stream",
     "text": [
      "4/4 [==============================] - 0s 4ms/step\n",
      "Results\n",
      "accuracy_score = 0.8543689320388349\n",
      "              precision    recall  f1-score   support\n",
      "\n",
      "           0       0.89      0.84      0.87        58\n",
      "           1       0.81      0.87      0.84        45\n",
      "\n",
      "    accuracy                           0.85       103\n",
      "   macro avg       0.85      0.86      0.85       103\n",
      "weighted avg       0.86      0.85      0.85       103\n",
      "\n"
     ]
    }
   ],
   "source": [
    "#predict on test data\n",
    "predictions = model.predict(x_test)\n",
    "#print(predictions.shape)\n",
    "pred_category = np.argmax(predictions, axis=1)\n",
    "\n",
    "#classification report\n",
    "print(\"Results\")\n",
    "print('accuracy_score =',accuracy_score(y_test,pred_category))\n",
    "print(classification_report(y_test, pred_category))"
   ]
  },
  {
   "cell_type": "code",
   "execution_count": 28,
   "id": "0f0a4e77",
   "metadata": {},
   "outputs": [
    {
     "data": {
      "text/plain": [
       "<tf.Tensor: shape=(2, 2), dtype=int32, numpy=\n",
       "array([[49,  9],\n",
       "       [ 6, 39]])>"
      ]
     },
     "execution_count": 28,
     "metadata": {},
     "output_type": "execute_result"
    }
   ],
   "source": [
    "#confusion matrix...\n",
    "cf_matrix=confusion_matrix(y_test,pred_category)\n",
    "cf_matrix"
   ]
  },
  {
   "cell_type": "code",
   "execution_count": 29,
   "id": "83a5175c",
   "metadata": {},
   "outputs": [],
   "source": [
    "#defining the confusion matrix heatmap\n",
    "def plot_conf(cf_matrix):\n",
    "    ax = sns.heatmap(cf_matrix, annot=True, cmap='plasma')\n",
    "\n",
    "    ax.set_title(' Confusion Matrix:Testing');\n",
    "    ax.set_xlabel('\\nPredicted Values')\n",
    "    ax.set_ylabel('Actual Values ');\n",
    "\n",
    "    #Tick labels \n",
    "    ax.xaxis.set_ticklabels(['0','1'])\n",
    "    ax.yaxis.set_ticklabels(['0','1'])\n",
    "\n",
    "    #Display Matrix\n",
    "    plt.show()"
   ]
  },
  {
   "cell_type": "code",
   "execution_count": 30,
   "id": "38c0606c",
   "metadata": {
    "scrolled": false
   },
   "outputs": [
    {
     "data": {
      "image/png": "[encoded data removed]",
      "text/plain": [
       "<Figure size 432x288 with 2 Axes>"
      ]
     },
     "metadata": {
      "needs_background": "light"
     },
     "output_type": "display_data"
    }
   ],
   "source": [
    "#visualize performance\n",
    "plot_conf(cf_matrix) "
   ]
  },
  {
   "cell_type": "markdown",
   "id": "f118e426",
   "metadata": {},
   "source": [
    "In the target variable 0 represents the patient has not heart disease and 1 represent patient has heart disease. \n",
    "So,according to the given confusion matrix it can be seen that an accuracy of 85.4% is obtained. There is a total of 58\n",
    "patients in test data which do not have heart disease out of which 49 was classified successfully and 6 remaining are\n",
    "wrongly classified as positive for heart disease. Similarly, in the case of 48 patients which actually have heart disease, out\n",
    "of these 48 patients 9 are classified negative and 39 are classified positive. Final error in the model is 14.6%. The\n",
    "group of patient which are checked for the heart disease are categorized in four parts; \n",
    "- True positive (TP): these are the patient which are classified are negative for heart disease and actually they don’t have any heart disease.\n",
    "- False Positive(FP): This is the group of patients which are classified wrongly as positive i.e. they have heart disease\n",
    "- True Negative(TN): The group of patients which are actually diagnosed with heart disease and model classify them as\n",
    "  positive for heart disease .\n",
    "- False Negative(FN): This is the group of patients in which patients do not have heart disease\n",
    "but model shows that they have heart disease."
   ]
  },
  {
   "cell_type": "markdown",
   "id": "89b22e16",
   "metadata": {},
   "source": [
    "# Save model"
   ]
  },
  {
   "cell_type": "code",
   "execution_count": 31,
   "id": "e1464bb4",
   "metadata": {},
   "outputs": [
    {
     "name": "stdout",
     "output_type": "stream",
     "text": [
      "INFO:tensorflow:Assets written to: heart disease\\assets\n"
     ]
    }
   ],
   "source": [
    "model.save('heart disease')\n",
    "#reloaded_model = tf.keras.models.load_model('heart disease')"
   ]
  },
  {
   "cell_type": "markdown",
   "id": "a57866c5",
   "metadata": {},
   "source": [
    "# Summary of the Classification Measure"
   ]
  },
  {
   "cell_type": "markdown",
   "id": "a04f7ed2",
   "metadata": {},
   "source": [
    "Accuracy: It is a measure of correctness that is achieved in true prediction.\n",
    "          Simply measures how often the classifier makes the correct prediction, (TP & TN)\n",
    "\n",
    "Precision:It is a measure of correctness that is achieved in true prediction too.\n",
    "           it tells how many predictions that are actually positive out of all the total positive predicted.\n",
    "\n",
    "Recall:It measures the actual observations which are predicted correctly, i.e, \n",
    "       how many observations of positive class are actually predicted as positive. It is also known as Sensitivity. \n",
    "       Recall is a valid choice of evaluation metric when you want to capture as many positives as possible.\n",
    "        \n",
    "F1-Score: F1 score is a harmonic mean of Precision and Recall.\n",
    "          F1 score sort of maintains a balance between the precision and recall for your classifier  "
   ]
  },
  {
   "cell_type": "code",
   "execution_count": null,
   "id": "e1528e64",
   "metadata": {},
   "outputs": [],
   "source": []
  }
 ],
 "metadata": {
  "kernelspec": {
   "display_name": "Python 3 (ipykernel)",
   "language": "python",
   "name": "python3"
  },
  "language_info": {
   "codemirror_mode": {
    "name": "ipython",
    "version": 3
   },
   "file_extension": ".py",
   "mimetype": "text/x-python",
   "name": "python",
   "nbconvert_exporter": "python",
   "pygments_lexer": "ipython3",
   "version": "3.9.12"
  }
 },
 "nbformat": 4,
 "nbformat_minor": 5
}
